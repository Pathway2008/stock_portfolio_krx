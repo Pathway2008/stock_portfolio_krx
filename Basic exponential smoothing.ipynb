{
 "cells": [
  {
   "cell_type": "code",
   "execution_count": 1,
   "id": "d6c010e2",
   "metadata": {},
   "outputs": [],
   "source": [
    "# !pip install finance-datareader\n",
    "# !pip install statsmodels==0.12.2"
   ]
  },
  {
   "cell_type": "code",
   "execution_count": 2,
   "id": "9bcb4fa2",
   "metadata": {},
   "outputs": [],
   "source": [
    "import os\n",
    "import warnings\n",
    "\n",
    "import numpy as np\n",
    "import statsmodels\n",
    "import pandas as pd\n",
    "from tqdm import tqdm\n",
    "import matplotlib\n",
    "import matplotlib.pyplot as plt\n",
    "import FinanceDataReader as fdr\n",
    "from statsmodels.tsa.arima_model import ARIMA\n",
    "\n",
    "warnings.filterwarnings(action='ignore')"
   ]
  },
  {
   "cell_type": "code",
   "execution_count": 3,
   "id": "d42c96b2",
   "metadata": {},
   "outputs": [
    {
     "name": "stdout",
     "output_type": "stream",
     "text": [
      "0.12.2\n"
     ]
    }
   ],
   "source": [
    "# ARIMA is deprecated in higher versions\n",
    "print(statsmodels.__version__)"
   ]
  },
  {
   "cell_type": "code",
   "execution_count": 4,
   "id": "c1335a96",
   "metadata": {},
   "outputs": [],
   "source": [
    "class StockPredictor:\n",
    "    def __init__(self):\n",
    "        self.submission_path = './sample_submission.csv'\n",
    "        self.stock_list_path = './stock_list.csv'\n",
    "        self.final_submission_path = './final_submission_last.csv'\n",
    "        self.figure_path = './figures'\n",
    "\n",
    "    def load_file(self):\n",
    "        self.submission = pd.read_csv(self.submission_path)\n",
    "        self.stock_list = pd.read_csv(self.stock_list_path)\n",
    "        self.stock_list['종목코드'] = self.stock_list['종목코드'].apply(lambda x: str(x).zfill(6))\n",
    "\n",
    "        self.codes = np.sort(self.stock_list['종목코드'].values)      \n",
    "\n",
    "        self.public_submission = self.submission.iloc[:5]\n",
    "        self.public_submission_form = self.public_submission.copy()\n",
    "        self.private_submission = self.submission.iloc[5:]        \n",
    "        \n",
    "    def load_data(self, start_date='2021-01-01', end_date='2021-11-26'):\n",
    "        # price information\n",
    "        dfs = []\n",
    "        for code in tqdm(self.codes):\n",
    "            df = fdr.DataReader(code, start=start_date, end=end_date)\n",
    "            df['Code'] = code\n",
    "            dfs.append(df)\n",
    "        self.df_marcap_backup = pd.concat(dfs)\n",
    "        \n",
    "        # sector information\n",
    "        krx = fdr.StockListing('KRX')\n",
    "        krx = krx[krx['Symbol'].isin(self.codes)]\n",
    "        krx = krx[['Symbol', 'Sector']]\n",
    "        krx['HighSector'] = krx['Sector'].str.split(' ').str[-1]\n",
    "        krx = krx.reset_index(drop=True)\n",
    "        krx.loc[krx['HighSector'].isna(), 'HighSector'] = 'Others'\n",
    "        krx.loc[krx['HighSector'] == '제외', 'HighSector'] = '제조업'\n",
    "        self.krx = krx\n",
    "        self.sectors = self.krx.HighSector.unique()\n",
    "        \n",
    "    def set_dates(self, training_date='2021-10-29', start_date='2021-11-1', end_date='2021-11-5', public=True):\n",
    "        self.training_date = training_date\n",
    "        self.start_date = start_date\n",
    "        self.end_date = end_date\n",
    "        \n",
    "        self.df_marcap = self.df_marcap_backup.loc[:self.training_date]\n",
    "        \n",
    "        if public:\n",
    "            self.public_test()\n",
    "        \n",
    "    def public_test(self):\n",
    "        self.public_answer = self.public_submission_form.copy()\n",
    "        public_pivot = self.df_marcap_backup.loc[self.start_date:self.end_date]\n",
    "        public_pivot = public_pivot.reset_index().pivot('Date', 'Code', 'Close')\n",
    "        \n",
    "        for code in self.codes:\n",
    "            if code in public_pivot.columns:\n",
    "                self.public_answer.loc[:,code] = public_pivot.loc[:,code].values\n",
    "\n",
    "        # validation check\n",
    "        # self.score((self.public_answer.set_index('Day')*0.5).reset_index())\n",
    "        self.baseline_submission = self.public_submission_form.copy()\n",
    "\n",
    "        baseline_pivot = self.df_marcap.loc[self.training_date].reset_index().pivot('Date', 'Code', 'Close')\n",
    "        for code in self.codes:\n",
    "            if code in baseline_pivot.columns:\n",
    "                 self.baseline_submission.loc[:,code] = baseline_pivot.loc[:,code].values[0]\n",
    "                    \n",
    "    def score(self, df_preds):\n",
    "        trues = self.public_answer.set_index('Day').replace(0, np.nan).values\n",
    "        preds = df_preds.set_index('Day').values\n",
    "\n",
    "        return np.nanmean(np.abs(trues - preds) / trues, axis=1)\n",
    "    \n",
    "    def predict_ratio_arima(self, log_means):\n",
    "        model = ARIMA(log_means, order=(0,1,1))\n",
    "        model_fit = model.fit(trend='nc',full_output=True, disp=1)\n",
    "        fore = model_fit.forecast(steps=5)\n",
    "        return fore[0] - log_means.values[-1]\n",
    "        \n",
    "    def compare_to_baseline(self):\n",
    "        public_scores = self.score(self.public_submission)\n",
    "        baseline_scores = self.score(self.baseline_submission)\n",
    "        \n",
    "        print(f'public_scores: {np.mean(public_scores)}, {public_scores}')\n",
    "        print(f'baseline_scores: {np.mean(baseline_scores)}. {baseline_scores}')       \n",
    "        return np.mean(public_scores), np.mean(baseline_scores)\n",
    "        \n",
    "    def train(self, global_ratio=0.1, sector_ratio=0.3, company_ratio=0.6, public=True):\n",
    "        pivot = self.df_marcap.reset_index().pivot('Date', 'Code', 'Close').fillna(method='bfill')\n",
    "        vals = pivot.values\n",
    "        nor_pivot = pivot.copy()\n",
    "        nor_pivot.iloc[:,:] = vals / vals[0]\n",
    "\n",
    "        # global\n",
    "        print('train globally...')\n",
    "        log_means_global = np.log(nor_pivot.mean(axis=1))\n",
    "        forecasts_global = self.predict_ratio_arima(log_means_global)\n",
    "\n",
    "        dict_global_corr = dict()\n",
    "        for code in self.codes:\n",
    "            corr = log_means_global.corr(nor_pivot.loc[:,code])\n",
    "            dict_global_corr[code] = corr\n",
    "\n",
    "        # by sector\n",
    "        print('train by sector...')\n",
    "        forecasts_sector = []\n",
    "        dict_sector_corr = dict()\n",
    "        for sector in self.sectors:\n",
    "            symbols = self.krx.loc[self.krx['HighSector'] == sector, 'Symbol'].values\n",
    "\n",
    "            df = nor_pivot.loc[:,symbols]\n",
    "            log_means = np.log(df.mean(axis=1))\n",
    "            pred = self.predict_ratio_arima(log_means)               \n",
    "            forecasts_sector.append(pred)\n",
    "\n",
    "            for code in symbols:\n",
    "                corr = log_means.corr(nor_pivot.loc[:,code])\n",
    "                dict_sector_corr[code] = corr\n",
    "     \n",
    "        # by company\n",
    "        print('train by company...')\n",
    "        dict_company_pred = dict()\n",
    "        for code in tqdm(self.codes):\n",
    "            if code in self.krx['Symbol'].unique():\n",
    "                log_means = np.log(nor_pivot[code])\n",
    "                pred = self.predict_ratio_arima(log_means)             \n",
    "                dict_company_pred[code] = pred\n",
    "\n",
    "        self.ratios = dict()\n",
    "        for code in self.codes:\n",
    "            if code in self.krx['Symbol'].unique():\n",
    "                sector = self.krx.loc[self.krx['Symbol'] == code, 'HighSector'].values[0]\n",
    "                if sector == 'Others':\n",
    "                    ratio = np.exp(global_ratio*dict_global_corr[code]*forecasts_global \n",
    "                                          + (company_ratio+sector_ratio)*dict_company_pred[code])\n",
    "                    self.ratios[code] = ratio\n",
    "                else:\n",
    "                    sector_idx = np.where(sector==self.sectors)[0][0]\n",
    "                    ratio = np.exp(global_ratio*dict_global_corr[code]*forecasts_global \n",
    "                                          + sector_ratio*dict_sector_corr[code]*forecasts_sector[sector_idx] \n",
    "                                          + company_ratio*dict_company_pred[code])\n",
    "                    self.ratios[code] = ratio\n",
    "        \n",
    "        if public:\n",
    "            submission = self.public_submission\n",
    "        else:\n",
    "            submission = self.private_submission\n",
    "            \n",
    "        for code in self.codes:\n",
    "            if code in self.ratios.keys():\n",
    "                submission[code] = pivot.iloc[-1][code] * self.ratios[code]\n",
    "            else:\n",
    "                submission[code] = pivot.iloc[-1][code]\n",
    " \n",
    "    def postprocessing(self):\n",
    "        self.private_submission.loc[:,'017670'] /= 5\n",
    "    \n",
    "    def save(self):  \n",
    "        self.submission.iloc[:5,1:] = self.public_submission.iloc[:,1:]\n",
    "        self.submission.iloc[5:,1:] = self.private_submission.iloc[:,1:]\n",
    "        \n",
    "        self.submission = self.submission.fillna(0)\n",
    "        self.submission.to_csv(self.final_submission_path, index=False)\n",
    "    \n",
    "    def save_figures(self):\n",
    "        if not os.path.exists(self.figure_path):\n",
    "            os.makedirs(self.figure_path)\n",
    "            \n",
    "        self.private_submission_copy = self.private_submission.copy()\n",
    "        self.private_submission_copy['Day'] = pd.to_datetime(self.private_submission_copy['Day'], format='%Y-%m-%d')\n",
    "        self.private_submission_copy = self.private_submission_copy.set_index('Day')\n",
    "        \n",
    "        for code in tqdm(self.codes):\n",
    "            fig, ax = plt.subplots()\n",
    "            self.private_submission_copy[code].plot(ax=ax)\n",
    "            self.df_marcap.loc[self.df_marcap['Code'] == code].iloc[-100:,]['Close'].plot(ax=ax)\n",
    "            ax.set_title(str(code) + ' ' + self.stock_list[self.stock_list['종목코드'] == code]['종목명'].values[0])\n",
    "            plt.savefig(self.figure_path + '/' + str(code) + '.png')\n",
    "        \n",
    "    def run(self):\n",
    "        self.load_file()\n",
    "        self.load_data(start_date='2021-01-01', end_date='2021-11-26')\n",
    "        self.set_dates(training_date='2021-10-29', start_date='2021-11-1', end_date='2021-11-5', public=True)\n",
    "        self.train(public=True)\n",
    "        self.set_dates(training_date='2021-11-26', start_date='2021-11-29', end_date='2021-12-3', public=False)\n",
    "        self.train(public=False)\n",
    "        # self.postprocessing()\n",
    "        self.save()"
   ]
  },
  {
   "cell_type": "code",
   "execution_count": 5,
   "id": "5b2eeb25",
   "metadata": {},
   "outputs": [
    {
     "name": "stderr",
     "output_type": "stream",
     "text": [
      "100%|██████████| 370/370 [00:43<00:00,  8.51it/s]\n"
     ]
    },
    {
     "name": "stdout",
     "output_type": "stream",
     "text": [
      "train globally...\n",
      "train by sector...\n"
     ]
    },
    {
     "name": "stderr",
     "output_type": "stream",
     "text": [
      "  2%|▏         | 8/370 [00:00<00:04, 74.94it/s]"
     ]
    },
    {
     "name": "stdout",
     "output_type": "stream",
     "text": [
      "train by company...\n"
     ]
    },
    {
     "name": "stderr",
     "output_type": "stream",
     "text": [
      "100%|██████████| 370/370 [00:04<00:00, 87.22it/s] \n"
     ]
    },
    {
     "name": "stdout",
     "output_type": "stream",
     "text": [
      "train globally...\n",
      "train by sector...\n"
     ]
    },
    {
     "name": "stderr",
     "output_type": "stream",
     "text": [
      "  2%|▏         | 9/370 [00:00<00:04, 83.28it/s]"
     ]
    },
    {
     "name": "stdout",
     "output_type": "stream",
     "text": [
      "train by company...\n"
     ]
    },
    {
     "name": "stderr",
     "output_type": "stream",
     "text": [
      "100%|██████████| 370/370 [00:04<00:00, 91.67it/s] \n"
     ]
    }
   ],
   "source": [
    "predictor = StockPredictor()\n",
    "predictor.run()"
   ]
  }
 ],
 "metadata": {
  "kernelspec": {
   "display_name": "Python 3",
   "language": "python",
   "name": "python3"
  },
  "language_info": {
   "codemirror_mode": {
    "name": "ipython",
    "version": 3
   },
   "file_extension": ".py",
   "mimetype": "text/x-python",
   "name": "python",
   "nbconvert_exporter": "python",
   "pygments_lexer": "ipython3",
   "version": "3.8.8"
  }
 },
 "nbformat": 4,
 "nbformat_minor": 5
}
