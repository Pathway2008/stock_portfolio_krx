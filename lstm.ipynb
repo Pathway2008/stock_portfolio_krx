{
 "cells": [
  {
   "cell_type": "markdown",
   "metadata": {},
   "source": [
    "# FinanceDataReader에서 주어진 종목 및 기간 데이터 받아오기\n",
    "-  주어진 데이터에서 거래중지로 의심되는 종목 제외"
   ]
  },
  {
   "cell_type": "code",
   "execution_count": 18,
   "metadata": {},
   "outputs": [],
   "source": [
    "import numpy as np\n",
    "import pandas as pd\n",
    "\n",
    "from matplotlib import pyplot as plt\n",
    "import seaborn as sns\n",
    "\n",
    "import warnings\n",
    "warnings.filterwarnings('ignore')\n",
    "\n",
    "from IPython.core.interactiveshell import InteractiveShell\n",
    "InteractiveShell.ast_node_interactivity = \"all\"\n",
    "\n",
    "import FinanceDataReader as fdr"
   ]
  },
  {
   "attachments": {},
   "cell_type": "markdown",
   "metadata": {},
   "source": [
    "##### Data Load"
   ]
  },
  {
   "cell_type": "code",
   "execution_count": 2,
   "metadata": {},
   "outputs": [],
   "source": [
    "df_old = pd.read_csv(\"../data/train.csv\")\n",
    "df_add = pd.read_csv(\"../data/train_additional.csv\")\n",
    "sub_df = pd.read_csv(\"../data/sample_submission.csv\")"
   ]
  },
  {
   "cell_type": "code",
   "execution_count": 3,
   "metadata": {},
   "outputs": [],
   "source": [
    "df_add = pd.concat([df_old, df_add]).reset_index(drop=True)"
   ]
  },
  {
   "cell_type": "code",
   "execution_count": 4,
   "metadata": {},
   "outputs": [],
   "source": [
    "df_old.columns = ['date', 'code', 'name', 'volume', 'open', 'high', 'low', 'close']\n",
    "df_add.columns = ['date', 'code', 'name', 'volume', 'open', 'high', 'low', 'close']"
   ]
  },
  {
   "cell_type": "code",
   "execution_count": 9,
   "metadata": {},
   "outputs": [],
   "source": [
    "df_old['date'] = pd.to_datetime(df_old['date'], format='%Y%m%d')\n",
    "df_add['date'] = pd.to_datetime(df_add['date'], format='%Y%m%d')"
   ]
  },
  {
   "cell_type": "code",
   "execution_count": 10,
   "metadata": {},
   "outputs": [
    {
     "name": "stdout",
     "output_type": "stream",
     "text": [
      "시작일 : 2021-06-01 00:00:00 종료일 : 2023-05-30 00:00:00\n",
      "시작일 : 2021-06-01 00:00:00 종료일 : 2023-07-28 00:00:00\n"
     ]
    }
   ],
   "source": [
    "print('시작일 :', df_old['date'].min(), '종료일 :', df_old['date'].max())\n",
    "print('시작일 :', df_add['date'].min(), '종료일 :', df_add['date'].max())"
   ]
  },
  {
   "cell_type": "markdown",
   "metadata": {},
   "source": [
    "##### open 데이터로 pivot_table 생성"
   ]
  },
  {
   "cell_type": "code",
   "execution_count": 11,
   "metadata": {},
   "outputs": [],
   "source": [
    "open_old_df = pd.pivot_table(df_old, index='date', columns='code', values='open').sort_index()\n",
    "open_add_df = pd.pivot_table(df_add, index='date', columns='code', values='open').sort_index()"
   ]
  },
  {
   "cell_type": "markdown",
   "metadata": {},
   "source": [
    "##### FDR 데이터 Load"
   ]
  },
  {
   "cell_type": "code",
   "execution_count": 105,
   "metadata": {},
   "outputs": [],
   "source": [
    "fdr_old_df = pd.DataFrame(index=open_old_df.index)\n",
    "for code in df_old['code'].unique():\n",
    "    tmp = fdr.DataReader(code[1:], '2021-06-01', '2023-05-30')\n",
    "    fdr_old_df.loc[:, code] = tmp['Close']"
   ]
  },
  {
   "cell_type": "code",
   "execution_count": 106,
   "metadata": {},
   "outputs": [],
   "source": [
    "fdr_add_df = pd.DataFrame(index=open_add_df.index)\n",
    "for code in df_add['code'].unique():\n",
    "    tmp = fdr.DataReader(code[1:], '2021-06-01', '2023-07-28')\n",
    "    fdr_add_df.loc[:, code] = tmp['Close']"
   ]
  },
  {
   "cell_type": "markdown",
   "metadata": {},
   "source": [
    "##### 마지막 날 거래 X 종목 제외"
   ]
  },
  {
   "cell_type": "code",
   "execution_count": 16,
   "metadata": {},
   "outputs": [],
   "source": [
    "old_last_no_halt = open_old_df.loc[:, open_old_df.iloc[-1, :] != 0]\n",
    "add_last_no_halt = open_add_df.loc[:, open_add_df.iloc[-1, :] != 0]"
   ]
  },
  {
   "cell_type": "code",
   "execution_count": 17,
   "metadata": {},
   "outputs": [],
   "source": [
    "fdr_old_no_halt = fdr_old_df.loc[:, old_last_no_halt.columns]\n",
    "fdr_add_no_halt = fdr_add_df.loc[:, add_last_no_halt.columns]"
   ]
  },
  {
   "cell_type": "markdown",
   "metadata": {},
   "source": [
    "### csv 저장"
   ]
  },
  {
   "cell_type": "code",
   "execution_count": 18,
   "metadata": {},
   "outputs": [],
   "source": [
    "fdr_old_no_halt.to_csv('../data/fdr_old_no_halt.csv')\n",
    "fdr_add_no_halt.to_csv('../data/fdr_add_no_halt.csv')"
   ]
  },
  {
   "cell_type": "markdown",
   "metadata": {},
   "source": [
    "# LSTM 모델"
   ]
  },
  {
   "cell_type": "code",
   "execution_count": null,
   "metadata": {},
   "outputs": [],
   "source": [
    "import numpy as np\n",
    "import pandas as pd\n",
    "import torch\n",
    "import torch.nn as nn\n",
    "import torch.optim as optim\n",
    "from torch.utils.data import DataLoader, TensorDataset\n",
    "\n",
    "from sklearn.preprocessing import StandardScaler"
   ]
  },
  {
   "cell_type": "markdown",
   "metadata": {},
   "source": [
    "##### public 또는 private 기간 데이터 중 선택"
   ]
  },
  {
   "cell_type": "code",
   "execution_count": null,
   "metadata": {},
   "outputs": [],
   "source": [
    "is_old = False  # private 기간 데이터"
   ]
  },
  {
   "cell_type": "markdown",
   "metadata": {},
   "source": [
    "##### Load Data"
   ]
  },
  {
   "cell_type": "code",
   "execution_count": null,
   "metadata": {},
   "outputs": [],
   "source": [
    "sub_df = pd.read_csv(\"data/sample_submission.csv\")\n",
    "if is_old:\n",
    "    df = pd.read_csv('data/fdr_old_no_halt.csv', index_col=0)\n",
    "else:\n",
    "    df = pd.read_csv('data/fdr_add_no_halt.csv', index_col=0)"
   ]
  },
  {
   "cell_type": "markdown",
   "metadata": {},
   "source": [
    "##### train data sequence 길이 설정 & 현재로부터 몇 일 후의 종가를 예측할 것인지 설정"
   ]
  },
  {
   "cell_type": "code",
   "execution_count": null,
   "metadata": {},
   "outputs": [],
   "source": [
    "seq_len = 30\n",
    "pred_day = 15"
   ]
  },
  {
   "cell_type": "markdown",
   "metadata": {},
   "source": [
    "##### 30일 길이의 train sequence data 및 valid, test data 생성 함수 정의"
   ]
  },
  {
   "cell_type": "code",
   "execution_count": null,
   "metadata": {},
   "outputs": [],
   "source": [
    "def create_sequences(data, seq_len, pred_day=15):\n",
    "    num_codes, num_days = data.shape\n",
    "    X_train, y_train = [], []\n",
    "    X_valid, y_valid = [[] for _ in range(num_codes)], [[] for _ in range(num_codes)]\n",
    "    X_test = []\n",
    "    \n",
    "    for i in range(num_codes):\n",
    "        for j in range(seq_len, num_days-(pred_day<<1)):\n",
    "            X_train.append(data[i][j-seq_len:j])\n",
    "            y_train.append(data[i][j+pred_day-1])\n",
    "        for j in range(num_days-(pred_day<<1), num_days-pred_day):\n",
    "            X_valid[i].append(data[i][j-seq_len:j])\n",
    "            y_valid[i].append(data[i][j+pred_day-1])\n",
    "        X_test.append(data[i][-seq_len:])\n",
    "\n",
    "    X_train, y_train, X_valid, y_valid, X_test = np.array(X_train), np.array(y_train), np.array(X_valid), np.array(y_valid), np.array(X_test)\n",
    "    return torch.tensor(X_train).float(), torch.tensor(y_train).float(), torch.tensor(X_valid).float(), torch.tensor(y_valid).float(), torch.tensor(X_test).float()"
   ]
  },
  {
   "cell_type": "markdown",
   "metadata": {},
   "source": [
    "##### Scaler 적용"
   ]
  },
  {
   "cell_type": "code",
   "execution_count": null,
   "metadata": {},
   "outputs": [],
   "source": [
    "scaler = StandardScaler()\n",
    "scaled_df = scaler.fit_transform(df)"
   ]
  },
  {
   "cell_type": "markdown",
   "metadata": {},
   "source": [
    "##### Train Valid Split"
   ]
  },
  {
   "cell_type": "code",
   "execution_count": null,
   "metadata": {},
   "outputs": [],
   "source": [
    "X_train, y_train, X_valid, y_valid, X_test = create_sequences(scaled_df.T, seq_len, pred_day)"
   ]
  },
  {
   "cell_type": "markdown",
   "metadata": {},
   "source": [
    "##### LSTM 모델 코드"
   ]
  },
  {
   "cell_type": "code",
   "execution_count": null,
   "metadata": {},
   "outputs": [],
   "source": [
    "class LSTMModel(nn.Module):\n",
    "    def __init__(self, input_size, hidden_size, num_layers=1):\n",
    "        super(LSTMModel, self).__init__()\n",
    "        self.lstm = nn.LSTM(input_size, hidden_size, num_layers, batch_first=True)\n",
    "        self.fc = nn.Linear(hidden_size, 1)\n",
    "        self.num_layers = num_layers\n",
    "        self.hidden_size = hidden_size\n",
    "\n",
    "    def forward(self, x):\n",
    "        h0 = torch.zeros(self.num_layers, x.size(0), self.hidden_size).to(x.device)\n",
    "        c0 = torch.zeros(self.num_layers, x.size(0), self.hidden_size).to(x.device)\n",
    "        out, _ = self.lstm(torch.unsqueeze(x, -1), (h0, c0))\n",
    "        out = self.fc(out[:, -1, :])\n",
    "        return out"
   ]
  },
  {
   "cell_type": "markdown",
   "metadata": {},
   "source": [
    "##### 하이퍼파라미터 설정"
   ]
  },
  {
   "cell_type": "code",
   "execution_count": null,
   "metadata": {},
   "outputs": [],
   "source": [
    "input_size = 1\n",
    "hidden_size = 64\n",
    "num_layers = 1\n",
    "\n",
    "num_epochs = 30\n",
    "batch_size = 64\n",
    "lr = 0.001"
   ]
  },
  {
   "cell_type": "markdown",
   "metadata": {},
   "source": [
    "##### 모델 & 손실함수 & 옵티마이저 생성"
   ]
  },
  {
   "cell_type": "code",
   "execution_count": null,
   "metadata": {},
   "outputs": [],
   "source": [
    "model = LSTMModel(input_size, hidden_size, num_layers)\n",
    "\n",
    "criterion = nn.MSELoss()\n",
    "optimizer = optim.Adam(model.parameters(), lr=lr)"
   ]
  },
  {
   "cell_type": "markdown",
   "metadata": {},
   "source": [
    "##### 데이터셋 준비"
   ]
  },
  {
   "cell_type": "code",
   "execution_count": null,
   "metadata": {},
   "outputs": [],
   "source": [
    "train_dataset = TensorDataset(X_train, y_train)\n",
    "valid_dataset = TensorDataset(X_valid, y_valid)\n",
    "train_loader = DataLoader(train_dataset, batch_size=batch_size, shuffle=True)"
   ]
  },
  {
   "cell_type": "markdown",
   "metadata": {},
   "source": [
    "##### 모델 학습 및 평가"
   ]
  },
  {
   "cell_type": "code",
   "execution_count": null,
   "metadata": {},
   "outputs": [],
   "source": [
    "for epoch in range(num_epochs):\n",
    "    for inputs, labels in train_loader:\n",
    "        optimizer.zero_grad()\n",
    "        outputs = model(inputs)\n",
    "        loss = criterion(torch.squeeze(outputs), labels)\n",
    "        loss.backward()\n",
    "        optimizer.step()\n",
    "\n",
    "    print(f'Epoch [{epoch+1}/{num_epochs}], Loss: {loss.item():.6f}')\n",
    "\n",
    "with torch.no_grad():\n",
    "    model.eval()\n",
    "    valid_outputs = model(X_valid[:, -1, :])\n",
    "    valid_loss = criterion(torch.squeeze(valid_outputs), y_valid[:, -1])\n",
    "    print(f'Valid loss: {valid_loss.item():.6f}')"
   ]
  },
  {
   "cell_type": "markdown",
   "metadata": {},
   "source": [
    "##### test data로 15일 후 종가 예측 & 수익률에 따른 rank 계산"
   ]
  },
  {
   "cell_type": "code",
   "execution_count": null,
   "metadata": {},
   "outputs": [],
   "source": [
    "# Make predictions on Test data\n",
    "test_outputs = model(X_test)\n",
    "final_prices = scaler.inverse_transform(test_outputs.reshape(1, -1).detach().numpy())\n",
    "final_prices = final_prices.reshape(-1)\n",
    "\n",
    "result = pd.DataFrame(df.iloc[-1])\n",
    "result.columns = ['last']\n",
    "result['pred'] = final_prices\n",
    "result['rtn'] = (result['pred'] - result['last']) / result['last']\n",
    "ranks = result['rtn'].rank(method='first', ascending=False).astype('int')"
   ]
  },
  {
   "cell_type": "markdown",
   "metadata": {},
   "source": [
    "##### submission 파일 생성 및 저장\n",
    "- 거래중지 의심 종목 : 1000등 근방으로 설정"
   ]
  },
  {
   "cell_type": "code",
   "execution_count": null,
   "metadata": {},
   "outputs": [],
   "source": [
    "submission = pd.merge(sub_df, ranks, left_on='종목코드', right_on=result.index, how='left')\n",
    "submission['순위'] = submission['rtn'].fillna(0).astype(int)\n",
    "submission = submission.drop('rtn', axis=1)\n",
    "\n",
    "ranks = submission['순위']\n",
    "halts = 2000 - df.shape[1]\n",
    "ranks = np.where(ranks >= 1001, ranks+halts, ranks)\n",
    "ranks[ranks == 0] = range(1001, 1001+halts)\n",
    "submission['순위'] = ranks\n",
    "submission.to_csv('submission/lstm_02.csv', index=False)"
   ]
  }
 ],
 "metadata": {
  "kernelspec": {
   "display_name": ".venv",
   "language": "python",
   "name": "python3"
  },
  "language_info": {
   "codemirror_mode": {
    "name": "ipython",
    "version": 3
   },
   "file_extension": ".py",
   "mimetype": "text/x-python",
   "name": "python",
   "nbconvert_exporter": "python",
   "pygments_lexer": "ipython3",
   "version": "3.9.10"
  },
  "orig_nbformat": 4
 },
 "nbformat": 4,
 "nbformat_minor": 2
}
