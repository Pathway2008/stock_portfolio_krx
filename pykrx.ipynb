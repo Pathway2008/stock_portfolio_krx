{
  "nbformat": 4,
  "nbformat_minor": 0,
  "metadata": {
    "colab": {
      "provenance": [],
      "mount_file_id": "1VfSaeuVK6wR_wDoIDmmoPXlUd_12Otr_",
      "authorship_tag": "ABX9TyMu55gBvZnLicDgtTOyQeX1",
      "include_colab_link": true
    },
    "kernelspec": {
      "name": "python3",
      "display_name": "Python 3"
    },
    "language_info": {
      "name": "python"
    }
  },
  "cells": [
    {
      "cell_type": "markdown",
      "metadata": {
        "id": "view-in-github",
        "colab_type": "text"
      },
      "source": [
        "<a href=\"https://colab.research.google.com/github/Pathway2008/stock_portfolio_krx/blob/main/pykrx.ipynb\" target=\"_parent\"><img src=\"https://colab.research.google.com/assets/colab-badge.svg\" alt=\"Open In Colab\"/></a>"
      ]
    },
    {
      "cell_type": "markdown",
      "source": [
        "1. 액면분할은 주가하락으로 평가\n",
        "2. 모든 주식은 동일금액(수익률이 중요)\n",
        "3. 거래중지 종목들이 있음(5월 30일에 거래하지 못하는 종목은 제외해야함)\n",
        "4. 평가기간에 액면분할되는 종목은 평가가 어떻게 되는지 확인할 것(문의 = 액면분할 - 주가하락, 액면병합 - 주가상승)"
      ],
      "metadata": {
        "id": "dLFF-5LIlRcs"
      }
    },
    {
      "cell_type": "code",
      "execution_count": 1,
      "metadata": {
        "id": "71EtcASJc-ab"
      },
      "outputs": [],
      "source": [
        "import pandas as pd\n",
        "import numpy as np\n",
        "train = pd.read_csv('/content/drive/MyDrive/portfolio/train.csv')\n",
        "sub = pd.read_csv('/content/drive/MyDrive/portfolio/sample_submission.csv')"
      ]
    },
    {
      "cell_type": "code",
      "source": [
        "train.head()"
      ],
      "metadata": {
        "colab": {
          "base_uri": "https://localhost:8080/",
          "height": 206
        },
        "id": "3JzqfdFgd4hG",
        "outputId": "162666a7-40f2-4f62-930f-e308740921c1"
      },
      "execution_count": null,
      "outputs": [
        {
          "output_type": "execute_result",
          "data": {
            "text/plain": [
              "         일자     종목코드     종목명     거래량     시가     고가     저가     종가\n",
              "0  20210601  A060310      3S  166690   2890   2970   2885   2920\n",
              "1  20210601  A095570  AJ네트웍스   63836   5860   5940   5750   5780\n",
              "2  20210601  A006840   AK홀딩스  103691  35500  35600  34150  34400\n",
              "3  20210601  A054620     APS  462544  14600  14950  13800  14950\n",
              "4  20210601  A265520   AP시스템  131987  29150  29150  28800  29050"
            ],
            "text/html": [
              "\n",
              "  <div id=\"df-5f3065fd-5e30-45fe-a698-7ef84f2d83fc\">\n",
              "    <div class=\"colab-df-container\">\n",
              "      <div>\n",
              "<style scoped>\n",
              "    .dataframe tbody tr th:only-of-type {\n",
              "        vertical-align: middle;\n",
              "    }\n",
              "\n",
              "    .dataframe tbody tr th {\n",
              "        vertical-align: top;\n",
              "    }\n",
              "\n",
              "    .dataframe thead th {\n",
              "        text-align: right;\n",
              "    }\n",
              "</style>\n",
              "<table border=\"1\" class=\"dataframe\">\n",
              "  <thead>\n",
              "    <tr style=\"text-align: right;\">\n",
              "      <th></th>\n",
              "      <th>일자</th>\n",
              "      <th>종목코드</th>\n",
              "      <th>종목명</th>\n",
              "      <th>거래량</th>\n",
              "      <th>시가</th>\n",
              "      <th>고가</th>\n",
              "      <th>저가</th>\n",
              "      <th>종가</th>\n",
              "    </tr>\n",
              "  </thead>\n",
              "  <tbody>\n",
              "    <tr>\n",
              "      <th>0</th>\n",
              "      <td>20210601</td>\n",
              "      <td>A060310</td>\n",
              "      <td>3S</td>\n",
              "      <td>166690</td>\n",
              "      <td>2890</td>\n",
              "      <td>2970</td>\n",
              "      <td>2885</td>\n",
              "      <td>2920</td>\n",
              "    </tr>\n",
              "    <tr>\n",
              "      <th>1</th>\n",
              "      <td>20210601</td>\n",
              "      <td>A095570</td>\n",
              "      <td>AJ네트웍스</td>\n",
              "      <td>63836</td>\n",
              "      <td>5860</td>\n",
              "      <td>5940</td>\n",
              "      <td>5750</td>\n",
              "      <td>5780</td>\n",
              "    </tr>\n",
              "    <tr>\n",
              "      <th>2</th>\n",
              "      <td>20210601</td>\n",
              "      <td>A006840</td>\n",
              "      <td>AK홀딩스</td>\n",
              "      <td>103691</td>\n",
              "      <td>35500</td>\n",
              "      <td>35600</td>\n",
              "      <td>34150</td>\n",
              "      <td>34400</td>\n",
              "    </tr>\n",
              "    <tr>\n",
              "      <th>3</th>\n",
              "      <td>20210601</td>\n",
              "      <td>A054620</td>\n",
              "      <td>APS</td>\n",
              "      <td>462544</td>\n",
              "      <td>14600</td>\n",
              "      <td>14950</td>\n",
              "      <td>13800</td>\n",
              "      <td>14950</td>\n",
              "    </tr>\n",
              "    <tr>\n",
              "      <th>4</th>\n",
              "      <td>20210601</td>\n",
              "      <td>A265520</td>\n",
              "      <td>AP시스템</td>\n",
              "      <td>131987</td>\n",
              "      <td>29150</td>\n",
              "      <td>29150</td>\n",
              "      <td>28800</td>\n",
              "      <td>29050</td>\n",
              "    </tr>\n",
              "  </tbody>\n",
              "</table>\n",
              "</div>\n",
              "      <button class=\"colab-df-convert\" onclick=\"convertToInteractive('df-5f3065fd-5e30-45fe-a698-7ef84f2d83fc')\"\n",
              "              title=\"Convert this dataframe to an interactive table.\"\n",
              "              style=\"display:none;\">\n",
              "        \n",
              "  <svg xmlns=\"http://www.w3.org/2000/svg\" height=\"24px\"viewBox=\"0 0 24 24\"\n",
              "       width=\"24px\">\n",
              "    <path d=\"M0 0h24v24H0V0z\" fill=\"none\"/>\n",
              "    <path d=\"M18.56 5.44l.94 2.06.94-2.06 2.06-.94-2.06-.94-.94-2.06-.94 2.06-2.06.94zm-11 1L8.5 8.5l.94-2.06 2.06-.94-2.06-.94L8.5 2.5l-.94 2.06-2.06.94zm10 10l.94 2.06.94-2.06 2.06-.94-2.06-.94-.94-2.06-.94 2.06-2.06.94z\"/><path d=\"M17.41 7.96l-1.37-1.37c-.4-.4-.92-.59-1.43-.59-.52 0-1.04.2-1.43.59L10.3 9.45l-7.72 7.72c-.78.78-.78 2.05 0 2.83L4 21.41c.39.39.9.59 1.41.59.51 0 1.02-.2 1.41-.59l7.78-7.78 2.81-2.81c.8-.78.8-2.07 0-2.86zM5.41 20L4 18.59l7.72-7.72 1.47 1.35L5.41 20z\"/>\n",
              "  </svg>\n",
              "      </button>\n",
              "      \n",
              "  <style>\n",
              "    .colab-df-container {\n",
              "      display:flex;\n",
              "      flex-wrap:wrap;\n",
              "      gap: 12px;\n",
              "    }\n",
              "\n",
              "    .colab-df-convert {\n",
              "      background-color: #E8F0FE;\n",
              "      border: none;\n",
              "      border-radius: 50%;\n",
              "      cursor: pointer;\n",
              "      display: none;\n",
              "      fill: #1967D2;\n",
              "      height: 32px;\n",
              "      padding: 0 0 0 0;\n",
              "      width: 32px;\n",
              "    }\n",
              "\n",
              "    .colab-df-convert:hover {\n",
              "      background-color: #E2EBFA;\n",
              "      box-shadow: 0px 1px 2px rgba(60, 64, 67, 0.3), 0px 1px 3px 1px rgba(60, 64, 67, 0.15);\n",
              "      fill: #174EA6;\n",
              "    }\n",
              "\n",
              "    [theme=dark] .colab-df-convert {\n",
              "      background-color: #3B4455;\n",
              "      fill: #D2E3FC;\n",
              "    }\n",
              "\n",
              "    [theme=dark] .colab-df-convert:hover {\n",
              "      background-color: #434B5C;\n",
              "      box-shadow: 0px 1px 3px 1px rgba(0, 0, 0, 0.15);\n",
              "      filter: drop-shadow(0px 1px 2px rgba(0, 0, 0, 0.3));\n",
              "      fill: #FFFFFF;\n",
              "    }\n",
              "  </style>\n",
              "\n",
              "      <script>\n",
              "        const buttonEl =\n",
              "          document.querySelector('#df-5f3065fd-5e30-45fe-a698-7ef84f2d83fc button.colab-df-convert');\n",
              "        buttonEl.style.display =\n",
              "          google.colab.kernel.accessAllowed ? 'block' : 'none';\n",
              "\n",
              "        async function convertToInteractive(key) {\n",
              "          const element = document.querySelector('#df-5f3065fd-5e30-45fe-a698-7ef84f2d83fc');\n",
              "          const dataTable =\n",
              "            await google.colab.kernel.invokeFunction('convertToInteractive',\n",
              "                                                     [key], {});\n",
              "          if (!dataTable) return;\n",
              "\n",
              "          const docLinkHtml = 'Like what you see? Visit the ' +\n",
              "            '<a target=\"_blank\" href=https://colab.research.google.com/notebooks/data_table.ipynb>data table notebook</a>'\n",
              "            + ' to learn more about interactive tables.';\n",
              "          element.innerHTML = '';\n",
              "          dataTable['output_type'] = 'display_data';\n",
              "          await google.colab.output.renderOutput(dataTable, element);\n",
              "          const docLink = document.createElement('div');\n",
              "          docLink.innerHTML = docLinkHtml;\n",
              "          element.appendChild(docLink);\n",
              "        }\n",
              "      </script>\n",
              "    </div>\n",
              "  </div>\n",
              "  "
            ]
          },
          "metadata": {},
          "execution_count": 3
        }
      ]
    },
    {
      "cell_type": "code",
      "source": [
        "train.info()"
      ],
      "metadata": {
        "colab": {
          "base_uri": "https://localhost:8080/"
        },
        "id": "LqnHptRbt44e",
        "outputId": "3208ac2f-be42-4d23-fc78-899644c252bb"
      },
      "execution_count": null,
      "outputs": [
        {
          "output_type": "stream",
          "name": "stdout",
          "text": [
            "<class 'pandas.core.frame.DataFrame'>\n",
            "RangeIndex: 988000 entries, 0 to 987999\n",
            "Data columns (total 8 columns):\n",
            " #   Column  Non-Null Count   Dtype \n",
            "---  ------  --------------   ----- \n",
            " 0   일자      988000 non-null  int64 \n",
            " 1   종목코드    988000 non-null  object\n",
            " 2   종목명     988000 non-null  object\n",
            " 3   거래량     988000 non-null  int64 \n",
            " 4   시가      988000 non-null  int64 \n",
            " 5   고가      988000 non-null  int64 \n",
            " 6   저가      988000 non-null  int64 \n",
            " 7   종가      988000 non-null  int64 \n",
            "dtypes: int64(6), object(2)\n",
            "memory usage: 60.3+ MB\n"
          ]
        }
      ]
    },
    {
      "cell_type": "code",
      "source": [
        "train.describe()"
      ],
      "metadata": {
        "colab": {
          "base_uri": "https://localhost:8080/",
          "height": 300
        },
        "id": "Pl77n3L1t42G",
        "outputId": "f81ad2a2-c28a-494b-cba1-f3ad72029a82"
      },
      "execution_count": null,
      "outputs": [
        {
          "output_type": "execute_result",
          "data": {
            "text/plain": [
              "                 일자           거래량            시가            고가            저가  \\\n",
              "count  9.880000e+05  9.880000e+05  9.880000e+05  9.880000e+05  9.880000e+05   \n",
              "mean   2.021974e+07  7.734265e+05  2.587701e+04  2.634938e+04  2.542335e+04   \n",
              "std    6.822396e+03  4.839914e+06  6.590845e+04  6.689822e+04  6.490307e+04   \n",
              "min    2.021060e+07  0.000000e+00  0.000000e+00  0.000000e+00  0.000000e+00   \n",
              "25%    2.021113e+07  3.653900e+04  3.775000e+03  3.865000e+03  3.700000e+03   \n",
              "50%    2.022053e+07  1.140220e+05  8.630000e+03  8.810000e+03  8.470000e+03   \n",
              "75%    2.022113e+07  3.672998e+05  2.130000e+04  2.180000e+04  2.085000e+04   \n",
              "max    2.023053e+07  7.822434e+08  1.770000e+06  1.784000e+06  1.756000e+06   \n",
              "\n",
              "                 종가  \n",
              "count  9.880000e+05  \n",
              "mean   2.600283e+04  \n",
              "std    6.587082e+04  \n",
              "min    8.500000e+01  \n",
              "25%    3.890000e+03  \n",
              "50%    8.700000e+03  \n",
              "75%    2.140000e+04  \n",
              "max    1.770000e+06  "
            ],
            "text/html": [
              "\n",
              "  <div id=\"df-22b03006-90f0-433f-bb3d-dbe217cb4eae\">\n",
              "    <div class=\"colab-df-container\">\n",
              "      <div>\n",
              "<style scoped>\n",
              "    .dataframe tbody tr th:only-of-type {\n",
              "        vertical-align: middle;\n",
              "    }\n",
              "\n",
              "    .dataframe tbody tr th {\n",
              "        vertical-align: top;\n",
              "    }\n",
              "\n",
              "    .dataframe thead th {\n",
              "        text-align: right;\n",
              "    }\n",
              "</style>\n",
              "<table border=\"1\" class=\"dataframe\">\n",
              "  <thead>\n",
              "    <tr style=\"text-align: right;\">\n",
              "      <th></th>\n",
              "      <th>일자</th>\n",
              "      <th>거래량</th>\n",
              "      <th>시가</th>\n",
              "      <th>고가</th>\n",
              "      <th>저가</th>\n",
              "      <th>종가</th>\n",
              "    </tr>\n",
              "  </thead>\n",
              "  <tbody>\n",
              "    <tr>\n",
              "      <th>count</th>\n",
              "      <td>9.880000e+05</td>\n",
              "      <td>9.880000e+05</td>\n",
              "      <td>9.880000e+05</td>\n",
              "      <td>9.880000e+05</td>\n",
              "      <td>9.880000e+05</td>\n",
              "      <td>9.880000e+05</td>\n",
              "    </tr>\n",
              "    <tr>\n",
              "      <th>mean</th>\n",
              "      <td>2.021974e+07</td>\n",
              "      <td>7.734265e+05</td>\n",
              "      <td>2.587701e+04</td>\n",
              "      <td>2.634938e+04</td>\n",
              "      <td>2.542335e+04</td>\n",
              "      <td>2.600283e+04</td>\n",
              "    </tr>\n",
              "    <tr>\n",
              "      <th>std</th>\n",
              "      <td>6.822396e+03</td>\n",
              "      <td>4.839914e+06</td>\n",
              "      <td>6.590845e+04</td>\n",
              "      <td>6.689822e+04</td>\n",
              "      <td>6.490307e+04</td>\n",
              "      <td>6.587082e+04</td>\n",
              "    </tr>\n",
              "    <tr>\n",
              "      <th>min</th>\n",
              "      <td>2.021060e+07</td>\n",
              "      <td>0.000000e+00</td>\n",
              "      <td>0.000000e+00</td>\n",
              "      <td>0.000000e+00</td>\n",
              "      <td>0.000000e+00</td>\n",
              "      <td>8.500000e+01</td>\n",
              "    </tr>\n",
              "    <tr>\n",
              "      <th>25%</th>\n",
              "      <td>2.021113e+07</td>\n",
              "      <td>3.653900e+04</td>\n",
              "      <td>3.775000e+03</td>\n",
              "      <td>3.865000e+03</td>\n",
              "      <td>3.700000e+03</td>\n",
              "      <td>3.890000e+03</td>\n",
              "    </tr>\n",
              "    <tr>\n",
              "      <th>50%</th>\n",
              "      <td>2.022053e+07</td>\n",
              "      <td>1.140220e+05</td>\n",
              "      <td>8.630000e+03</td>\n",
              "      <td>8.810000e+03</td>\n",
              "      <td>8.470000e+03</td>\n",
              "      <td>8.700000e+03</td>\n",
              "    </tr>\n",
              "    <tr>\n",
              "      <th>75%</th>\n",
              "      <td>2.022113e+07</td>\n",
              "      <td>3.672998e+05</td>\n",
              "      <td>2.130000e+04</td>\n",
              "      <td>2.180000e+04</td>\n",
              "      <td>2.085000e+04</td>\n",
              "      <td>2.140000e+04</td>\n",
              "    </tr>\n",
              "    <tr>\n",
              "      <th>max</th>\n",
              "      <td>2.023053e+07</td>\n",
              "      <td>7.822434e+08</td>\n",
              "      <td>1.770000e+06</td>\n",
              "      <td>1.784000e+06</td>\n",
              "      <td>1.756000e+06</td>\n",
              "      <td>1.770000e+06</td>\n",
              "    </tr>\n",
              "  </tbody>\n",
              "</table>\n",
              "</div>\n",
              "      <button class=\"colab-df-convert\" onclick=\"convertToInteractive('df-22b03006-90f0-433f-bb3d-dbe217cb4eae')\"\n",
              "              title=\"Convert this dataframe to an interactive table.\"\n",
              "              style=\"display:none;\">\n",
              "        \n",
              "  <svg xmlns=\"http://www.w3.org/2000/svg\" height=\"24px\"viewBox=\"0 0 24 24\"\n",
              "       width=\"24px\">\n",
              "    <path d=\"M0 0h24v24H0V0z\" fill=\"none\"/>\n",
              "    <path d=\"M18.56 5.44l.94 2.06.94-2.06 2.06-.94-2.06-.94-.94-2.06-.94 2.06-2.06.94zm-11 1L8.5 8.5l.94-2.06 2.06-.94-2.06-.94L8.5 2.5l-.94 2.06-2.06.94zm10 10l.94 2.06.94-2.06 2.06-.94-2.06-.94-.94-2.06-.94 2.06-2.06.94z\"/><path d=\"M17.41 7.96l-1.37-1.37c-.4-.4-.92-.59-1.43-.59-.52 0-1.04.2-1.43.59L10.3 9.45l-7.72 7.72c-.78.78-.78 2.05 0 2.83L4 21.41c.39.39.9.59 1.41.59.51 0 1.02-.2 1.41-.59l7.78-7.78 2.81-2.81c.8-.78.8-2.07 0-2.86zM5.41 20L4 18.59l7.72-7.72 1.47 1.35L5.41 20z\"/>\n",
              "  </svg>\n",
              "      </button>\n",
              "      \n",
              "  <style>\n",
              "    .colab-df-container {\n",
              "      display:flex;\n",
              "      flex-wrap:wrap;\n",
              "      gap: 12px;\n",
              "    }\n",
              "\n",
              "    .colab-df-convert {\n",
              "      background-color: #E8F0FE;\n",
              "      border: none;\n",
              "      border-radius: 50%;\n",
              "      cursor: pointer;\n",
              "      display: none;\n",
              "      fill: #1967D2;\n",
              "      height: 32px;\n",
              "      padding: 0 0 0 0;\n",
              "      width: 32px;\n",
              "    }\n",
              "\n",
              "    .colab-df-convert:hover {\n",
              "      background-color: #E2EBFA;\n",
              "      box-shadow: 0px 1px 2px rgba(60, 64, 67, 0.3), 0px 1px 3px 1px rgba(60, 64, 67, 0.15);\n",
              "      fill: #174EA6;\n",
              "    }\n",
              "\n",
              "    [theme=dark] .colab-df-convert {\n",
              "      background-color: #3B4455;\n",
              "      fill: #D2E3FC;\n",
              "    }\n",
              "\n",
              "    [theme=dark] .colab-df-convert:hover {\n",
              "      background-color: #434B5C;\n",
              "      box-shadow: 0px 1px 3px 1px rgba(0, 0, 0, 0.15);\n",
              "      filter: drop-shadow(0px 1px 2px rgba(0, 0, 0, 0.3));\n",
              "      fill: #FFFFFF;\n",
              "    }\n",
              "  </style>\n",
              "\n",
              "      <script>\n",
              "        const buttonEl =\n",
              "          document.querySelector('#df-22b03006-90f0-433f-bb3d-dbe217cb4eae button.colab-df-convert');\n",
              "        buttonEl.style.display =\n",
              "          google.colab.kernel.accessAllowed ? 'block' : 'none';\n",
              "\n",
              "        async function convertToInteractive(key) {\n",
              "          const element = document.querySelector('#df-22b03006-90f0-433f-bb3d-dbe217cb4eae');\n",
              "          const dataTable =\n",
              "            await google.colab.kernel.invokeFunction('convertToInteractive',\n",
              "                                                     [key], {});\n",
              "          if (!dataTable) return;\n",
              "\n",
              "          const docLinkHtml = 'Like what you see? Visit the ' +\n",
              "            '<a target=\"_blank\" href=https://colab.research.google.com/notebooks/data_table.ipynb>data table notebook</a>'\n",
              "            + ' to learn more about interactive tables.';\n",
              "          element.innerHTML = '';\n",
              "          dataTable['output_type'] = 'display_data';\n",
              "          await google.colab.output.renderOutput(dataTable, element);\n",
              "          const docLink = document.createElement('div');\n",
              "          docLink.innerHTML = docLinkHtml;\n",
              "          element.appendChild(docLink);\n",
              "        }\n",
              "      </script>\n",
              "    </div>\n",
              "  </div>\n",
              "  "
            ]
          },
          "metadata": {},
          "execution_count": 4
        }
      ]
    },
    {
      "cell_type": "code",
      "source": [
        "for i in range(986000):\n",
        "    opening_yesterday = train.loc[i, '시가']\n",
        "    closing_current = train.loc[i+2000, '종가']\n",
        "\n",
        "    yield_value = (closing_current - opening_yesterday) / opening_yesterday\n",
        "    train.loc[i+2000, 'yield'] = yield_value\n"
      ],
      "metadata": {
        "colab": {
          "base_uri": "https://localhost:8080/"
        },
        "id": "JY9939hZ15ZA",
        "outputId": "606cc743-5f34-490b-931a-1088ae15af11"
      },
      "execution_count": null,
      "outputs": [
        {
          "output_type": "stream",
          "name": "stderr",
          "text": [
            "<ipython-input-13-4e48214d13d4>:5: RuntimeWarning: divide by zero encountered in long_scalars\n",
            "  yield_value = (closing_current - opening_yesterday) / opening_yesterday\n"
          ]
        }
      ]
    },
    {
      "cell_type": "code",
      "source": [
        "train.tail()"
      ],
      "metadata": {
        "id": "iSWvdGIA6WDf"
      },
      "execution_count": null,
      "outputs": []
    },
    {
      "cell_type": "code",
      "source": [
        "train.to_csv('train_yield.csv', index=False)"
      ],
      "metadata": {
        "id": "u0E_IPIl6WBQ"
      },
      "execution_count": null,
      "outputs": []
    },
    {
      "cell_type": "markdown",
      "source": [
        "15/30/45D 평균이동선"
      ],
      "metadata": {
        "id": "K3u39qRe8Z9b"
      }
    },
    {
      "cell_type": "code",
      "source": [
        "abc_rows = train[train['종목명'] == train['종목명'][0]].copy()\n",
        "abc_rows.reset_index(drop=True, inplace=True)\n",
        "abc_rows.head()"
      ],
      "metadata": {
        "colab": {
          "base_uri": "https://localhost:8080/",
          "height": 206
        },
        "id": "l6e973dgZQFy",
        "outputId": "180eb842-8127-453f-dafe-3507dfc86445"
      },
      "execution_count": null,
      "outputs": [
        {
          "output_type": "execute_result",
          "data": {
            "text/plain": [
              "         일자     종목코드 종목명     거래량    시가    고가    저가    종가     yield\n",
              "0  20210601  A060310  3S  166690  2890  2970  2885  2920       NaN\n",
              "1  20210602  A060310  3S  134833  2915  2975  2830  2900  0.003460\n",
              "2  20210603  A060310  3S  144470  2900  2925  2875  2900 -0.005146\n",
              "3  20210604  A060310  3S  934224  2930  3120  2920  2950  0.017241\n",
              "4  20210607  A060310  3S  946560  3000  3150  2955  3150  0.075085"
            ],
            "text/html": [
              "\n",
              "  <div id=\"df-ad3b81dc-0bb2-4549-b051-ae1aa1618422\">\n",
              "    <div class=\"colab-df-container\">\n",
              "      <div>\n",
              "<style scoped>\n",
              "    .dataframe tbody tr th:only-of-type {\n",
              "        vertical-align: middle;\n",
              "    }\n",
              "\n",
              "    .dataframe tbody tr th {\n",
              "        vertical-align: top;\n",
              "    }\n",
              "\n",
              "    .dataframe thead th {\n",
              "        text-align: right;\n",
              "    }\n",
              "</style>\n",
              "<table border=\"1\" class=\"dataframe\">\n",
              "  <thead>\n",
              "    <tr style=\"text-align: right;\">\n",
              "      <th></th>\n",
              "      <th>일자</th>\n",
              "      <th>종목코드</th>\n",
              "      <th>종목명</th>\n",
              "      <th>거래량</th>\n",
              "      <th>시가</th>\n",
              "      <th>고가</th>\n",
              "      <th>저가</th>\n",
              "      <th>종가</th>\n",
              "      <th>yield</th>\n",
              "    </tr>\n",
              "  </thead>\n",
              "  <tbody>\n",
              "    <tr>\n",
              "      <th>0</th>\n",
              "      <td>20210601</td>\n",
              "      <td>A060310</td>\n",
              "      <td>3S</td>\n",
              "      <td>166690</td>\n",
              "      <td>2890</td>\n",
              "      <td>2970</td>\n",
              "      <td>2885</td>\n",
              "      <td>2920</td>\n",
              "      <td>NaN</td>\n",
              "    </tr>\n",
              "    <tr>\n",
              "      <th>1</th>\n",
              "      <td>20210602</td>\n",
              "      <td>A060310</td>\n",
              "      <td>3S</td>\n",
              "      <td>134833</td>\n",
              "      <td>2915</td>\n",
              "      <td>2975</td>\n",
              "      <td>2830</td>\n",
              "      <td>2900</td>\n",
              "      <td>0.003460</td>\n",
              "    </tr>\n",
              "    <tr>\n",
              "      <th>2</th>\n",
              "      <td>20210603</td>\n",
              "      <td>A060310</td>\n",
              "      <td>3S</td>\n",
              "      <td>144470</td>\n",
              "      <td>2900</td>\n",
              "      <td>2925</td>\n",
              "      <td>2875</td>\n",
              "      <td>2900</td>\n",
              "      <td>-0.005146</td>\n",
              "    </tr>\n",
              "    <tr>\n",
              "      <th>3</th>\n",
              "      <td>20210604</td>\n",
              "      <td>A060310</td>\n",
              "      <td>3S</td>\n",
              "      <td>934224</td>\n",
              "      <td>2930</td>\n",
              "      <td>3120</td>\n",
              "      <td>2920</td>\n",
              "      <td>2950</td>\n",
              "      <td>0.017241</td>\n",
              "    </tr>\n",
              "    <tr>\n",
              "      <th>4</th>\n",
              "      <td>20210607</td>\n",
              "      <td>A060310</td>\n",
              "      <td>3S</td>\n",
              "      <td>946560</td>\n",
              "      <td>3000</td>\n",
              "      <td>3150</td>\n",
              "      <td>2955</td>\n",
              "      <td>3150</td>\n",
              "      <td>0.075085</td>\n",
              "    </tr>\n",
              "  </tbody>\n",
              "</table>\n",
              "</div>\n",
              "      <button class=\"colab-df-convert\" onclick=\"convertToInteractive('df-ad3b81dc-0bb2-4549-b051-ae1aa1618422')\"\n",
              "              title=\"Convert this dataframe to an interactive table.\"\n",
              "              style=\"display:none;\">\n",
              "        \n",
              "  <svg xmlns=\"http://www.w3.org/2000/svg\" height=\"24px\"viewBox=\"0 0 24 24\"\n",
              "       width=\"24px\">\n",
              "    <path d=\"M0 0h24v24H0V0z\" fill=\"none\"/>\n",
              "    <path d=\"M18.56 5.44l.94 2.06.94-2.06 2.06-.94-2.06-.94-.94-2.06-.94 2.06-2.06.94zm-11 1L8.5 8.5l.94-2.06 2.06-.94-2.06-.94L8.5 2.5l-.94 2.06-2.06.94zm10 10l.94 2.06.94-2.06 2.06-.94-2.06-.94-.94-2.06-.94 2.06-2.06.94z\"/><path d=\"M17.41 7.96l-1.37-1.37c-.4-.4-.92-.59-1.43-.59-.52 0-1.04.2-1.43.59L10.3 9.45l-7.72 7.72c-.78.78-.78 2.05 0 2.83L4 21.41c.39.39.9.59 1.41.59.51 0 1.02-.2 1.41-.59l7.78-7.78 2.81-2.81c.8-.78.8-2.07 0-2.86zM5.41 20L4 18.59l7.72-7.72 1.47 1.35L5.41 20z\"/>\n",
              "  </svg>\n",
              "      </button>\n",
              "      \n",
              "  <style>\n",
              "    .colab-df-container {\n",
              "      display:flex;\n",
              "      flex-wrap:wrap;\n",
              "      gap: 12px;\n",
              "    }\n",
              "\n",
              "    .colab-df-convert {\n",
              "      background-color: #E8F0FE;\n",
              "      border: none;\n",
              "      border-radius: 50%;\n",
              "      cursor: pointer;\n",
              "      display: none;\n",
              "      fill: #1967D2;\n",
              "      height: 32px;\n",
              "      padding: 0 0 0 0;\n",
              "      width: 32px;\n",
              "    }\n",
              "\n",
              "    .colab-df-convert:hover {\n",
              "      background-color: #E2EBFA;\n",
              "      box-shadow: 0px 1px 2px rgba(60, 64, 67, 0.3), 0px 1px 3px 1px rgba(60, 64, 67, 0.15);\n",
              "      fill: #174EA6;\n",
              "    }\n",
              "\n",
              "    [theme=dark] .colab-df-convert {\n",
              "      background-color: #3B4455;\n",
              "      fill: #D2E3FC;\n",
              "    }\n",
              "\n",
              "    [theme=dark] .colab-df-convert:hover {\n",
              "      background-color: #434B5C;\n",
              "      box-shadow: 0px 1px 3px 1px rgba(0, 0, 0, 0.15);\n",
              "      filter: drop-shadow(0px 1px 2px rgba(0, 0, 0, 0.3));\n",
              "      fill: #FFFFFF;\n",
              "    }\n",
              "  </style>\n",
              "\n",
              "      <script>\n",
              "        const buttonEl =\n",
              "          document.querySelector('#df-ad3b81dc-0bb2-4549-b051-ae1aa1618422 button.colab-df-convert');\n",
              "        buttonEl.style.display =\n",
              "          google.colab.kernel.accessAllowed ? 'block' : 'none';\n",
              "\n",
              "        async function convertToInteractive(key) {\n",
              "          const element = document.querySelector('#df-ad3b81dc-0bb2-4549-b051-ae1aa1618422');\n",
              "          const dataTable =\n",
              "            await google.colab.kernel.invokeFunction('convertToInteractive',\n",
              "                                                     [key], {});\n",
              "          if (!dataTable) return;\n",
              "\n",
              "          const docLinkHtml = 'Like what you see? Visit the ' +\n",
              "            '<a target=\"_blank\" href=https://colab.research.google.com/notebooks/data_table.ipynb>data table notebook</a>'\n",
              "            + ' to learn more about interactive tables.';\n",
              "          element.innerHTML = '';\n",
              "          dataTable['output_type'] = 'display_data';\n",
              "          await google.colab.output.renderOutput(dataTable, element);\n",
              "          const docLink = document.createElement('div');\n",
              "          docLink.innerHTML = docLinkHtml;\n",
              "          element.appendChild(docLink);\n",
              "        }\n",
              "      </script>\n",
              "    </div>\n",
              "  </div>\n",
              "  "
            ]
          },
          "metadata": {},
          "execution_count": 62
        }
      ]
    },
    {
      "cell_type": "code",
      "source": [
        "new_df = pd.DataFrame()"
      ],
      "metadata": {
        "id": "I0xvbeXacnJA"
      },
      "execution_count": null,
      "outputs": []
    },
    {
      "cell_type": "code",
      "source": [
        "for i in range(1999):\n",
        "  for j in range(478):\n",
        "    avg = abc_rows.loc[j+1:j+15, 'yield'].mean()\n",
        "    new_df.loc[j, '15D_'+train['종목명'][i]] = avg"
      ],
      "metadata": {
        "id": "FaVUKUYZek-A"
      },
      "execution_count": null,
      "outputs": []
    },
    {
      "cell_type": "code",
      "source": [
        "new_df.info()"
      ],
      "metadata": {
        "colab": {
          "base_uri": "https://localhost:8080/"
        },
        "id": "pPAyx3nskEvC",
        "outputId": "3fcaa773-606f-408a-e4de-bdca47a9e3be"
      },
      "execution_count": null,
      "outputs": [
        {
          "output_type": "stream",
          "name": "stdout",
          "text": [
            "<class 'pandas.core.frame.DataFrame'>\n",
            "Int64Index: 478 entries, 0 to 477\n",
            "Columns: 1999 entries, 15D_3S to 15D_희림\n",
            "dtypes: float64(1999)\n",
            "memory usage: 7.3 MB\n"
          ]
        }
      ]
    },
    {
      "cell_type": "code",
      "source": [
        "new_df.to_csv('15D_yield.csv', index=False)"
      ],
      "metadata": {
        "id": "ykItpKCckLzR"
      },
      "execution_count": null,
      "outputs": []
    },
    {
      "cell_type": "code",
      "source": [
        "for i in range(1999):\n",
        "  for j in range(463):\n",
        "    avg = abc_rows.loc[j+1:j+30, 'yield'].mean()\n",
        "    new_df.loc[j, '30D_'+train['종목명'][i]] = avg"
      ],
      "metadata": {
        "id": "O-if5yILkdzk"
      },
      "execution_count": null,
      "outputs": []
    },
    {
      "cell_type": "code",
      "source": [
        "for i in range(1999):\n",
        "  for j in range(448):\n",
        "    avg = abc_rows.loc[j+1:j+45, 'yield'].mean()\n",
        "    new_df.loc[j, '45D_'+train['종목명'][i]] = avg"
      ],
      "metadata": {
        "id": "OynmgRSald_h"
      },
      "execution_count": null,
      "outputs": []
    },
    {
      "cell_type": "code",
      "source": [
        "new_df.info()"
      ],
      "metadata": {
        "colab": {
          "base_uri": "https://localhost:8080/"
        },
        "id": "GQCL3OMAmDHn",
        "outputId": "dbc9f32e-29e7-4d6b-ce6e-4e5e9c9f68f6"
      },
      "execution_count": null,
      "outputs": [
        {
          "output_type": "stream",
          "name": "stdout",
          "text": [
            "<class 'pandas.core.frame.DataFrame'>\n",
            "Int64Index: 478 entries, 0 to 477\n",
            "Columns: 5997 entries, 15D_3S to 45D_희림\n",
            "dtypes: float64(5997)\n",
            "memory usage: 21.9 MB\n"
          ]
        }
      ]
    },
    {
      "cell_type": "code",
      "source": [
        "new_df.to_csv('15D_30D_45D_yield.csv', index=False)"
      ],
      "metadata": {
        "id": "licT1Q4VmTQp"
      },
      "execution_count": null,
      "outputs": []
    },
    {
      "cell_type": "markdown",
      "source": [
        "액면분할or액면합병된 주식들"
      ],
      "metadata": {
        "id": "Nk4bb9ri8i3D"
      }
    },
    {
      "cell_type": "code",
      "source": [
        "split_merger = pd.DataFrame(columns=['Type', '일자', '종목명','종가'])\n",
        "\n",
        "for i in range(986000):\n",
        "    closing_yesterday = train.loc[i, '종가']\n",
        "    closing_current = train.loc[i+2000, '종가']\n",
        "    if closing_yesterday * 1.5 <= closing_current:\n",
        "        split_merger = split_merger.append({'Type': '액면합병', '일자': train.loc[i, '일자'], '종목명': train.loc[i, '종목명'],'종가': train.loc[i, '종가']}, ignore_index=True)\n",
        "    elif closing_current * 1.5 <= closing_yesterday:\n",
        "        split_merger = split_merger.append({'Type': '액면분할', '일자': train.loc[i, '일자'], '종목명': train.loc[i, '종목명'],'종가': train.loc[i, '종가']}, ignore_index=True)\n",
        "    else:\n",
        "        pass\n",
        "\n",
        "print(split_merger)"
      ],
      "metadata": {
        "id": "UgWjXHbcO-8d"
      },
      "execution_count": null,
      "outputs": []
    },
    {
      "cell_type": "code",
      "source": [
        "split_merger"
      ],
      "metadata": {
        "colab": {
          "base_uri": "https://localhost:8080/",
          "height": 423
        },
        "id": "DuaqsAD0PpIx",
        "outputId": "419b478b-2cdb-48da-81be-7b5a4aefd240"
      },
      "execution_count": null,
      "outputs": [
        {
          "output_type": "execute_result",
          "data": {
            "text/plain": [
              "     Type        일자     종목명     종가\n",
              "0    액면분할  20210602      레이  53100\n",
              "1    액면분할  20210602    영화테크  21900\n",
              "2    액면분할  20210614   알리코제약  14050\n",
              "3    액면분할  20210617  넥스턴바이오  17250\n",
              "4    액면합병  20210629  웨스트라이즈    310\n",
              "..    ...       ...     ...    ...\n",
              "196  액면합병  20230515    대한전선   1492\n",
              "197  액면합병  20230519     TYM   2490\n",
              "198  액면합병  20230522      국보    570\n",
              "199  액면분할  20230524    나우IB  12400\n",
              "200  액면분할  20230525  ITX-AI   2570\n",
              "\n",
              "[201 rows x 4 columns]"
            ],
            "text/html": [
              "\n",
              "  <div id=\"df-7f2aaa2c-792c-42fb-892b-f8aeb7b68795\">\n",
              "    <div class=\"colab-df-container\">\n",
              "      <div>\n",
              "<style scoped>\n",
              "    .dataframe tbody tr th:only-of-type {\n",
              "        vertical-align: middle;\n",
              "    }\n",
              "\n",
              "    .dataframe tbody tr th {\n",
              "        vertical-align: top;\n",
              "    }\n",
              "\n",
              "    .dataframe thead th {\n",
              "        text-align: right;\n",
              "    }\n",
              "</style>\n",
              "<table border=\"1\" class=\"dataframe\">\n",
              "  <thead>\n",
              "    <tr style=\"text-align: right;\">\n",
              "      <th></th>\n",
              "      <th>Type</th>\n",
              "      <th>일자</th>\n",
              "      <th>종목명</th>\n",
              "      <th>종가</th>\n",
              "    </tr>\n",
              "  </thead>\n",
              "  <tbody>\n",
              "    <tr>\n",
              "      <th>0</th>\n",
              "      <td>액면분할</td>\n",
              "      <td>20210602</td>\n",
              "      <td>레이</td>\n",
              "      <td>53100</td>\n",
              "    </tr>\n",
              "    <tr>\n",
              "      <th>1</th>\n",
              "      <td>액면분할</td>\n",
              "      <td>20210602</td>\n",
              "      <td>영화테크</td>\n",
              "      <td>21900</td>\n",
              "    </tr>\n",
              "    <tr>\n",
              "      <th>2</th>\n",
              "      <td>액면분할</td>\n",
              "      <td>20210614</td>\n",
              "      <td>알리코제약</td>\n",
              "      <td>14050</td>\n",
              "    </tr>\n",
              "    <tr>\n",
              "      <th>3</th>\n",
              "      <td>액면분할</td>\n",
              "      <td>20210617</td>\n",
              "      <td>넥스턴바이오</td>\n",
              "      <td>17250</td>\n",
              "    </tr>\n",
              "    <tr>\n",
              "      <th>4</th>\n",
              "      <td>액면합병</td>\n",
              "      <td>20210629</td>\n",
              "      <td>웨스트라이즈</td>\n",
              "      <td>310</td>\n",
              "    </tr>\n",
              "    <tr>\n",
              "      <th>...</th>\n",
              "      <td>...</td>\n",
              "      <td>...</td>\n",
              "      <td>...</td>\n",
              "      <td>...</td>\n",
              "    </tr>\n",
              "    <tr>\n",
              "      <th>196</th>\n",
              "      <td>액면합병</td>\n",
              "      <td>20230515</td>\n",
              "      <td>대한전선</td>\n",
              "      <td>1492</td>\n",
              "    </tr>\n",
              "    <tr>\n",
              "      <th>197</th>\n",
              "      <td>액면합병</td>\n",
              "      <td>20230519</td>\n",
              "      <td>TYM</td>\n",
              "      <td>2490</td>\n",
              "    </tr>\n",
              "    <tr>\n",
              "      <th>198</th>\n",
              "      <td>액면합병</td>\n",
              "      <td>20230522</td>\n",
              "      <td>국보</td>\n",
              "      <td>570</td>\n",
              "    </tr>\n",
              "    <tr>\n",
              "      <th>199</th>\n",
              "      <td>액면분할</td>\n",
              "      <td>20230524</td>\n",
              "      <td>나우IB</td>\n",
              "      <td>12400</td>\n",
              "    </tr>\n",
              "    <tr>\n",
              "      <th>200</th>\n",
              "      <td>액면분할</td>\n",
              "      <td>20230525</td>\n",
              "      <td>ITX-AI</td>\n",
              "      <td>2570</td>\n",
              "    </tr>\n",
              "  </tbody>\n",
              "</table>\n",
              "<p>201 rows × 4 columns</p>\n",
              "</div>\n",
              "      <button class=\"colab-df-convert\" onclick=\"convertToInteractive('df-7f2aaa2c-792c-42fb-892b-f8aeb7b68795')\"\n",
              "              title=\"Convert this dataframe to an interactive table.\"\n",
              "              style=\"display:none;\">\n",
              "        \n",
              "  <svg xmlns=\"http://www.w3.org/2000/svg\" height=\"24px\"viewBox=\"0 0 24 24\"\n",
              "       width=\"24px\">\n",
              "    <path d=\"M0 0h24v24H0V0z\" fill=\"none\"/>\n",
              "    <path d=\"M18.56 5.44l.94 2.06.94-2.06 2.06-.94-2.06-.94-.94-2.06-.94 2.06-2.06.94zm-11 1L8.5 8.5l.94-2.06 2.06-.94-2.06-.94L8.5 2.5l-.94 2.06-2.06.94zm10 10l.94 2.06.94-2.06 2.06-.94-2.06-.94-.94-2.06-.94 2.06-2.06.94z\"/><path d=\"M17.41 7.96l-1.37-1.37c-.4-.4-.92-.59-1.43-.59-.52 0-1.04.2-1.43.59L10.3 9.45l-7.72 7.72c-.78.78-.78 2.05 0 2.83L4 21.41c.39.39.9.59 1.41.59.51 0 1.02-.2 1.41-.59l7.78-7.78 2.81-2.81c.8-.78.8-2.07 0-2.86zM5.41 20L4 18.59l7.72-7.72 1.47 1.35L5.41 20z\"/>\n",
              "  </svg>\n",
              "      </button>\n",
              "      \n",
              "  <style>\n",
              "    .colab-df-container {\n",
              "      display:flex;\n",
              "      flex-wrap:wrap;\n",
              "      gap: 12px;\n",
              "    }\n",
              "\n",
              "    .colab-df-convert {\n",
              "      background-color: #E8F0FE;\n",
              "      border: none;\n",
              "      border-radius: 50%;\n",
              "      cursor: pointer;\n",
              "      display: none;\n",
              "      fill: #1967D2;\n",
              "      height: 32px;\n",
              "      padding: 0 0 0 0;\n",
              "      width: 32px;\n",
              "    }\n",
              "\n",
              "    .colab-df-convert:hover {\n",
              "      background-color: #E2EBFA;\n",
              "      box-shadow: 0px 1px 2px rgba(60, 64, 67, 0.3), 0px 1px 3px 1px rgba(60, 64, 67, 0.15);\n",
              "      fill: #174EA6;\n",
              "    }\n",
              "\n",
              "    [theme=dark] .colab-df-convert {\n",
              "      background-color: #3B4455;\n",
              "      fill: #D2E3FC;\n",
              "    }\n",
              "\n",
              "    [theme=dark] .colab-df-convert:hover {\n",
              "      background-color: #434B5C;\n",
              "      box-shadow: 0px 1px 3px 1px rgba(0, 0, 0, 0.15);\n",
              "      filter: drop-shadow(0px 1px 2px rgba(0, 0, 0, 0.3));\n",
              "      fill: #FFFFFF;\n",
              "    }\n",
              "  </style>\n",
              "\n",
              "      <script>\n",
              "        const buttonEl =\n",
              "          document.querySelector('#df-7f2aaa2c-792c-42fb-892b-f8aeb7b68795 button.colab-df-convert');\n",
              "        buttonEl.style.display =\n",
              "          google.colab.kernel.accessAllowed ? 'block' : 'none';\n",
              "\n",
              "        async function convertToInteractive(key) {\n",
              "          const element = document.querySelector('#df-7f2aaa2c-792c-42fb-892b-f8aeb7b68795');\n",
              "          const dataTable =\n",
              "            await google.colab.kernel.invokeFunction('convertToInteractive',\n",
              "                                                     [key], {});\n",
              "          if (!dataTable) return;\n",
              "\n",
              "          const docLinkHtml = 'Like what you see? Visit the ' +\n",
              "            '<a target=\"_blank\" href=https://colab.research.google.com/notebooks/data_table.ipynb>data table notebook</a>'\n",
              "            + ' to learn more about interactive tables.';\n",
              "          element.innerHTML = '';\n",
              "          dataTable['output_type'] = 'display_data';\n",
              "          await google.colab.output.renderOutput(dataTable, element);\n",
              "          const docLink = document.createElement('div');\n",
              "          docLink.innerHTML = docLinkHtml;\n",
              "          element.appendChild(docLink);\n",
              "        }\n",
              "      </script>\n",
              "    </div>\n",
              "  </div>\n",
              "  "
            ]
          },
          "metadata": {},
          "execution_count": 53
        }
      ]
    },
    {
      "cell_type": "code",
      "source": [
        "split_merger['종목명'].value_counts()"
      ],
      "metadata": {
        "colab": {
          "base_uri": "https://localhost:8080/"
        },
        "id": "k_S1jAhUREDr",
        "outputId": "c47e76d8-f0c3-44a5-e6f6-7b15b3057357"
      },
      "execution_count": null,
      "outputs": [
        {
          "output_type": "execute_result",
          "data": {
            "text/plain": [
              "어스앤에어로스페이스    3\n",
              "이엠앤아이         2\n",
              "CBI           2\n",
              "테크엘           2\n",
              "에스맥           2\n",
              "             ..\n",
              "이오플로우         1\n",
              "판타지오          1\n",
              "에이프로          1\n",
              "대창단조          1\n",
              "나우IB          1\n",
              "Name: 종목명, Length: 184, dtype: int64"
            ]
          },
          "metadata": {},
          "execution_count": 45
        }
      ]
    },
    {
      "cell_type": "code",
      "source": [
        "value_counts = split_merger['종목명'].value_counts()\n",
        "extracted_values = value_counts[value_counts >= 2].index.tolist()\n",
        "extracted_values"
      ],
      "metadata": {
        "colab": {
          "base_uri": "https://localhost:8080/"
        },
        "id": "f2XCBbfnTCsa",
        "outputId": "1d407b30-0410-4d6b-db3b-c720b82b88d9"
      },
      "execution_count": null,
      "outputs": [
        {
          "output_type": "execute_result",
          "data": {
            "text/plain": [
              "['어스앤에어로스페이스',\n",
              " '이엠앤아이',\n",
              " 'CBI',\n",
              " '테크엘',\n",
              " '에스맥',\n",
              " '메디콕스',\n",
              " '하이소닉',\n",
              " 'KG모빌리티',\n",
              " 'MDS테크',\n",
              " 'ITX-AI',\n",
              " '에스엠벡셀',\n",
              " '이브이첨단소재',\n",
              " '모트렉스',\n",
              " '큐브엔터',\n",
              " '넥스턴바이오',\n",
              " '흥아해운']"
            ]
          },
          "metadata": {},
          "execution_count": 47
        }
      ]
    },
    {
      "cell_type": "code",
      "source": [
        "extracted_rows = split_merger[split_merger['종목명'].isin(extracted_values)]\n",
        "extracted_rows"
      ],
      "metadata": {
        "colab": {
          "base_uri": "https://localhost:8080/",
          "height": 1000
        },
        "id": "Qlf_4PYeTYLr",
        "outputId": "b58244d7-3593-4d99-bce0-dae373d6cd56"
      },
      "execution_count": null,
      "outputs": [
        {
          "output_type": "execute_result",
          "data": {
            "text/plain": [
              "     Type        일자         종목명     종가\n",
              "3    액면분할  20210617      넥스턴바이오  17250\n",
              "5    액면합병  20210701        큐브엔터   4625\n",
              "7    액면합병  20210707        흥아해운    258\n",
              "13   액면분할  20210721        큐브엔터  27850\n",
              "14   액면분할  20210727         CBI  22750\n",
              "23   액면분할  20210824     이브이첨단소재   4950\n",
              "34   액면합병  20210914        흥아해운   1035\n",
              "40   액면합병  20211012  어스앤에어로스페이스   2015\n",
              "41   액면합병  20211015       에스엠벡셀    306\n",
              "50   액면합병  20211112       이엠앤아이   1390\n",
              "68   액면합병  20220110        하이소닉   3110\n",
              "74   액면합병  20220222         에스맥    747\n",
              "80   액면분할  20220316  어스앤에어로스페이스  40300\n",
              "81   액면합병  20220321         테크엘    944\n",
              "102  액면합병  20220428        모트렉스   5950\n",
              "116  액면분할  20220531        모트렉스  36600\n",
              "128  액면합병  20220714        메디콕스    540\n",
              "136  액면분할  20220810         테크엘   9450\n",
              "137  액면분할  20220811         CBI   2010\n",
              "142  액면합병  20220907       에스엠벡셀   1530\n",
              "147  액면분할  20220928         에스맥   3385\n",
              "150  액면합병  20221014      KG모빌리티   2770\n",
              "151  액면분할  20221028       MDS테크  14450\n",
              "153  액면합병  20221108       이엠앤아이   2995\n",
              "155  액면분할  20221115        메디콕스   7970\n",
              "158  액면합병  20221125      ITX-AI   1285\n",
              "165  액면합병  20230102     이브이첨단소재    953\n",
              "166  액면분할  20230106       MDS테크   7080\n",
              "173  액면분할  20230317  어스앤에어로스페이스  10880\n",
              "175  액면합병  20230327        하이소닉   4060\n",
              "188  액면합병  20230427      KG모빌리티   8760\n",
              "192  액면합병  20230503      넥스턴바이오   2605\n",
              "200  액면분할  20230525      ITX-AI   2570"
            ],
            "text/html": [
              "\n",
              "  <div id=\"df-b19c888e-7240-4781-ae6e-eb969212bf00\">\n",
              "    <div class=\"colab-df-container\">\n",
              "      <div>\n",
              "<style scoped>\n",
              "    .dataframe tbody tr th:only-of-type {\n",
              "        vertical-align: middle;\n",
              "    }\n",
              "\n",
              "    .dataframe tbody tr th {\n",
              "        vertical-align: top;\n",
              "    }\n",
              "\n",
              "    .dataframe thead th {\n",
              "        text-align: right;\n",
              "    }\n",
              "</style>\n",
              "<table border=\"1\" class=\"dataframe\">\n",
              "  <thead>\n",
              "    <tr style=\"text-align: right;\">\n",
              "      <th></th>\n",
              "      <th>Type</th>\n",
              "      <th>일자</th>\n",
              "      <th>종목명</th>\n",
              "      <th>종가</th>\n",
              "    </tr>\n",
              "  </thead>\n",
              "  <tbody>\n",
              "    <tr>\n",
              "      <th>3</th>\n",
              "      <td>액면분할</td>\n",
              "      <td>20210617</td>\n",
              "      <td>넥스턴바이오</td>\n",
              "      <td>17250</td>\n",
              "    </tr>\n",
              "    <tr>\n",
              "      <th>5</th>\n",
              "      <td>액면합병</td>\n",
              "      <td>20210701</td>\n",
              "      <td>큐브엔터</td>\n",
              "      <td>4625</td>\n",
              "    </tr>\n",
              "    <tr>\n",
              "      <th>7</th>\n",
              "      <td>액면합병</td>\n",
              "      <td>20210707</td>\n",
              "      <td>흥아해운</td>\n",
              "      <td>258</td>\n",
              "    </tr>\n",
              "    <tr>\n",
              "      <th>13</th>\n",
              "      <td>액면분할</td>\n",
              "      <td>20210721</td>\n",
              "      <td>큐브엔터</td>\n",
              "      <td>27850</td>\n",
              "    </tr>\n",
              "    <tr>\n",
              "      <th>14</th>\n",
              "      <td>액면분할</td>\n",
              "      <td>20210727</td>\n",
              "      <td>CBI</td>\n",
              "      <td>22750</td>\n",
              "    </tr>\n",
              "    <tr>\n",
              "      <th>23</th>\n",
              "      <td>액면분할</td>\n",
              "      <td>20210824</td>\n",
              "      <td>이브이첨단소재</td>\n",
              "      <td>4950</td>\n",
              "    </tr>\n",
              "    <tr>\n",
              "      <th>34</th>\n",
              "      <td>액면합병</td>\n",
              "      <td>20210914</td>\n",
              "      <td>흥아해운</td>\n",
              "      <td>1035</td>\n",
              "    </tr>\n",
              "    <tr>\n",
              "      <th>40</th>\n",
              "      <td>액면합병</td>\n",
              "      <td>20211012</td>\n",
              "      <td>어스앤에어로스페이스</td>\n",
              "      <td>2015</td>\n",
              "    </tr>\n",
              "    <tr>\n",
              "      <th>41</th>\n",
              "      <td>액면합병</td>\n",
              "      <td>20211015</td>\n",
              "      <td>에스엠벡셀</td>\n",
              "      <td>306</td>\n",
              "    </tr>\n",
              "    <tr>\n",
              "      <th>50</th>\n",
              "      <td>액면합병</td>\n",
              "      <td>20211112</td>\n",
              "      <td>이엠앤아이</td>\n",
              "      <td>1390</td>\n",
              "    </tr>\n",
              "    <tr>\n",
              "      <th>68</th>\n",
              "      <td>액면합병</td>\n",
              "      <td>20220110</td>\n",
              "      <td>하이소닉</td>\n",
              "      <td>3110</td>\n",
              "    </tr>\n",
              "    <tr>\n",
              "      <th>74</th>\n",
              "      <td>액면합병</td>\n",
              "      <td>20220222</td>\n",
              "      <td>에스맥</td>\n",
              "      <td>747</td>\n",
              "    </tr>\n",
              "    <tr>\n",
              "      <th>80</th>\n",
              "      <td>액면분할</td>\n",
              "      <td>20220316</td>\n",
              "      <td>어스앤에어로스페이스</td>\n",
              "      <td>40300</td>\n",
              "    </tr>\n",
              "    <tr>\n",
              "      <th>81</th>\n",
              "      <td>액면합병</td>\n",
              "      <td>20220321</td>\n",
              "      <td>테크엘</td>\n",
              "      <td>944</td>\n",
              "    </tr>\n",
              "    <tr>\n",
              "      <th>102</th>\n",
              "      <td>액면합병</td>\n",
              "      <td>20220428</td>\n",
              "      <td>모트렉스</td>\n",
              "      <td>5950</td>\n",
              "    </tr>\n",
              "    <tr>\n",
              "      <th>116</th>\n",
              "      <td>액면분할</td>\n",
              "      <td>20220531</td>\n",
              "      <td>모트렉스</td>\n",
              "      <td>36600</td>\n",
              "    </tr>\n",
              "    <tr>\n",
              "      <th>128</th>\n",
              "      <td>액면합병</td>\n",
              "      <td>20220714</td>\n",
              "      <td>메디콕스</td>\n",
              "      <td>540</td>\n",
              "    </tr>\n",
              "    <tr>\n",
              "      <th>136</th>\n",
              "      <td>액면분할</td>\n",
              "      <td>20220810</td>\n",
              "      <td>테크엘</td>\n",
              "      <td>9450</td>\n",
              "    </tr>\n",
              "    <tr>\n",
              "      <th>137</th>\n",
              "      <td>액면분할</td>\n",
              "      <td>20220811</td>\n",
              "      <td>CBI</td>\n",
              "      <td>2010</td>\n",
              "    </tr>\n",
              "    <tr>\n",
              "      <th>142</th>\n",
              "      <td>액면합병</td>\n",
              "      <td>20220907</td>\n",
              "      <td>에스엠벡셀</td>\n",
              "      <td>1530</td>\n",
              "    </tr>\n",
              "    <tr>\n",
              "      <th>147</th>\n",
              "      <td>액면분할</td>\n",
              "      <td>20220928</td>\n",
              "      <td>에스맥</td>\n",
              "      <td>3385</td>\n",
              "    </tr>\n",
              "    <tr>\n",
              "      <th>150</th>\n",
              "      <td>액면합병</td>\n",
              "      <td>20221014</td>\n",
              "      <td>KG모빌리티</td>\n",
              "      <td>2770</td>\n",
              "    </tr>\n",
              "    <tr>\n",
              "      <th>151</th>\n",
              "      <td>액면분할</td>\n",
              "      <td>20221028</td>\n",
              "      <td>MDS테크</td>\n",
              "      <td>14450</td>\n",
              "    </tr>\n",
              "    <tr>\n",
              "      <th>153</th>\n",
              "      <td>액면합병</td>\n",
              "      <td>20221108</td>\n",
              "      <td>이엠앤아이</td>\n",
              "      <td>2995</td>\n",
              "    </tr>\n",
              "    <tr>\n",
              "      <th>155</th>\n",
              "      <td>액면분할</td>\n",
              "      <td>20221115</td>\n",
              "      <td>메디콕스</td>\n",
              "      <td>7970</td>\n",
              "    </tr>\n",
              "    <tr>\n",
              "      <th>158</th>\n",
              "      <td>액면합병</td>\n",
              "      <td>20221125</td>\n",
              "      <td>ITX-AI</td>\n",
              "      <td>1285</td>\n",
              "    </tr>\n",
              "    <tr>\n",
              "      <th>165</th>\n",
              "      <td>액면합병</td>\n",
              "      <td>20230102</td>\n",
              "      <td>이브이첨단소재</td>\n",
              "      <td>953</td>\n",
              "    </tr>\n",
              "    <tr>\n",
              "      <th>166</th>\n",
              "      <td>액면분할</td>\n",
              "      <td>20230106</td>\n",
              "      <td>MDS테크</td>\n",
              "      <td>7080</td>\n",
              "    </tr>\n",
              "    <tr>\n",
              "      <th>173</th>\n",
              "      <td>액면분할</td>\n",
              "      <td>20230317</td>\n",
              "      <td>어스앤에어로스페이스</td>\n",
              "      <td>10880</td>\n",
              "    </tr>\n",
              "    <tr>\n",
              "      <th>175</th>\n",
              "      <td>액면합병</td>\n",
              "      <td>20230327</td>\n",
              "      <td>하이소닉</td>\n",
              "      <td>4060</td>\n",
              "    </tr>\n",
              "    <tr>\n",
              "      <th>188</th>\n",
              "      <td>액면합병</td>\n",
              "      <td>20230427</td>\n",
              "      <td>KG모빌리티</td>\n",
              "      <td>8760</td>\n",
              "    </tr>\n",
              "    <tr>\n",
              "      <th>192</th>\n",
              "      <td>액면합병</td>\n",
              "      <td>20230503</td>\n",
              "      <td>넥스턴바이오</td>\n",
              "      <td>2605</td>\n",
              "    </tr>\n",
              "    <tr>\n",
              "      <th>200</th>\n",
              "      <td>액면분할</td>\n",
              "      <td>20230525</td>\n",
              "      <td>ITX-AI</td>\n",
              "      <td>2570</td>\n",
              "    </tr>\n",
              "  </tbody>\n",
              "</table>\n",
              "</div>\n",
              "      <button class=\"colab-df-convert\" onclick=\"convertToInteractive('df-b19c888e-7240-4781-ae6e-eb969212bf00')\"\n",
              "              title=\"Convert this dataframe to an interactive table.\"\n",
              "              style=\"display:none;\">\n",
              "        \n",
              "  <svg xmlns=\"http://www.w3.org/2000/svg\" height=\"24px\"viewBox=\"0 0 24 24\"\n",
              "       width=\"24px\">\n",
              "    <path d=\"M0 0h24v24H0V0z\" fill=\"none\"/>\n",
              "    <path d=\"M18.56 5.44l.94 2.06.94-2.06 2.06-.94-2.06-.94-.94-2.06-.94 2.06-2.06.94zm-11 1L8.5 8.5l.94-2.06 2.06-.94-2.06-.94L8.5 2.5l-.94 2.06-2.06.94zm10 10l.94 2.06.94-2.06 2.06-.94-2.06-.94-.94-2.06-.94 2.06-2.06.94z\"/><path d=\"M17.41 7.96l-1.37-1.37c-.4-.4-.92-.59-1.43-.59-.52 0-1.04.2-1.43.59L10.3 9.45l-7.72 7.72c-.78.78-.78 2.05 0 2.83L4 21.41c.39.39.9.59 1.41.59.51 0 1.02-.2 1.41-.59l7.78-7.78 2.81-2.81c.8-.78.8-2.07 0-2.86zM5.41 20L4 18.59l7.72-7.72 1.47 1.35L5.41 20z\"/>\n",
              "  </svg>\n",
              "      </button>\n",
              "      \n",
              "  <style>\n",
              "    .colab-df-container {\n",
              "      display:flex;\n",
              "      flex-wrap:wrap;\n",
              "      gap: 12px;\n",
              "    }\n",
              "\n",
              "    .colab-df-convert {\n",
              "      background-color: #E8F0FE;\n",
              "      border: none;\n",
              "      border-radius: 50%;\n",
              "      cursor: pointer;\n",
              "      display: none;\n",
              "      fill: #1967D2;\n",
              "      height: 32px;\n",
              "      padding: 0 0 0 0;\n",
              "      width: 32px;\n",
              "    }\n",
              "\n",
              "    .colab-df-convert:hover {\n",
              "      background-color: #E2EBFA;\n",
              "      box-shadow: 0px 1px 2px rgba(60, 64, 67, 0.3), 0px 1px 3px 1px rgba(60, 64, 67, 0.15);\n",
              "      fill: #174EA6;\n",
              "    }\n",
              "\n",
              "    [theme=dark] .colab-df-convert {\n",
              "      background-color: #3B4455;\n",
              "      fill: #D2E3FC;\n",
              "    }\n",
              "\n",
              "    [theme=dark] .colab-df-convert:hover {\n",
              "      background-color: #434B5C;\n",
              "      box-shadow: 0px 1px 3px 1px rgba(0, 0, 0, 0.15);\n",
              "      filter: drop-shadow(0px 1px 2px rgba(0, 0, 0, 0.3));\n",
              "      fill: #FFFFFF;\n",
              "    }\n",
              "  </style>\n",
              "\n",
              "      <script>\n",
              "        const buttonEl =\n",
              "          document.querySelector('#df-b19c888e-7240-4781-ae6e-eb969212bf00 button.colab-df-convert');\n",
              "        buttonEl.style.display =\n",
              "          google.colab.kernel.accessAllowed ? 'block' : 'none';\n",
              "\n",
              "        async function convertToInteractive(key) {\n",
              "          const element = document.querySelector('#df-b19c888e-7240-4781-ae6e-eb969212bf00');\n",
              "          const dataTable =\n",
              "            await google.colab.kernel.invokeFunction('convertToInteractive',\n",
              "                                                     [key], {});\n",
              "          if (!dataTable) return;\n",
              "\n",
              "          const docLinkHtml = 'Like what you see? Visit the ' +\n",
              "            '<a target=\"_blank\" href=https://colab.research.google.com/notebooks/data_table.ipynb>data table notebook</a>'\n",
              "            + ' to learn more about interactive tables.';\n",
              "          element.innerHTML = '';\n",
              "          dataTable['output_type'] = 'display_data';\n",
              "          await google.colab.output.renderOutput(dataTable, element);\n",
              "          const docLink = document.createElement('div');\n",
              "          docLink.innerHTML = docLinkHtml;\n",
              "          element.appendChild(docLink);\n",
              "        }\n",
              "      </script>\n",
              "    </div>\n",
              "  </div>\n",
              "  "
            ]
          },
          "metadata": {},
          "execution_count": 54
        }
      ]
    },
    {
      "cell_type": "code",
      "source": [
        "a = train[(train['종목명'] == '넥스턴바이오') & (train['일자'] == 20210618)]\n",
        "a"
      ],
      "metadata": {
        "colab": {
          "base_uri": "https://localhost:8080/",
          "height": 80
        },
        "id": "1QfPpxk9UdnN",
        "outputId": "57db6d10-9bd2-47d8-d9f0-8bf5a56ac952"
      },
      "execution_count": null,
      "outputs": [
        {
          "output_type": "execute_result",
          "data": {
            "text/plain": [
              "             일자     종목코드     종목명      거래량    시가    고가    저가    종가\n",
              "26339  20210618  A089140  넥스턴바이오  2563676  6740  6900  6380  6650"
            ],
            "text/html": [
              "\n",
              "  <div id=\"df-0fe699ac-057b-4ff7-b6af-d995c859d5e9\">\n",
              "    <div class=\"colab-df-container\">\n",
              "      <div>\n",
              "<style scoped>\n",
              "    .dataframe tbody tr th:only-of-type {\n",
              "        vertical-align: middle;\n",
              "    }\n",
              "\n",
              "    .dataframe tbody tr th {\n",
              "        vertical-align: top;\n",
              "    }\n",
              "\n",
              "    .dataframe thead th {\n",
              "        text-align: right;\n",
              "    }\n",
              "</style>\n",
              "<table border=\"1\" class=\"dataframe\">\n",
              "  <thead>\n",
              "    <tr style=\"text-align: right;\">\n",
              "      <th></th>\n",
              "      <th>일자</th>\n",
              "      <th>종목코드</th>\n",
              "      <th>종목명</th>\n",
              "      <th>거래량</th>\n",
              "      <th>시가</th>\n",
              "      <th>고가</th>\n",
              "      <th>저가</th>\n",
              "      <th>종가</th>\n",
              "    </tr>\n",
              "  </thead>\n",
              "  <tbody>\n",
              "    <tr>\n",
              "      <th>26339</th>\n",
              "      <td>20210618</td>\n",
              "      <td>A089140</td>\n",
              "      <td>넥스턴바이오</td>\n",
              "      <td>2563676</td>\n",
              "      <td>6740</td>\n",
              "      <td>6900</td>\n",
              "      <td>6380</td>\n",
              "      <td>6650</td>\n",
              "    </tr>\n",
              "  </tbody>\n",
              "</table>\n",
              "</div>\n",
              "      <button class=\"colab-df-convert\" onclick=\"convertToInteractive('df-0fe699ac-057b-4ff7-b6af-d995c859d5e9')\"\n",
              "              title=\"Convert this dataframe to an interactive table.\"\n",
              "              style=\"display:none;\">\n",
              "        \n",
              "  <svg xmlns=\"http://www.w3.org/2000/svg\" height=\"24px\"viewBox=\"0 0 24 24\"\n",
              "       width=\"24px\">\n",
              "    <path d=\"M0 0h24v24H0V0z\" fill=\"none\"/>\n",
              "    <path d=\"M18.56 5.44l.94 2.06.94-2.06 2.06-.94-2.06-.94-.94-2.06-.94 2.06-2.06.94zm-11 1L8.5 8.5l.94-2.06 2.06-.94-2.06-.94L8.5 2.5l-.94 2.06-2.06.94zm10 10l.94 2.06.94-2.06 2.06-.94-2.06-.94-.94-2.06-.94 2.06-2.06.94z\"/><path d=\"M17.41 7.96l-1.37-1.37c-.4-.4-.92-.59-1.43-.59-.52 0-1.04.2-1.43.59L10.3 9.45l-7.72 7.72c-.78.78-.78 2.05 0 2.83L4 21.41c.39.39.9.59 1.41.59.51 0 1.02-.2 1.41-.59l7.78-7.78 2.81-2.81c.8-.78.8-2.07 0-2.86zM5.41 20L4 18.59l7.72-7.72 1.47 1.35L5.41 20z\"/>\n",
              "  </svg>\n",
              "      </button>\n",
              "      \n",
              "  <style>\n",
              "    .colab-df-container {\n",
              "      display:flex;\n",
              "      flex-wrap:wrap;\n",
              "      gap: 12px;\n",
              "    }\n",
              "\n",
              "    .colab-df-convert {\n",
              "      background-color: #E8F0FE;\n",
              "      border: none;\n",
              "      border-radius: 50%;\n",
              "      cursor: pointer;\n",
              "      display: none;\n",
              "      fill: #1967D2;\n",
              "      height: 32px;\n",
              "      padding: 0 0 0 0;\n",
              "      width: 32px;\n",
              "    }\n",
              "\n",
              "    .colab-df-convert:hover {\n",
              "      background-color: #E2EBFA;\n",
              "      box-shadow: 0px 1px 2px rgba(60, 64, 67, 0.3), 0px 1px 3px 1px rgba(60, 64, 67, 0.15);\n",
              "      fill: #174EA6;\n",
              "    }\n",
              "\n",
              "    [theme=dark] .colab-df-convert {\n",
              "      background-color: #3B4455;\n",
              "      fill: #D2E3FC;\n",
              "    }\n",
              "\n",
              "    [theme=dark] .colab-df-convert:hover {\n",
              "      background-color: #434B5C;\n",
              "      box-shadow: 0px 1px 3px 1px rgba(0, 0, 0, 0.15);\n",
              "      filter: drop-shadow(0px 1px 2px rgba(0, 0, 0, 0.3));\n",
              "      fill: #FFFFFF;\n",
              "    }\n",
              "  </style>\n",
              "\n",
              "      <script>\n",
              "        const buttonEl =\n",
              "          document.querySelector('#df-0fe699ac-057b-4ff7-b6af-d995c859d5e9 button.colab-df-convert');\n",
              "        buttonEl.style.display =\n",
              "          google.colab.kernel.accessAllowed ? 'block' : 'none';\n",
              "\n",
              "        async function convertToInteractive(key) {\n",
              "          const element = document.querySelector('#df-0fe699ac-057b-4ff7-b6af-d995c859d5e9');\n",
              "          const dataTable =\n",
              "            await google.colab.kernel.invokeFunction('convertToInteractive',\n",
              "                                                     [key], {});\n",
              "          if (!dataTable) return;\n",
              "\n",
              "          const docLinkHtml = 'Like what you see? Visit the ' +\n",
              "            '<a target=\"_blank\" href=https://colab.research.google.com/notebooks/data_table.ipynb>data table notebook</a>'\n",
              "            + ' to learn more about interactive tables.';\n",
              "          element.innerHTML = '';\n",
              "          dataTable['output_type'] = 'display_data';\n",
              "          await google.colab.output.renderOutput(dataTable, element);\n",
              "          const docLink = document.createElement('div');\n",
              "          docLink.innerHTML = docLinkHtml;\n",
              "          element.appendChild(docLink);\n",
              "        }\n",
              "      </script>\n",
              "    </div>\n",
              "  </div>\n",
              "  "
            ]
          },
          "metadata": {},
          "execution_count": 85
        }
      ]
    },
    {
      "cell_type": "code",
      "source": [
        "a = train[(train['종목명'] == '하이소닉') & (train['일자'] == 20230328)]\n",
        "a"
      ],
      "metadata": {
        "colab": {
          "base_uri": "https://localhost:8080/",
          "height": 80
        },
        "id": "ngxwvYX4UdkV",
        "outputId": "2f921038-af28-402e-c675-1e2a6906071f"
      },
      "execution_count": null,
      "outputs": [
        {
          "output_type": "execute_result",
          "data": {
            "text/plain": [
              "              일자     종목코드   종목명      거래량     시가     고가    저가    종가\n",
              "903799  20230328  A106080  하이소닉  2826564  11780  11780  8250  8250"
            ],
            "text/html": [
              "\n",
              "  <div id=\"df-34a9ba9a-360c-4dea-9899-b7cef26fed0f\">\n",
              "    <div class=\"colab-df-container\">\n",
              "      <div>\n",
              "<style scoped>\n",
              "    .dataframe tbody tr th:only-of-type {\n",
              "        vertical-align: middle;\n",
              "    }\n",
              "\n",
              "    .dataframe tbody tr th {\n",
              "        vertical-align: top;\n",
              "    }\n",
              "\n",
              "    .dataframe thead th {\n",
              "        text-align: right;\n",
              "    }\n",
              "</style>\n",
              "<table border=\"1\" class=\"dataframe\">\n",
              "  <thead>\n",
              "    <tr style=\"text-align: right;\">\n",
              "      <th></th>\n",
              "      <th>일자</th>\n",
              "      <th>종목코드</th>\n",
              "      <th>종목명</th>\n",
              "      <th>거래량</th>\n",
              "      <th>시가</th>\n",
              "      <th>고가</th>\n",
              "      <th>저가</th>\n",
              "      <th>종가</th>\n",
              "    </tr>\n",
              "  </thead>\n",
              "  <tbody>\n",
              "    <tr>\n",
              "      <th>903799</th>\n",
              "      <td>20230328</td>\n",
              "      <td>A106080</td>\n",
              "      <td>하이소닉</td>\n",
              "      <td>2826564</td>\n",
              "      <td>11780</td>\n",
              "      <td>11780</td>\n",
              "      <td>8250</td>\n",
              "      <td>8250</td>\n",
              "    </tr>\n",
              "  </tbody>\n",
              "</table>\n",
              "</div>\n",
              "      <button class=\"colab-df-convert\" onclick=\"convertToInteractive('df-34a9ba9a-360c-4dea-9899-b7cef26fed0f')\"\n",
              "              title=\"Convert this dataframe to an interactive table.\"\n",
              "              style=\"display:none;\">\n",
              "        \n",
              "  <svg xmlns=\"http://www.w3.org/2000/svg\" height=\"24px\"viewBox=\"0 0 24 24\"\n",
              "       width=\"24px\">\n",
              "    <path d=\"M0 0h24v24H0V0z\" fill=\"none\"/>\n",
              "    <path d=\"M18.56 5.44l.94 2.06.94-2.06 2.06-.94-2.06-.94-.94-2.06-.94 2.06-2.06.94zm-11 1L8.5 8.5l.94-2.06 2.06-.94-2.06-.94L8.5 2.5l-.94 2.06-2.06.94zm10 10l.94 2.06.94-2.06 2.06-.94-2.06-.94-.94-2.06-.94 2.06-2.06.94z\"/><path d=\"M17.41 7.96l-1.37-1.37c-.4-.4-.92-.59-1.43-.59-.52 0-1.04.2-1.43.59L10.3 9.45l-7.72 7.72c-.78.78-.78 2.05 0 2.83L4 21.41c.39.39.9.59 1.41.59.51 0 1.02-.2 1.41-.59l7.78-7.78 2.81-2.81c.8-.78.8-2.07 0-2.86zM5.41 20L4 18.59l7.72-7.72 1.47 1.35L5.41 20z\"/>\n",
              "  </svg>\n",
              "      </button>\n",
              "      \n",
              "  <style>\n",
              "    .colab-df-container {\n",
              "      display:flex;\n",
              "      flex-wrap:wrap;\n",
              "      gap: 12px;\n",
              "    }\n",
              "\n",
              "    .colab-df-convert {\n",
              "      background-color: #E8F0FE;\n",
              "      border: none;\n",
              "      border-radius: 50%;\n",
              "      cursor: pointer;\n",
              "      display: none;\n",
              "      fill: #1967D2;\n",
              "      height: 32px;\n",
              "      padding: 0 0 0 0;\n",
              "      width: 32px;\n",
              "    }\n",
              "\n",
              "    .colab-df-convert:hover {\n",
              "      background-color: #E2EBFA;\n",
              "      box-shadow: 0px 1px 2px rgba(60, 64, 67, 0.3), 0px 1px 3px 1px rgba(60, 64, 67, 0.15);\n",
              "      fill: #174EA6;\n",
              "    }\n",
              "\n",
              "    [theme=dark] .colab-df-convert {\n",
              "      background-color: #3B4455;\n",
              "      fill: #D2E3FC;\n",
              "    }\n",
              "\n",
              "    [theme=dark] .colab-df-convert:hover {\n",
              "      background-color: #434B5C;\n",
              "      box-shadow: 0px 1px 3px 1px rgba(0, 0, 0, 0.15);\n",
              "      filter: drop-shadow(0px 1px 2px rgba(0, 0, 0, 0.3));\n",
              "      fill: #FFFFFF;\n",
              "    }\n",
              "  </style>\n",
              "\n",
              "      <script>\n",
              "        const buttonEl =\n",
              "          document.querySelector('#df-34a9ba9a-360c-4dea-9899-b7cef26fed0f button.colab-df-convert');\n",
              "        buttonEl.style.display =\n",
              "          google.colab.kernel.accessAllowed ? 'block' : 'none';\n",
              "\n",
              "        async function convertToInteractive(key) {\n",
              "          const element = document.querySelector('#df-34a9ba9a-360c-4dea-9899-b7cef26fed0f');\n",
              "          const dataTable =\n",
              "            await google.colab.kernel.invokeFunction('convertToInteractive',\n",
              "                                                     [key], {});\n",
              "          if (!dataTable) return;\n",
              "\n",
              "          const docLinkHtml = 'Like what you see? Visit the ' +\n",
              "            '<a target=\"_blank\" href=https://colab.research.google.com/notebooks/data_table.ipynb>data table notebook</a>'\n",
              "            + ' to learn more about interactive tables.';\n",
              "          element.innerHTML = '';\n",
              "          dataTable['output_type'] = 'display_data';\n",
              "          await google.colab.output.renderOutput(dataTable, element);\n",
              "          const docLink = document.createElement('div');\n",
              "          docLink.innerHTML = docLinkHtml;\n",
              "          element.appendChild(docLink);\n",
              "        }\n",
              "      </script>\n",
              "    </div>\n",
              "  </div>\n",
              "  "
            ]
          },
          "metadata": {},
          "execution_count": 89
        }
      ]
    },
    {
      "cell_type": "code",
      "source": [],
      "metadata": {
        "id": "oqX12CiAUdiY"
      },
      "execution_count": null,
      "outputs": []
    },
    {
      "cell_type": "markdown",
      "source": [
        "관리종목 주식들 (거래중지)\n",
        "\n",
        "5/30일에 관리종목이면 포트폴리오에 제외해야 함\n",
        "\n",
        "거래중지가 된 종목     stock_names    205개\n",
        "\n",
        "시작부터 거래중지 종목 stock_names_f   48개\n",
        "\n",
        "**5/30일 거래중지 종목   stock_names_l   50개**\n",
        "\n",
        "전체기간 거래중지 종목 all             14개\n",
        "\n",
        "기간 중 거래중지 종목  stock_names_m  121개"
      ],
      "metadata": {
        "id": "6URDyCgt8oWP"
      }
    },
    {
      "cell_type": "code",
      "source": [
        "zero_closing_price_rows = train[train['시가'] == 0]"
      ],
      "metadata": {
        "id": "usJ9RgYjDXUj"
      },
      "execution_count": null,
      "outputs": []
    },
    {
      "cell_type": "code",
      "source": [
        "stock_names = zero_closing_price_rows['종목명'].unique()\n",
        "stock_names # len(stock_names) = 205"
      ],
      "metadata": {
        "colab": {
          "base_uri": "https://localhost:8080/"
        },
        "id": "yEJ8LOhpDc9R",
        "outputId": "471358db-458c-405c-dc03-999ff0b85adc"
      },
      "execution_count": null,
      "outputs": [
        {
          "output_type": "execute_result",
          "data": {
            "text/plain": [
              "array(['CNT85', 'DXVX', 'ITX-AI', 'KG모빌리티', '강원에너지', '골드앤에스', '내츄럴엔도텍',\n",
              "       '녹원씨엔아이', '대양제지', '디아크', '라이트론', '명성티엔에스', '비투엔', '성안', '세림B&G',\n",
              "       '세원물산', '세원정공', '세코닉스', '스킨앤스킨', '신라젠', '쎌마테라퓨틱스', '아시아나IDT',\n",
              "       '아시아나항공', '어스앤에어로스페이스', '에스에이티이엔지', '에스엠벡셀', '에어부산', '엔피', '엠젠솔루션',\n",
              "       '와이투솔루션', '웰킵스하이텍', '이엠앤아이', '이큐셀', '일월지엠엘', '좋은사람들', '청호ICT',\n",
              "       '커머스마이너', '컨버즈', '코센', '코스온', '큐리언트', '태웅', '테크엘', '프로이천', '하이딥',\n",
              "       '하이소닉', '휴엠앤씨', '흥아해운', '에스앤디', 'HDC랩스', '스마트솔루션즈', '웨스트라이즈',\n",
              "       '큐브엔터', '인카금융서비스', 'CBI', '블리츠웨이', '씨엔알리서치', '앤디포스', 'HD현대인프라코어',\n",
              "       '오리엔트바이오', '한솔아이원스', '하인크코리아', '누보', '삼성중공업', '이즈미디어', '파이버프로',\n",
              "       'HLB이노베이션', '쿠쿠홀딩스', '제주항공', '휴먼엔', '한일시멘트', '디와이디', '모비데이즈',\n",
              "       '나노씨엠에스', '세종메디칼', '웨이버스', '남양유업', 'FSN', '멜파스', '에코캡', '원텍',\n",
              "       '초록뱀이앤엠', '마니커', '프로테옴텍', '엠투엔', '위메이드맥스', 'SK텔레콤', '휴센텍', '베셀',\n",
              "       '광무', '디지캡', '제노코', '아이엠', '인트로메딕', '코이즈', '오스템임플란트', '판타지오', '태성',\n",
              "       '엔투텍', '대한전선', '에스맥', '대창단조', '세토피아', '계양전기', '이노시스', '안트로젠',\n",
              "       '선도전기', '시스웍', '피에이치씨', '오성첨단소재', '한송네오텍', '카나리아바이오', '포인트모바일',\n",
              "       '아세아시멘트', '한미반도체', '아이에스이커머스', '광주신세계', '신세계 I&C', '신세계인터내셔날',\n",
              "       '프로텍', 'F&F', '동원산업', '모트렉스', '일신바이오', '신영와코루', '밸로프', 'DI동일',\n",
              "       '다이나믹디자인', '바이온', '중앙디앤엠', '한일사료', '세종텔레콤', '그래디언트', '이아이디',\n",
              "       '초록뱀미디어', '소니드', '기산텔레콤', '한탑', 'HLB바이오스텝', '메디콕스', '카이노스메드',\n",
              "       '휴스틸', '에스티큐브', 'KC그린홀딩스', '휴림네트웍스', '코스텍시스', '하이드로리튬', '서울제약',\n",
              "       '어반리튬', 'MDS테크', '아이윈플러스', '유니드', '메타랩스', '인디에프', 'CSA 코스믹',\n",
              "       '이브이첨단소재', '에스씨엠생명과학', '에이프로젠', '코오롱글로벌', '코스나인', '광림', '뉴지랩파마',\n",
              "       '한국테크놀로지', '한화솔루션', '현대지에프홀딩스', '셀바스헬스케어', '버킷스튜디오', '골드퍼시픽',\n",
              "       '국일제지', '티엘아이', '에이프로젠 H&G', '셀리버리', '자이글', '비덴트', '인바이오젠', 'IHQ',\n",
              "       'KH 필룩스', '일신방직', '조선내화', '세원이앤씨', '한국수출포장', 'DH오토웨어', '넥스턴바이오',\n",
              "       '리더스 기술투자', '미래아이앤지', '알에프세미', '일성신약', '동원F&B', '소프트센', '프로스테믹스',\n",
              "       '알엔투테크놀로지', '신대양제지', '이화전기', 'OCI홀딩스', 'TYM', '대유', '이수화학',\n",
              "       '조광ILI', '국보', '삼화전자', '나우IB', 'DGP', '이트론', '현대약품', '동국제강'],\n",
              "      dtype=object)"
            ]
          },
          "metadata": {},
          "execution_count": 19
        }
      ]
    },
    {
      "cell_type": "code",
      "source": [
        "count_f = 0\n",
        "stock_names_f = set()\n",
        "\n",
        "for i in range(2000):\n",
        "    zero_price = train['시가'][i]\n",
        "    if zero_price == 0:\n",
        "        stock_name = train.loc[i, '종목명']\n",
        "        print(train.loc[i, '종목명'])\n",
        "        stock_names_f.add(stock_name)\n",
        "        count_f += 1\n",
        "    else:\n",
        "        pass\n",
        "\n",
        "print(\"Number of outputs:\", count_f) #48"
      ],
      "metadata": {
        "colab": {
          "base_uri": "https://localhost:8080/"
        },
        "id": "ik5lUo7jIfKI",
        "outputId": "82e5023e-8062-4530-a0b5-330d804a634c"
      },
      "execution_count": null,
      "outputs": [
        {
          "output_type": "stream",
          "name": "stdout",
          "text": [
            "CNT85\n",
            "DXVX\n",
            "ITX-AI\n",
            "KG모빌리티\n",
            "강원에너지\n",
            "골드앤에스\n",
            "내츄럴엔도텍\n",
            "녹원씨엔아이\n",
            "대양제지\n",
            "디아크\n",
            "라이트론\n",
            "명성티엔에스\n",
            "비투엔\n",
            "성안\n",
            "세림B&G\n",
            "세원물산\n",
            "세원정공\n",
            "세코닉스\n",
            "스킨앤스킨\n",
            "신라젠\n",
            "쎌마테라퓨틱스\n",
            "아시아나IDT\n",
            "아시아나항공\n",
            "어스앤에어로스페이스\n",
            "에스에이티이엔지\n",
            "에스엠벡셀\n",
            "에어부산\n",
            "엔피\n",
            "엠젠솔루션\n",
            "와이투솔루션\n",
            "웰킵스하이텍\n",
            "이엠앤아이\n",
            "이큐셀\n",
            "일월지엠엘\n",
            "좋은사람들\n",
            "청호ICT\n",
            "커머스마이너\n",
            "컨버즈\n",
            "코센\n",
            "코스온\n",
            "큐리언트\n",
            "태웅\n",
            "테크엘\n",
            "프로이천\n",
            "하이딥\n",
            "하이소닉\n",
            "휴엠앤씨\n",
            "흥아해운\n",
            "Number of outputs: 48\n"
          ]
        }
      ]
    },
    {
      "cell_type": "code",
      "source": [
        "count_l = 0\n",
        "stock_names_l = set()\n",
        "\n",
        "for i in reversed(range(len(train) - 2000, len(train))):\n",
        "    zero_price = train['시가'][i]\n",
        "    if zero_price == 0:\n",
        "        stock_name = train.loc[i, '종목명']\n",
        "        print(train.loc[i, '종목명'])\n",
        "        stock_names_l.add(stock_name)\n",
        "        count_l += 1\n",
        "    else:\n",
        "        pass\n",
        "\n",
        "print(\"Number of outputs:\", count_l) #50"
      ],
      "metadata": {
        "colab": {
          "base_uri": "https://localhost:8080/"
        },
        "id": "6wgyGK2eKgme",
        "outputId": "ad1842e8-fd0b-4f20-a75b-8055435981a0"
      },
      "execution_count": null,
      "outputs": [
        {
          "output_type": "stream",
          "name": "stdout",
          "text": [
            "휴센텍\n",
            "휴먼엔\n",
            "현대약품\n",
            "한송네오텍\n",
            "한국테크놀로지\n",
            "피에이치씨\n",
            "포인트모바일\n",
            "티엘아이\n",
            "코스온\n",
            "컨버즈\n",
            "커머스마이너\n",
            "청호ICT\n",
            "좋은사람들\n",
            "조광ILI\n",
            "일월지엠엘\n",
            "인트로메딕\n",
            "인바이오젠\n",
            "이화전기\n",
            "이트론\n",
            "이큐셀\n",
            "이즈미디어\n",
            "이아이디\n",
            "이수화학\n",
            "이노시스\n",
            "어스앤에어로스페이스\n",
            "앤디포스\n",
            "쎌마테라퓨틱스\n",
            "시스웍\n",
            "스마트솔루션즈\n",
            "셀리버리\n",
            "세원이앤씨\n",
            "선도전기\n",
            "비덴트\n",
            "버킷스튜디오\n",
            "명성티엔에스\n",
            "멜파스\n",
            "디아크\n",
            "동국제강\n",
            "대유\n",
            "대양제지\n",
            "뉴지랩파마\n",
            "녹원씨엔아이\n",
            "국일제지\n",
            "광림\n",
            "골드퍼시픽\n",
            "KH 필룩스\n",
            "ITX-AI\n",
            "IHQ\n",
            "DGP\n",
            "CBI\n",
            "Number of outputs: 50\n"
          ]
        }
      ]
    },
    {
      "cell_type": "code",
      "source": [
        "common_stock_names = stock_names_f.intersection(stock_names_l)\n",
        "print(\"Common stock names:\", common_stock_names)\n",
        "print(len(common_stock_names)) # 14"
      ],
      "metadata": {
        "colab": {
          "base_uri": "https://localhost:8080/"
        },
        "id": "OEYdbDHILIUn",
        "outputId": "b3415c07-0818-4ca4-a1c7-7a0ff67f7e24"
      },
      "execution_count": null,
      "outputs": [
        {
          "output_type": "stream",
          "name": "stdout",
          "text": [
            "Common stock names: {'일월지엠엘', '커머스마이너', '디아크', '쎌마테라퓨틱스', '컨버즈', '명성티엔에스', '녹원씨엔아이', '청호ICT', '좋은사람들', '대양제지', 'ITX-AI', '어스앤에어로스페이스', '이큐셀', '코스온'}\n",
            "14\n"
          ]
        }
      ]
    },
    {
      "cell_type": "code",
      "source": [
        "stock_names_m = set(stock_names) - set(stock_names_f)-set(stock_names_l)\n",
        "stock_names_m"
      ],
      "metadata": {
        "colab": {
          "base_uri": "https://localhost:8080/"
        },
        "id": "ZbpmElEeM9UT",
        "outputId": "532d1e82-f309-4d44-93ad-0daf2d066166"
      },
      "execution_count": null,
      "outputs": [
        {
          "output_type": "execute_result",
          "data": {
            "text/plain": [
              "{'CSA 코스믹',\n",
              " 'DH오토웨어',\n",
              " 'DI동일',\n",
              " 'F&F',\n",
              " 'FSN',\n",
              " 'HDC랩스',\n",
              " 'HD현대인프라코어',\n",
              " 'HLB바이오스텝',\n",
              " 'HLB이노베이션',\n",
              " 'KC그린홀딩스',\n",
              " 'MDS테크',\n",
              " 'OCI홀딩스',\n",
              " 'SK텔레콤',\n",
              " 'TYM',\n",
              " '계양전기',\n",
              " '광무',\n",
              " '광주신세계',\n",
              " '국보',\n",
              " '그래디언트',\n",
              " '기산텔레콤',\n",
              " '나노씨엠에스',\n",
              " '나우IB',\n",
              " '남양유업',\n",
              " '넥스턴바이오',\n",
              " '누보',\n",
              " '다이나믹디자인',\n",
              " '대창단조',\n",
              " '대한전선',\n",
              " '동원F&B',\n",
              " '동원산업',\n",
              " '디와이디',\n",
              " '디지캡',\n",
              " '리더스 기술투자',\n",
              " '마니커',\n",
              " '메디콕스',\n",
              " '메타랩스',\n",
              " '모비데이즈',\n",
              " '모트렉스',\n",
              " '미래아이앤지',\n",
              " '바이온',\n",
              " '밸로프',\n",
              " '베셀',\n",
              " '블리츠웨이',\n",
              " '삼성중공업',\n",
              " '삼화전자',\n",
              " '서울제약',\n",
              " '세종메디칼',\n",
              " '세종텔레콤',\n",
              " '세토피아',\n",
              " '셀바스헬스케어',\n",
              " '소니드',\n",
              " '소프트센',\n",
              " '신대양제지',\n",
              " '신세계 I&C',\n",
              " '신세계인터내셔날',\n",
              " '신영와코루',\n",
              " '씨엔알리서치',\n",
              " '아세아시멘트',\n",
              " '아이에스이커머스',\n",
              " '아이엠',\n",
              " '아이윈플러스',\n",
              " '안트로젠',\n",
              " '알에프세미',\n",
              " '알엔투테크놀로지',\n",
              " '어반리튬',\n",
              " '에스맥',\n",
              " '에스씨엠생명과학',\n",
              " '에스앤디',\n",
              " '에스티큐브',\n",
              " '에이프로젠',\n",
              " '에이프로젠 H&G',\n",
              " '에코캡',\n",
              " '엔투텍',\n",
              " '엠투엔',\n",
              " '오리엔트바이오',\n",
              " '오성첨단소재',\n",
              " '오스템임플란트',\n",
              " '원텍',\n",
              " '웨스트라이즈',\n",
              " '웨이버스',\n",
              " '위메이드맥스',\n",
              " '유니드',\n",
              " '이브이첨단소재',\n",
              " '인디에프',\n",
              " '인카금융서비스',\n",
              " '일성신약',\n",
              " '일신바이오',\n",
              " '일신방직',\n",
              " '자이글',\n",
              " '제노코',\n",
              " '제주항공',\n",
              " '조선내화',\n",
              " '중앙디앤엠',\n",
              " '초록뱀미디어',\n",
              " '초록뱀이앤엠',\n",
              " '카나리아바이오',\n",
              " '카이노스메드',\n",
              " '코스나인',\n",
              " '코스텍시스',\n",
              " '코오롱글로벌',\n",
              " '코이즈',\n",
              " '쿠쿠홀딩스',\n",
              " '큐브엔터',\n",
              " '태성',\n",
              " '파이버프로',\n",
              " '판타지오',\n",
              " '프로스테믹스',\n",
              " '프로테옴텍',\n",
              " '프로텍',\n",
              " '하이드로리튬',\n",
              " '하인크코리아',\n",
              " '한국수출포장',\n",
              " '한미반도체',\n",
              " '한솔아이원스',\n",
              " '한일사료',\n",
              " '한일시멘트',\n",
              " '한탑',\n",
              " '한화솔루션',\n",
              " '현대지에프홀딩스',\n",
              " '휴림네트웍스',\n",
              " '휴스틸'}"
            ]
          },
          "metadata": {},
          "execution_count": 36
        }
      ]
    },
    {
      "cell_type": "code",
      "source": [
        "len(set(stock_names) - set(stock_names_f)-set(stock_names_l))"
      ],
      "metadata": {
        "colab": {
          "base_uri": "https://localhost:8080/"
        },
        "id": "5jQ1cSxC--LO",
        "outputId": "54f1f258-c93f-4f8e-e478-5e4618353b04"
      },
      "execution_count": null,
      "outputs": [
        {
          "output_type": "execute_result",
          "data": {
            "text/plain": [
              "121"
            ]
          },
          "metadata": {},
          "execution_count": 32
        }
      ]
    },
    {
      "cell_type": "code",
      "source": [
        "!pip install onnx==1.8.1"
      ],
      "metadata": {
        "colab": {
          "base_uri": "https://localhost:8080/"
        },
        "id": "vMUuIyk7-W-1",
        "outputId": "7d88266f-29aa-4051-c729-13c4d9658c1f"
      },
      "execution_count": 20,
      "outputs": [
        {
          "output_type": "stream",
          "name": "stdout",
          "text": [
            "Collecting onnx==1.8.1\n",
            "  Downloading onnx-1.8.1.tar.gz (5.2 MB)\n",
            "\u001b[?25l     \u001b[90m━━━━━━━━━━━━━━━━━━━━━━━━━━━━━━━━━━━━━━━━\u001b[0m \u001b[32m0.0/5.2 MB\u001b[0m \u001b[31m?\u001b[0m eta \u001b[36m-:--:--\u001b[0m\r\u001b[2K     \u001b[91m━━\u001b[0m\u001b[90m╺\u001b[0m\u001b[90m━━━━━━━━━━━━━━━━━━━━━━━━━━━━━━━━━━━━━\u001b[0m \u001b[32m0.3/5.2 MB\u001b[0m \u001b[31m9.3 MB/s\u001b[0m eta \u001b[36m0:00:01\u001b[0m\r\u001b[2K     \u001b[91m━━━━━━━━━━━━━━━━━━━━━━\u001b[0m\u001b[91m╸\u001b[0m\u001b[90m━━━━━━━━━━━━━━━━━\u001b[0m \u001b[32m3.0/5.2 MB\u001b[0m \u001b[31m42.8 MB/s\u001b[0m eta \u001b[36m0:00:01\u001b[0m\r\u001b[2K     \u001b[91m━━━━━━━━━━━━━━━━━━━━━━━━━━━━━━━━━━━━━━━\u001b[0m\u001b[91m╸\u001b[0m \u001b[32m5.2/5.2 MB\u001b[0m \u001b[31m62.8 MB/s\u001b[0m eta \u001b[36m0:00:01\u001b[0m\r\u001b[2K     \u001b[90m━━━━━━━━━━━━━━━━━━━━━━━━━━━━━━━━━━━━━━━━\u001b[0m \u001b[32m5.2/5.2 MB\u001b[0m \u001b[31m47.6 MB/s\u001b[0m eta \u001b[36m0:00:00\u001b[0m\n",
            "\u001b[?25h  Installing build dependencies ... \u001b[?25l\u001b[?25hdone\n",
            "  Getting requirements to build wheel ... \u001b[?25l\u001b[?25hdone\n",
            "  Installing backend dependencies ... \u001b[?25l\u001b[?25hdone\n",
            "  Preparing metadata (pyproject.toml) ... \u001b[?25l\u001b[?25hdone\n",
            "Requirement already satisfied: protobuf in /usr/local/lib/python3.10/dist-packages (from onnx==1.8.1) (3.20.3)\n",
            "Requirement already satisfied: numpy>=1.16.6 in /usr/local/lib/python3.10/dist-packages (from onnx==1.8.1) (1.22.4)\n",
            "Requirement already satisfied: six in /usr/local/lib/python3.10/dist-packages (from onnx==1.8.1) (1.16.0)\n",
            "Requirement already satisfied: typing-extensions>=3.6.2.1 in /usr/local/lib/python3.10/dist-packages (from onnx==1.8.1) (4.7.1)\n",
            "Building wheels for collected packages: onnx\n",
            "  \u001b[1;31merror\u001b[0m: \u001b[1msubprocess-exited-with-error\u001b[0m\n",
            "  \n",
            "  \u001b[31m×\u001b[0m \u001b[32mBuilding wheel for onnx \u001b[0m\u001b[1;32m(\u001b[0m\u001b[32mpyproject.toml\u001b[0m\u001b[1;32m)\u001b[0m did not run successfully.\n",
            "  \u001b[31m│\u001b[0m exit code: \u001b[1;36m1\u001b[0m\n",
            "  \u001b[31m╰─>\u001b[0m See above for output.\n",
            "  \n",
            "  \u001b[1;35mnote\u001b[0m: This error originates from a subprocess, and is likely not a problem with pip.\n",
            "  Building wheel for onnx (pyproject.toml) ... \u001b[?25l\u001b[?25herror\n",
            "\u001b[31m  ERROR: Failed building wheel for onnx\u001b[0m\u001b[31m\n",
            "\u001b[0mFailed to build onnx\n",
            "\u001b[31mERROR: Could not build wheels for onnx, which is required to install pyproject.toml-based projects\u001b[0m\u001b[31m\n",
            "\u001b[0m"
          ]
        }
      ]
    },
    {
      "cell_type": "code",
      "source": [
        "!pip install cudf"
      ],
      "metadata": {
        "colab": {
          "base_uri": "https://localhost:8080/"
        },
        "id": "Oh8dzY0j7iW1",
        "outputId": "c65802c7-fda3-48b4-f27b-95701e35fd61"
      },
      "execution_count": 19,
      "outputs": [
        {
          "output_type": "stream",
          "name": "stdout",
          "text": [
            "Collecting cudf\n",
            "  Using cached cudf-0.6.1.post1.tar.gz (1.1 kB)\n",
            "  Preparing metadata (setup.py) ... \u001b[?25l\u001b[?25hdone\n",
            "Building wheels for collected packages: cudf\n",
            "  \u001b[1;31merror\u001b[0m: \u001b[1msubprocess-exited-with-error\u001b[0m\n",
            "  \n",
            "  \u001b[31m×\u001b[0m \u001b[32mpython setup.py bdist_wheel\u001b[0m did not run successfully.\n",
            "  \u001b[31m│\u001b[0m exit code: \u001b[1;36m1\u001b[0m\n",
            "  \u001b[31m╰─>\u001b[0m See above for output.\n",
            "  \n",
            "  \u001b[1;35mnote\u001b[0m: This error originates from a subprocess, and is likely not a problem with pip.\n",
            "  Building wheel for cudf (setup.py) ... \u001b[?25lerror\n",
            "\u001b[31m  ERROR: Failed building wheel for cudf\u001b[0m\u001b[31m\n",
            "\u001b[0m\u001b[?25h  Running setup.py clean for cudf\n",
            "Failed to build cudf\n",
            "\u001b[31mERROR: Could not build wheels for cudf, which is required to install pyproject.toml-based projects\u001b[0m\u001b[31m\n",
            "\u001b[0m"
          ]
        }
      ]
    },
    {
      "cell_type": "code",
      "source": [
        "!pip install pykrx"
      ],
      "metadata": {
        "colab": {
          "base_uri": "https://localhost:8080/"
        },
        "id": "Tn7ZGXGu1XfB",
        "outputId": "51103282-8c7b-4e2a-966b-2682ebe026b8"
      },
      "execution_count": 4,
      "outputs": [
        {
          "output_type": "stream",
          "name": "stdout",
          "text": [
            "Collecting pykrx\n",
            "  Downloading pykrx-1.0.44-py3-none-any.whl (2.2 MB)\n",
            "\u001b[?25l     \u001b[90m━━━━━━━━━━━━━━━━━━━━━━━━━━━━━━━━━━━━━━━━\u001b[0m \u001b[32m0.0/2.2 MB\u001b[0m \u001b[31m?\u001b[0m eta \u001b[36m-:--:--\u001b[0m\r\u001b[2K     \u001b[91m━━━━━━\u001b[0m\u001b[91m╸\u001b[0m\u001b[90m━━━━━━━━━━━━━━━━━━━━━━━━━━━━━━━━━\u001b[0m \u001b[32m0.4/2.2 MB\u001b[0m \u001b[31m10.9 MB/s\u001b[0m eta \u001b[36m0:00:01\u001b[0m\r\u001b[2K     \u001b[91m━━━━━━━━━━━━━━━━━━━━━━━━━━━━━━━━━━━━━━━\u001b[0m\u001b[91m╸\u001b[0m \u001b[32m2.2/2.2 MB\u001b[0m \u001b[31m36.8 MB/s\u001b[0m eta \u001b[36m0:00:01\u001b[0m\r\u001b[2K     \u001b[90m━━━━━━━━━━━━━━━━━━━━━━━━━━━━━━━━━━━━━━━━\u001b[0m \u001b[32m2.2/2.2 MB\u001b[0m \u001b[31m28.9 MB/s\u001b[0m eta \u001b[36m0:00:00\u001b[0m\n",
            "\u001b[?25hRequirement already satisfied: requests in /usr/local/lib/python3.10/dist-packages (from pykrx) (2.27.1)\n",
            "Requirement already satisfied: pandas in /usr/local/lib/python3.10/dist-packages (from pykrx) (1.5.3)\n",
            "Collecting datetime (from pykrx)\n",
            "  Downloading DateTime-5.1-py3-none-any.whl (52 kB)\n",
            "\u001b[?25l     \u001b[90m━━━━━━━━━━━━━━━━━━━━━━━━━━━━━━━━━━━━━━━━\u001b[0m \u001b[32m0.0/52.1 kB\u001b[0m \u001b[31m?\u001b[0m eta \u001b[36m-:--:--\u001b[0m\r\u001b[2K     \u001b[90m━━━━━━━━━━━━━━━━━━━━━━━━━━━━━━━━━━━━━━━━\u001b[0m \u001b[32m52.1/52.1 kB\u001b[0m \u001b[31m6.1 MB/s\u001b[0m eta \u001b[36m0:00:00\u001b[0m\n",
            "\u001b[?25hRequirement already satisfied: numpy in /usr/local/lib/python3.10/dist-packages (from pykrx) (1.22.4)\n",
            "Requirement already satisfied: xlrd in /usr/local/lib/python3.10/dist-packages (from pykrx) (2.0.1)\n",
            "Collecting deprecated (from pykrx)\n",
            "  Downloading Deprecated-1.2.14-py2.py3-none-any.whl (9.6 kB)\n",
            "Requirement already satisfied: multipledispatch in /usr/local/lib/python3.10/dist-packages (from pykrx) (1.0.0)\n",
            "Requirement already satisfied: matplotlib in /usr/local/lib/python3.10/dist-packages (from pykrx) (3.7.1)\n",
            "Collecting zope.interface (from datetime->pykrx)\n",
            "  Downloading zope.interface-6.0-cp310-cp310-manylinux_2_5_x86_64.manylinux1_x86_64.manylinux_2_17_x86_64.manylinux2014_x86_64.whl (246 kB)\n",
            "\u001b[2K     \u001b[90m━━━━━━━━━━━━━━━━━━━━━━━━━━━━━━━━━━━━━━\u001b[0m \u001b[32m247.0/247.0 kB\u001b[0m \u001b[31m24.4 MB/s\u001b[0m eta \u001b[36m0:00:00\u001b[0m\n",
            "\u001b[?25hRequirement already satisfied: pytz in /usr/local/lib/python3.10/dist-packages (from datetime->pykrx) (2022.7.1)\n",
            "Requirement already satisfied: wrapt<2,>=1.10 in /usr/local/lib/python3.10/dist-packages (from deprecated->pykrx) (1.14.1)\n",
            "Requirement already satisfied: contourpy>=1.0.1 in /usr/local/lib/python3.10/dist-packages (from matplotlib->pykrx) (1.1.0)\n",
            "Requirement already satisfied: cycler>=0.10 in /usr/local/lib/python3.10/dist-packages (from matplotlib->pykrx) (0.11.0)\n",
            "Requirement already satisfied: fonttools>=4.22.0 in /usr/local/lib/python3.10/dist-packages (from matplotlib->pykrx) (4.40.0)\n",
            "Requirement already satisfied: kiwisolver>=1.0.1 in /usr/local/lib/python3.10/dist-packages (from matplotlib->pykrx) (1.4.4)\n",
            "Requirement already satisfied: packaging>=20.0 in /usr/local/lib/python3.10/dist-packages (from matplotlib->pykrx) (23.1)\n",
            "Requirement already satisfied: pillow>=6.2.0 in /usr/local/lib/python3.10/dist-packages (from matplotlib->pykrx) (8.4.0)\n",
            "Requirement already satisfied: pyparsing>=2.3.1 in /usr/local/lib/python3.10/dist-packages (from matplotlib->pykrx) (3.1.0)\n",
            "Requirement already satisfied: python-dateutil>=2.7 in /usr/local/lib/python3.10/dist-packages (from matplotlib->pykrx) (2.8.2)\n",
            "Requirement already satisfied: urllib3<1.27,>=1.21.1 in /usr/local/lib/python3.10/dist-packages (from requests->pykrx) (1.26.16)\n",
            "Requirement already satisfied: certifi>=2017.4.17 in /usr/local/lib/python3.10/dist-packages (from requests->pykrx) (2023.5.7)\n",
            "Requirement already satisfied: charset-normalizer~=2.0.0 in /usr/local/lib/python3.10/dist-packages (from requests->pykrx) (2.0.12)\n",
            "Requirement already satisfied: idna<4,>=2.5 in /usr/local/lib/python3.10/dist-packages (from requests->pykrx) (3.4)\n",
            "Requirement already satisfied: six>=1.5 in /usr/local/lib/python3.10/dist-packages (from python-dateutil>=2.7->matplotlib->pykrx) (1.16.0)\n",
            "Requirement already satisfied: setuptools in /usr/local/lib/python3.10/dist-packages (from zope.interface->datetime->pykrx) (67.7.2)\n",
            "Installing collected packages: zope.interface, deprecated, datetime, pykrx\n",
            "Successfully installed datetime-5.1 deprecated-1.2.14 pykrx-1.0.44 zope.interface-6.0\n"
          ]
        }
      ]
    },
    {
      "cell_type": "code",
      "source": [
        "import pandas as pd\n",
        "import time\n",
        "from pykrx import stock\n",
        "from tqdm import tqdm\n",
        "\n",
        "# Load the stock codes and names from the CSV file\n",
        "stock_codes = train['종목코드'][:2000].tolist()\n",
        "stock_names = train['종목명'][:2000].tolist()"
      ],
      "metadata": {
        "id": "1D9-SS3S1SxD"
      },
      "execution_count": 22,
      "outputs": []
    },
    {
      "cell_type": "code",
      "source": [
        "start_date = '2021-06-01'\n",
        "end_date = '2023-05-30'"
      ],
      "metadata": {
        "id": "zrUgzH691Suq"
      },
      "execution_count": 24,
      "outputs": []
    },
    {
      "cell_type": "code",
      "source": [
        "stock_data = {}\n",
        "progress_bar = tqdm(total=len(stock_codes), desc='Progress', unit='stock')\n",
        "\n",
        "# Retrieve financial data for each stock\n",
        "for code, name in zip(stock_codes, stock_names):\n",
        "    try:\n",
        "        df = stock.get_market_ohlcv_by_date(start_date, end_date, code)\n",
        "        stock_data[name] = df\n",
        "    except Exception as e:\n",
        "        print(f\"Error retrieving data for {name} ({code}): {str(e)}\")\n",
        "    time.sleep(1)\n",
        "    progress_bar.update(1)\n",
        "progress_bar.close()"
      ],
      "metadata": {
        "id": "pZAXm_Xt1SsU"
      },
      "execution_count": null,
      "outputs": []
    },
    {
      "cell_type": "code",
      "source": [
        "example_stock = stock_data['EXAMPLE STOCK']\n",
        "print(example_stock)"
      ],
      "metadata": {
        "id": "eklkEknS1ljV"
      },
      "execution_count": null,
      "outputs": []
    },
    {
      "cell_type": "code",
      "source": [
        "stock_data = {}\n",
        "\n",
        "# Create a tqdm progress bar\n",
        "progress_bar = tqdm(total=len(stock_codes), desc='Progress', unit='stock')\n",
        "\n",
        "# Retrieve financial data for each stock\n",
        "for code, name in zip(stock_codes, stock_names):\n",
        "    try:\n",
        "        # Use cudf to retrieve and process the OHLCV data\n",
        "        df = stock.get_market_ohlcv_by_date(start_date, end_date, code)\n",
        "        df['종목코드'] = code\n",
        "        df['종목명'] = name\n",
        "        df['등락가'] = df['종가'] - df['시가']\n",
        "        df['등락률'] = (df['등락가'] / df['시가']) * 100\n",
        "\n",
        "        # Use cudf to retrieve and process the fundamental data\n",
        "        df_info = stock.get_market_fundamental_by_date(start_date, end_date, code)\n",
        "        df_info['종목코드'] = code\n",
        "        df_info['종목명'] = name\n",
        "\n",
        "        # Merge the data using cudf\n",
        "        df = df.merge(df_info, on=['날짜', '종목코드', '종목명']).to_pandas()\n",
        "\n",
        "        stock_data[name] = df\n",
        "    except Exception as e:\n",
        "        print(f\"Error retrieving data for {name} ({code}): {str(e)}\")\n",
        "\n",
        "    time.sleep(1)  # Delay for 1 second between each request\n",
        "    progress_bar.update(1)  # Update the progress bar\n",
        "\n",
        "# Close the progress bar\n",
        "progress_bar.close()"
      ],
      "metadata": {
        "colab": {
          "base_uri": "https://localhost:8080/"
        },
        "id": "50FaOqpj1les",
        "outputId": "0f4401f3-a999-4914-bc49-5a1639ac8a4a"
      },
      "execution_count": null,
      "outputs": [
        {
          "metadata": {
            "tags": null
          },
          "name": "stderr",
          "output_type": "stream",
          "text": [
            "Progress:   1%|▏         | 26/2000 [01:10<1:28:55,  2.70s/stock]\n"
          ]
        },
        {
          "metadata": {
            "tags": null
          },
          "name": "stdout",
          "output_type": "stream",
          "text": [
            "Error retrieving data for 3S (A060310): '종가'\n"
          ]
        },
        {
          "metadata": {
            "tags": null
          },
          "name": "stderr",
          "output_type": "stream",
          "text": [
            "\rProgress:   0%|          | 1/2000 [00:01<46:33,  1.40s/stock]"
          ]
        },
        {
          "metadata": {
            "tags": null
          },
          "name": "stdout",
          "output_type": "stream",
          "text": [
            "Error retrieving data for AJ네트웍스 (A095570): '종가'\n"
          ]
        },
        {
          "metadata": {
            "tags": null
          },
          "name": "stderr",
          "output_type": "stream",
          "text": [
            "\rProgress:   0%|          | 2/2000 [00:02<44:22,  1.33s/stock]"
          ]
        },
        {
          "metadata": {
            "tags": null
          },
          "name": "stdout",
          "output_type": "stream",
          "text": [
            "Error retrieving data for AK홀딩스 (A006840): '종가'\n"
          ]
        },
        {
          "metadata": {
            "tags": null
          },
          "name": "stderr",
          "output_type": "stream",
          "text": [
            "\rProgress:   0%|          | 3/2000 [00:03<43:32,  1.31s/stock]"
          ]
        },
        {
          "metadata": {
            "tags": null
          },
          "name": "stdout",
          "output_type": "stream",
          "text": [
            "Error retrieving data for APS (A054620): '종가'\n"
          ]
        },
        {
          "metadata": {
            "tags": null
          },
          "name": "stderr",
          "output_type": "stream",
          "text": [
            "\rProgress:   0%|          | 4/2000 [00:05<42:55,  1.29s/stock]"
          ]
        },
        {
          "metadata": {
            "tags": null
          },
          "name": "stdout",
          "output_type": "stream",
          "text": [
            "Error retrieving data for AP시스템 (A265520): '종가'\n"
          ]
        },
        {
          "metadata": {
            "tags": null
          },
          "name": "stderr",
          "output_type": "stream",
          "text": [
            "\rProgress:   0%|          | 5/2000 [00:06<42:30,  1.28s/stock]"
          ]
        },
        {
          "metadata": {
            "tags": null
          },
          "name": "stdout",
          "output_type": "stream",
          "text": [
            "Error retrieving data for AP위성 (A211270): '종가'\n"
          ]
        },
        {
          "metadata": {
            "tags": null
          },
          "name": "stderr",
          "output_type": "stream",
          "text": [
            "\rProgress:   0%|          | 6/2000 [00:07<42:17,  1.27s/stock]"
          ]
        },
        {
          "metadata": {
            "tags": null
          },
          "name": "stdout",
          "output_type": "stream",
          "text": [
            "Error retrieving data for BGF (A027410): '종가'\n"
          ]
        },
        {
          "metadata": {
            "tags": null
          },
          "name": "stderr",
          "output_type": "stream",
          "text": [
            "\rProgress:   0%|          | 7/2000 [00:09<42:07,  1.27s/stock]"
          ]
        },
        {
          "metadata": {
            "tags": null
          },
          "name": "stdout",
          "output_type": "stream",
          "text": [
            "Error retrieving data for BGF리테일 (A282330): '종가'\n"
          ]
        },
        {
          "metadata": {
            "tags": null
          },
          "name": "stderr",
          "output_type": "stream",
          "text": [
            "\rProgress:   0%|          | 8/2000 [00:10<42:06,  1.27s/stock]"
          ]
        },
        {
          "metadata": {
            "tags": null
          },
          "name": "stdout",
          "output_type": "stream",
          "text": [
            "Error retrieving data for BGF에코머티리얼즈 (A126600): '종가'\n"
          ]
        },
        {
          "metadata": {
            "tags": null
          },
          "name": "stderr",
          "output_type": "stream",
          "text": [
            "\rProgress:   0%|          | 9/2000 [00:11<42:01,  1.27s/stock]"
          ]
        },
        {
          "metadata": {
            "tags": null
          },
          "name": "stdout",
          "output_type": "stream",
          "text": [
            "Error retrieving data for BNK금융지주 (A138930): '종가'\n"
          ]
        },
        {
          "metadata": {
            "tags": null
          },
          "name": "stderr",
          "output_type": "stream",
          "text": [
            "\rProgress:   0%|          | 10/2000 [00:12<42:31,  1.28s/stock]"
          ]
        },
        {
          "metadata": {
            "tags": null
          },
          "name": "stdout",
          "output_type": "stream",
          "text": [
            "Error retrieving data for BYC (A001460): '종가'\n"
          ]
        },
        {
          "metadata": {
            "tags": null
          },
          "name": "stderr",
          "output_type": "stream",
          "text": [
            "\rProgress:   1%|          | 11/2000 [00:14<42:14,  1.27s/stock]"
          ]
        },
        {
          "metadata": {
            "tags": null
          },
          "name": "stdout",
          "output_type": "stream",
          "text": [
            "Error retrieving data for CBI (A013720): '종가'\n"
          ]
        },
        {
          "metadata": {
            "tags": null
          },
          "name": "stderr",
          "output_type": "stream",
          "text": [
            "\rProgress:   1%|          | 12/2000 [00:15<42:06,  1.27s/stock]"
          ]
        },
        {
          "metadata": {
            "tags": null
          },
          "name": "stdout",
          "output_type": "stream",
          "text": [
            "Error retrieving data for CJ (A001040): '종가'\n"
          ]
        },
        {
          "metadata": {
            "tags": null
          },
          "name": "stderr",
          "output_type": "stream",
          "text": [
            "\rProgress:   1%|          | 13/2000 [00:16<41:56,  1.27s/stock]"
          ]
        },
        {
          "metadata": {
            "tags": null
          },
          "name": "stdout",
          "output_type": "stream",
          "text": [
            "Error retrieving data for CJ CGV (A079160): '종가'\n"
          ]
        },
        {
          "metadata": {
            "tags": null
          },
          "name": "stderr",
          "output_type": "stream",
          "text": [
            "\rProgress:   1%|          | 14/2000 [00:17<41:48,  1.26s/stock]"
          ]
        },
        {
          "metadata": {
            "tags": null
          },
          "name": "stdout",
          "output_type": "stream",
          "text": [
            "Error retrieving data for CJ ENM (A035760): '종가'\n"
          ]
        },
        {
          "metadata": {
            "tags": null
          },
          "name": "stderr",
          "output_type": "stream",
          "text": [
            "\rProgress:   1%|          | 15/2000 [00:19<41:49,  1.26s/stock]"
          ]
        },
        {
          "metadata": {
            "tags": null
          },
          "name": "stdout",
          "output_type": "stream",
          "text": [
            "Error retrieving data for CJ 바이오사이언스 (A311690): '종가'\n"
          ]
        },
        {
          "metadata": {
            "tags": null
          },
          "name": "stderr",
          "output_type": "stream",
          "text": [
            "\rProgress:   1%|          | 16/2000 [00:20<41:52,  1.27s/stock]"
          ]
        },
        {
          "metadata": {
            "tags": null
          },
          "name": "stdout",
          "output_type": "stream",
          "text": [
            "Error retrieving data for CJ대한통운 (A000120): '종가'\n"
          ]
        },
        {
          "metadata": {
            "tags": null
          },
          "name": "stderr",
          "output_type": "stream",
          "text": [
            "\rProgress:   1%|          | 17/2000 [00:21<44:25,  1.34s/stock]"
          ]
        },
        {
          "metadata": {
            "tags": null
          },
          "name": "stdout",
          "output_type": "stream",
          "text": [
            "Error retrieving data for CJ씨푸드 (A011150): '종가'\n"
          ]
        },
        {
          "metadata": {
            "tags": null
          },
          "name": "stderr",
          "output_type": "stream",
          "text": [
            "\rProgress:   1%|          | 18/2000 [00:23<43:46,  1.33s/stock]"
          ]
        },
        {
          "metadata": {
            "tags": null
          },
          "name": "stdout",
          "output_type": "stream",
          "text": [
            "Error retrieving data for CJ제일제당 (A097950): '종가'\n"
          ]
        },
        {
          "metadata": {
            "tags": null
          },
          "name": "stderr",
          "output_type": "stream",
          "text": [
            "\rProgress:   1%|          | 19/2000 [00:24<43:34,  1.32s/stock]"
          ]
        },
        {
          "metadata": {
            "tags": null
          },
          "name": "stdout",
          "output_type": "stream",
          "text": [
            "Error retrieving data for CJ프레시웨이 (A051500): '종가'\n"
          ]
        },
        {
          "metadata": {
            "tags": null
          },
          "name": "stderr",
          "output_type": "stream",
          "text": [
            "\rProgress:   1%|          | 20/2000 [00:25<42:59,  1.30s/stock]"
          ]
        },
        {
          "metadata": {
            "tags": null
          },
          "name": "stdout",
          "output_type": "stream",
          "text": [
            "Error retrieving data for CMG제약 (A058820): '종가'\n"
          ]
        },
        {
          "metadata": {
            "tags": null
          },
          "name": "stderr",
          "output_type": "stream",
          "text": [
            "\rProgress:   1%|          | 21/2000 [00:27<42:11,  1.28s/stock]"
          ]
        },
        {
          "metadata": {
            "tags": null
          },
          "name": "stdout",
          "output_type": "stream",
          "text": [
            "Error retrieving data for CNH (A023460): '종가'\n"
          ]
        },
        {
          "metadata": {
            "tags": null
          },
          "name": "stderr",
          "output_type": "stream",
          "text": [
            "\rProgress:   1%|          | 22/2000 [00:28<41:46,  1.27s/stock]"
          ]
        },
        {
          "metadata": {
            "tags": null
          },
          "name": "stdout",
          "output_type": "stream",
          "text": [
            "Error retrieving data for CNT85 (A056730): '종가'\n"
          ]
        },
        {
          "metadata": {
            "tags": null
          },
          "name": "stderr",
          "output_type": "stream",
          "text": [
            "\rProgress:   1%|          | 23/2000 [00:29<41:24,  1.26s/stock]"
          ]
        },
        {
          "metadata": {
            "tags": null
          },
          "name": "stdout",
          "output_type": "stream",
          "text": [
            "Error retrieving data for CSA 코스믹 (A083660): '종가'\n"
          ]
        },
        {
          "metadata": {
            "tags": null
          },
          "name": "stderr",
          "output_type": "stream",
          "text": [
            "\rProgress:   1%|          | 24/2000 [00:30<41:05,  1.25s/stock]"
          ]
        },
        {
          "metadata": {
            "tags": null
          },
          "name": "stdout",
          "output_type": "stream",
          "text": [
            "Error retrieving data for CS홀딩스 (A000590): '종가'\n"
          ]
        },
        {
          "metadata": {
            "tags": null
          },
          "name": "stderr",
          "output_type": "stream",
          "text": [
            "\rProgress:   1%|▏         | 25/2000 [00:31<41:01,  1.25s/stock]"
          ]
        },
        {
          "metadata": {
            "tags": null
          },
          "name": "stdout",
          "output_type": "stream",
          "text": [
            "Error retrieving data for DB (A012030): '종가'\n"
          ]
        },
        {
          "metadata": {
            "tags": null
          },
          "name": "stderr",
          "output_type": "stream",
          "text": [
            "\rProgress:   1%|▏         | 26/2000 [00:33<40:50,  1.24s/stock]"
          ]
        },
        {
          "metadata": {
            "tags": null
          },
          "name": "stdout",
          "output_type": "stream",
          "text": [
            "Error retrieving data for DB금융투자 (A016610): '종가'\n"
          ]
        },
        {
          "metadata": {
            "tags": null
          },
          "name": "stderr",
          "output_type": "stream",
          "text": [
            "\rProgress:   1%|▏         | 27/2000 [00:34<40:49,  1.24s/stock]"
          ]
        },
        {
          "metadata": {
            "tags": null
          },
          "name": "stdout",
          "output_type": "stream",
          "text": [
            "Error retrieving data for DB손해보험 (A005830): '종가'\n"
          ]
        },
        {
          "metadata": {
            "tags": null
          },
          "name": "stderr",
          "output_type": "stream",
          "text": [
            "\rProgress:   1%|▏         | 28/2000 [00:35<41:26,  1.26s/stock]"
          ]
        },
        {
          "metadata": {
            "tags": null
          },
          "name": "stdout",
          "output_type": "stream",
          "text": [
            "Error retrieving data for DB하이텍 (A000990): '종가'\n"
          ]
        },
        {
          "metadata": {
            "tags": null
          },
          "name": "stderr",
          "output_type": "stream",
          "text": [
            "\rProgress:   1%|▏         | 29/2000 [00:36<41:16,  1.26s/stock]"
          ]
        },
        {
          "metadata": {
            "tags": null
          },
          "name": "stdout",
          "output_type": "stream",
          "text": [
            "Error retrieving data for DGB금융지주 (A139130): '종가'\n"
          ]
        },
        {
          "metadata": {
            "tags": null
          },
          "name": "stderr",
          "output_type": "stream",
          "text": [
            "\rProgress:   2%|▏         | 30/2000 [00:38<41:24,  1.26s/stock]"
          ]
        },
        {
          "metadata": {
            "tags": null
          },
          "name": "stdout",
          "output_type": "stream",
          "text": [
            "Error retrieving data for DGP (A060900): '종가'\n"
          ]
        },
        {
          "metadata": {
            "tags": null
          },
          "name": "stderr",
          "output_type": "stream",
          "text": [
            "\rProgress:   2%|▏         | 31/2000 [00:39<41:11,  1.26s/stock]"
          ]
        },
        {
          "metadata": {
            "tags": null
          },
          "name": "stdout",
          "output_type": "stream",
          "text": [
            "Error retrieving data for DH오토웨어 (A025440): '종가'\n"
          ]
        },
        {
          "metadata": {
            "tags": null
          },
          "name": "stderr",
          "output_type": "stream",
          "text": [
            "\rProgress:   2%|▏         | 32/2000 [00:40<40:58,  1.25s/stock]"
          ]
        },
        {
          "metadata": {
            "tags": null
          },
          "name": "stdout",
          "output_type": "stream",
          "text": [
            "Error retrieving data for DI동일 (A001530): '종가'\n"
          ]
        },
        {
          "metadata": {
            "tags": null
          },
          "name": "stderr",
          "output_type": "stream",
          "text": [
            "\rProgress:   2%|▏         | 33/2000 [00:42<41:11,  1.26s/stock]"
          ]
        },
        {
          "metadata": {
            "tags": null
          },
          "name": "stdout",
          "output_type": "stream",
          "text": [
            "Error retrieving data for DL (A000210): '종가'\n"
          ]
        },
        {
          "metadata": {
            "tags": null
          },
          "name": "stderr",
          "output_type": "stream",
          "text": [
            "\rProgress:   2%|▏         | 34/2000 [00:43<41:20,  1.26s/stock]"
          ]
        },
        {
          "metadata": {
            "tags": null
          },
          "name": "stdout",
          "output_type": "stream",
          "text": [
            "Error retrieving data for DL건설 (A001880): '종가'\n"
          ]
        },
        {
          "metadata": {
            "tags": null
          },
          "name": "stderr",
          "output_type": "stream",
          "text": [
            "\rProgress:   2%|▏         | 35/2000 [00:44<41:21,  1.26s/stock]"
          ]
        },
        {
          "metadata": {
            "tags": null
          },
          "name": "stdout",
          "output_type": "stream",
          "text": [
            "Error retrieving data for DL이앤씨 (A375500): '종가'\n"
          ]
        },
        {
          "metadata": {
            "tags": null
          },
          "name": "stderr",
          "output_type": "stream",
          "text": [
            "\rProgress:   2%|▏         | 36/2000 [00:45<41:36,  1.27s/stock]"
          ]
        },
        {
          "metadata": {
            "tags": null
          },
          "name": "stdout",
          "output_type": "stream",
          "text": [
            "Error retrieving data for DMS (A068790): '종가'\n"
          ]
        },
        {
          "metadata": {
            "tags": null
          },
          "name": "stderr",
          "output_type": "stream",
          "text": [
            "\rProgress:   2%|▏         | 37/2000 [00:47<41:27,  1.27s/stock]"
          ]
        },
        {
          "metadata": {
            "tags": null
          },
          "name": "stdout",
          "output_type": "stream",
          "text": [
            "Error retrieving data for DN오토모티브 (A007340): '종가'\n"
          ]
        },
        {
          "metadata": {
            "tags": null
          },
          "name": "stderr",
          "output_type": "stream",
          "text": [
            "\rProgress:   2%|▏         | 38/2000 [00:48<41:26,  1.27s/stock]"
          ]
        },
        {
          "metadata": {
            "tags": null
          },
          "name": "stdout",
          "output_type": "stream",
          "text": [
            "Error retrieving data for DRB동일 (A004840): '종가'\n"
          ]
        },
        {
          "metadata": {
            "tags": null
          },
          "name": "stderr",
          "output_type": "stream",
          "text": [
            "\rProgress:   2%|▏         | 39/2000 [00:49<41:23,  1.27s/stock]"
          ]
        },
        {
          "metadata": {
            "tags": null
          },
          "name": "stdout",
          "output_type": "stream",
          "text": [
            "Error retrieving data for DSC인베스트먼트 (A241520): '종가'\n"
          ]
        },
        {
          "metadata": {
            "tags": null
          },
          "name": "stderr",
          "output_type": "stream",
          "text": [
            "\rProgress:   2%|▏         | 40/2000 [00:50<41:17,  1.26s/stock]"
          ]
        },
        {
          "metadata": {
            "tags": null
          },
          "name": "stdout",
          "output_type": "stream",
          "text": [
            "Error retrieving data for DSEN (A065150): '종가'\n"
          ]
        },
        {
          "metadata": {
            "tags": null
          },
          "name": "stderr",
          "output_type": "stream",
          "text": [
            "\rProgress:   2%|▏         | 41/2000 [00:52<41:28,  1.27s/stock]"
          ]
        },
        {
          "metadata": {
            "tags": null
          },
          "name": "stdout",
          "output_type": "stream",
          "text": [
            "Error retrieving data for DSR (A155660): '종가'\n"
          ]
        },
        {
          "metadata": {
            "tags": null
          },
          "name": "stderr",
          "output_type": "stream",
          "text": [
            "\rProgress:   2%|▏         | 42/2000 [00:53<41:21,  1.27s/stock]"
          ]
        },
        {
          "metadata": {
            "tags": null
          },
          "name": "stdout",
          "output_type": "stream",
          "text": [
            "Error retrieving data for DSR제강 (A069730): '종가'\n"
          ]
        },
        {
          "metadata": {
            "tags": null
          },
          "name": "stderr",
          "output_type": "stream",
          "text": [
            "\rProgress:   2%|▏         | 43/2000 [00:54<41:20,  1.27s/stock]"
          ]
        },
        {
          "metadata": {
            "tags": null
          },
          "name": "stdout",
          "output_type": "stream",
          "text": [
            "Error retrieving data for DXVX (A180400): '종가'\n"
          ]
        },
        {
          "metadata": {
            "tags": null
          },
          "name": "stderr",
          "output_type": "stream",
          "text": [
            "\rProgress:   2%|▏         | 44/2000 [00:55<41:17,  1.27s/stock]"
          ]
        },
        {
          "metadata": {
            "tags": null
          },
          "name": "stdout",
          "output_type": "stream",
          "text": [
            "Error retrieving data for E1 (A017940): '종가'\n"
          ]
        },
        {
          "metadata": {
            "tags": null
          },
          "name": "stderr",
          "output_type": "stream",
          "text": [
            "\rProgress:   2%|▏         | 45/2000 [00:57<41:13,  1.27s/stock]"
          ]
        },
        {
          "metadata": {
            "tags": null
          },
          "name": "stdout",
          "output_type": "stream",
          "text": [
            "Error retrieving data for EDGC (A245620): '종가'\n"
          ]
        },
        {
          "metadata": {
            "tags": null
          },
          "name": "stderr",
          "output_type": "stream",
          "text": [
            "\rProgress:   2%|▏         | 46/2000 [00:58<41:23,  1.27s/stock]"
          ]
        },
        {
          "metadata": {
            "tags": null
          },
          "name": "stdout",
          "output_type": "stream",
          "text": [
            "Error retrieving data for EG (A037370): '종가'\n"
          ]
        },
        {
          "metadata": {
            "tags": null
          },
          "name": "stderr",
          "output_type": "stream",
          "text": [
            "\rProgress:   2%|▏         | 47/2000 [00:59<41:23,  1.27s/stock]"
          ]
        },
        {
          "metadata": {
            "tags": null
          },
          "name": "stdout",
          "output_type": "stream",
          "text": [
            "Error retrieving data for ES큐브 (A050120): '종가'\n"
          ]
        },
        {
          "metadata": {
            "tags": null
          },
          "name": "stderr",
          "output_type": "stream",
          "text": [
            "\rProgress:   2%|▏         | 48/2000 [01:01<41:18,  1.27s/stock]"
          ]
        },
        {
          "metadata": {
            "tags": null
          },
          "name": "stdout",
          "output_type": "stream",
          "text": [
            "Error retrieving data for F&F (A383220): '종가'\n"
          ]
        },
        {
          "metadata": {
            "tags": null
          },
          "name": "stderr",
          "output_type": "stream",
          "text": [
            "\rProgress:   2%|▏         | 49/2000 [01:02<43:24,  1.33s/stock]"
          ]
        },
        {
          "metadata": {
            "tags": null
          },
          "name": "stdout",
          "output_type": "stream",
          "text": [
            "Error retrieving data for F&F홀딩스 (A007700): '종가'\n"
          ]
        },
        {
          "metadata": {
            "tags": null
          },
          "name": "stderr",
          "output_type": "stream",
          "text": [
            "\rProgress:   2%|▎         | 50/2000 [01:03<42:41,  1.31s/stock]"
          ]
        },
        {
          "metadata": {
            "tags": null
          },
          "name": "stdout",
          "output_type": "stream",
          "text": [
            "Error retrieving data for FSN (A214270): '종가'\n"
          ]
        },
        {
          "metadata": {
            "tags": null
          },
          "name": "stderr",
          "output_type": "stream",
          "text": [
            "\rProgress:   3%|▎         | 51/2000 [01:05<42:06,  1.30s/stock]"
          ]
        },
        {
          "metadata": {
            "tags": null
          },
          "name": "stdout",
          "output_type": "stream",
          "text": [
            "Error retrieving data for GH신소재 (A130500): '종가'\n"
          ]
        },
        {
          "metadata": {
            "tags": null
          },
          "name": "stderr",
          "output_type": "stream",
          "text": [
            "\rProgress:   3%|▎         | 52/2000 [01:06<41:43,  1.29s/stock]"
          ]
        },
        {
          "metadata": {
            "tags": null
          },
          "name": "stdout",
          "output_type": "stream",
          "text": [
            "Error retrieving data for GKL (A114090): '종가'\n"
          ]
        },
        {
          "metadata": {
            "tags": null
          },
          "name": "stderr",
          "output_type": "stream",
          "text": [
            "\rProgress:   3%|▎         | 53/2000 [01:07<41:29,  1.28s/stock]"
          ]
        },
        {
          "metadata": {
            "tags": null
          },
          "name": "stdout",
          "output_type": "stream",
          "text": [
            "Error retrieving data for GS (A078930): '종가'\n"
          ]
        },
        {
          "metadata": {
            "tags": null
          },
          "name": "stderr",
          "output_type": "stream",
          "text": [
            "\rProgress:   3%|▎         | 54/2000 [01:08<41:25,  1.28s/stock]"
          ]
        },
        {
          "metadata": {
            "tags": null
          },
          "name": "stdout",
          "output_type": "stream",
          "text": [
            "Error retrieving data for GST (A083450): '종가'\n"
          ]
        },
        {
          "metadata": {
            "tags": null
          },
          "name": "stderr",
          "output_type": "stream",
          "text": [
            "\rProgress:   3%|▎         | 55/2000 [01:10<41:13,  1.27s/stock]"
          ]
        },
        {
          "metadata": {
            "tags": null
          },
          "name": "stdout",
          "output_type": "stream",
          "text": [
            "Error retrieving data for GS건설 (A006360): '종가'\n"
          ]
        },
        {
          "metadata": {
            "tags": null
          },
          "name": "stderr",
          "output_type": "stream",
          "text": [
            "\rProgress:   3%|▎         | 56/2000 [01:11<41:10,  1.27s/stock]"
          ]
        },
        {
          "metadata": {
            "tags": null
          },
          "name": "stdout",
          "output_type": "stream",
          "text": [
            "Error retrieving data for GS글로벌 (A001250): '종가'\n"
          ]
        },
        {
          "metadata": {
            "tags": null
          },
          "name": "stderr",
          "output_type": "stream",
          "text": [
            "\rProgress:   3%|▎         | 57/2000 [01:12<41:01,  1.27s/stock]"
          ]
        },
        {
          "metadata": {
            "tags": null
          },
          "name": "stdout",
          "output_type": "stream",
          "text": [
            "Error retrieving data for GS리테일 (A007070): '종가'\n"
          ]
        },
        {
          "metadata": {
            "tags": null
          },
          "name": "stderr",
          "output_type": "stream",
          "text": [
            "\rProgress:   3%|▎         | 58/2000 [01:13<40:59,  1.27s/stock]"
          ]
        },
        {
          "metadata": {
            "tags": null
          },
          "name": "stdout",
          "output_type": "stream",
          "text": [
            "Error retrieving data for HB솔루션 (A297890): '종가'\n"
          ]
        },
        {
          "metadata": {
            "tags": null
          },
          "name": "stderr",
          "output_type": "stream",
          "text": [
            "\rProgress:   3%|▎         | 59/2000 [01:15<40:53,  1.26s/stock]"
          ]
        },
        {
          "metadata": {
            "tags": null
          },
          "name": "stdout",
          "output_type": "stream",
          "text": [
            "Error retrieving data for HB테크놀러지 (A078150): '종가'\n"
          ]
        },
        {
          "metadata": {
            "tags": null
          },
          "name": "stderr",
          "output_type": "stream",
          "text": [
            "\rProgress:   3%|▎         | 60/2000 [01:16<41:05,  1.27s/stock]"
          ]
        },
        {
          "metadata": {
            "tags": null
          },
          "name": "stdout",
          "output_type": "stream",
          "text": [
            "Error retrieving data for HDC (A012630): '종가'\n"
          ]
        },
        {
          "metadata": {
            "tags": null
          },
          "name": "stderr",
          "output_type": "stream",
          "text": [
            "\rProgress:   3%|▎         | 61/2000 [01:17<40:58,  1.27s/stock]"
          ]
        },
        {
          "metadata": {
            "tags": null
          },
          "name": "stdout",
          "output_type": "stream",
          "text": [
            "Error retrieving data for HDC랩스 (A039570): '종가'\n"
          ]
        },
        {
          "metadata": {
            "tags": null
          },
          "name": "stderr",
          "output_type": "stream",
          "text": [
            "\rProgress:   3%|▎         | 62/2000 [01:19<41:14,  1.28s/stock]"
          ]
        },
        {
          "metadata": {
            "tags": null
          },
          "name": "stdout",
          "output_type": "stream",
          "text": [
            "Error retrieving data for HDC현대EP (A089470): '종가'\n"
          ]
        },
        {
          "metadata": {
            "tags": null
          },
          "name": "stderr",
          "output_type": "stream",
          "text": [
            "\rProgress:   3%|▎         | 63/2000 [01:20<42:06,  1.30s/stock]"
          ]
        },
        {
          "metadata": {
            "tags": null
          },
          "name": "stdout",
          "output_type": "stream",
          "text": [
            "Error retrieving data for HDC현대산업개발 (A294870): '종가'\n"
          ]
        },
        {
          "metadata": {
            "tags": null
          },
          "name": "stderr",
          "output_type": "stream",
          "text": [
            "\rProgress:   3%|▎         | 64/2000 [01:21<41:57,  1.30s/stock]"
          ]
        },
        {
          "metadata": {
            "tags": null
          },
          "name": "stdout",
          "output_type": "stream",
          "text": [
            "Error retrieving data for HD한국조선해양 (A009540): '종가'\n"
          ]
        },
        {
          "metadata": {
            "tags": null
          },
          "name": "stderr",
          "output_type": "stream",
          "text": [
            "\rProgress:   3%|▎         | 65/2000 [01:23<43:44,  1.36s/stock]"
          ]
        },
        {
          "metadata": {
            "tags": null
          },
          "name": "stdout",
          "output_type": "stream",
          "text": [
            "Error retrieving data for HD현대 (A267250): '종가'\n"
          ]
        },
        {
          "metadata": {
            "tags": null
          },
          "name": "stderr",
          "output_type": "stream",
          "text": [
            "\rProgress:   3%|▎         | 66/2000 [01:24<42:38,  1.32s/stock]"
          ]
        },
        {
          "metadata": {
            "tags": null
          },
          "name": "stdout",
          "output_type": "stream",
          "text": [
            "Error retrieving data for HD현대건설기계 (A267270): '종가'\n"
          ]
        },
        {
          "metadata": {
            "tags": null
          },
          "name": "stderr",
          "output_type": "stream",
          "text": [
            "\rProgress:   3%|▎         | 67/2000 [01:25<41:44,  1.30s/stock]"
          ]
        },
        {
          "metadata": {
            "tags": null
          },
          "name": "stdout",
          "output_type": "stream",
          "text": [
            "Error retrieving data for HD현대에너지솔루션 (A322000): '종가'\n"
          ]
        },
        {
          "metadata": {
            "tags": null
          },
          "name": "stderr",
          "output_type": "stream",
          "text": [
            "\rProgress:   3%|▎         | 68/2000 [01:26<41:16,  1.28s/stock]"
          ]
        },
        {
          "metadata": {
            "tags": null
          },
          "name": "stdout",
          "output_type": "stream",
          "text": [
            "Error retrieving data for HD현대인프라코어 (A042670): '종가'\n"
          ]
        },
        {
          "metadata": {
            "tags": null
          },
          "name": "stderr",
          "output_type": "stream",
          "text": [
            "\rProgress:   3%|▎         | 69/2000 [01:28<41:32,  1.29s/stock]"
          ]
        },
        {
          "metadata": {
            "tags": null
          },
          "name": "stdout",
          "output_type": "stream",
          "text": [
            "Error retrieving data for HD현대일렉트릭 (A267260): '종가'\n"
          ]
        },
        {
          "metadata": {
            "tags": null
          },
          "name": "stderr",
          "output_type": "stream",
          "text": [
            "\rProgress:   4%|▎         | 70/2000 [01:29<41:01,  1.28s/stock]"
          ]
        },
        {
          "metadata": {
            "tags": null
          },
          "name": "stdout",
          "output_type": "stream",
          "text": [
            "Error retrieving data for HJ중공업 (A097230): '종가'\n"
          ]
        },
        {
          "metadata": {
            "tags": null
          },
          "name": "stderr",
          "output_type": "stream",
          "text": [
            "\rProgress:   4%|▎         | 71/2000 [01:30<41:00,  1.28s/stock]"
          ]
        },
        {
          "metadata": {
            "tags": null
          },
          "name": "stdout",
          "output_type": "stream",
          "text": [
            "Error retrieving data for HL D&I (A014790): '종가'\n"
          ]
        },
        {
          "metadata": {
            "tags": null
          },
          "name": "stderr",
          "output_type": "stream",
          "text": [
            "\rProgress:   4%|▎         | 72/2000 [01:31<40:59,  1.28s/stock]"
          ]
        },
        {
          "metadata": {
            "tags": null
          },
          "name": "stdout",
          "output_type": "stream",
          "text": [
            "Error retrieving data for HLB (A028300): '종가'\n"
          ]
        },
        {
          "metadata": {
            "tags": null
          },
          "name": "stderr",
          "output_type": "stream",
          "text": [
            "\rProgress:   4%|▎         | 73/2000 [01:33<40:58,  1.28s/stock]"
          ]
        },
        {
          "metadata": {
            "tags": null
          },
          "name": "stdout",
          "output_type": "stream",
          "text": [
            "Error retrieving data for HLB글로벌 (A003580): '종가'\n"
          ]
        },
        {
          "metadata": {
            "tags": null
          },
          "name": "stderr",
          "output_type": "stream",
          "text": [
            "\rProgress:   4%|▎         | 74/2000 [01:34<40:46,  1.27s/stock]"
          ]
        },
        {
          "metadata": {
            "tags": null
          },
          "name": "stdout",
          "output_type": "stream",
          "text": [
            "Error retrieving data for HLB바이오스텝 (A278650): '종가'\n"
          ]
        },
        {
          "metadata": {
            "tags": null
          },
          "name": "stderr",
          "output_type": "stream",
          "text": [
            "\rProgress:   4%|▍         | 75/2000 [01:35<41:13,  1.28s/stock]"
          ]
        },
        {
          "metadata": {
            "tags": null
          },
          "name": "stdout",
          "output_type": "stream",
          "text": [
            "Error retrieving data for HLB생명과학 (A067630): '종가'\n"
          ]
        },
        {
          "metadata": {
            "tags": null
          },
          "name": "stderr",
          "output_type": "stream",
          "text": [
            "\rProgress:   4%|▍         | 76/2000 [01:37<40:49,  1.27s/stock]"
          ]
        },
        {
          "metadata": {
            "tags": null
          },
          "name": "stdout",
          "output_type": "stream",
          "text": [
            "Error retrieving data for HLB이노베이션 (A024850): '종가'\n"
          ]
        },
        {
          "metadata": {
            "tags": null
          },
          "name": "stderr",
          "output_type": "stream",
          "text": [
            "\rProgress:   4%|▍         | 77/2000 [01:38<40:43,  1.27s/stock]"
          ]
        },
        {
          "metadata": {
            "tags": null
          },
          "name": "stdout",
          "output_type": "stream",
          "text": [
            "Error retrieving data for HLB제약 (A047920): '종가'\n"
          ]
        },
        {
          "metadata": {
            "tags": null
          },
          "name": "stderr",
          "output_type": "stream",
          "text": [
            "\rProgress:   4%|▍         | 78/2000 [01:39<40:28,  1.26s/stock]"
          ]
        },
        {
          "metadata": {
            "tags": null
          },
          "name": "stdout",
          "output_type": "stream",
          "text": [
            "Error retrieving data for HLB테라퓨틱스 (A115450): '종가'\n"
          ]
        },
        {
          "metadata": {
            "tags": null
          },
          "name": "stderr",
          "output_type": "stream",
          "text": [
            "\rProgress:   4%|▍         | 79/2000 [01:40<40:22,  1.26s/stock]"
          ]
        },
        {
          "metadata": {
            "tags": null
          },
          "name": "stdout",
          "output_type": "stream",
          "text": [
            "Error retrieving data for HL만도 (A204320): '종가'\n"
          ]
        },
        {
          "metadata": {
            "tags": null
          },
          "name": "stderr",
          "output_type": "stream",
          "text": [
            "\rProgress:   4%|▍         | 80/2000 [01:42<40:12,  1.26s/stock]"
          ]
        },
        {
          "metadata": {
            "tags": null
          },
          "name": "stdout",
          "output_type": "stream",
          "text": [
            "Error retrieving data for HL홀딩스 (A060980): '종가'\n"
          ]
        },
        {
          "metadata": {
            "tags": null
          },
          "name": "stderr",
          "output_type": "stream",
          "text": [
            "\rProgress:   4%|▍         | 81/2000 [01:43<40:37,  1.27s/stock]"
          ]
        },
        {
          "metadata": {
            "tags": null
          },
          "name": "stdout",
          "output_type": "stream",
          "text": [
            "Error retrieving data for HMM (A011200): '종가'\n"
          ]
        },
        {
          "metadata": {
            "tags": null
          },
          "name": "stderr",
          "output_type": "stream",
          "text": [
            "\rProgress:   4%|▍         | 82/2000 [01:44<40:18,  1.26s/stock]"
          ]
        },
        {
          "metadata": {
            "tags": null
          },
          "name": "stdout",
          "output_type": "stream",
          "text": [
            "Error retrieving data for HRS (A036640): '종가'\n"
          ]
        },
        {
          "metadata": {
            "tags": null
          },
          "name": "stderr",
          "output_type": "stream",
          "text": [
            "\rProgress:   4%|▍         | 83/2000 [01:45<40:04,  1.25s/stock]"
          ]
        },
        {
          "metadata": {
            "tags": null
          },
          "name": "stdout",
          "output_type": "stream",
          "text": [
            "Error retrieving data for HSD엔진 (A082740): '종가'\n"
          ]
        },
        {
          "metadata": {
            "tags": null
          },
          "name": "stderr",
          "output_type": "stream",
          "text": [
            "\rProgress:   4%|▍         | 84/2000 [01:47<39:55,  1.25s/stock]"
          ]
        },
        {
          "metadata": {
            "tags": null
          },
          "name": "stdout",
          "output_type": "stream",
          "text": [
            "Error retrieving data for IHQ (A003560): '종가'\n"
          ]
        },
        {
          "metadata": {
            "tags": null
          },
          "name": "stderr",
          "output_type": "stream",
          "text": [
            "\rProgress:   4%|▍         | 85/2000 [01:48<40:09,  1.26s/stock]"
          ]
        },
        {
          "metadata": {
            "tags": null
          },
          "name": "stdout",
          "output_type": "stream",
          "text": [
            "Error retrieving data for ISC (A095340): '종가'\n"
          ]
        },
        {
          "metadata": {
            "tags": null
          },
          "name": "stderr",
          "output_type": "stream",
          "text": [
            "\rProgress:   4%|▍         | 86/2000 [01:49<40:00,  1.25s/stock]"
          ]
        },
        {
          "metadata": {
            "tags": null
          },
          "name": "stdout",
          "output_type": "stream",
          "text": [
            "Error retrieving data for ITX-AI (A099520): '종가'\n"
          ]
        },
        {
          "metadata": {
            "tags": null
          },
          "name": "stderr",
          "output_type": "stream",
          "text": [
            "\rProgress:   4%|▍         | 87/2000 [01:50<39:57,  1.25s/stock]"
          ]
        },
        {
          "metadata": {
            "tags": null
          },
          "name": "stdout",
          "output_type": "stream",
          "text": [
            "Error retrieving data for JB금융지주 (A175330): '종가'\n"
          ]
        },
        {
          "metadata": {
            "tags": null
          },
          "name": "stderr",
          "output_type": "stream",
          "text": [
            "\rProgress:   4%|▍         | 88/2000 [01:52<39:50,  1.25s/stock]"
          ]
        },
        {
          "metadata": {
            "tags": null
          },
          "name": "stdout",
          "output_type": "stream",
          "text": [
            "Error retrieving data for JW생명과학 (A234080): '종가'\n"
          ]
        },
        {
          "metadata": {
            "tags": null
          },
          "name": "stderr",
          "output_type": "stream",
          "text": [
            "\rProgress:   4%|▍         | 89/2000 [01:53<39:49,  1.25s/stock]"
          ]
        },
        {
          "metadata": {
            "tags": null
          },
          "name": "stdout",
          "output_type": "stream",
          "text": [
            "Error retrieving data for JW신약 (A067290): '종가'\n"
          ]
        },
        {
          "metadata": {
            "tags": null
          },
          "name": "stderr",
          "output_type": "stream",
          "text": [
            "\rProgress:   4%|▍         | 90/2000 [01:54<39:41,  1.25s/stock]"
          ]
        },
        {
          "metadata": {
            "tags": null
          },
          "name": "stdout",
          "output_type": "stream",
          "text": [
            "Error retrieving data for JW중외제약 (A001060): '종가'\n"
          ]
        },
        {
          "metadata": {
            "tags": null
          },
          "name": "stderr",
          "output_type": "stream",
          "text": [
            "\rProgress:   5%|▍         | 91/2000 [01:55<40:13,  1.26s/stock]"
          ]
        },
        {
          "metadata": {
            "tags": null
          },
          "name": "stdout",
          "output_type": "stream",
          "text": [
            "Error retrieving data for JW홀딩스 (A096760): '종가'\n"
          ]
        },
        {
          "metadata": {
            "tags": null
          },
          "name": "stderr",
          "output_type": "stream",
          "text": [
            "\rProgress:   5%|▍         | 92/2000 [01:57<40:03,  1.26s/stock]"
          ]
        },
        {
          "metadata": {
            "tags": null
          },
          "name": "stdout",
          "output_type": "stream",
          "text": [
            "Error retrieving data for JYP Ent. (A035900): '종가'\n"
          ]
        },
        {
          "metadata": {
            "tags": null
          },
          "name": "stderr",
          "output_type": "stream",
          "text": [
            "\rProgress:   5%|▍         | 93/2000 [01:58<39:57,  1.26s/stock]"
          ]
        },
        {
          "metadata": {
            "tags": null
          },
          "name": "stdout",
          "output_type": "stream",
          "text": [
            "Error retrieving data for KBG (A318000): '종가'\n"
          ]
        },
        {
          "metadata": {
            "tags": null
          },
          "name": "stderr",
          "output_type": "stream",
          "text": [
            "\rProgress:   5%|▍         | 94/2000 [01:59<40:30,  1.28s/stock]"
          ]
        },
        {
          "metadata": {
            "tags": null
          },
          "name": "stdout",
          "output_type": "stream",
          "text": [
            "Error retrieving data for KBI메탈 (A024840): '종가'\n"
          ]
        },
        {
          "metadata": {
            "tags": null
          },
          "name": "stderr",
          "output_type": "stream",
          "text": [
            "\rProgress:   5%|▍         | 95/2000 [02:01<40:30,  1.28s/stock]"
          ]
        },
        {
          "metadata": {
            "tags": null
          },
          "name": "stdout",
          "output_type": "stream",
          "text": [
            "Error retrieving data for KB금융 (A105560): '종가'\n"
          ]
        },
        {
          "metadata": {
            "tags": null
          },
          "name": "stderr",
          "output_type": "stream",
          "text": [
            "\rProgress:   5%|▍         | 96/2000 [02:02<40:11,  1.27s/stock]"
          ]
        },
        {
          "metadata": {
            "tags": null
          },
          "name": "stdout",
          "output_type": "stream",
          "text": [
            "Error retrieving data for KB오토시스 (A024120): '종가'\n"
          ]
        },
        {
          "metadata": {
            "tags": null
          },
          "name": "stderr",
          "output_type": "stream",
          "text": [
            "\rProgress:   5%|▍         | 97/2000 [02:03<41:02,  1.29s/stock]"
          ]
        },
        {
          "metadata": {
            "tags": null
          },
          "name": "stdout",
          "output_type": "stream",
          "text": [
            "Error retrieving data for KCC (A002380): '종가'\n"
          ]
        },
        {
          "metadata": {
            "tags": null
          },
          "name": "stderr",
          "output_type": "stream",
          "text": [
            "\rProgress:   5%|▍         | 98/2000 [02:04<40:29,  1.28s/stock]"
          ]
        },
        {
          "metadata": {
            "tags": null
          },
          "name": "stdout",
          "output_type": "stream",
          "text": [
            "Error retrieving data for KCC건설 (A021320): '종가'\n"
          ]
        },
        {
          "metadata": {
            "tags": null
          },
          "name": "stderr",
          "output_type": "stream",
          "text": [
            "\rProgress:   5%|▍         | 99/2000 [02:06<40:16,  1.27s/stock]"
          ]
        },
        {
          "metadata": {
            "tags": null
          },
          "name": "stdout",
          "output_type": "stream",
          "text": [
            "Error retrieving data for KCC글라스 (A344820): '종가'\n"
          ]
        },
        {
          "metadata": {
            "tags": null
          },
          "name": "stderr",
          "output_type": "stream",
          "text": [
            "\rProgress:   5%|▌         | 100/2000 [02:07<41:16,  1.30s/stock]"
          ]
        },
        {
          "metadata": {
            "tags": null
          },
          "name": "stdout",
          "output_type": "stream",
          "text": [
            "Error retrieving data for KCI (A036670): '종가'\n"
          ]
        },
        {
          "metadata": {
            "tags": null
          },
          "name": "stderr",
          "output_type": "stream",
          "text": [
            "\rProgress:   5%|▌         | 101/2000 [02:08<40:39,  1.28s/stock]"
          ]
        },
        {
          "metadata": {
            "tags": null
          },
          "name": "stdout",
          "output_type": "stream",
          "text": [
            "Error retrieving data for KCTC (A009070): '종가'\n"
          ]
        },
        {
          "metadata": {
            "tags": null
          },
          "name": "stderr",
          "output_type": "stream",
          "text": [
            "\rProgress:   5%|▌         | 102/2000 [02:09<40:10,  1.27s/stock]"
          ]
        },
        {
          "metadata": {
            "tags": null
          },
          "name": "stdout",
          "output_type": "stream",
          "text": [
            "Error retrieving data for KC그린홀딩스 (A009440): '종가'\n"
          ]
        },
        {
          "metadata": {
            "tags": null
          },
          "name": "stderr",
          "output_type": "stream",
          "text": [
            "\rProgress:   5%|▌         | 103/2000 [02:11<39:50,  1.26s/stock]"
          ]
        },
        {
          "metadata": {
            "tags": null
          },
          "name": "stdout",
          "output_type": "stream",
          "text": [
            "Error retrieving data for KC코트렐 (A119650): '종가'\n"
          ]
        },
        {
          "metadata": {
            "tags": null
          },
          "name": "stderr",
          "output_type": "stream",
          "text": [
            "\rProgress:   5%|▌         | 104/2000 [02:12<39:39,  1.25s/stock]"
          ]
        },
        {
          "metadata": {
            "tags": null
          },
          "name": "stdout",
          "output_type": "stream",
          "text": [
            "Error retrieving data for KEC (A092220): '종가'\n"
          ]
        },
        {
          "metadata": {
            "tags": null
          },
          "name": "stderr",
          "output_type": "stream",
          "text": [
            "\rProgress:   5%|▌         | 105/2000 [02:13<39:29,  1.25s/stock]"
          ]
        },
        {
          "metadata": {
            "tags": null
          },
          "name": "stdout",
          "output_type": "stream",
          "text": [
            "Error retrieving data for KG ETS (A151860): '종가'\n"
          ]
        },
        {
          "metadata": {
            "tags": null
          },
          "name": "stderr",
          "output_type": "stream",
          "text": [
            "\rProgress:   5%|▌         | 106/2000 [02:14<39:23,  1.25s/stock]"
          ]
        },
        {
          "metadata": {
            "tags": null
          },
          "name": "stdout",
          "output_type": "stream",
          "text": [
            "Error retrieving data for KG모빌리언스 (A046440): '종가'\n"
          ]
        },
        {
          "metadata": {
            "tags": null
          },
          "name": "stderr",
          "output_type": "stream",
          "text": [
            "\rProgress:   5%|▌         | 107/2000 [02:16<39:22,  1.25s/stock]"
          ]
        },
        {
          "metadata": {
            "tags": null
          },
          "name": "stdout",
          "output_type": "stream",
          "text": [
            "Error retrieving data for KG모빌리티 (A003620): '종가'\n"
          ]
        },
        {
          "metadata": {
            "tags": null
          },
          "name": "stderr",
          "output_type": "stream",
          "text": [
            "\rProgress:   5%|▌         | 108/2000 [02:17<39:23,  1.25s/stock]"
          ]
        },
        {
          "metadata": {
            "tags": null
          },
          "name": "stdout",
          "output_type": "stream",
          "text": [
            "Error retrieving data for KG스틸 (A016380): '종가'\n"
          ]
        },
        {
          "metadata": {
            "tags": null
          },
          "name": "stderr",
          "output_type": "stream",
          "text": [
            "\rProgress:   5%|▌         | 109/2000 [02:18<39:19,  1.25s/stock]"
          ]
        },
        {
          "metadata": {
            "tags": null
          },
          "name": "stdout",
          "output_type": "stream",
          "text": [
            "Error retrieving data for KG이니시스 (A035600): '종가'\n"
          ]
        },
        {
          "metadata": {
            "tags": null
          },
          "name": "stderr",
          "output_type": "stream",
          "text": [
            "\rProgress:   6%|▌         | 110/2000 [02:19<39:13,  1.25s/stock]"
          ]
        },
        {
          "metadata": {
            "tags": null
          },
          "name": "stdout",
          "output_type": "stream",
          "text": [
            "Error retrieving data for KG케미칼 (A001390): '종가'\n"
          ]
        },
        {
          "metadata": {
            "tags": null
          },
          "name": "stderr",
          "output_type": "stream",
          "text": [
            "\rProgress:   6%|▌         | 111/2000 [02:21<39:10,  1.24s/stock]"
          ]
        },
        {
          "metadata": {
            "tags": null
          },
          "name": "stdout",
          "output_type": "stream",
          "text": [
            "Error retrieving data for KH 필룩스 (A033180): '종가'\n"
          ]
        },
        {
          "metadata": {
            "tags": null
          },
          "name": "stderr",
          "output_type": "stream",
          "text": [
            "\rProgress:   6%|▌         | 112/2000 [02:22<39:01,  1.24s/stock]"
          ]
        },
        {
          "metadata": {
            "tags": null
          },
          "name": "stdout",
          "output_type": "stream",
          "text": [
            "Error retrieving data for KH바텍 (A060720): '종가'\n"
          ]
        },
        {
          "metadata": {
            "tags": null
          },
          "name": "stderr",
          "output_type": "stream",
          "text": [
            "\rProgress:   6%|▌         | 113/2000 [02:23<42:22,  1.35s/stock]"
          ]
        },
        {
          "metadata": {
            "tags": null
          },
          "name": "stdout",
          "output_type": "stream",
          "text": [
            "Error retrieving data for KISCO홀딩스 (A001940): '종가'\n"
          ]
        },
        {
          "metadata": {
            "tags": null
          },
          "name": "stderr",
          "output_type": "stream",
          "text": [
            "\rProgress:   6%|▌         | 114/2000 [02:25<41:31,  1.32s/stock]"
          ]
        },
        {
          "metadata": {
            "tags": null
          },
          "name": "stdout",
          "output_type": "stream",
          "text": [
            "Error retrieving data for KNN (A058400): '종가'\n"
          ]
        },
        {
          "metadata": {
            "tags": null
          },
          "name": "stderr",
          "output_type": "stream",
          "text": [
            "\rProgress:   6%|▌         | 115/2000 [02:26<41:28,  1.32s/stock]"
          ]
        },
        {
          "metadata": {
            "tags": null
          },
          "name": "stdout",
          "output_type": "stream",
          "text": [
            "Error retrieving data for KPX생명과학 (A114450): '종가'\n"
          ]
        },
        {
          "metadata": {
            "tags": null
          },
          "name": "stderr",
          "output_type": "stream",
          "text": [
            "\rProgress:   6%|▌         | 116/2000 [02:27<41:03,  1.31s/stock]"
          ]
        },
        {
          "metadata": {
            "tags": null
          },
          "name": "stdout",
          "output_type": "stream",
          "text": [
            "Error retrieving data for KPX케미칼 (A025000): '종가'\n"
          ]
        },
        {
          "metadata": {
            "tags": null
          },
          "name": "stderr",
          "output_type": "stream",
          "text": [
            "\rProgress:   6%|▌         | 117/2000 [02:29<40:47,  1.30s/stock]"
          ]
        },
        {
          "metadata": {
            "tags": null
          },
          "name": "stdout",
          "output_type": "stream",
          "text": [
            "Error retrieving data for KPX홀딩스 (A092230): '종가'\n"
          ]
        },
        {
          "metadata": {
            "tags": null
          },
          "name": "stderr",
          "output_type": "stream",
          "text": [
            "\rProgress:   6%|▌         | 118/2000 [02:30<40:23,  1.29s/stock]"
          ]
        },
        {
          "metadata": {
            "tags": null
          },
          "name": "stdout",
          "output_type": "stream",
          "text": [
            "Error retrieving data for KR모터스 (A000040): '종가'\n"
          ]
        },
        {
          "metadata": {
            "tags": null
          },
          "name": "stderr",
          "output_type": "stream",
          "text": [
            "\rProgress:   6%|▌         | 119/2000 [02:31<40:13,  1.28s/stock]"
          ]
        },
        {
          "metadata": {
            "tags": null
          },
          "name": "stdout",
          "output_type": "stream",
          "text": [
            "Error retrieving data for KSS해운 (A044450): '종가'\n"
          ]
        },
        {
          "metadata": {
            "tags": null
          },
          "name": "stderr",
          "output_type": "stream",
          "text": [
            "\rProgress:   6%|▌         | 120/2000 [02:32<40:26,  1.29s/stock]"
          ]
        },
        {
          "metadata": {
            "tags": null
          },
          "name": "stdout",
          "output_type": "stream",
          "text": [
            "Error retrieving data for KT (A030200): '종가'\n"
          ]
        },
        {
          "metadata": {
            "tags": null
          },
          "name": "stderr",
          "output_type": "stream",
          "text": [
            "\rProgress:   6%|▌         | 121/2000 [02:34<40:06,  1.28s/stock]"
          ]
        },
        {
          "metadata": {
            "tags": null
          },
          "name": "stdout",
          "output_type": "stream",
          "text": [
            "Error retrieving data for KT&G (A033780): '종가'\n"
          ]
        },
        {
          "metadata": {
            "tags": null
          },
          "name": "stderr",
          "output_type": "stream",
          "text": [
            "\rProgress:   6%|▌         | 122/2000 [02:35<40:05,  1.28s/stock]"
          ]
        },
        {
          "metadata": {
            "tags": null
          },
          "name": "stdout",
          "output_type": "stream",
          "text": [
            "Error retrieving data for KTcs (A058850): '종가'\n"
          ]
        },
        {
          "metadata": {
            "tags": null
          },
          "name": "stderr",
          "output_type": "stream",
          "text": [
            "\rProgress:   6%|▌         | 123/2000 [02:36<39:55,  1.28s/stock]"
          ]
        },
        {
          "metadata": {
            "tags": null
          },
          "name": "stdout",
          "output_type": "stream",
          "text": [
            "Error retrieving data for KTis (A058860): '종가'\n"
          ]
        },
        {
          "metadata": {
            "tags": null
          },
          "name": "stderr",
          "output_type": "stream",
          "text": [
            "\rProgress:   6%|▌         | 124/2000 [02:38<39:49,  1.27s/stock]"
          ]
        },
        {
          "metadata": {
            "tags": null
          },
          "name": "stdout",
          "output_type": "stream",
          "text": [
            "Error retrieving data for KT서브마린 (A060370): '종가'\n"
          ]
        },
        {
          "metadata": {
            "tags": null
          },
          "name": "stderr",
          "output_type": "stream",
          "text": [
            "\rProgress:   6%|▋         | 125/2000 [02:39<39:41,  1.27s/stock]"
          ]
        },
        {
          "metadata": {
            "tags": null
          },
          "name": "stdout",
          "output_type": "stream",
          "text": [
            "Error retrieving data for KX (A122450): '종가'\n"
          ]
        },
        {
          "metadata": {
            "tags": null
          },
          "name": "stderr",
          "output_type": "stream",
          "text": [
            "\rProgress:   6%|▋         | 126/2000 [02:40<39:44,  1.27s/stock]"
          ]
        },
        {
          "metadata": {
            "tags": null
          },
          "name": "stdout",
          "output_type": "stream",
          "text": [
            "Error retrieving data for KX하이텍 (A052900): '종가'\n"
          ]
        },
        {
          "metadata": {
            "tags": null
          },
          "name": "stderr",
          "output_type": "stream",
          "text": [
            "\rProgress:   6%|▋         | 127/2000 [02:41<40:15,  1.29s/stock]"
          ]
        },
        {
          "metadata": {
            "tags": null
          },
          "name": "stdout",
          "output_type": "stream",
          "text": [
            "Error retrieving data for LB세미콘 (A061970): '종가'\n"
          ]
        },
        {
          "metadata": {
            "tags": null
          },
          "name": "stderr",
          "output_type": "stream",
          "text": [
            "\rProgress:   6%|▋         | 128/2000 [02:43<40:00,  1.28s/stock]"
          ]
        },
        {
          "metadata": {
            "tags": null
          },
          "name": "stdout",
          "output_type": "stream",
          "text": [
            "Error retrieving data for LF (A093050): '종가'\n"
          ]
        },
        {
          "metadata": {
            "tags": null
          },
          "name": "stderr",
          "output_type": "stream",
          "text": [
            "\rProgress:   6%|▋         | 129/2000 [02:44<43:04,  1.38s/stock]"
          ]
        },
        {
          "metadata": {
            "tags": null
          },
          "name": "stdout",
          "output_type": "stream",
          "text": [
            "Error retrieving data for LG (A003550): '종가'\n"
          ]
        },
        {
          "metadata": {
            "tags": null
          },
          "name": "stderr",
          "output_type": "stream",
          "text": [
            "\rProgress:   6%|▋         | 130/2000 [02:46<41:50,  1.34s/stock]"
          ]
        },
        {
          "metadata": {
            "tags": null
          },
          "name": "stdout",
          "output_type": "stream",
          "text": [
            "Error retrieving data for LG디스플레이 (A034220): '종가'\n"
          ]
        },
        {
          "metadata": {
            "tags": null
          },
          "name": "stderr",
          "output_type": "stream",
          "text": [
            "\rProgress:   7%|▋         | 131/2000 [02:47<40:58,  1.32s/stock]"
          ]
        },
        {
          "metadata": {
            "tags": null
          },
          "name": "stdout",
          "output_type": "stream",
          "text": [
            "Error retrieving data for LG생활건강 (A051900): '종가'\n"
          ]
        },
        {
          "metadata": {
            "tags": null
          },
          "name": "stderr",
          "output_type": "stream",
          "text": [
            "\rProgress:   7%|▋         | 132/2000 [02:48<40:16,  1.29s/stock]"
          ]
        },
        {
          "metadata": {
            "tags": null
          },
          "name": "stdout",
          "output_type": "stream",
          "text": [
            "Error retrieving data for LG유플러스 (A032640): '종가'\n"
          ]
        },
        {
          "metadata": {
            "tags": null
          },
          "name": "stderr",
          "output_type": "stream",
          "text": [
            "\rProgress:   7%|▋         | 133/2000 [02:49<39:51,  1.28s/stock]"
          ]
        },
        {
          "metadata": {
            "tags": null
          },
          "name": "stdout",
          "output_type": "stream",
          "text": [
            "Error retrieving data for LG이노텍 (A011070): '종가'\n"
          ]
        },
        {
          "metadata": {
            "tags": null
          },
          "name": "stderr",
          "output_type": "stream",
          "text": [
            "\rProgress:   7%|▋         | 134/2000 [02:51<39:30,  1.27s/stock]"
          ]
        },
        {
          "metadata": {
            "tags": null
          },
          "name": "stdout",
          "output_type": "stream",
          "text": [
            "Error retrieving data for LG전자 (A066570): '종가'\n"
          ]
        },
        {
          "metadata": {
            "tags": null
          },
          "name": "stderr",
          "output_type": "stream",
          "text": [
            "\rProgress:   7%|▋         | 135/2000 [02:52<39:21,  1.27s/stock]"
          ]
        },
        {
          "metadata": {
            "tags": null
          },
          "name": "stdout",
          "output_type": "stream",
          "text": [
            "Error retrieving data for LG헬로비전 (A037560): '종가'\n"
          ]
        },
        {
          "metadata": {
            "tags": null
          },
          "name": "stderr",
          "output_type": "stream",
          "text": [
            "\rProgress:   7%|▋         | 136/2000 [02:53<39:17,  1.26s/stock]"
          ]
        },
        {
          "metadata": {
            "tags": null
          },
          "name": "stdout",
          "output_type": "stream",
          "text": [
            "Error retrieving data for LG화학 (A051910): '종가'\n"
          ]
        },
        {
          "metadata": {
            "tags": null
          },
          "name": "stderr",
          "output_type": "stream",
          "text": [
            "\rProgress:   7%|▋         | 137/2000 [02:54<39:16,  1.26s/stock]"
          ]
        },
        {
          "metadata": {
            "tags": null
          },
          "name": "stdout",
          "output_type": "stream",
          "text": [
            "Error retrieving data for LIG넥스원 (A079550): '종가'\n"
          ]
        },
        {
          "metadata": {
            "tags": null
          },
          "name": "stderr",
          "output_type": "stream",
          "text": [
            "\rProgress:   7%|▋         | 138/2000 [02:56<39:06,  1.26s/stock]"
          ]
        },
        {
          "metadata": {
            "tags": null
          },
          "name": "stdout",
          "output_type": "stream",
          "text": [
            "Error retrieving data for LS (A006260): '종가'\n"
          ]
        },
        {
          "metadata": {
            "tags": null
          },
          "name": "stderr",
          "output_type": "stream",
          "text": [
            "\rProgress:   7%|▋         | 139/2000 [02:57<39:07,  1.26s/stock]"
          ]
        },
        {
          "metadata": {
            "tags": null
          },
          "name": "stdout",
          "output_type": "stream",
          "text": [
            "Error retrieving data for LS ELECTRIC (A010120): '종가'\n"
          ]
        },
        {
          "metadata": {
            "tags": null
          },
          "name": "stderr",
          "output_type": "stream",
          "text": [
            "\rProgress:   7%|▋         | 140/2000 [02:58<39:11,  1.26s/stock]"
          ]
        },
        {
          "metadata": {
            "tags": null
          },
          "name": "stdout",
          "output_type": "stream",
          "text": [
            "Error retrieving data for LS네트웍스 (A000680): '종가'\n"
          ]
        },
        {
          "metadata": {
            "tags": null
          },
          "name": "stderr",
          "output_type": "stream",
          "text": [
            "\rProgress:   7%|▋         | 141/2000 [02:59<39:11,  1.26s/stock]"
          ]
        },
        {
          "metadata": {
            "tags": null
          },
          "name": "stdout",
          "output_type": "stream",
          "text": [
            "Error retrieving data for LS전선아시아 (A229640): '종가'\n"
          ]
        },
        {
          "metadata": {
            "tags": null
          },
          "name": "stderr",
          "output_type": "stream",
          "text": [
            "\rProgress:   7%|▋         | 142/2000 [03:01<38:59,  1.26s/stock]"
          ]
        },
        {
          "metadata": {
            "tags": null
          },
          "name": "stdout",
          "output_type": "stream",
          "text": [
            "Error retrieving data for LX세미콘 (A108320): '종가'\n"
          ]
        },
        {
          "metadata": {
            "tags": null
          },
          "name": "stderr",
          "output_type": "stream",
          "text": [
            "\rProgress:   7%|▋         | 143/2000 [03:02<38:56,  1.26s/stock]"
          ]
        },
        {
          "metadata": {
            "tags": null
          },
          "name": "stdout",
          "output_type": "stream",
          "text": [
            "Error retrieving data for LX인터내셔널 (A001120): '종가'\n"
          ]
        },
        {
          "metadata": {
            "tags": null
          },
          "name": "stderr",
          "output_type": "stream",
          "text": [
            "\rProgress:   7%|▋         | 144/2000 [03:03<38:55,  1.26s/stock]"
          ]
        },
        {
          "metadata": {
            "tags": null
          },
          "name": "stdout",
          "output_type": "stream",
          "text": [
            "Error retrieving data for LX하우시스 (A108670): '종가'\n"
          ]
        },
        {
          "metadata": {
            "tags": null
          },
          "name": "stderr",
          "output_type": "stream",
          "text": [
            "\rProgress:   7%|▋         | 145/2000 [03:04<39:13,  1.27s/stock]"
          ]
        },
        {
          "metadata": {
            "tags": null
          },
          "name": "stdout",
          "output_type": "stream",
          "text": [
            "Error retrieving data for LX홀딩스 (A383800): '종가'\n"
          ]
        },
        {
          "metadata": {
            "tags": null
          },
          "name": "stderr",
          "output_type": "stream",
          "text": [
            "\rProgress:   7%|▋         | 146/2000 [03:06<39:05,  1.27s/stock]"
          ]
        },
        {
          "metadata": {
            "tags": null
          },
          "name": "stdout",
          "output_type": "stream",
          "text": [
            "Error retrieving data for MDS테크 (A086960): '종가'\n"
          ]
        },
        {
          "metadata": {
            "tags": null
          },
          "name": "stderr",
          "output_type": "stream",
          "text": [
            "\rProgress:   7%|▋         | 147/2000 [03:07<38:40,  1.25s/stock]"
          ]
        },
        {
          "metadata": {
            "tags": null
          },
          "name": "stdout",
          "output_type": "stream",
          "text": [
            "Error retrieving data for MH에탄올 (A023150): '종가'\n"
          ]
        },
        {
          "metadata": {
            "tags": null
          },
          "name": "stderr",
          "output_type": "stream",
          "text": [
            "\rProgress:   7%|▋         | 148/2000 [03:08<38:48,  1.26s/stock]"
          ]
        },
        {
          "metadata": {
            "tags": null
          },
          "name": "stdout",
          "output_type": "stream",
          "text": [
            "Error retrieving data for NAVER (A035420): '종가'\n"
          ]
        },
        {
          "metadata": {
            "tags": null
          },
          "name": "stderr",
          "output_type": "stream",
          "text": [
            "\rProgress:   7%|▋         | 149/2000 [03:09<39:16,  1.27s/stock]"
          ]
        },
        {
          "metadata": {
            "tags": null
          },
          "name": "stdout",
          "output_type": "stream",
          "text": [
            "Error retrieving data for NEW (A160550): '종가'\n"
          ]
        },
        {
          "metadata": {
            "tags": null
          },
          "name": "stderr",
          "output_type": "stream",
          "text": [
            "\rProgress:   8%|▊         | 150/2000 [03:11<38:48,  1.26s/stock]"
          ]
        },
        {
          "metadata": {
            "tags": null
          },
          "name": "stdout",
          "output_type": "stream",
          "text": [
            "Error retrieving data for NE능률 (A053290): '종가'\n"
          ]
        },
        {
          "metadata": {
            "tags": null
          },
          "name": "stderr",
          "output_type": "stream",
          "text": [
            "\rProgress:   8%|▊         | 151/2000 [03:12<38:36,  1.25s/stock]"
          ]
        },
        {
          "metadata": {
            "tags": null
          },
          "name": "stdout",
          "output_type": "stream",
          "text": [
            "Error retrieving data for NHN (A181710): '종가'\n"
          ]
        },
        {
          "metadata": {
            "tags": null
          },
          "name": "stderr",
          "output_type": "stream",
          "text": [
            "\rProgress:   8%|▊         | 152/2000 [03:13<38:22,  1.25s/stock]"
          ]
        },
        {
          "metadata": {
            "tags": null
          },
          "name": "stdout",
          "output_type": "stream",
          "text": [
            "Error retrieving data for NHN KCP (A060250): '종가'\n"
          ]
        },
        {
          "metadata": {
            "tags": null
          },
          "name": "stderr",
          "output_type": "stream",
          "text": [
            "\rProgress:   8%|▊         | 153/2000 [03:14<38:30,  1.25s/stock]"
          ]
        },
        {
          "metadata": {
            "tags": null
          },
          "name": "stdout",
          "output_type": "stream",
          "text": [
            "Error retrieving data for NHN벅스 (A104200): '종가'\n"
          ]
        },
        {
          "metadata": {
            "tags": null
          },
          "name": "stderr",
          "output_type": "stream",
          "text": [
            "\rProgress:   8%|▊         | 154/2000 [03:16<38:11,  1.24s/stock]"
          ]
        },
        {
          "metadata": {
            "tags": null
          },
          "name": "stdout",
          "output_type": "stream",
          "text": [
            "Error retrieving data for NH투자증권 (A005940): '종가'\n"
          ]
        },
        {
          "metadata": {
            "tags": null
          },
          "name": "stderr",
          "output_type": "stream",
          "text": [
            "\rProgress:   8%|▊         | 155/2000 [03:17<38:01,  1.24s/stock]"
          ]
        },
        {
          "metadata": {
            "tags": null
          },
          "name": "stdout",
          "output_type": "stream",
          "text": [
            "Error retrieving data for NICE (A034310): '종가'\n"
          ]
        },
        {
          "metadata": {
            "tags": null
          },
          "name": "stderr",
          "output_type": "stream",
          "text": [
            "\rProgress:   8%|▊         | 156/2000 [03:18<37:52,  1.23s/stock]"
          ]
        },
        {
          "metadata": {
            "tags": null
          },
          "name": "stdout",
          "output_type": "stream",
          "text": [
            "Error retrieving data for NICE평가정보 (A030190): '종가'\n"
          ]
        },
        {
          "metadata": {
            "tags": null
          },
          "name": "stderr",
          "output_type": "stream",
          "text": [
            "\rProgress:   8%|▊         | 157/2000 [03:19<37:48,  1.23s/stock]"
          ]
        },
        {
          "metadata": {
            "tags": null
          },
          "name": "stdout",
          "output_type": "stream",
          "text": [
            "Error retrieving data for NI스틸 (A008260): '종가'\n"
          ]
        },
        {
          "metadata": {
            "tags": null
          },
          "name": "stderr",
          "output_type": "stream",
          "text": [
            "\rProgress:   8%|▊         | 158/2000 [03:21<37:45,  1.23s/stock]"
          ]
        },
        {
          "metadata": {
            "tags": null
          },
          "name": "stdout",
          "output_type": "stream",
          "text": [
            "Error retrieving data for NPC (A004250): '종가'\n"
          ]
        },
        {
          "metadata": {
            "tags": null
          },
          "name": "stderr",
          "output_type": "stream",
          "text": [
            "\rProgress:   8%|▊         | 159/2000 [03:22<37:46,  1.23s/stock]"
          ]
        },
        {
          "metadata": {
            "tags": null
          },
          "name": "stdout",
          "output_type": "stream",
          "text": [
            "Error retrieving data for OCI홀딩스 (A010060): '종가'\n"
          ]
        },
        {
          "metadata": {
            "tags": null
          },
          "name": "stderr",
          "output_type": "stream",
          "text": [
            "\rProgress:   8%|▊         | 160/2000 [03:23<37:47,  1.23s/stock]"
          ]
        },
        {
          "metadata": {
            "tags": null
          },
          "name": "stdout",
          "output_type": "stream",
          "text": [
            "Error retrieving data for PI첨단소재 (A178920): '종가'\n"
          ]
        },
        {
          "metadata": {
            "tags": null
          },
          "name": "stderr",
          "output_type": "stream",
          "text": [
            "\rProgress:   8%|▊         | 161/2000 [03:24<38:14,  1.25s/stock]"
          ]
        },
        {
          "metadata": {
            "tags": null
          },
          "name": "stdout",
          "output_type": "stream",
          "text": [
            "Error retrieving data for PN풍년 (A024940): '종가'\n"
          ]
        },
        {
          "metadata": {
            "tags": null
          },
          "name": "stderr",
          "output_type": "stream",
          "text": [
            "\rProgress:   8%|▊         | 162/2000 [03:26<38:12,  1.25s/stock]"
          ]
        },
        {
          "metadata": {
            "tags": null
          },
          "name": "stdout",
          "output_type": "stream",
          "text": [
            "Error retrieving data for POSCO홀딩스 (A005490): '종가'\n"
          ]
        },
        {
          "metadata": {
            "tags": null
          },
          "name": "stderr",
          "output_type": "stream",
          "text": [
            "\rProgress:   8%|▊         | 163/2000 [03:27<38:06,  1.24s/stock]"
          ]
        },
        {
          "metadata": {
            "tags": null
          },
          "name": "stdout",
          "output_type": "stream",
          "text": [
            "Error retrieving data for RFHIC (A218410): '종가'\n"
          ]
        },
        {
          "metadata": {
            "tags": null
          },
          "name": "stderr",
          "output_type": "stream",
          "text": [
            "\rProgress:   8%|▊         | 164/2000 [03:28<38:01,  1.24s/stock]"
          ]
        },
        {
          "metadata": {
            "tags": null
          },
          "name": "stdout",
          "output_type": "stream",
          "text": [
            "Error retrieving data for RF머트리얼즈 (A327260): '종가'\n"
          ]
        },
        {
          "metadata": {
            "tags": null
          },
          "name": "stderr",
          "output_type": "stream",
          "text": [
            "\rProgress:   8%|▊         | 165/2000 [03:29<38:07,  1.25s/stock]"
          ]
        },
        {
          "metadata": {
            "tags": null
          },
          "name": "stdout",
          "output_type": "stream",
          "text": [
            "Error retrieving data for S&K폴리텍 (A091340): '종가'\n"
          ]
        },
        {
          "metadata": {
            "tags": null
          },
          "name": "stderr",
          "output_type": "stream",
          "text": [
            "\rProgress:   8%|▊         | 166/2000 [03:31<38:09,  1.25s/stock]"
          ]
        },
        {
          "metadata": {
            "tags": null
          },
          "name": "stdout",
          "output_type": "stream",
          "text": [
            "Error retrieving data for S-Oil (A010950): '종가'\n"
          ]
        },
        {
          "metadata": {
            "tags": null
          },
          "name": "stderr",
          "output_type": "stream",
          "text": [
            "\rProgress:   8%|▊         | 167/2000 [03:32<38:40,  1.27s/stock]"
          ]
        },
        {
          "metadata": {
            "tags": null
          },
          "name": "stdout",
          "output_type": "stream",
          "text": [
            "Error retrieving data for SBI인베스트먼트 (A019550): '종가'\n"
          ]
        },
        {
          "metadata": {
            "tags": null
          },
          "name": "stderr",
          "output_type": "stream",
          "text": [
            "\rProgress:   8%|▊         | 168/2000 [03:33<38:28,  1.26s/stock]"
          ]
        },
        {
          "metadata": {
            "tags": null
          },
          "name": "stdout",
          "output_type": "stream",
          "text": [
            "Error retrieving data for SBS (A034120): '종가'\n"
          ]
        },
        {
          "metadata": {
            "tags": null
          },
          "name": "stderr",
          "output_type": "stream",
          "text": [
            "\rProgress:   8%|▊         | 169/2000 [03:34<38:19,  1.26s/stock]"
          ]
        },
        {
          "metadata": {
            "tags": null
          },
          "name": "stdout",
          "output_type": "stream",
          "text": [
            "Error retrieving data for SBS콘텐츠허브 (A046140): '종가'\n"
          ]
        },
        {
          "metadata": {
            "tags": null
          },
          "name": "stderr",
          "output_type": "stream",
          "text": [
            "\rProgress:   8%|▊         | 170/2000 [03:36<38:15,  1.25s/stock]"
          ]
        },
        {
          "metadata": {
            "tags": null
          },
          "name": "stdout",
          "output_type": "stream",
          "text": [
            "Error retrieving data for SBW생명과학 (A151910): '종가'\n"
          ]
        },
        {
          "metadata": {
            "tags": null
          },
          "name": "stderr",
          "output_type": "stream",
          "text": [
            "\rProgress:   9%|▊         | 171/2000 [03:37<38:08,  1.25s/stock]"
          ]
        },
        {
          "metadata": {
            "tags": null
          },
          "name": "stdout",
          "output_type": "stream",
          "text": [
            "Error retrieving data for SCI평가정보 (A036120): '종가'\n"
          ]
        },
        {
          "metadata": {
            "tags": null
          },
          "name": "stderr",
          "output_type": "stream",
          "text": [
            "\rProgress:   9%|▊         | 172/2000 [03:38<38:08,  1.25s/stock]"
          ]
        },
        {
          "metadata": {
            "tags": null
          },
          "name": "stdout",
          "output_type": "stream",
          "text": [
            "Error retrieving data for SDN (A099220): '종가'\n"
          ]
        },
        {
          "metadata": {
            "tags": null
          },
          "name": "stderr",
          "output_type": "stream",
          "text": [
            "\rProgress:   9%|▊         | 173/2000 [03:39<38:01,  1.25s/stock]"
          ]
        },
        {
          "metadata": {
            "tags": null
          },
          "name": "stdout",
          "output_type": "stream",
          "text": [
            "Error retrieving data for SFA반도체 (A036540): '종가'\n"
          ]
        },
        {
          "metadata": {
            "tags": null
          },
          "name": "stderr",
          "output_type": "stream",
          "text": [
            "\rProgress:   9%|▊         | 174/2000 [03:41<38:02,  1.25s/stock]"
          ]
        },
        {
          "metadata": {
            "tags": null
          },
          "name": "stdout",
          "output_type": "stream",
          "text": [
            "Error retrieving data for SG (A255220): '종가'\n"
          ]
        },
        {
          "metadata": {
            "tags": null
          },
          "name": "stderr",
          "output_type": "stream",
          "text": [
            "\rProgress:   9%|▉         | 175/2000 [03:42<38:13,  1.26s/stock]"
          ]
        },
        {
          "metadata": {
            "tags": null
          },
          "name": "stdout",
          "output_type": "stream",
          "text": [
            "Error retrieving data for SG&G (A040610): '종가'\n"
          ]
        },
        {
          "metadata": {
            "tags": null
          },
          "name": "stderr",
          "output_type": "stream",
          "text": [
            "\rProgress:   9%|▉         | 176/2000 [03:43<38:04,  1.25s/stock]"
          ]
        },
        {
          "metadata": {
            "tags": null
          },
          "name": "stdout",
          "output_type": "stream",
          "text": [
            "Error retrieving data for SGA솔루션즈 (A184230): '종가'\n"
          ]
        },
        {
          "metadata": {
            "tags": null
          },
          "name": "stderr",
          "output_type": "stream",
          "text": [
            "\rProgress:   9%|▉         | 177/2000 [03:45<40:26,  1.33s/stock]"
          ]
        },
        {
          "metadata": {
            "tags": null
          },
          "name": "stdout",
          "output_type": "stream",
          "text": [
            "Error retrieving data for SGC에너지 (A005090): '종가'\n"
          ]
        },
        {
          "metadata": {
            "tags": null
          },
          "name": "stderr",
          "output_type": "stream",
          "text": [
            "\rProgress:   9%|▉         | 178/2000 [03:46<40:14,  1.33s/stock]"
          ]
        },
        {
          "metadata": {
            "tags": null
          },
          "name": "stdout",
          "output_type": "stream",
          "text": [
            "Error retrieving data for SGC이테크건설 (A016250): '종가'\n"
          ]
        },
        {
          "metadata": {
            "tags": null
          },
          "name": "stderr",
          "output_type": "stream",
          "text": [
            "\rProgress:   9%|▉         | 179/2000 [03:47<39:26,  1.30s/stock]"
          ]
        },
        {
          "metadata": {
            "tags": null
          },
          "name": "stdout",
          "output_type": "stream",
          "text": [
            "Error retrieving data for SG글로벌 (A001380): '종가'\n"
          ]
        },
        {
          "metadata": {
            "tags": null
          },
          "name": "stderr",
          "output_type": "stream",
          "text": [
            "\rProgress:   9%|▉         | 180/2000 [03:48<38:55,  1.28s/stock]"
          ]
        },
        {
          "metadata": {
            "tags": null
          },
          "name": "stdout",
          "output_type": "stream",
          "text": [
            "Error retrieving data for SG세계물산 (A004060): '종가'\n"
          ]
        },
        {
          "metadata": {
            "tags": null
          },
          "name": "stderr",
          "output_type": "stream",
          "text": [
            "\rProgress:   9%|▉         | 181/2000 [03:50<38:38,  1.27s/stock]"
          ]
        },
        {
          "metadata": {
            "tags": null
          },
          "name": "stdout",
          "output_type": "stream",
          "text": [
            "Error retrieving data for SH에너지화학 (A002360): '종가'\n"
          ]
        },
        {
          "metadata": {
            "tags": null
          },
          "name": "stderr",
          "output_type": "stream",
          "text": [
            "\rProgress:   9%|▉         | 182/2000 [03:51<38:19,  1.26s/stock]"
          ]
        },
        {
          "metadata": {
            "tags": null
          },
          "name": "stdout",
          "output_type": "stream",
          "text": [
            "Error retrieving data for SIMPAC (A009160): '종가'\n"
          ]
        },
        {
          "metadata": {
            "tags": null
          },
          "name": "stderr",
          "output_type": "stream",
          "text": [
            "\rProgress:   9%|▉         | 183/2000 [03:52<38:09,  1.26s/stock]"
          ]
        },
        {
          "metadata": {
            "tags": null
          },
          "name": "stdout",
          "output_type": "stream",
          "text": [
            "Error retrieving data for SJM (A123700): '종가'\n"
          ]
        },
        {
          "metadata": {
            "tags": null
          },
          "name": "stderr",
          "output_type": "stream",
          "text": [
            "\rProgress:   9%|▉         | 184/2000 [03:53<38:23,  1.27s/stock]"
          ]
        },
        {
          "metadata": {
            "tags": null
          },
          "name": "stdout",
          "output_type": "stream",
          "text": [
            "Error retrieving data for SJM홀딩스 (A025530): '종가'\n"
          ]
        },
        {
          "metadata": {
            "tags": null
          },
          "name": "stderr",
          "output_type": "stream",
          "text": [
            "\rProgress:   9%|▉         | 185/2000 [03:55<38:15,  1.26s/stock]"
          ]
        },
        {
          "metadata": {
            "tags": null
          },
          "name": "stdout",
          "output_type": "stream",
          "text": [
            "Error retrieving data for SK (A034730): '종가'\n"
          ]
        },
        {
          "metadata": {
            "tags": null
          },
          "name": "stderr",
          "output_type": "stream",
          "text": [
            "\rProgress:   9%|▉         | 186/2000 [03:56<38:16,  1.27s/stock]"
          ]
        },
        {
          "metadata": {
            "tags": null
          },
          "name": "stdout",
          "output_type": "stream",
          "text": [
            "Error retrieving data for SKC (A011790): '종가'\n"
          ]
        },
        {
          "metadata": {
            "tags": null
          },
          "name": "stderr",
          "output_type": "stream",
          "text": [
            "\rProgress:   9%|▉         | 187/2000 [03:57<38:38,  1.28s/stock]"
          ]
        },
        {
          "metadata": {
            "tags": null
          },
          "name": "stdout",
          "output_type": "stream",
          "text": [
            "Error retrieving data for SK가스 (A018670): '종가'\n"
          ]
        },
        {
          "metadata": {
            "tags": null
          },
          "name": "stderr",
          "output_type": "stream",
          "text": [
            "\rProgress:   9%|▉         | 188/2000 [03:59<38:34,  1.28s/stock]"
          ]
        },
        {
          "metadata": {
            "tags": null
          },
          "name": "stdout",
          "output_type": "stream",
          "text": [
            "Error retrieving data for SK네트웍스 (A001740): '종가'\n"
          ]
        },
        {
          "metadata": {
            "tags": null
          },
          "name": "stderr",
          "output_type": "stream",
          "text": [
            "\rProgress:   9%|▉         | 189/2000 [04:00<38:30,  1.28s/stock]"
          ]
        },
        {
          "metadata": {
            "tags": null
          },
          "name": "stdout",
          "output_type": "stream",
          "text": [
            "Error retrieving data for SK디스커버리 (A006120): '종가'\n"
          ]
        },
        {
          "metadata": {
            "tags": null
          },
          "name": "stderr",
          "output_type": "stream",
          "text": [
            "\rProgress:  10%|▉         | 190/2000 [04:01<38:19,  1.27s/stock]"
          ]
        },
        {
          "metadata": {
            "tags": null
          },
          "name": "stdout",
          "output_type": "stream",
          "text": [
            "Error retrieving data for SK디앤디 (A210980): '종가'\n"
          ]
        },
        {
          "metadata": {
            "tags": null
          },
          "name": "stderr",
          "output_type": "stream",
          "text": [
            "\rProgress:  10%|▉         | 191/2000 [04:02<38:06,  1.26s/stock]"
          ]
        },
        {
          "metadata": {
            "tags": null
          },
          "name": "stdout",
          "output_type": "stream",
          "text": [
            "Error retrieving data for SK렌터카 (A068400): '종가'\n"
          ]
        },
        {
          "metadata": {
            "tags": null
          },
          "name": "stderr",
          "output_type": "stream",
          "text": [
            "\rProgress:  10%|▉         | 192/2000 [04:04<38:03,  1.26s/stock]"
          ]
        },
        {
          "metadata": {
            "tags": null
          },
          "name": "stdout",
          "output_type": "stream",
          "text": [
            "Error retrieving data for SK바이오사이언스 (A302440): '종가'\n"
          ]
        },
        {
          "metadata": {
            "tags": null
          },
          "name": "stderr",
          "output_type": "stream",
          "text": [
            "\rProgress:  10%|▉         | 193/2000 [04:05<38:18,  1.27s/stock]"
          ]
        },
        {
          "metadata": {
            "tags": null
          },
          "name": "stdout",
          "output_type": "stream",
          "text": [
            "Error retrieving data for SK바이오팜 (A326030): '종가'\n"
          ]
        },
        {
          "metadata": {
            "tags": null
          },
          "name": "stderr",
          "output_type": "stream",
          "text": [
            "\rProgress:  10%|▉         | 194/2000 [04:06<38:26,  1.28s/stock]"
          ]
        },
        {
          "metadata": {
            "tags": null
          },
          "name": "stdout",
          "output_type": "stream",
          "text": [
            "Error retrieving data for SK아이이테크놀로지 (A361610): '종가'\n"
          ]
        },
        {
          "metadata": {
            "tags": null
          },
          "name": "stderr",
          "output_type": "stream",
          "text": [
            "\rProgress:  10%|▉         | 195/2000 [04:07<37:59,  1.26s/stock]"
          ]
        },
        {
          "metadata": {
            "tags": null
          },
          "name": "stdout",
          "output_type": "stream",
          "text": [
            "Error retrieving data for SK오션플랜트 (A100090): '종가'\n"
          ]
        },
        {
          "metadata": {
            "tags": null
          },
          "name": "stderr",
          "output_type": "stream",
          "text": [
            "\rProgress:  10%|▉         | 196/2000 [04:09<37:45,  1.26s/stock]"
          ]
        },
        {
          "metadata": {
            "tags": null
          },
          "name": "stdout",
          "output_type": "stream",
          "text": [
            "Error retrieving data for SK이노베이션 (A096770): '종가'\n"
          ]
        },
        {
          "metadata": {
            "tags": null
          },
          "name": "stderr",
          "output_type": "stream",
          "text": [
            "\rProgress:  10%|▉         | 197/2000 [04:10<37:36,  1.25s/stock]"
          ]
        },
        {
          "metadata": {
            "tags": null
          },
          "name": "stdout",
          "output_type": "stream",
          "text": [
            "Error retrieving data for SK증권 (A001510): '종가'\n"
          ]
        },
        {
          "metadata": {
            "tags": null
          },
          "name": "stderr",
          "output_type": "stream",
          "text": [
            "\rProgress:  10%|▉         | 198/2000 [04:11<37:26,  1.25s/stock]"
          ]
        },
        {
          "metadata": {
            "tags": null
          },
          "name": "stdout",
          "output_type": "stream",
          "text": [
            "Error retrieving data for SK케미칼 (A285130): '종가'\n"
          ]
        },
        {
          "metadata": {
            "tags": null
          },
          "name": "stderr",
          "output_type": "stream",
          "text": [
            "\rProgress:  10%|▉         | 199/2000 [04:12<37:27,  1.25s/stock]"
          ]
        },
        {
          "metadata": {
            "tags": null
          },
          "name": "stdout",
          "output_type": "stream",
          "text": [
            "Error retrieving data for SK텔레콤 (A017670): '종가'\n"
          ]
        },
        {
          "metadata": {
            "tags": null
          },
          "name": "stderr",
          "output_type": "stream",
          "text": [
            "\rProgress:  10%|█         | 200/2000 [04:14<37:12,  1.24s/stock]"
          ]
        },
        {
          "metadata": {
            "tags": null
          },
          "name": "stdout",
          "output_type": "stream",
          "text": [
            "Error retrieving data for SK하이닉스 (A000660): '종가'\n"
          ]
        },
        {
          "metadata": {
            "tags": null
          },
          "name": "stderr",
          "output_type": "stream",
          "text": [
            "\rProgress:  10%|█         | 201/2000 [04:15<37:23,  1.25s/stock]"
          ]
        },
        {
          "metadata": {
            "tags": null
          },
          "name": "stdout",
          "output_type": "stream",
          "text": [
            "Error retrieving data for SM C&C (A048550): '종가'\n"
          ]
        },
        {
          "metadata": {
            "tags": null
          },
          "name": "stderr",
          "output_type": "stream",
          "text": [
            "\rProgress:  10%|█         | 202/2000 [04:16<37:14,  1.24s/stock]"
          ]
        },
        {
          "metadata": {
            "tags": null
          },
          "name": "stdout",
          "output_type": "stream",
          "text": [
            "Error retrieving data for SM Life Design (A063440): '종가'\n"
          ]
        },
        {
          "metadata": {
            "tags": null
          },
          "name": "stderr",
          "output_type": "stream",
          "text": [
            "\rProgress:  10%|█         | 203/2000 [04:17<37:05,  1.24s/stock]"
          ]
        },
        {
          "metadata": {
            "tags": null
          },
          "name": "stdout",
          "output_type": "stream",
          "text": [
            "Error retrieving data for SNT다이내믹스 (A003570): '종가'\n"
          ]
        },
        {
          "metadata": {
            "tags": null
          },
          "name": "stderr",
          "output_type": "stream",
          "text": [
            "\rProgress:  10%|█         | 204/2000 [04:19<37:10,  1.24s/stock]"
          ]
        },
        {
          "metadata": {
            "tags": null
          },
          "name": "stdout",
          "output_type": "stream",
          "text": [
            "Error retrieving data for SNT모티브 (A064960): '종가'\n"
          ]
        },
        {
          "metadata": {
            "tags": null
          },
          "name": "stderr",
          "output_type": "stream",
          "text": [
            "\rProgress:  10%|█         | 205/2000 [04:20<37:03,  1.24s/stock]"
          ]
        },
        {
          "metadata": {
            "tags": null
          },
          "name": "stdout",
          "output_type": "stream",
          "text": [
            "Error retrieving data for SNT에너지 (A100840): '종가'\n"
          ]
        },
        {
          "metadata": {
            "tags": null
          },
          "name": "stderr",
          "output_type": "stream",
          "text": [
            "\rProgress:  10%|█         | 206/2000 [04:21<36:58,  1.24s/stock]"
          ]
        },
        {
          "metadata": {
            "tags": null
          },
          "name": "stdout",
          "output_type": "stream",
          "text": [
            "Error retrieving data for SNT홀딩스 (A036530): '종가'\n"
          ]
        },
        {
          "metadata": {
            "tags": null
          },
          "name": "stderr",
          "output_type": "stream",
          "text": [
            "\rProgress:  10%|█         | 207/2000 [04:22<36:52,  1.23s/stock]"
          ]
        },
        {
          "metadata": {
            "tags": null
          },
          "name": "stdout",
          "output_type": "stream",
          "text": [
            "Error retrieving data for SPC삼립 (A005610): '종가'\n"
          ]
        },
        {
          "metadata": {
            "tags": null
          },
          "name": "stderr",
          "output_type": "stream",
          "text": [
            "\rProgress:  10%|█         | 208/2000 [04:23<36:51,  1.23s/stock]"
          ]
        },
        {
          "metadata": {
            "tags": null
          },
          "name": "stdout",
          "output_type": "stream",
          "text": [
            "Error retrieving data for STX (A011810): '종가'\n"
          ]
        },
        {
          "metadata": {
            "tags": null
          },
          "name": "stderr",
          "output_type": "stream",
          "text": [
            "\rProgress:  10%|█         | 209/2000 [04:25<36:54,  1.24s/stock]"
          ]
        },
        {
          "metadata": {
            "tags": null
          },
          "name": "stdout",
          "output_type": "stream",
          "text": [
            "Error retrieving data for STX엔진 (A077970): '종가'\n"
          ]
        },
        {
          "metadata": {
            "tags": null
          },
          "name": "stderr",
          "output_type": "stream",
          "text": [
            "\rProgress:  10%|█         | 210/2000 [04:26<37:51,  1.27s/stock]"
          ]
        },
        {
          "metadata": {
            "tags": null
          },
          "name": "stdout",
          "output_type": "stream",
          "text": [
            "Error retrieving data for STX중공업 (A071970): '종가'\n"
          ]
        },
        {
          "metadata": {
            "tags": null
          },
          "name": "stderr",
          "output_type": "stream",
          "text": [
            "\rProgress:  11%|█         | 211/2000 [04:27<37:39,  1.26s/stock]"
          ]
        },
        {
          "metadata": {
            "tags": null
          },
          "name": "stdout",
          "output_type": "stream",
          "text": [
            "Error retrieving data for SV인베스트먼트 (A289080): '종가'\n"
          ]
        },
        {
          "metadata": {
            "tags": null
          },
          "name": "stderr",
          "output_type": "stream",
          "text": [
            "\rProgress:  11%|█         | 212/2000 [04:29<37:21,  1.25s/stock]"
          ]
        },
        {
          "metadata": {
            "tags": null
          },
          "name": "stdout",
          "output_type": "stream",
          "text": [
            "Error retrieving data for TCC스틸 (A002710): '종가'\n"
          ]
        },
        {
          "metadata": {
            "tags": null
          },
          "name": "stderr",
          "output_type": "stream",
          "text": [
            "\rProgress:  11%|█         | 213/2000 [04:30<37:14,  1.25s/stock]"
          ]
        },
        {
          "metadata": {
            "tags": null
          },
          "name": "stdout",
          "output_type": "stream",
          "text": [
            "Error retrieving data for THE E&M (A089230): '종가'\n"
          ]
        },
        {
          "metadata": {
            "tags": null
          },
          "name": "stderr",
          "output_type": "stream",
          "text": [
            "\rProgress:  11%|█         | 214/2000 [04:31<37:04,  1.25s/stock]"
          ]
        },
        {
          "metadata": {
            "tags": null
          },
          "name": "stdout",
          "output_type": "stream",
          "text": [
            "Error retrieving data for TJ미디어 (A032540): '종가'\n"
          ]
        },
        {
          "metadata": {
            "tags": null
          },
          "name": "stderr",
          "output_type": "stream",
          "text": [
            "\rProgress:  11%|█         | 215/2000 [04:32<37:11,  1.25s/stock]"
          ]
        },
        {
          "metadata": {
            "tags": null
          },
          "name": "stdout",
          "output_type": "stream",
          "text": [
            "Error retrieving data for TKG애강 (A022220): '종가'\n"
          ]
        },
        {
          "metadata": {
            "tags": null
          },
          "name": "stderr",
          "output_type": "stream",
          "text": [
            "\rProgress:  11%|█         | 216/2000 [04:34<37:07,  1.25s/stock]"
          ]
        },
        {
          "metadata": {
            "tags": null
          },
          "name": "stdout",
          "output_type": "stream",
          "text": [
            "Error retrieving data for TKG휴켐스 (A069260): '종가'\n"
          ]
        },
        {
          "metadata": {
            "tags": null
          },
          "name": "stderr",
          "output_type": "stream",
          "text": [
            "\rProgress:  11%|█         | 217/2000 [04:35<37:05,  1.25s/stock]"
          ]
        },
        {
          "metadata": {
            "tags": null
          },
          "name": "stdout",
          "output_type": "stream",
          "text": [
            "Error retrieving data for TPC (A048770): '종가'\n"
          ]
        },
        {
          "metadata": {
            "tags": null
          },
          "name": "stderr",
          "output_type": "stream",
          "text": [
            "\rProgress:  11%|█         | 218/2000 [04:36<36:56,  1.24s/stock]"
          ]
        },
        {
          "metadata": {
            "tags": null
          },
          "name": "stdout",
          "output_type": "stream",
          "text": [
            "Error retrieving data for TS인베스트먼트 (A246690): '종가'\n"
          ]
        },
        {
          "metadata": {
            "tags": null
          },
          "name": "stderr",
          "output_type": "stream",
          "text": [
            "\rProgress:  11%|█         | 219/2000 [04:37<37:06,  1.25s/stock]"
          ]
        },
        {
          "metadata": {
            "tags": null
          },
          "name": "stdout",
          "output_type": "stream",
          "text": [
            "Error retrieving data for TS트릴리온 (A317240): '종가'\n"
          ]
        },
        {
          "metadata": {
            "tags": null
          },
          "name": "stderr",
          "output_type": "stream",
          "text": [
            "\rProgress:  11%|█         | 220/2000 [04:39<37:21,  1.26s/stock]"
          ]
        },
        {
          "metadata": {
            "tags": null
          },
          "name": "stdout",
          "output_type": "stream",
          "text": [
            "Error retrieving data for TYM (A002900): '종가'\n"
          ]
        },
        {
          "metadata": {
            "tags": null
          },
          "name": "stderr",
          "output_type": "stream",
          "text": [
            "\rProgress:  11%|█         | 221/2000 [04:40<37:10,  1.25s/stock]"
          ]
        },
        {
          "metadata": {
            "tags": null
          },
          "name": "stdout",
          "output_type": "stream",
          "text": [
            "Error retrieving data for WISCOM (A024070): '종가'\n"
          ]
        },
        {
          "metadata": {
            "tags": null
          },
          "name": "stderr",
          "output_type": "stream",
          "text": [
            "\rProgress:  11%|█         | 222/2000 [04:41<37:01,  1.25s/stock]"
          ]
        },
        {
          "metadata": {
            "tags": null
          },
          "name": "stdout",
          "output_type": "stream",
          "text": [
            "Error retrieving data for YBM넷 (A057030): '종가'\n"
          ]
        },
        {
          "metadata": {
            "tags": null
          },
          "name": "stderr",
          "output_type": "stream",
          "text": [
            "\rProgress:  11%|█         | 223/2000 [04:42<37:03,  1.25s/stock]"
          ]
        },
        {
          "metadata": {
            "tags": null
          },
          "name": "stdout",
          "output_type": "stream",
          "text": [
            "Error retrieving data for YG PLUS (A037270): '종가'\n"
          ]
        },
        {
          "metadata": {
            "tags": null
          },
          "name": "stderr",
          "output_type": "stream",
          "text": [
            "\rProgress:  11%|█         | 224/2000 [04:44<37:00,  1.25s/stock]"
          ]
        },
        {
          "metadata": {
            "tags": null
          },
          "name": "stdout",
          "output_type": "stream",
          "text": [
            "Error retrieving data for YTN (A040300): '종가'\n"
          ]
        },
        {
          "metadata": {
            "tags": null
          },
          "name": "stderr",
          "output_type": "stream",
          "text": [
            "\rProgress:  11%|█▏        | 225/2000 [04:45<36:52,  1.25s/stock]"
          ]
        },
        {
          "metadata": {
            "tags": null
          },
          "name": "stdout",
          "output_type": "stream",
          "text": [
            "Error retrieving data for iMBC (A052220): '종가'\n"
          ]
        },
        {
          "metadata": {
            "tags": null
          },
          "name": "stderr",
          "output_type": "stream",
          "text": [
            "\rProgress:  11%|█▏        | 226/2000 [04:46<39:37,  1.34s/stock]"
          ]
        },
        {
          "metadata": {
            "tags": null
          },
          "name": "stdout",
          "output_type": "stream",
          "text": [
            "Error retrieving data for 가비아 (A079940): '종가'\n"
          ]
        },
        {
          "metadata": {
            "tags": null
          },
          "name": "stderr",
          "output_type": "stream",
          "text": [
            "\rProgress:  11%|█▏        | 227/2000 [04:48<38:36,  1.31s/stock]"
          ]
        },
        {
          "metadata": {
            "tags": null
          },
          "name": "stdout",
          "output_type": "stream",
          "text": [
            "Error retrieving data for 가온그룹 (A078890): '종가'\n"
          ]
        },
        {
          "metadata": {
            "tags": null
          },
          "name": "stderr",
          "output_type": "stream",
          "text": [
            "\rProgress:  11%|█▏        | 228/2000 [04:49<41:17,  1.40s/stock]"
          ]
        },
        {
          "metadata": {
            "tags": null
          },
          "name": "stdout",
          "output_type": "stream",
          "text": [
            "Error retrieving data for 가온전선 (A000500): '종가'\n"
          ]
        },
        {
          "metadata": {
            "tags": null
          },
          "name": "stderr",
          "output_type": "stream",
          "text": [
            "\rProgress:  11%|█▏        | 229/2000 [04:51<42:10,  1.43s/stock]"
          ]
        },
        {
          "metadata": {
            "tags": null
          },
          "name": "stdout",
          "output_type": "stream",
          "text": [
            "Error retrieving data for 감성코퍼레이션 (A036620): '종가'\n"
          ]
        },
        {
          "metadata": {
            "tags": null
          },
          "name": "stderr",
          "output_type": "stream",
          "text": [
            "\rProgress:  12%|█▏        | 230/2000 [04:52<40:32,  1.37s/stock]"
          ]
        },
        {
          "metadata": {
            "tags": null
          },
          "name": "stdout",
          "output_type": "stream",
          "text": [
            "Error retrieving data for 강남제비스코 (A000860): '종가'\n"
          ]
        },
        {
          "metadata": {
            "tags": null
          },
          "name": "stderr",
          "output_type": "stream",
          "text": [
            "\rProgress:  12%|█▏        | 231/2000 [04:53<39:20,  1.33s/stock]"
          ]
        },
        {
          "metadata": {
            "tags": null
          },
          "name": "stdout",
          "output_type": "stream",
          "text": [
            "Error retrieving data for 강스템바이오텍 (A217730): '종가'\n"
          ]
        },
        {
          "metadata": {
            "tags": null
          },
          "name": "stderr",
          "output_type": "stream",
          "text": [
            "\rProgress:  12%|█▏        | 232/2000 [04:54<38:19,  1.30s/stock]"
          ]
        },
        {
          "metadata": {
            "tags": null
          },
          "name": "stdout",
          "output_type": "stream",
          "text": [
            "Error retrieving data for 강원랜드 (A035250): '종가'\n"
          ]
        },
        {
          "metadata": {
            "tags": null
          },
          "name": "stderr",
          "output_type": "stream",
          "text": [
            "\rProgress:  12%|█▏        | 233/2000 [04:56<38:13,  1.30s/stock]"
          ]
        },
        {
          "metadata": {
            "tags": null
          },
          "name": "stdout",
          "output_type": "stream",
          "text": [
            "Error retrieving data for 강원에너지 (A114190): '종가'\n"
          ]
        },
        {
          "metadata": {
            "tags": null
          },
          "name": "stderr",
          "output_type": "stream",
          "text": [
            "\rProgress:  12%|█▏        | 234/2000 [04:57<38:03,  1.29s/stock]"
          ]
        },
        {
          "metadata": {
            "tags": null
          },
          "name": "stdout",
          "output_type": "stream",
          "text": [
            "Error retrieving data for 갤럭시아머니트리 (A094480): '종가'\n"
          ]
        },
        {
          "metadata": {
            "tags": null
          },
          "name": "stderr",
          "output_type": "stream",
          "text": [
            "\rProgress:  12%|█▏        | 235/2000 [04:58<39:21,  1.34s/stock]"
          ]
        },
        {
          "metadata": {
            "tags": null
          },
          "name": "stdout",
          "output_type": "stream",
          "text": [
            "Error retrieving data for 갤럭시아에스엠 (A011420): '종가'\n"
          ]
        },
        {
          "metadata": {
            "tags": null
          },
          "name": "stderr",
          "output_type": "stream",
          "text": [
            "\rProgress:  12%|█▏        | 236/2000 [05:00<38:38,  1.31s/stock]"
          ]
        },
        {
          "metadata": {
            "tags": null
          },
          "name": "stdout",
          "output_type": "stream",
          "text": [
            "Error retrieving data for 경남스틸 (A039240): '종가'\n"
          ]
        },
        {
          "metadata": {
            "tags": null
          },
          "name": "stderr",
          "output_type": "stream",
          "text": [
            "\rProgress:  12%|█▏        | 237/2000 [05:01<38:22,  1.31s/stock]"
          ]
        },
        {
          "metadata": {
            "tags": null
          },
          "name": "stdout",
          "output_type": "stream",
          "text": [
            "Error retrieving data for 경남제약 (A053950): '종가'\n"
          ]
        },
        {
          "metadata": {
            "tags": null
          },
          "name": "stderr",
          "output_type": "stream",
          "text": [
            "\rProgress:  12%|█▏        | 238/2000 [05:02<38:31,  1.31s/stock]"
          ]
        },
        {
          "metadata": {
            "tags": null
          },
          "name": "stdout",
          "output_type": "stream",
          "text": [
            "Error retrieving data for 경농 (A002100): '종가'\n"
          ]
        },
        {
          "metadata": {
            "tags": null
          },
          "name": "stderr",
          "output_type": "stream",
          "text": [
            "\rProgress:  12%|█▏        | 239/2000 [05:04<37:55,  1.29s/stock]"
          ]
        },
        {
          "metadata": {
            "tags": null
          },
          "name": "stdout",
          "output_type": "stream",
          "text": [
            "Error retrieving data for 경동나비엔 (A009450): '종가'\n"
          ]
        },
        {
          "metadata": {
            "tags": null
          },
          "name": "stderr",
          "output_type": "stream",
          "text": [
            "\rProgress:  12%|█▏        | 240/2000 [05:05<37:34,  1.28s/stock]"
          ]
        },
        {
          "metadata": {
            "tags": null
          },
          "name": "stdout",
          "output_type": "stream",
          "text": [
            "Error retrieving data for 경동도시가스 (A267290): '종가'\n"
          ]
        },
        {
          "metadata": {
            "tags": null
          },
          "name": "stderr",
          "output_type": "stream",
          "text": [
            "\rProgress:  12%|█▏        | 241/2000 [05:07<46:54,  1.60s/stock]"
          ]
        },
        {
          "metadata": {
            "tags": null
          },
          "name": "stdout",
          "output_type": "stream",
          "text": [
            "Error retrieving data for 경동인베스트 (A012320): '종가'\n"
          ]
        },
        {
          "metadata": {
            "tags": null
          },
          "name": "stderr",
          "output_type": "stream",
          "text": [
            "\rProgress:  12%|█▏        | 242/2000 [05:08<43:42,  1.49s/stock]"
          ]
        },
        {
          "metadata": {
            "tags": null
          },
          "name": "stdout",
          "output_type": "stream",
          "text": [
            "Error retrieving data for 경동제약 (A011040): '종가'\n"
          ]
        },
        {
          "metadata": {
            "tags": null
          },
          "name": "stderr",
          "output_type": "stream",
          "text": [
            "\rProgress:  12%|█▏        | 243/2000 [05:10<41:29,  1.42s/stock]"
          ]
        },
        {
          "metadata": {
            "tags": null
          },
          "name": "stdout",
          "output_type": "stream",
          "text": [
            "Error retrieving data for 경방 (A000050): '종가'\n"
          ]
        },
        {
          "metadata": {
            "tags": null
          },
          "name": "stderr",
          "output_type": "stream",
          "text": [
            "\rProgress:  12%|█▏        | 244/2000 [05:11<40:04,  1.37s/stock]"
          ]
        },
        {
          "metadata": {
            "tags": null
          },
          "name": "stdout",
          "output_type": "stream",
          "text": [
            "Error retrieving data for 경보제약 (A214390): '종가'\n"
          ]
        },
        {
          "metadata": {
            "tags": null
          },
          "name": "stderr",
          "output_type": "stream",
          "text": [
            "\rProgress:  12%|█▏        | 245/2000 [05:12<38:55,  1.33s/stock]"
          ]
        },
        {
          "metadata": {
            "tags": null
          },
          "name": "stdout",
          "output_type": "stream",
          "text": [
            "Error retrieving data for 경인양행 (A012610): '종가'\n"
          ]
        },
        {
          "metadata": {
            "tags": null
          },
          "name": "stderr",
          "output_type": "stream",
          "text": [
            "\rProgress:  12%|█▏        | 246/2000 [05:13<37:59,  1.30s/stock]"
          ]
        },
        {
          "metadata": {
            "tags": null
          },
          "name": "stdout",
          "output_type": "stream",
          "text": [
            "Error retrieving data for 경창산업 (A024910): '종가'\n"
          ]
        },
        {
          "metadata": {
            "tags": null
          },
          "name": "stderr",
          "output_type": "stream",
          "text": [
            "\rProgress:  12%|█▏        | 247/2000 [05:15<37:33,  1.29s/stock]"
          ]
        },
        {
          "metadata": {
            "tags": null
          },
          "name": "stdout",
          "output_type": "stream",
          "text": [
            "Error retrieving data for 계룡건설 (A013580): '종가'\n"
          ]
        },
        {
          "metadata": {
            "tags": null
          },
          "name": "stderr",
          "output_type": "stream",
          "text": [
            "\rProgress:  12%|█▏        | 248/2000 [05:16<37:04,  1.27s/stock]"
          ]
        },
        {
          "metadata": {
            "tags": null
          },
          "name": "stdout",
          "output_type": "stream",
          "text": [
            "Error retrieving data for 계양전기 (A012200): '종가'\n"
          ]
        },
        {
          "metadata": {
            "tags": null
          },
          "name": "stderr",
          "output_type": "stream",
          "text": [
            "\rProgress:  12%|█▏        | 249/2000 [05:17<36:46,  1.26s/stock]"
          ]
        },
        {
          "metadata": {
            "tags": null
          },
          "name": "stdout",
          "output_type": "stream",
          "text": [
            "Error retrieving data for 고려산업 (A002140): '종가'\n"
          ]
        },
        {
          "metadata": {
            "tags": null
          },
          "name": "stderr",
          "output_type": "stream",
          "text": [
            "\rProgress:  12%|█▎        | 250/2000 [05:18<37:10,  1.27s/stock]"
          ]
        },
        {
          "metadata": {
            "tags": null
          },
          "name": "stdout",
          "output_type": "stream",
          "text": [
            "Error retrieving data for 고려시멘트 (A198440): '종가'\n"
          ]
        },
        {
          "metadata": {
            "tags": null
          },
          "name": "stderr",
          "output_type": "stream",
          "text": [
            "\rProgress:  13%|█▎        | 251/2000 [05:20<36:51,  1.26s/stock]"
          ]
        },
        {
          "metadata": {
            "tags": null
          },
          "name": "stdout",
          "output_type": "stream",
          "text": [
            "Error retrieving data for 고려신용정보 (A049720): '종가'\n"
          ]
        },
        {
          "metadata": {
            "tags": null
          },
          "name": "stderr",
          "output_type": "stream",
          "text": [
            "\rProgress:  13%|█▎        | 252/2000 [05:21<36:37,  1.26s/stock]"
          ]
        },
        {
          "metadata": {
            "tags": null
          },
          "name": "stdout",
          "output_type": "stream",
          "text": [
            "Error retrieving data for 고려아연 (A010130): '종가'\n"
          ]
        },
        {
          "metadata": {
            "tags": null
          },
          "name": "stderr",
          "output_type": "stream",
          "text": [
            "\rProgress:  13%|█▎        | 253/2000 [05:22<36:31,  1.25s/stock]"
          ]
        },
        {
          "metadata": {
            "tags": null
          },
          "name": "stdout",
          "output_type": "stream",
          "text": [
            "Error retrieving data for 고려제강 (A002240): '종가'\n"
          ]
        },
        {
          "metadata": {
            "tags": null
          },
          "name": "stderr",
          "output_type": "stream",
          "text": [
            "\rProgress:  13%|█▎        | 254/2000 [05:23<37:13,  1.28s/stock]"
          ]
        },
        {
          "metadata": {
            "tags": null
          },
          "name": "stdout",
          "output_type": "stream",
          "text": [
            "Error retrieving data for 고려제약 (A014570): '종가'\n"
          ]
        },
        {
          "metadata": {
            "tags": null
          },
          "name": "stderr",
          "output_type": "stream",
          "text": [
            "\rProgress:  13%|█▎        | 255/2000 [05:25<36:47,  1.27s/stock]"
          ]
        },
        {
          "metadata": {
            "tags": null
          },
          "name": "stdout",
          "output_type": "stream",
          "text": [
            "Error retrieving data for 고바이오랩 (A348150): '종가'\n"
          ]
        },
        {
          "metadata": {
            "tags": null
          },
          "name": "stderr",
          "output_type": "stream",
          "text": [
            "\rProgress:  13%|█▎        | 256/2000 [05:26<37:15,  1.28s/stock]"
          ]
        },
        {
          "metadata": {
            "tags": null
          },
          "name": "stdout",
          "output_type": "stream",
          "text": [
            "Error retrieving data for 고영 (A098460): '종가'\n"
          ]
        },
        {
          "metadata": {
            "tags": null
          },
          "name": "stderr",
          "output_type": "stream",
          "text": [
            "\rProgress:  13%|█▎        | 257/2000 [05:27<37:13,  1.28s/stock]"
          ]
        },
        {
          "metadata": {
            "tags": null
          },
          "name": "stdout",
          "output_type": "stream",
          "text": [
            "Error retrieving data for 골드앤에스 (A035290): '종가'\n"
          ]
        },
        {
          "metadata": {
            "tags": null
          },
          "name": "stderr",
          "output_type": "stream",
          "text": [
            "\rProgress:  13%|█▎        | 258/2000 [05:29<37:12,  1.28s/stock]"
          ]
        },
        {
          "metadata": {
            "tags": null
          },
          "name": "stdout",
          "output_type": "stream",
          "text": [
            "Error retrieving data for 골드퍼시픽 (A038530): '종가'\n"
          ]
        },
        {
          "metadata": {
            "tags": null
          },
          "name": "stderr",
          "output_type": "stream",
          "text": [
            "\rProgress:  13%|█▎        | 259/2000 [05:30<37:01,  1.28s/stock]"
          ]
        },
        {
          "metadata": {
            "tags": null
          },
          "name": "stdout",
          "output_type": "stream",
          "text": [
            "Error retrieving data for 골프존 (A215000): '종가'\n"
          ]
        },
        {
          "metadata": {
            "tags": null
          },
          "name": "stderr",
          "output_type": "stream",
          "text": [
            "\rProgress:  13%|█▎        | 260/2000 [05:31<36:51,  1.27s/stock]"
          ]
        },
        {
          "metadata": {
            "tags": null
          },
          "name": "stdout",
          "output_type": "stream",
          "text": [
            "Error retrieving data for 골프존뉴딘홀딩스 (A121440): '종가'\n"
          ]
        },
        {
          "metadata": {
            "tags": null
          },
          "name": "stderr",
          "output_type": "stream",
          "text": [
            "\rProgress:  13%|█▎        | 261/2000 [05:32<37:14,  1.29s/stock]"
          ]
        },
        {
          "metadata": {
            "tags": null
          },
          "name": "stdout",
          "output_type": "stream",
          "text": [
            "Error retrieving data for 광동제약 (A009290): '종가'\n"
          ]
        },
        {
          "metadata": {
            "tags": null
          },
          "name": "stderr",
          "output_type": "stream",
          "text": [
            "\rProgress:  13%|█▎        | 262/2000 [05:34<37:32,  1.30s/stock]"
          ]
        },
        {
          "metadata": {
            "tags": null
          },
          "name": "stdout",
          "output_type": "stream",
          "text": [
            "Error retrieving data for 광림 (A014200): '종가'\n"
          ]
        },
        {
          "metadata": {
            "tags": null
          },
          "name": "stderr",
          "output_type": "stream",
          "text": [
            "\rProgress:  13%|█▎        | 263/2000 [05:35<37:25,  1.29s/stock]"
          ]
        },
        {
          "metadata": {
            "tags": null
          },
          "name": "stdout",
          "output_type": "stream",
          "text": [
            "Error retrieving data for 광명전기 (A017040): '종가'\n"
          ]
        },
        {
          "metadata": {
            "tags": null
          },
          "name": "stderr",
          "output_type": "stream",
          "text": [
            "\rProgress:  13%|█▎        | 264/2000 [05:36<37:15,  1.29s/stock]"
          ]
        },
        {
          "metadata": {
            "tags": null
          },
          "name": "stdout",
          "output_type": "stream",
          "text": [
            "Error retrieving data for 광무 (A029480): '종가'\n"
          ]
        },
        {
          "metadata": {
            "tags": null
          },
          "name": "stderr",
          "output_type": "stream",
          "text": [
            "\rProgress:  13%|█▎        | 265/2000 [05:38<37:04,  1.28s/stock]"
          ]
        },
        {
          "metadata": {
            "tags": null
          },
          "name": "stdout",
          "output_type": "stream",
          "text": [
            "Error retrieving data for 광전자 (A017900): '종가'\n"
          ]
        },
        {
          "metadata": {
            "tags": null
          },
          "name": "stderr",
          "output_type": "stream",
          "text": [
            "\rProgress:  13%|█▎        | 266/2000 [05:39<36:52,  1.28s/stock]"
          ]
        },
        {
          "metadata": {
            "tags": null
          },
          "name": "stdout",
          "output_type": "stream",
          "text": [
            "Error retrieving data for 광주신세계 (A037710): '종가'\n"
          ]
        },
        {
          "metadata": {
            "tags": null
          },
          "name": "stderr",
          "output_type": "stream",
          "text": [
            "\rProgress:  13%|█▎        | 267/2000 [05:40<36:47,  1.27s/stock]"
          ]
        },
        {
          "metadata": {
            "tags": null
          },
          "name": "stdout",
          "output_type": "stream",
          "text": [
            "Error retrieving data for 교보증권 (A030610): '종가'\n"
          ]
        },
        {
          "metadata": {
            "tags": null
          },
          "name": "stderr",
          "output_type": "stream",
          "text": [
            "\rProgress:  13%|█▎        | 268/2000 [05:41<36:43,  1.27s/stock]"
          ]
        },
        {
          "metadata": {
            "tags": null
          },
          "name": "stdout",
          "output_type": "stream",
          "text": [
            "Error retrieving data for 교촌에프앤비 (A339770): '종가'\n"
          ]
        },
        {
          "metadata": {
            "tags": null
          },
          "name": "stderr",
          "output_type": "stream",
          "text": [
            "\rProgress:  13%|█▎        | 269/2000 [05:43<36:40,  1.27s/stock]"
          ]
        },
        {
          "metadata": {
            "tags": null
          },
          "name": "stdout",
          "output_type": "stream",
          "text": [
            "Error retrieving data for 구영테크 (A053270): '종가'\n"
          ]
        },
        {
          "metadata": {
            "tags": null
          },
          "name": "stderr",
          "output_type": "stream",
          "text": [
            "\rProgress:  14%|█▎        | 270/2000 [05:44<36:44,  1.27s/stock]"
          ]
        },
        {
          "metadata": {
            "tags": null
          },
          "name": "stdout",
          "output_type": "stream",
          "text": [
            "Error retrieving data for 국도화학 (A007690): '종가'\n"
          ]
        },
        {
          "metadata": {
            "tags": null
          },
          "name": "stderr",
          "output_type": "stream",
          "text": [
            "\rProgress:  14%|█▎        | 271/2000 [05:45<36:51,  1.28s/stock]"
          ]
        },
        {
          "metadata": {
            "tags": null
          },
          "name": "stdout",
          "output_type": "stream",
          "text": [
            "Error retrieving data for 국동 (A005320): '종가'\n"
          ]
        },
        {
          "metadata": {
            "tags": null
          },
          "name": "stderr",
          "output_type": "stream",
          "text": [
            "\rProgress:  14%|█▎        | 272/2000 [05:47<42:50,  1.49s/stock]"
          ]
        },
        {
          "metadata": {
            "tags": null
          },
          "name": "stdout",
          "output_type": "stream",
          "text": [
            "Error retrieving data for 국보 (A001140): '종가'\n"
          ]
        },
        {
          "metadata": {
            "tags": null
          },
          "name": "stderr",
          "output_type": "stream",
          "text": [
            "\rProgress:  14%|█▎        | 273/2000 [05:48<40:35,  1.41s/stock]"
          ]
        },
        {
          "metadata": {
            "tags": null
          },
          "name": "stdout",
          "output_type": "stream",
          "text": [
            "Error retrieving data for 국보디자인 (A066620): '종가'\n"
          ]
        },
        {
          "metadata": {
            "tags": null
          },
          "name": "stderr",
          "output_type": "stream",
          "text": [
            "\rProgress:  14%|█▎        | 274/2000 [05:50<39:20,  1.37s/stock]"
          ]
        },
        {
          "metadata": {
            "tags": null
          },
          "name": "stdout",
          "output_type": "stream",
          "text": [
            "Error retrieving data for 국순당 (A043650): '종가'\n"
          ]
        },
        {
          "metadata": {
            "tags": null
          },
          "name": "stderr",
          "output_type": "stream",
          "text": [
            "\rProgress:  14%|█▍        | 275/2000 [05:51<38:11,  1.33s/stock]"
          ]
        },
        {
          "metadata": {
            "tags": null
          },
          "name": "stdout",
          "output_type": "stream",
          "text": [
            "Error retrieving data for 국영지앤엠 (A006050): '종가'\n"
          ]
        },
        {
          "metadata": {
            "tags": null
          },
          "name": "stderr",
          "output_type": "stream",
          "text": [
            "\rProgress:  14%|█▍        | 276/2000 [05:52<37:21,  1.30s/stock]"
          ]
        },
        {
          "metadata": {
            "tags": null
          },
          "name": "stdout",
          "output_type": "stream",
          "text": [
            "Error retrieving data for 국일제지 (A078130): '종가'\n"
          ]
        },
        {
          "metadata": {
            "tags": null
          },
          "name": "stderr",
          "output_type": "stream",
          "text": [
            "\rProgress:  14%|█▍        | 277/2000 [05:53<36:40,  1.28s/stock]"
          ]
        },
        {
          "metadata": {
            "tags": null
          },
          "name": "stdout",
          "output_type": "stream",
          "text": [
            "Error retrieving data for 국전약품 (A307750): '종가'\n"
          ]
        },
        {
          "metadata": {
            "tags": null
          },
          "name": "stderr",
          "output_type": "stream",
          "text": [
            "\rProgress:  14%|█▍        | 278/2000 [05:55<36:15,  1.26s/stock]"
          ]
        },
        {
          "metadata": {
            "tags": null
          },
          "name": "stdout",
          "output_type": "stream",
          "text": [
            "Error retrieving data for 국제약품 (A002720): '종가'\n"
          ]
        },
        {
          "metadata": {
            "tags": null
          },
          "name": "stderr",
          "output_type": "stream",
          "text": [
            "\rProgress:  14%|█▍        | 279/2000 [05:56<35:59,  1.25s/stock]"
          ]
        },
        {
          "metadata": {
            "tags": null
          },
          "name": "stdout",
          "output_type": "stream",
          "text": [
            "Error retrieving data for 그래디언트 (A035080): '종가'\n"
          ]
        },
        {
          "metadata": {
            "tags": null
          },
          "name": "stderr",
          "output_type": "stream",
          "text": [
            "\rProgress:  14%|█▍        | 280/2000 [05:57<35:45,  1.25s/stock]"
          ]
        },
        {
          "metadata": {
            "tags": null
          },
          "name": "stdout",
          "output_type": "stream",
          "text": [
            "Error retrieving data for 그리티 (A204020): '종가'\n"
          ]
        },
        {
          "metadata": {
            "tags": null
          },
          "name": "stderr",
          "output_type": "stream",
          "text": [
            "\rProgress:  14%|█▍        | 281/2000 [05:58<35:41,  1.25s/stock]"
          ]
        },
        {
          "metadata": {
            "tags": null
          },
          "name": "stdout",
          "output_type": "stream",
          "text": [
            "Error retrieving data for 그린케미칼 (A083420): '종가'\n"
          ]
        },
        {
          "metadata": {
            "tags": null
          },
          "name": "stderr",
          "output_type": "stream",
          "text": [
            "\rProgress:  14%|█▍        | 282/2000 [06:00<35:48,  1.25s/stock]"
          ]
        },
        {
          "metadata": {
            "tags": null
          },
          "name": "stdout",
          "output_type": "stream",
          "text": [
            "Error retrieving data for 그린플러스 (A186230): '종가'\n"
          ]
        },
        {
          "metadata": {
            "tags": null
          },
          "name": "stderr",
          "output_type": "stream",
          "text": [
            "\rProgress:  14%|█▍        | 283/2000 [06:01<35:45,  1.25s/stock]"
          ]
        },
        {
          "metadata": {
            "tags": null
          },
          "name": "stdout",
          "output_type": "stream",
          "text": [
            "Error retrieving data for 극동유화 (A014530): '종가'\n"
          ]
        },
        {
          "metadata": {
            "tags": null
          },
          "name": "stderr",
          "output_type": "stream",
          "text": [
            "\rProgress:  14%|█▍        | 284/2000 [06:02<35:30,  1.24s/stock]"
          ]
        },
        {
          "metadata": {
            "tags": null
          },
          "name": "stdout",
          "output_type": "stream",
          "text": [
            "Error retrieving data for 글로벌텍스프리 (A204620): '종가'\n"
          ]
        },
        {
          "metadata": {
            "tags": null
          },
          "name": "stderr",
          "output_type": "stream",
          "text": [
            "\rProgress:  14%|█▍        | 285/2000 [06:03<35:23,  1.24s/stock]"
          ]
        },
        {
          "metadata": {
            "tags": null
          },
          "name": "stdout",
          "output_type": "stream",
          "text": [
            "Error retrieving data for 글로본 (A019660): '종가'\n"
          ]
        },
        {
          "metadata": {
            "tags": null
          },
          "name": "stderr",
          "output_type": "stream",
          "text": [
            "\rProgress:  14%|█▍        | 286/2000 [06:05<37:39,  1.32s/stock]"
          ]
        },
        {
          "metadata": {
            "tags": null
          },
          "name": "stdout",
          "output_type": "stream",
          "text": [
            "Error retrieving data for 금강공업 (A014280): '종가'\n"
          ]
        },
        {
          "metadata": {
            "tags": null
          },
          "name": "stderr",
          "output_type": "stream",
          "text": [
            "\rProgress:  14%|█▍        | 287/2000 [06:07<46:00,  1.61s/stock]"
          ]
        },
        {
          "metadata": {
            "tags": null
          },
          "name": "stdout",
          "output_type": "stream",
          "text": [
            "Error retrieving data for 금강철강 (A053260): '종가'\n"
          ]
        },
        {
          "metadata": {
            "tags": null
          },
          "name": "stderr",
          "output_type": "stream",
          "text": [
            "\rProgress:  14%|█▍        | 288/2000 [06:08<42:51,  1.50s/stock]"
          ]
        },
        {
          "metadata": {
            "tags": null
          },
          "name": "stdout",
          "output_type": "stream",
          "text": [
            "Error retrieving data for 금비 (A008870): '종가'\n"
          ]
        },
        {
          "metadata": {
            "tags": null
          },
          "name": "stderr",
          "output_type": "stream",
          "text": [
            "\rProgress:  14%|█▍        | 289/2000 [06:10<40:34,  1.42s/stock]"
          ]
        },
        {
          "metadata": {
            "tags": null
          },
          "name": "stdout",
          "output_type": "stream",
          "text": [
            "Error retrieving data for 금양 (A001570): '종가'\n"
          ]
        },
        {
          "metadata": {
            "tags": null
          },
          "name": "stderr",
          "output_type": "stream",
          "text": [
            "\rProgress:  14%|█▍        | 290/2000 [06:11<38:54,  1.37s/stock]"
          ]
        },
        {
          "metadata": {
            "tags": null
          },
          "name": "stdout",
          "output_type": "stream",
          "text": [
            "Error retrieving data for 금호건설 (A002990): '종가'\n"
          ]
        },
        {
          "metadata": {
            "tags": null
          },
          "name": "stderr",
          "output_type": "stream",
          "text": [
            "\rProgress:  15%|█▍        | 291/2000 [06:12<37:50,  1.33s/stock]"
          ]
        },
        {
          "metadata": {
            "tags": null
          },
          "name": "stdout",
          "output_type": "stream",
          "text": [
            "Error retrieving data for 금호석유 (A011780): '종가'\n"
          ]
        },
        {
          "metadata": {
            "tags": null
          },
          "name": "stderr",
          "output_type": "stream",
          "text": [
            "\rProgress:  15%|█▍        | 292/2000 [06:13<37:03,  1.30s/stock]"
          ]
        },
        {
          "metadata": {
            "tags": null
          },
          "name": "stdout",
          "output_type": "stream",
          "text": [
            "Error retrieving data for 금호에이치티 (A214330): '종가'\n"
          ]
        },
        {
          "metadata": {
            "tags": null
          },
          "name": "stderr",
          "output_type": "stream",
          "text": [
            "\rProgress:  15%|█▍        | 293/2000 [06:14<36:27,  1.28s/stock]"
          ]
        },
        {
          "metadata": {
            "tags": null
          },
          "name": "stdout",
          "output_type": "stream",
          "text": [
            "Error retrieving data for 금호타이어 (A073240): '종가'\n"
          ]
        },
        {
          "metadata": {
            "tags": null
          },
          "name": "stderr",
          "output_type": "stream",
          "text": [
            "\rProgress:  15%|█▍        | 294/2000 [06:16<36:02,  1.27s/stock]"
          ]
        },
        {
          "metadata": {
            "tags": null
          },
          "name": "stdout",
          "output_type": "stream",
          "text": [
            "Error retrieving data for 금화피에스시 (A036190): '종가'\n"
          ]
        },
        {
          "metadata": {
            "tags": null
          },
          "name": "stderr",
          "output_type": "stream",
          "text": [
            "\rProgress:  15%|█▍        | 295/2000 [06:17<35:43,  1.26s/stock]"
          ]
        },
        {
          "metadata": {
            "tags": null
          },
          "name": "stdout",
          "output_type": "stream",
          "text": [
            "Error retrieving data for 기가레인 (A049080): '종가'\n"
          ]
        },
        {
          "metadata": {
            "tags": null
          },
          "name": "stderr",
          "output_type": "stream",
          "text": [
            "\rProgress:  15%|█▍        | 296/2000 [06:18<35:29,  1.25s/stock]"
          ]
        },
        {
          "metadata": {
            "tags": null
          },
          "name": "stdout",
          "output_type": "stream",
          "text": [
            "Error retrieving data for 기산텔레콤 (A035460): '종가'\n"
          ]
        },
        {
          "metadata": {
            "tags": null
          },
          "name": "stderr",
          "output_type": "stream",
          "text": [
            "\rProgress:  15%|█▍        | 297/2000 [06:19<35:21,  1.25s/stock]"
          ]
        },
        {
          "metadata": {
            "tags": null
          },
          "name": "stdout",
          "output_type": "stream",
          "text": [
            "Error retrieving data for 기신정기 (A092440): '종가'\n"
          ]
        },
        {
          "metadata": {
            "tags": null
          },
          "name": "stderr",
          "output_type": "stream",
          "text": [
            "\rProgress:  15%|█▍        | 298/2000 [06:21<35:17,  1.24s/stock]"
          ]
        },
        {
          "metadata": {
            "tags": null
          },
          "name": "stdout",
          "output_type": "stream",
          "text": [
            "Error retrieving data for 기아 (A000270): '종가'\n"
          ]
        },
        {
          "metadata": {
            "tags": null
          },
          "name": "stderr",
          "output_type": "stream",
          "text": [
            "\rProgress:  15%|█▍        | 299/2000 [06:22<35:09,  1.24s/stock]"
          ]
        },
        {
          "metadata": {
            "tags": null
          },
          "name": "stdout",
          "output_type": "stream",
          "text": [
            "Error retrieving data for 기업은행 (A024110): '종가'\n"
          ]
        },
        {
          "metadata": {
            "tags": null
          },
          "name": "stderr",
          "output_type": "stream",
          "text": [
            "\rProgress:  15%|█▌        | 300/2000 [06:23<35:11,  1.24s/stock]"
          ]
        },
        {
          "metadata": {
            "tags": null
          },
          "name": "stdout",
          "output_type": "stream",
          "text": [
            "Error retrieving data for 까뮤이앤씨 (A013700): '종가'\n"
          ]
        },
        {
          "metadata": {
            "tags": null
          },
          "name": "stderr",
          "output_type": "stream",
          "text": [
            "\rProgress:  15%|█▌        | 301/2000 [06:24<35:04,  1.24s/stock]"
          ]
        },
        {
          "metadata": {
            "tags": null
          },
          "name": "stdout",
          "output_type": "stream",
          "text": [
            "Error retrieving data for 까스텔바작 (A308100): '종가'\n"
          ]
        },
        {
          "metadata": {
            "tags": null
          },
          "name": "stderr",
          "output_type": "stream",
          "text": [
            "\rProgress:  15%|█▌        | 302/2000 [06:26<35:03,  1.24s/stock]"
          ]
        },
        {
          "metadata": {
            "tags": null
          },
          "name": "stdout",
          "output_type": "stream",
          "text": [
            "Error retrieving data for 깨끗한나라 (A004540): '종가'\n"
          ]
        },
        {
          "metadata": {
            "tags": null
          },
          "name": "stderr",
          "output_type": "stream",
          "text": [
            "\rProgress:  15%|█▌        | 303/2000 [06:28<40:45,  1.44s/stock]"
          ]
        },
        {
          "metadata": {
            "tags": null
          },
          "name": "stdout",
          "output_type": "stream",
          "text": [
            "Error retrieving data for 나노브릭 (A286750): '종가'\n"
          ]
        },
        {
          "metadata": {
            "tags": null
          },
          "name": "stderr",
          "output_type": "stream",
          "text": [
            "\rProgress:  15%|█▌        | 304/2000 [06:29<39:33,  1.40s/stock]"
          ]
        },
        {
          "metadata": {
            "tags": null
          },
          "name": "stdout",
          "output_type": "stream",
          "text": [
            "Error retrieving data for 나노신소재 (A121600): '종가'\n"
          ]
        },
        {
          "metadata": {
            "tags": null
          },
          "name": "stderr",
          "output_type": "stream",
          "text": [
            "\rProgress:  15%|█▌        | 305/2000 [06:30<38:14,  1.35s/stock]"
          ]
        },
        {
          "metadata": {
            "tags": null
          },
          "name": "stdout",
          "output_type": "stream",
          "text": [
            "Error retrieving data for 나노씨엠에스 (A247660): '종가'\n"
          ]
        },
        {
          "metadata": {
            "tags": null
          },
          "name": "stderr",
          "output_type": "stream",
          "text": [
            "\rProgress:  15%|█▌        | 306/2000 [06:31<37:12,  1.32s/stock]"
          ]
        },
        {
          "metadata": {
            "tags": null
          },
          "name": "stdout",
          "output_type": "stream",
          "text": [
            "Error retrieving data for 나노엔텍 (A039860): '종가'\n"
          ]
        },
        {
          "metadata": {
            "tags": null
          },
          "name": "stderr",
          "output_type": "stream",
          "text": [
            "\rProgress:  15%|█▌        | 307/2000 [06:33<36:51,  1.31s/stock]"
          ]
        },
        {
          "metadata": {
            "tags": null
          },
          "name": "stdout",
          "output_type": "stream",
          "text": [
            "Error retrieving data for 나라엠앤디 (A051490): '종가'\n"
          ]
        },
        {
          "metadata": {
            "tags": null
          },
          "name": "stderr",
          "output_type": "stream",
          "text": [
            "\rProgress:  15%|█▌        | 308/2000 [06:34<36:14,  1.29s/stock]"
          ]
        },
        {
          "metadata": {
            "tags": null
          },
          "name": "stdout",
          "output_type": "stream",
          "text": [
            "Error retrieving data for 나무가 (A190510): '종가'\n"
          ]
        },
        {
          "metadata": {
            "tags": null
          },
          "name": "stderr",
          "output_type": "stream",
          "text": [
            "\rProgress:  15%|█▌        | 309/2000 [06:35<35:48,  1.27s/stock]"
          ]
        },
        {
          "metadata": {
            "tags": null
          },
          "name": "stdout",
          "output_type": "stream",
          "text": [
            "Error retrieving data for 나무기술 (A242040): '종가'\n"
          ]
        },
        {
          "metadata": {
            "tags": null
          },
          "name": "stderr",
          "output_type": "stream",
          "text": [
            "\rProgress:  16%|█▌        | 310/2000 [06:36<35:34,  1.26s/stock]"
          ]
        },
        {
          "metadata": {
            "tags": null
          },
          "name": "stdout",
          "output_type": "stream",
          "text": [
            "Error retrieving data for 나스미디어 (A089600): '종가'\n"
          ]
        },
        {
          "metadata": {
            "tags": null
          },
          "name": "stderr",
          "output_type": "stream",
          "text": [
            "\rProgress:  16%|█▌        | 311/2000 [06:38<35:16,  1.25s/stock]"
          ]
        },
        {
          "metadata": {
            "tags": null
          },
          "name": "stdout",
          "output_type": "stream",
          "text": [
            "Error retrieving data for 나우IB (A293580): '종가'\n"
          ]
        },
        {
          "metadata": {
            "tags": null
          },
          "name": "stderr",
          "output_type": "stream",
          "text": [
            "\rProgress:  16%|█▌        | 312/2000 [06:39<35:03,  1.25s/stock]"
          ]
        },
        {
          "metadata": {
            "tags": null
          },
          "name": "stdout",
          "output_type": "stream",
          "text": [
            "Error retrieving data for 나이벡 (A138610): '종가'\n"
          ]
        },
        {
          "metadata": {
            "tags": null
          },
          "name": "stderr",
          "output_type": "stream",
          "text": [
            "\rProgress:  16%|█▌        | 313/2000 [06:40<35:01,  1.25s/stock]"
          ]
        },
        {
          "metadata": {
            "tags": null
          },
          "name": "stdout",
          "output_type": "stream",
          "text": [
            "Error retrieving data for 나이스디앤비 (A130580): '종가'\n"
          ]
        },
        {
          "metadata": {
            "tags": null
          },
          "name": "stderr",
          "output_type": "stream",
          "text": [
            "\rProgress:  16%|█▌        | 314/2000 [06:41<34:53,  1.24s/stock]"
          ]
        },
        {
          "metadata": {
            "tags": null
          },
          "name": "stdout",
          "output_type": "stream",
          "text": [
            "Error retrieving data for 나이스정보통신 (A036800): '종가'\n"
          ]
        },
        {
          "metadata": {
            "tags": null
          },
          "name": "stderr",
          "output_type": "stream",
          "text": [
            "\rProgress:  16%|█▌        | 315/2000 [06:42<34:47,  1.24s/stock]"
          ]
        },
        {
          "metadata": {
            "tags": null
          },
          "name": "stdout",
          "output_type": "stream",
          "text": [
            "Error retrieving data for 나인테크 (A267320): '종가'\n"
          ]
        },
        {
          "metadata": {
            "tags": null
          },
          "name": "stderr",
          "output_type": "stream",
          "text": [
            "\rProgress:  16%|█▌        | 316/2000 [06:44<34:44,  1.24s/stock]"
          ]
        },
        {
          "metadata": {
            "tags": null
          },
          "name": "stdout",
          "output_type": "stream",
          "text": [
            "Error retrieving data for 남광토건 (A001260): '종가'\n"
          ]
        },
        {
          "metadata": {
            "tags": null
          },
          "name": "stderr",
          "output_type": "stream",
          "text": [
            "\rProgress:  16%|█▌        | 317/2000 [06:45<34:39,  1.24s/stock]"
          ]
        },
        {
          "metadata": {
            "tags": null
          },
          "name": "stdout",
          "output_type": "stream",
          "text": [
            "Error retrieving data for 남선알미늄 (A008350): '종가'\n"
          ]
        },
        {
          "metadata": {
            "tags": null
          },
          "name": "stderr",
          "output_type": "stream",
          "text": [
            "\rProgress:  16%|█▌        | 318/2000 [06:46<34:43,  1.24s/stock]"
          ]
        },
        {
          "metadata": {
            "tags": null
          },
          "name": "stdout",
          "output_type": "stream",
          "text": [
            "Error retrieving data for 남성 (A004270): '종가'\n"
          ]
        },
        {
          "metadata": {
            "tags": null
          },
          "name": "stderr",
          "output_type": "stream",
          "text": [
            "\rProgress:  16%|█▌        | 319/2000 [06:49<45:11,  1.61s/stock]"
          ]
        },
        {
          "metadata": {
            "tags": null
          },
          "name": "stdout",
          "output_type": "stream",
          "text": [
            "Error retrieving data for 남양유업 (A003920): '종가'\n"
          ]
        },
        {
          "metadata": {
            "tags": null
          },
          "name": "stderr",
          "output_type": "stream",
          "text": [
            "\rProgress:  16%|█▌        | 320/2000 [06:50<41:52,  1.50s/stock]"
          ]
        },
        {
          "metadata": {
            "tags": null
          },
          "name": "stdout",
          "output_type": "stream",
          "text": [
            "Error retrieving data for 남해화학 (A025860): '종가'\n"
          ]
        },
        {
          "metadata": {
            "tags": null
          },
          "name": "stderr",
          "output_type": "stream",
          "text": [
            "\rProgress:  16%|█▌        | 321/2000 [06:51<39:46,  1.42s/stock]"
          ]
        },
        {
          "metadata": {
            "tags": null
          },
          "name": "stdout",
          "output_type": "stream",
          "text": [
            "Error retrieving data for 남화산업 (A111710): '종가'\n"
          ]
        },
        {
          "metadata": {
            "tags": null
          },
          "name": "stderr",
          "output_type": "stream",
          "text": [
            "\rProgress:  16%|█▌        | 322/2000 [06:52<38:08,  1.36s/stock]"
          ]
        },
        {
          "metadata": {
            "tags": null
          },
          "name": "stdout",
          "output_type": "stream",
          "text": [
            "Error retrieving data for 남화토건 (A091590): '종가'\n"
          ]
        },
        {
          "metadata": {
            "tags": null
          },
          "name": "stderr",
          "output_type": "stream",
          "text": [
            "\rProgress:  16%|█▌        | 323/2000 [06:54<37:18,  1.33s/stock]"
          ]
        },
        {
          "metadata": {
            "tags": null
          },
          "name": "stdout",
          "output_type": "stream",
          "text": [
            "Error retrieving data for 내츄럴엔도텍 (A168330): '종가'\n"
          ]
        },
        {
          "metadata": {
            "tags": null
          },
          "name": "stderr",
          "output_type": "stream",
          "text": [
            "\rProgress:  16%|█▌        | 324/2000 [06:55<36:24,  1.30s/stock]"
          ]
        },
        {
          "metadata": {
            "tags": null
          },
          "name": "stdout",
          "output_type": "stream",
          "text": [
            "Error retrieving data for 네오리진 (A094860): '종가'\n"
          ]
        },
        {
          "metadata": {
            "tags": null
          },
          "name": "stderr",
          "output_type": "stream",
          "text": [
            "\rProgress:  16%|█▋        | 325/2000 [06:56<35:45,  1.28s/stock]"
          ]
        },
        {
          "metadata": {
            "tags": null
          },
          "name": "stdout",
          "output_type": "stream",
          "text": [
            "Error retrieving data for 네오셈 (A253590): '종가'\n"
          ]
        },
        {
          "metadata": {
            "tags": null
          },
          "name": "stderr",
          "output_type": "stream",
          "text": [
            "\rProgress:  16%|█▋        | 326/2000 [06:57<35:18,  1.27s/stock]"
          ]
        },
        {
          "metadata": {
            "tags": null
          },
          "name": "stdout",
          "output_type": "stream",
          "text": [
            "Error retrieving data for 네오오토 (A212560): '종가'\n"
          ]
        },
        {
          "metadata": {
            "tags": null
          },
          "name": "stderr",
          "output_type": "stream",
          "text": [
            "\rProgress:  16%|█▋        | 327/2000 [06:59<35:01,  1.26s/stock]"
          ]
        },
        {
          "metadata": {
            "tags": null
          },
          "name": "stdout",
          "output_type": "stream",
          "text": [
            "Error retrieving data for 네오위즈 (A095660): '종가'\n"
          ]
        },
        {
          "metadata": {
            "tags": null
          },
          "name": "stderr",
          "output_type": "stream",
          "text": [
            "\rProgress:  16%|█▋        | 328/2000 [07:00<34:59,  1.26s/stock]"
          ]
        },
        {
          "metadata": {
            "tags": null
          },
          "name": "stdout",
          "output_type": "stream",
          "text": [
            "Error retrieving data for 네오위즈홀딩스 (A042420): '종가'\n"
          ]
        },
        {
          "metadata": {
            "tags": null
          },
          "name": "stderr",
          "output_type": "stream",
          "text": [
            "\rProgress:  16%|█▋        | 329/2000 [07:01<35:11,  1.26s/stock]"
          ]
        },
        {
          "metadata": {
            "tags": null
          },
          "name": "stdout",
          "output_type": "stream",
          "text": [
            "Error retrieving data for 네오크레마 (A311390): '종가'\n"
          ]
        },
        {
          "metadata": {
            "tags": null
          },
          "name": "stderr",
          "output_type": "stream",
          "text": [
            "\rProgress:  16%|█▋        | 330/2000 [07:02<34:50,  1.25s/stock]"
          ]
        },
        {
          "metadata": {
            "tags": null
          },
          "name": "stdout",
          "output_type": "stream",
          "text": [
            "Error retrieving data for 네오티스 (A085910): '종가'\n"
          ]
        },
        {
          "metadata": {
            "tags": null
          },
          "name": "stderr",
          "output_type": "stream",
          "text": [
            "\rProgress:  17%|█▋        | 331/2000 [07:04<34:40,  1.25s/stock]"
          ]
        },
        {
          "metadata": {
            "tags": null
          },
          "name": "stdout",
          "output_type": "stream",
          "text": [
            "Error retrieving data for 네오팜 (A092730): '종가'\n"
          ]
        },
        {
          "metadata": {
            "tags": null
          },
          "name": "stderr",
          "output_type": "stream",
          "text": [
            "\rProgress:  17%|█▋        | 332/2000 [07:05<34:43,  1.25s/stock]"
          ]
        },
        {
          "metadata": {
            "tags": null
          },
          "name": "stdout",
          "output_type": "stream",
          "text": [
            "Error retrieving data for 네온테크 (A306620): '종가'\n"
          ]
        },
        {
          "metadata": {
            "tags": null
          },
          "name": "stderr",
          "output_type": "stream",
          "text": [
            "\rProgress:  17%|█▋        | 333/2000 [07:06<34:39,  1.25s/stock]"
          ]
        },
        {
          "metadata": {
            "tags": null
          },
          "name": "stdout",
          "output_type": "stream",
          "text": [
            "Error retrieving data for 네이블 (A153460): '종가'\n"
          ]
        },
        {
          "metadata": {
            "tags": null
          },
          "name": "stderr",
          "output_type": "stream",
          "text": [
            "\rProgress:  17%|█▋        | 334/2000 [07:07<34:25,  1.24s/stock]"
          ]
        },
        {
          "metadata": {
            "tags": null
          },
          "name": "stdout",
          "output_type": "stream",
          "text": [
            "Error retrieving data for 네이처셀 (A007390): '종가'\n"
          ]
        },
        {
          "metadata": {
            "tags": null
          },
          "name": "stderr",
          "output_type": "stream",
          "text": [
            "\rProgress:  17%|█▋        | 335/2000 [07:09<36:32,  1.32s/stock]"
          ]
        },
        {
          "metadata": {
            "tags": null
          },
          "name": "stdout",
          "output_type": "stream",
          "text": [
            "Error retrieving data for 네패스 (A033640): '종가'\n"
          ]
        },
        {
          "metadata": {
            "tags": null
          },
          "name": "stderr",
          "output_type": "stream",
          "text": [
            "\rProgress:  17%|█▋        | 336/2000 [07:10<36:05,  1.30s/stock]"
          ]
        },
        {
          "metadata": {
            "tags": null
          },
          "name": "stdout",
          "output_type": "stream",
          "text": [
            "Error retrieving data for 네패스아크 (A330860): '종가'\n"
          ]
        },
        {
          "metadata": {
            "tags": null
          },
          "name": "stderr",
          "output_type": "stream",
          "text": [
            "\rProgress:  17%|█▋        | 337/2000 [07:11<35:26,  1.28s/stock]"
          ]
        },
        {
          "metadata": {
            "tags": null
          },
          "name": "stdout",
          "output_type": "stream",
          "text": [
            "Error retrieving data for 넥센 (A005720): '종가'\n"
          ]
        },
        {
          "metadata": {
            "tags": null
          },
          "name": "stderr",
          "output_type": "stream",
          "text": [
            "\rProgress:  17%|█▋        | 338/2000 [07:13<35:06,  1.27s/stock]"
          ]
        },
        {
          "metadata": {
            "tags": null
          },
          "name": "stdout",
          "output_type": "stream",
          "text": [
            "Error retrieving data for 넥센타이어 (A002350): '종가'\n"
          ]
        },
        {
          "metadata": {
            "tags": null
          },
          "name": "stderr",
          "output_type": "stream",
          "text": [
            "\rProgress:  17%|█▋        | 339/2000 [07:14<36:03,  1.30s/stock]"
          ]
        },
        {
          "metadata": {
            "tags": null
          },
          "name": "stdout",
          "output_type": "stream",
          "text": [
            "Error retrieving data for 넥스턴바이오 (A089140): '종가'\n"
          ]
        },
        {
          "metadata": {
            "tags": null
          },
          "name": "stderr",
          "output_type": "stream",
          "text": [
            "\rProgress:  17%|█▋        | 340/2000 [07:15<35:36,  1.29s/stock]"
          ]
        },
        {
          "metadata": {
            "tags": null
          },
          "name": "stdout",
          "output_type": "stream",
          "text": [
            "Error retrieving data for 넥스틴 (A348210): '종가'\n"
          ]
        },
        {
          "metadata": {
            "tags": null
          },
          "name": "stderr",
          "output_type": "stream",
          "text": [
            "\rProgress:  17%|█▋        | 341/2000 [07:16<35:24,  1.28s/stock]"
          ]
        },
        {
          "metadata": {
            "tags": null
          },
          "name": "stdout",
          "output_type": "stream",
          "text": [
            "Error retrieving data for 넥슨게임즈 (A225570): '종가'\n"
          ]
        },
        {
          "metadata": {
            "tags": null
          },
          "name": "stderr",
          "output_type": "stream",
          "text": [
            "\rProgress:  17%|█▋        | 342/2000 [07:18<35:17,  1.28s/stock]"
          ]
        },
        {
          "metadata": {
            "tags": null
          },
          "name": "stdout",
          "output_type": "stream",
          "text": [
            "Error retrieving data for 넵튠 (A217270): '종가'\n"
          ]
        },
        {
          "metadata": {
            "tags": null
          },
          "name": "stderr",
          "output_type": "stream",
          "text": [
            "\rProgress:  17%|█▋        | 343/2000 [07:19<35:01,  1.27s/stock]"
          ]
        },
        {
          "metadata": {
            "tags": null
          },
          "name": "stdout",
          "output_type": "stream",
          "text": [
            "Error retrieving data for 넷마블 (A251270): '종가'\n"
          ]
        },
        {
          "metadata": {
            "tags": null
          },
          "name": "stderr",
          "output_type": "stream",
          "text": [
            "\rProgress:  17%|█▋        | 344/2000 [07:20<34:53,  1.26s/stock]"
          ]
        },
        {
          "metadata": {
            "tags": null
          },
          "name": "stdout",
          "output_type": "stream",
          "text": [
            "Error retrieving data for 노랑풍선 (A104620): '종가'\n"
          ]
        },
        {
          "metadata": {
            "tags": null
          },
          "name": "stderr",
          "output_type": "stream",
          "text": [
            "\rProgress:  17%|█▋        | 345/2000 [07:21<34:37,  1.26s/stock]"
          ]
        },
        {
          "metadata": {
            "tags": null
          },
          "name": "stdout",
          "output_type": "stream",
          "text": [
            "Error retrieving data for 노루페인트 (A090350): '종가'\n"
          ]
        },
        {
          "metadata": {
            "tags": null
          },
          "name": "stderr",
          "output_type": "stream",
          "text": [
            "\rProgress:  17%|█▋        | 346/2000 [07:23<34:25,  1.25s/stock]"
          ]
        },
        {
          "metadata": {
            "tags": null
          },
          "name": "stdout",
          "output_type": "stream",
          "text": [
            "Error retrieving data for 노루홀딩스 (A000320): '종가'\n"
          ]
        },
        {
          "metadata": {
            "tags": null
          },
          "name": "stderr",
          "output_type": "stream",
          "text": [
            "\rProgress:  17%|█▋        | 347/2000 [07:24<34:17,  1.24s/stock]"
          ]
        },
        {
          "metadata": {
            "tags": null
          },
          "name": "stdout",
          "output_type": "stream",
          "text": [
            "Error retrieving data for 노바렉스 (A194700): '종가'\n"
          ]
        },
        {
          "metadata": {
            "tags": null
          },
          "name": "stderr",
          "output_type": "stream",
          "text": [
            "\rProgress:  17%|█▋        | 348/2000 [07:25<34:25,  1.25s/stock]"
          ]
        },
        {
          "metadata": {
            "tags": null
          },
          "name": "stdout",
          "output_type": "stream",
          "text": [
            "Error retrieving data for 노바텍 (A285490): '종가'\n"
          ]
        },
        {
          "metadata": {
            "tags": null
          },
          "name": "stderr",
          "output_type": "stream",
          "text": [
            "\rProgress:  17%|█▋        | 349/2000 [07:26<34:41,  1.26s/stock]"
          ]
        },
        {
          "metadata": {
            "tags": null
          },
          "name": "stdout",
          "output_type": "stream",
          "text": [
            "Error retrieving data for 녹십자 (A006280): '종가'\n"
          ]
        },
        {
          "metadata": {
            "tags": null
          },
          "name": "stderr",
          "output_type": "stream",
          "text": [
            "\rProgress:  18%|█▊        | 350/2000 [07:28<34:25,  1.25s/stock]"
          ]
        },
        {
          "metadata": {
            "tags": null
          },
          "name": "stdout",
          "output_type": "stream",
          "text": [
            "Error retrieving data for 녹십자엠에스 (A142280): '종가'\n"
          ]
        },
        {
          "metadata": {
            "tags": null
          },
          "name": "stderr",
          "output_type": "stream",
          "text": [
            "\rProgress:  18%|█▊        | 351/2000 [07:29<36:23,  1.32s/stock]"
          ]
        },
        {
          "metadata": {
            "tags": null
          },
          "name": "stdout",
          "output_type": "stream",
          "text": [
            "Error retrieving data for 녹십자웰빙 (A234690): '종가'\n"
          ]
        },
        {
          "metadata": {
            "tags": null
          },
          "name": "stderr",
          "output_type": "stream",
          "text": [
            "\rProgress:  18%|█▊        | 352/2000 [07:30<35:40,  1.30s/stock]"
          ]
        },
        {
          "metadata": {
            "tags": null
          },
          "name": "stdout",
          "output_type": "stream",
          "text": [
            "Error retrieving data for 녹십자홀딩스 (A005250): '종가'\n"
          ]
        },
        {
          "metadata": {
            "tags": null
          },
          "name": "stderr",
          "output_type": "stream",
          "text": [
            "\rProgress:  18%|█▊        | 353/2000 [07:32<35:03,  1.28s/stock]"
          ]
        },
        {
          "metadata": {
            "tags": null
          },
          "name": "stdout",
          "output_type": "stream",
          "text": [
            "Error retrieving data for 녹원씨엔아이 (A065560): '종가'\n"
          ]
        },
        {
          "metadata": {
            "tags": null
          },
          "name": "stderr",
          "output_type": "stream",
          "text": [
            "\rProgress:  18%|█▊        | 354/2000 [07:33<34:44,  1.27s/stock]"
          ]
        },
        {
          "metadata": {
            "tags": null
          },
          "name": "stdout",
          "output_type": "stream",
          "text": [
            "Error retrieving data for 농심 (A004370): '종가'\n"
          ]
        },
        {
          "metadata": {
            "tags": null
          },
          "name": "stderr",
          "output_type": "stream",
          "text": [
            "\rProgress:  18%|█▊        | 355/2000 [07:34<34:30,  1.26s/stock]"
          ]
        },
        {
          "metadata": {
            "tags": null
          },
          "name": "stdout",
          "output_type": "stream",
          "text": [
            "Error retrieving data for 농심홀딩스 (A072710): '종가'\n"
          ]
        },
        {
          "metadata": {
            "tags": null
          },
          "name": "stderr",
          "output_type": "stream",
          "text": [
            "\rProgress:  18%|█▊        | 356/2000 [07:35<34:23,  1.26s/stock]"
          ]
        },
        {
          "metadata": {
            "tags": null
          },
          "name": "stdout",
          "output_type": "stream",
          "text": [
            "Error retrieving data for 농우바이오 (A054050): '종가'\n"
          ]
        },
        {
          "metadata": {
            "tags": null
          },
          "name": "stderr",
          "output_type": "stream",
          "text": [
            "\rProgress:  18%|█▊        | 357/2000 [07:37<34:14,  1.25s/stock]"
          ]
        },
        {
          "metadata": {
            "tags": null
          },
          "name": "stdout",
          "output_type": "stream",
          "text": [
            "Error retrieving data for 누리플렉스 (A040160): '종가'\n"
          ]
        },
        {
          "metadata": {
            "tags": null
          },
          "name": "stderr",
          "output_type": "stream",
          "text": [
            "\rProgress:  18%|█▊        | 358/2000 [07:38<34:04,  1.25s/stock]"
          ]
        },
        {
          "metadata": {
            "tags": null
          },
          "name": "stdout",
          "output_type": "stream",
          "text": [
            "Error retrieving data for 누보 (A332290): '종가'\n"
          ]
        },
        {
          "metadata": {
            "tags": null
          },
          "name": "stderr",
          "output_type": "stream",
          "text": [
            "\rProgress:  18%|█▊        | 359/2000 [07:39<33:57,  1.24s/stock]"
          ]
        },
        {
          "metadata": {
            "tags": null
          },
          "name": "stdout",
          "output_type": "stream",
          "text": [
            "Error retrieving data for 뉴인텍 (A012340): '종가'\n"
          ]
        },
        {
          "metadata": {
            "tags": null
          },
          "name": "stderr",
          "output_type": "stream",
          "text": [
            "\rProgress:  18%|█▊        | 360/2000 [07:40<33:52,  1.24s/stock]"
          ]
        },
        {
          "metadata": {
            "tags": null
          },
          "name": "stdout",
          "output_type": "stream",
          "text": [
            "Error retrieving data for 뉴지랩파마 (A214870): '종가'\n"
          ]
        },
        {
          "metadata": {
            "tags": null
          },
          "name": "stderr",
          "output_type": "stream",
          "text": [
            "\rProgress:  18%|█▊        | 361/2000 [07:42<33:48,  1.24s/stock]"
          ]
        },
        {
          "metadata": {
            "tags": null
          },
          "name": "stdout",
          "output_type": "stream",
          "text": [
            "Error retrieving data for 뉴트리 (A270870): '종가'\n"
          ]
        },
        {
          "metadata": {
            "tags": null
          },
          "name": "stderr",
          "output_type": "stream",
          "text": [
            "\rProgress:  18%|█▊        | 362/2000 [07:43<33:48,  1.24s/stock]"
          ]
        },
        {
          "metadata": {
            "tags": null
          },
          "name": "stdout",
          "output_type": "stream",
          "text": [
            "Error retrieving data for 뉴파워프라즈마 (A144960): '종가'\n"
          ]
        },
        {
          "metadata": {
            "tags": null
          },
          "name": "stderr",
          "output_type": "stream",
          "text": [
            "\rProgress:  18%|█▊        | 363/2000 [07:44<33:47,  1.24s/stock]"
          ]
        },
        {
          "metadata": {
            "tags": null
          },
          "name": "stdout",
          "output_type": "stream",
          "text": [
            "Error retrieving data for 뉴프렉스 (A085670): '종가'\n"
          ]
        },
        {
          "metadata": {
            "tags": null
          },
          "name": "stderr",
          "output_type": "stream",
          "text": [
            "\rProgress:  18%|█▊        | 364/2000 [07:45<33:53,  1.24s/stock]"
          ]
        },
        {
          "metadata": {
            "tags": null
          },
          "name": "stdout",
          "output_type": "stream",
          "text": [
            "Error retrieving data for 다날 (A064260): '종가'\n"
          ]
        },
        {
          "metadata": {
            "tags": null
          },
          "name": "stderr",
          "output_type": "stream",
          "text": [
            "\rProgress:  18%|█▊        | 365/2000 [07:47<33:58,  1.25s/stock]"
          ]
        },
        {
          "metadata": {
            "tags": null
          },
          "name": "stdout",
          "output_type": "stream",
          "text": [
            "Error retrieving data for 다산네트웍스 (A039560): '종가'\n"
          ]
        },
        {
          "metadata": {
            "tags": null
          },
          "name": "stderr",
          "output_type": "stream",
          "text": [
            "\rProgress:  18%|█▊        | 366/2000 [07:48<33:50,  1.24s/stock]"
          ]
        },
        {
          "metadata": {
            "tags": null
          },
          "name": "stdout",
          "output_type": "stream",
          "text": [
            "Error retrieving data for 다스코 (A058730): '종가'\n"
          ]
        },
        {
          "metadata": {
            "tags": null
          },
          "name": "stderr",
          "output_type": "stream",
          "text": [
            "\rProgress:  18%|█▊        | 367/2000 [07:50<38:09,  1.40s/stock]"
          ]
        },
        {
          "metadata": {
            "tags": null
          },
          "name": "stdout",
          "output_type": "stream",
          "text": [
            "Error retrieving data for 다올투자증권 (A030210): '종가'\n"
          ]
        },
        {
          "metadata": {
            "tags": null
          },
          "name": "stderr",
          "output_type": "stream",
          "text": [
            "\rProgress:  18%|█▊        | 368/2000 [07:51<36:43,  1.35s/stock]"
          ]
        },
        {
          "metadata": {
            "tags": null
          },
          "name": "stdout",
          "output_type": "stream",
          "text": [
            "Error retrieving data for 다우기술 (A023590): '종가'\n"
          ]
        },
        {
          "metadata": {
            "tags": null
          },
          "name": "stderr",
          "output_type": "stream",
          "text": [
            "\rProgress:  18%|█▊        | 369/2000 [07:52<35:46,  1.32s/stock]"
          ]
        },
        {
          "metadata": {
            "tags": null
          },
          "name": "stdout",
          "output_type": "stream",
          "text": [
            "Error retrieving data for 다우데이타 (A032190): '종가'\n"
          ]
        },
        {
          "metadata": {
            "tags": null
          },
          "name": "stderr",
          "output_type": "stream",
          "text": [
            "\rProgress:  18%|█▊        | 370/2000 [07:53<35:06,  1.29s/stock]"
          ]
        },
        {
          "metadata": {
            "tags": null
          },
          "name": "stdout",
          "output_type": "stream",
          "text": [
            "Error retrieving data for 다원시스 (A068240): '종가'\n"
          ]
        },
        {
          "metadata": {
            "tags": null
          },
          "name": "stderr",
          "output_type": "stream",
          "text": [
            "\rProgress:  19%|█▊        | 371/2000 [07:54<34:40,  1.28s/stock]"
          ]
        },
        {
          "metadata": {
            "tags": null
          },
          "name": "stdout",
          "output_type": "stream",
          "text": [
            "Error retrieving data for 다이나믹디자인 (A145210): '종가'\n"
          ]
        },
        {
          "metadata": {
            "tags": null
          },
          "name": "stderr",
          "output_type": "stream",
          "text": [
            "\rProgress:  19%|█▊        | 372/2000 [07:56<34:27,  1.27s/stock]"
          ]
        },
        {
          "metadata": {
            "tags": null
          },
          "name": "stdout",
          "output_type": "stream",
          "text": [
            "Error retrieving data for 대교 (A019680): '종가'\n"
          ]
        },
        {
          "metadata": {
            "tags": null
          },
          "name": "stderr",
          "output_type": "stream",
          "text": [
            "\rProgress:  19%|█▊        | 373/2000 [07:57<34:06,  1.26s/stock]"
          ]
        },
        {
          "metadata": {
            "tags": null
          },
          "name": "stdout",
          "output_type": "stream",
          "text": [
            "Error retrieving data for 대구백화점 (A006370): '종가'\n"
          ]
        },
        {
          "metadata": {
            "tags": null
          },
          "name": "stderr",
          "output_type": "stream",
          "text": [
            "\rProgress:  19%|█▊        | 374/2000 [07:58<33:49,  1.25s/stock]"
          ]
        },
        {
          "metadata": {
            "tags": null
          },
          "name": "stdout",
          "output_type": "stream",
          "text": [
            "Error retrieving data for 대덕 (A008060): '종가'\n"
          ]
        },
        {
          "metadata": {
            "tags": null
          },
          "name": "stderr",
          "output_type": "stream",
          "text": [
            "\rProgress:  19%|█▉        | 375/2000 [07:59<33:36,  1.24s/stock]"
          ]
        },
        {
          "metadata": {
            "tags": null
          },
          "name": "stdout",
          "output_type": "stream",
          "text": [
            "Error retrieving data for 대덕전자 (A353200): '종가'\n"
          ]
        },
        {
          "metadata": {
            "tags": null
          },
          "name": "stderr",
          "output_type": "stream",
          "text": [
            "\rProgress:  19%|█▉        | 376/2000 [08:01<33:28,  1.24s/stock]"
          ]
        },
        {
          "metadata": {
            "tags": null
          },
          "name": "stdout",
          "output_type": "stream",
          "text": [
            "Error retrieving data for 대동 (A000490): '종가'\n"
          ]
        },
        {
          "metadata": {
            "tags": null
          },
          "name": "stderr",
          "output_type": "stream",
          "text": [
            "\rProgress:  19%|█▉        | 377/2000 [08:02<33:24,  1.24s/stock]"
          ]
        },
        {
          "metadata": {
            "tags": null
          },
          "name": "stdout",
          "output_type": "stream",
          "text": [
            "Error retrieving data for 대동기어 (A008830): '종가'\n"
          ]
        },
        {
          "metadata": {
            "tags": null
          },
          "name": "stderr",
          "output_type": "stream",
          "text": [
            "\rProgress:  19%|█▉        | 378/2000 [08:03<33:45,  1.25s/stock]"
          ]
        },
        {
          "metadata": {
            "tags": null
          },
          "name": "stdout",
          "output_type": "stream",
          "text": [
            "Error retrieving data for 대동전자 (A008110): '종가'\n"
          ]
        },
        {
          "metadata": {
            "tags": null
          },
          "name": "stderr",
          "output_type": "stream",
          "text": [
            "\rProgress:  19%|█▉        | 379/2000 [08:04<33:32,  1.24s/stock]"
          ]
        },
        {
          "metadata": {
            "tags": null
          },
          "name": "stdout",
          "output_type": "stream",
          "text": [
            "Error retrieving data for 대륙제관 (A004780): '종가'\n"
          ]
        },
        {
          "metadata": {
            "tags": null
          },
          "name": "stderr",
          "output_type": "stream",
          "text": [
            "\rProgress:  19%|█▉        | 380/2000 [08:06<33:20,  1.24s/stock]"
          ]
        },
        {
          "metadata": {
            "tags": null
          },
          "name": "stdout",
          "output_type": "stream",
          "text": [
            "Error retrieving data for 대림B&Co (A005750): '종가'\n"
          ]
        },
        {
          "metadata": {
            "tags": null
          },
          "name": "stderr",
          "output_type": "stream",
          "text": [
            "\rProgress:  19%|█▉        | 381/2000 [08:07<33:13,  1.23s/stock]"
          ]
        },
        {
          "metadata": {
            "tags": null
          },
          "name": "stdout",
          "output_type": "stream",
          "text": [
            "Error retrieving data for 대림제지 (A017650): '종가'\n"
          ]
        },
        {
          "metadata": {
            "tags": null
          },
          "name": "stderr",
          "output_type": "stream",
          "text": [
            "\rProgress:  19%|█▉        | 382/2000 [08:08<33:11,  1.23s/stock]"
          ]
        },
        {
          "metadata": {
            "tags": null
          },
          "name": "stdout",
          "output_type": "stream",
          "text": [
            "Error retrieving data for 대림통상 (A006570): '종가'\n"
          ]
        },
        {
          "metadata": {
            "tags": null
          },
          "name": "stderr",
          "output_type": "stream",
          "text": [
            "\rProgress:  19%|█▉        | 383/2000 [08:09<34:37,  1.28s/stock]"
          ]
        },
        {
          "metadata": {
            "tags": null
          },
          "name": "stdout",
          "output_type": "stream",
          "text": [
            "Error retrieving data for 대명소노시즌 (A007720): '종가'\n"
          ]
        },
        {
          "metadata": {
            "tags": null
          },
          "name": "stderr",
          "output_type": "stream",
          "text": [
            "\rProgress:  19%|█▉        | 384/2000 [08:11<34:24,  1.28s/stock]"
          ]
        },
        {
          "metadata": {
            "tags": null
          },
          "name": "stdout",
          "output_type": "stream",
          "text": [
            "Error retrieving data for 대모 (A317850): '종가'\n"
          ]
        },
        {
          "metadata": {
            "tags": null
          },
          "name": "stderr",
          "output_type": "stream",
          "text": [
            "\rProgress:  19%|█▉        | 385/2000 [08:12<34:23,  1.28s/stock]"
          ]
        },
        {
          "metadata": {
            "tags": null
          },
          "name": "stdout",
          "output_type": "stream",
          "text": [
            "Error retrieving data for 대보마그네틱 (A290670): '종가'\n"
          ]
        },
        {
          "metadata": {
            "tags": null
          },
          "name": "stderr",
          "output_type": "stream",
          "text": [
            "\rProgress:  19%|█▉        | 386/2000 [08:13<34:12,  1.27s/stock]"
          ]
        },
        {
          "metadata": {
            "tags": null
          },
          "name": "stdout",
          "output_type": "stream",
          "text": [
            "Error retrieving data for 대봉엘에스 (A078140): '종가'\n"
          ]
        },
        {
          "metadata": {
            "tags": null
          },
          "name": "stderr",
          "output_type": "stream",
          "text": [
            "\rProgress:  19%|█▉        | 387/2000 [08:15<34:25,  1.28s/stock]"
          ]
        },
        {
          "metadata": {
            "tags": null
          },
          "name": "stdout",
          "output_type": "stream",
          "text": [
            "Error retrieving data for 대상 (A001680): '종가'\n"
          ]
        },
        {
          "metadata": {
            "tags": null
          },
          "name": "stderr",
          "output_type": "stream",
          "text": [
            "\rProgress:  19%|█▉        | 388/2000 [08:16<34:23,  1.28s/stock]"
          ]
        },
        {
          "metadata": {
            "tags": null
          },
          "name": "stdout",
          "output_type": "stream",
          "text": [
            "Error retrieving data for 대상홀딩스 (A084690): '종가'\n"
          ]
        },
        {
          "metadata": {
            "tags": null
          },
          "name": "stderr",
          "output_type": "stream",
          "text": [
            "\rProgress:  19%|█▉        | 389/2000 [08:17<35:09,  1.31s/stock]"
          ]
        },
        {
          "metadata": {
            "tags": null
          },
          "name": "stdout",
          "output_type": "stream",
          "text": [
            "Error retrieving data for 대성미생물 (A036480): '종가'\n"
          ]
        },
        {
          "metadata": {
            "tags": null
          },
          "name": "stderr",
          "output_type": "stream",
          "text": [
            "\rProgress:  20%|█▉        | 390/2000 [08:18<34:38,  1.29s/stock]"
          ]
        },
        {
          "metadata": {
            "tags": null
          },
          "name": "stdout",
          "output_type": "stream",
          "text": [
            "Error retrieving data for 대성산업 (A128820): '종가'\n"
          ]
        },
        {
          "metadata": {
            "tags": null
          },
          "name": "stderr",
          "output_type": "stream",
          "text": [
            "\rProgress:  20%|█▉        | 391/2000 [08:20<34:22,  1.28s/stock]"
          ]
        },
        {
          "metadata": {
            "tags": null
          },
          "name": "stdout",
          "output_type": "stream",
          "text": [
            "Error retrieving data for 대성에너지 (A117580): '종가'\n"
          ]
        },
        {
          "metadata": {
            "tags": null
          },
          "name": "stderr",
          "output_type": "stream",
          "text": [
            "\rProgress:  20%|█▉        | 392/2000 [08:21<34:32,  1.29s/stock]"
          ]
        },
        {
          "metadata": {
            "tags": null
          },
          "name": "stdout",
          "output_type": "stream",
          "text": [
            "Error retrieving data for 대성창투 (A027830): '종가'\n"
          ]
        },
        {
          "metadata": {
            "tags": null
          },
          "name": "stderr",
          "output_type": "stream",
          "text": [
            "\rProgress:  20%|█▉        | 393/2000 [08:22<34:28,  1.29s/stock]"
          ]
        },
        {
          "metadata": {
            "tags": null
          },
          "name": "stdout",
          "output_type": "stream",
          "text": [
            "Error retrieving data for 대성파인텍 (A104040): '종가'\n"
          ]
        },
        {
          "metadata": {
            "tags": null
          },
          "name": "stderr",
          "output_type": "stream",
          "text": [
            "\rProgress:  20%|█▉        | 394/2000 [08:24<34:07,  1.28s/stock]"
          ]
        },
        {
          "metadata": {
            "tags": null
          },
          "name": "stdout",
          "output_type": "stream",
          "text": [
            "Error retrieving data for 대성홀딩스 (A016710): '종가'\n"
          ]
        },
        {
          "metadata": {
            "tags": null
          },
          "name": "stderr",
          "output_type": "stream",
          "text": [
            "\rProgress:  20%|█▉        | 395/2000 [08:25<34:10,  1.28s/stock]"
          ]
        },
        {
          "metadata": {
            "tags": null
          },
          "name": "stdout",
          "output_type": "stream",
          "text": [
            "Error retrieving data for 대신증권 (A003540): '종가'\n"
          ]
        },
        {
          "metadata": {
            "tags": null
          },
          "name": "stderr",
          "output_type": "stream",
          "text": [
            "\rProgress:  20%|█▉        | 396/2000 [08:26<34:04,  1.27s/stock]"
          ]
        },
        {
          "metadata": {
            "tags": null
          },
          "name": "stdout",
          "output_type": "stream",
          "text": [
            "Error retrieving data for 대아티아이 (A045390): '종가'\n"
          ]
        },
        {
          "metadata": {
            "tags": null
          },
          "name": "stderr",
          "output_type": "stream",
          "text": [
            "\rProgress:  20%|█▉        | 397/2000 [08:27<33:54,  1.27s/stock]"
          ]
        },
        {
          "metadata": {
            "tags": null
          },
          "name": "stdout",
          "output_type": "stream",
          "text": [
            "Error retrieving data for 대양금속 (A009190): '종가'\n"
          ]
        },
        {
          "metadata": {
            "tags": null
          },
          "name": "stderr",
          "output_type": "stream",
          "text": [
            "\rProgress:  20%|█▉        | 398/2000 [08:29<34:08,  1.28s/stock]"
          ]
        },
        {
          "metadata": {
            "tags": null
          },
          "name": "stdout",
          "output_type": "stream",
          "text": [
            "Error retrieving data for 대양전기공업 (A108380): '종가'\n"
          ]
        },
        {
          "metadata": {
            "tags": null
          },
          "name": "stderr",
          "output_type": "stream",
          "text": [
            "\rProgress:  20%|█▉        | 399/2000 [08:30<34:41,  1.30s/stock]"
          ]
        },
        {
          "metadata": {
            "tags": null
          },
          "name": "stdout",
          "output_type": "stream",
          "text": [
            "Error retrieving data for 대양제지 (A006580): '종가'\n"
          ]
        },
        {
          "metadata": {
            "tags": null
          },
          "name": "stderr",
          "output_type": "stream",
          "text": [
            "\rProgress:  20%|██        | 400/2000 [08:31<35:19,  1.32s/stock]"
          ]
        },
        {
          "metadata": {
            "tags": null
          },
          "name": "stdout",
          "output_type": "stream",
          "text": [
            "Error retrieving data for 대영포장 (A014160): '종가'\n"
          ]
        },
        {
          "metadata": {
            "tags": null
          },
          "name": "stderr",
          "output_type": "stream",
          "text": [
            "\rProgress:  20%|██        | 401/2000 [08:33<34:46,  1.30s/stock]"
          ]
        },
        {
          "metadata": {
            "tags": null
          },
          "name": "stdout",
          "output_type": "stream",
          "text": [
            "Error retrieving data for 대우건설 (A047040): '종가'\n"
          ]
        },
        {
          "metadata": {
            "tags": null
          },
          "name": "stderr",
          "output_type": "stream",
          "text": [
            "\rProgress:  20%|██        | 402/2000 [08:34<34:30,  1.30s/stock]"
          ]
        },
        {
          "metadata": {
            "tags": null
          },
          "name": "stdout",
          "output_type": "stream",
          "text": [
            "Error retrieving data for 대우부품 (A009320): '종가'\n"
          ]
        },
        {
          "metadata": {
            "tags": null
          },
          "name": "stderr",
          "output_type": "stream",
          "text": [
            "\rProgress:  20%|██        | 403/2000 [08:35<34:25,  1.29s/stock]"
          ]
        },
        {
          "metadata": {
            "tags": null
          },
          "name": "stdout",
          "output_type": "stream",
          "text": [
            "Error retrieving data for 대우조선해양 (A042660): '종가'\n"
          ]
        },
        {
          "metadata": {
            "tags": null
          },
          "name": "stderr",
          "output_type": "stream",
          "text": [
            "\rProgress:  20%|██        | 404/2000 [08:36<34:19,  1.29s/stock]"
          ]
        },
        {
          "metadata": {
            "tags": null
          },
          "name": "stdout",
          "output_type": "stream",
          "text": [
            "Error retrieving data for 대웅 (A003090): '종가'\n"
          ]
        },
        {
          "metadata": {
            "tags": null
          },
          "name": "stderr",
          "output_type": "stream",
          "text": [
            "\rProgress:  20%|██        | 405/2000 [08:38<34:08,  1.28s/stock]"
          ]
        },
        {
          "metadata": {
            "tags": null
          },
          "name": "stdout",
          "output_type": "stream",
          "text": [
            "Error retrieving data for 대웅제약 (A069620): '종가'\n"
          ]
        },
        {
          "metadata": {
            "tags": null
          },
          "name": "stderr",
          "output_type": "stream",
          "text": [
            "\rProgress:  20%|██        | 406/2000 [08:39<34:03,  1.28s/stock]"
          ]
        },
        {
          "metadata": {
            "tags": null
          },
          "name": "stdout",
          "output_type": "stream",
          "text": [
            "Error retrieving data for 대원 (A007680): '종가'\n"
          ]
        },
        {
          "metadata": {
            "tags": null
          },
          "name": "stderr",
          "output_type": "stream",
          "text": [
            "\rProgress:  20%|██        | 407/2000 [08:40<33:51,  1.28s/stock]"
          ]
        },
        {
          "metadata": {
            "tags": null
          },
          "name": "stdout",
          "output_type": "stream",
          "text": [
            "Error retrieving data for 대원강업 (A000430): '종가'\n"
          ]
        },
        {
          "metadata": {
            "tags": null
          },
          "name": "stderr",
          "output_type": "stream",
          "text": [
            "\rProgress:  20%|██        | 408/2000 [08:42<34:09,  1.29s/stock]"
          ]
        },
        {
          "metadata": {
            "tags": null
          },
          "name": "stdout",
          "output_type": "stream",
          "text": [
            "Error retrieving data for 대원미디어 (A048910): '종가'\n"
          ]
        },
        {
          "metadata": {
            "tags": null
          },
          "name": "stderr",
          "output_type": "stream",
          "text": [
            "\rProgress:  20%|██        | 409/2000 [08:43<33:52,  1.28s/stock]"
          ]
        },
        {
          "metadata": {
            "tags": null
          },
          "name": "stdout",
          "output_type": "stream",
          "text": [
            "Error retrieving data for 대원산업 (A005710): '종가'\n"
          ]
        },
        {
          "metadata": {
            "tags": null
          },
          "name": "stderr",
          "output_type": "stream",
          "text": [
            "\rProgress:  20%|██        | 410/2000 [08:44<33:41,  1.27s/stock]"
          ]
        },
        {
          "metadata": {
            "tags": null
          },
          "name": "stdout",
          "output_type": "stream",
          "text": [
            "Error retrieving data for 대원전선 (A006340): '종가'\n"
          ]
        },
        {
          "metadata": {
            "tags": null
          },
          "name": "stderr",
          "output_type": "stream",
          "text": [
            "\rProgress:  21%|██        | 411/2000 [08:45<33:43,  1.27s/stock]"
          ]
        },
        {
          "metadata": {
            "tags": null
          },
          "name": "stdout",
          "output_type": "stream",
          "text": [
            "Error retrieving data for 대원제약 (A003220): '종가'\n"
          ]
        },
        {
          "metadata": {
            "tags": null
          },
          "name": "stderr",
          "output_type": "stream",
          "text": [
            "\rProgress:  21%|██        | 412/2000 [08:47<33:41,  1.27s/stock]"
          ]
        },
        {
          "metadata": {
            "tags": null
          },
          "name": "stdout",
          "output_type": "stream",
          "text": [
            "Error retrieving data for 대원화성 (A024890): '종가'\n"
          ]
        },
        {
          "metadata": {
            "tags": null
          },
          "name": "stderr",
          "output_type": "stream",
          "text": [
            "\rProgress:  21%|██        | 413/2000 [08:48<33:46,  1.28s/stock]"
          ]
        },
        {
          "metadata": {
            "tags": null
          },
          "name": "stdout",
          "output_type": "stream",
          "text": [
            "Error retrieving data for 대유 (A290380): '종가'\n"
          ]
        },
        {
          "metadata": {
            "tags": null
          },
          "name": "stderr",
          "output_type": "stream",
          "text": [
            "\rProgress:  21%|██        | 414/2000 [08:49<33:52,  1.28s/stock]"
          ]
        },
        {
          "metadata": {
            "tags": null
          },
          "name": "stdout",
          "output_type": "stream",
          "text": [
            "Error retrieving data for 대유에이텍 (A002880): '종가'\n"
          ]
        },
        {
          "metadata": {
            "tags": null
          },
          "name": "stderr",
          "output_type": "stream",
          "text": [
            "\rProgress:  21%|██        | 415/2000 [08:51<34:05,  1.29s/stock]"
          ]
        },
        {
          "metadata": {
            "tags": null
          },
          "name": "stdout",
          "output_type": "stream",
          "text": [
            "Error retrieving data for 대유에이피 (A290120): '종가'\n"
          ]
        },
        {
          "metadata": {
            "tags": null
          },
          "name": "stderr",
          "output_type": "stream",
          "text": [
            "\rProgress:  21%|██        | 416/2000 [08:52<33:45,  1.28s/stock]"
          ]
        },
        {
          "metadata": {
            "tags": null
          },
          "name": "stdout",
          "output_type": "stream",
          "text": [
            "Error retrieving data for 대유플러스 (A000300): '종가'\n"
          ]
        },
        {
          "metadata": {
            "tags": null
          },
          "name": "stderr",
          "output_type": "stream",
          "text": [
            "\rProgress:  21%|██        | 417/2000 [08:53<33:30,  1.27s/stock]"
          ]
        },
        {
          "metadata": {
            "tags": null
          },
          "name": "stdout",
          "output_type": "stream",
          "text": [
            "Error retrieving data for 대정화금 (A120240): '종가'\n"
          ]
        },
        {
          "metadata": {
            "tags": null
          },
          "name": "stderr",
          "output_type": "stream",
          "text": [
            "\rProgress:  21%|██        | 418/2000 [08:54<33:13,  1.26s/stock]"
          ]
        },
        {
          "metadata": {
            "tags": null
          },
          "name": "stdout",
          "output_type": "stream",
          "text": [
            "Error retrieving data for 대주산업 (A003310): '종가'\n"
          ]
        },
        {
          "metadata": {
            "tags": null
          },
          "name": "stderr",
          "output_type": "stream",
          "text": [
            "\rProgress:  21%|██        | 419/2000 [08:56<33:02,  1.25s/stock]"
          ]
        },
        {
          "metadata": {
            "tags": null
          },
          "name": "stdout",
          "output_type": "stream",
          "text": [
            "Error retrieving data for 대주전자재료 (A078600): '종가'\n"
          ]
        },
        {
          "metadata": {
            "tags": null
          },
          "name": "stderr",
          "output_type": "stream",
          "text": [
            "\rProgress:  21%|██        | 420/2000 [08:57<32:52,  1.25s/stock]"
          ]
        },
        {
          "metadata": {
            "tags": null
          },
          "name": "stdout",
          "output_type": "stream",
          "text": [
            "Error retrieving data for 대창 (A012800): '종가'\n"
          ]
        },
        {
          "metadata": {
            "tags": null
          },
          "name": "stderr",
          "output_type": "stream",
          "text": [
            "\rProgress:  21%|██        | 421/2000 [08:58<32:50,  1.25s/stock]"
          ]
        },
        {
          "metadata": {
            "tags": null
          },
          "name": "stdout",
          "output_type": "stream",
          "text": [
            "Error retrieving data for 대창단조 (A015230): '종가'\n"
          ]
        },
        {
          "metadata": {
            "tags": null
          },
          "name": "stderr",
          "output_type": "stream",
          "text": [
            "\rProgress:  21%|██        | 422/2000 [08:59<32:40,  1.24s/stock]"
          ]
        },
        {
          "metadata": {
            "tags": null
          },
          "name": "stdout",
          "output_type": "stream",
          "text": [
            "Error retrieving data for 대창솔루션 (A096350): '종가'\n"
          ]
        },
        {
          "metadata": {
            "tags": null
          },
          "name": "stderr",
          "output_type": "stream",
          "text": [
            "\rProgress:  21%|██        | 423/2000 [09:01<32:52,  1.25s/stock]"
          ]
        },
        {
          "metadata": {
            "tags": null
          },
          "name": "stdout",
          "output_type": "stream",
          "text": [
            "Error retrieving data for 대창스틸 (A140520): '종가'\n"
          ]
        },
        {
          "metadata": {
            "tags": null
          },
          "name": "stderr",
          "output_type": "stream",
          "text": [
            "\rProgress:  21%|██        | 424/2000 [09:02<32:48,  1.25s/stock]"
          ]
        },
        {
          "metadata": {
            "tags": null
          },
          "name": "stdout",
          "output_type": "stream",
          "text": [
            "Error retrieving data for 대한과학 (A131220): '종가'\n"
          ]
        },
        {
          "metadata": {
            "tags": null
          },
          "name": "stderr",
          "output_type": "stream",
          "text": [
            "\rProgress:  21%|██▏       | 425/2000 [09:03<32:39,  1.24s/stock]"
          ]
        },
        {
          "metadata": {
            "tags": null
          },
          "name": "stdout",
          "output_type": "stream",
          "text": [
            "Error retrieving data for 대한광통신 (A010170): '종가'\n"
          ]
        },
        {
          "metadata": {
            "tags": null
          },
          "name": "stderr",
          "output_type": "stream",
          "text": [
            "\rProgress:  21%|██▏       | 426/2000 [09:04<32:37,  1.24s/stock]"
          ]
        },
        {
          "metadata": {
            "tags": null
          },
          "name": "stdout",
          "output_type": "stream",
          "text": [
            "Error retrieving data for 대한뉴팜 (A054670): '종가'\n"
          ]
        },
        {
          "metadata": {
            "tags": null
          },
          "name": "stderr",
          "output_type": "stream",
          "text": [
            "\rProgress:  21%|██▏       | 427/2000 [09:05<32:30,  1.24s/stock]"
          ]
        },
        {
          "metadata": {
            "tags": null
          },
          "name": "stdout",
          "output_type": "stream",
          "text": [
            "Error retrieving data for 대한방직 (A001070): '종가'\n"
          ]
        },
        {
          "metadata": {
            "tags": null
          },
          "name": "stderr",
          "output_type": "stream",
          "text": [
            "\rProgress:  21%|██▏       | 428/2000 [09:07<32:40,  1.25s/stock]"
          ]
        },
        {
          "metadata": {
            "tags": null
          },
          "name": "stdout",
          "output_type": "stream",
          "text": [
            "Error retrieving data for 대한약품 (A023910): '종가'\n"
          ]
        },
        {
          "metadata": {
            "tags": null
          },
          "name": "stderr",
          "output_type": "stream",
          "text": [
            "\rProgress:  21%|██▏       | 429/2000 [09:08<32:32,  1.24s/stock]"
          ]
        },
        {
          "metadata": {
            "tags": null
          },
          "name": "stdout",
          "output_type": "stream",
          "text": [
            "Error retrieving data for 대한유화 (A006650): '종가'\n"
          ]
        },
        {
          "metadata": {
            "tags": null
          },
          "name": "stderr",
          "output_type": "stream",
          "text": [
            "\rProgress:  22%|██▏       | 430/2000 [09:09<32:28,  1.24s/stock]"
          ]
        },
        {
          "metadata": {
            "tags": null
          },
          "name": "stdout",
          "output_type": "stream",
          "text": [
            "Error retrieving data for 대한전선 (A001440): '종가'\n"
          ]
        },
        {
          "metadata": {
            "tags": null
          },
          "name": "stderr",
          "output_type": "stream",
          "text": [
            "\rProgress:  22%|██▏       | 431/2000 [09:11<33:22,  1.28s/stock]"
          ]
        },
        {
          "metadata": {
            "tags": null
          },
          "name": "stdout",
          "output_type": "stream",
          "text": [
            "Error retrieving data for 대한제강 (A084010): '종가'\n"
          ]
        },
        {
          "metadata": {
            "tags": null
          },
          "name": "stderr",
          "output_type": "stream",
          "text": [
            "\rProgress:  22%|██▏       | 432/2000 [09:12<32:56,  1.26s/stock]"
          ]
        },
        {
          "metadata": {
            "tags": null
          },
          "name": "stdout",
          "output_type": "stream",
          "text": [
            "Error retrieving data for 대한제당 (A001790): '종가'\n"
          ]
        },
        {
          "metadata": {
            "tags": null
          },
          "name": "stderr",
          "output_type": "stream",
          "text": [
            "\rProgress:  22%|██▏       | 433/2000 [09:13<32:42,  1.25s/stock]"
          ]
        },
        {
          "metadata": {
            "tags": null
          },
          "name": "stdout",
          "output_type": "stream",
          "text": [
            "Error retrieving data for 대한제분 (A001130): '종가'\n"
          ]
        },
        {
          "metadata": {
            "tags": null
          },
          "name": "stderr",
          "output_type": "stream",
          "text": [
            "\rProgress:  22%|██▏       | 434/2000 [09:14<32:29,  1.24s/stock]"
          ]
        },
        {
          "metadata": {
            "tags": null
          },
          "name": "stdout",
          "output_type": "stream",
          "text": [
            "Error retrieving data for 대한항공 (A003490): '종가'\n"
          ]
        },
        {
          "metadata": {
            "tags": null
          },
          "name": "stderr",
          "output_type": "stream",
          "text": [
            "\rProgress:  22%|██▏       | 435/2000 [09:15<32:16,  1.24s/stock]"
          ]
        },
        {
          "metadata": {
            "tags": null
          },
          "name": "stdout",
          "output_type": "stream",
          "text": [
            "Error retrieving data for 대한해운 (A005880): '종가'\n"
          ]
        },
        {
          "metadata": {
            "tags": null
          },
          "name": "stderr",
          "output_type": "stream",
          "text": [
            "\rProgress:  22%|██▏       | 436/2000 [09:17<32:13,  1.24s/stock]"
          ]
        },
        {
          "metadata": {
            "tags": null
          },
          "name": "stdout",
          "output_type": "stream",
          "text": [
            "Error retrieving data for 대한화섬 (A003830): '종가'\n"
          ]
        },
        {
          "metadata": {
            "tags": null
          },
          "name": "stderr",
          "output_type": "stream",
          "text": [
            "\rProgress:  22%|██▏       | 437/2000 [09:18<32:11,  1.24s/stock]"
          ]
        },
        {
          "metadata": {
            "tags": null
          },
          "name": "stdout",
          "output_type": "stream",
          "text": [
            "Error retrieving data for 대현 (A016090): '종가'\n"
          ]
        },
        {
          "metadata": {
            "tags": null
          },
          "name": "stderr",
          "output_type": "stream",
          "text": [
            "\rProgress:  22%|██▏       | 438/2000 [09:19<32:04,  1.23s/stock]"
          ]
        },
        {
          "metadata": {
            "tags": null
          },
          "name": "stdout",
          "output_type": "stream",
          "text": [
            "Error retrieving data for 대호에이엘 (A069460): '종가'\n"
          ]
        },
        {
          "metadata": {
            "tags": null
          },
          "name": "stderr",
          "output_type": "stream",
          "text": [
            "\rProgress:  22%|██▏       | 439/2000 [09:20<32:01,  1.23s/stock]"
          ]
        },
        {
          "metadata": {
            "tags": null
          },
          "name": "stdout",
          "output_type": "stream",
          "text": [
            "Error retrieving data for 대화제약 (A067080): '종가'\n"
          ]
        },
        {
          "metadata": {
            "tags": null
          },
          "name": "stderr",
          "output_type": "stream",
          "text": [
            "\rProgress:  22%|██▏       | 440/2000 [09:22<32:02,  1.23s/stock]"
          ]
        },
        {
          "metadata": {
            "tags": null
          },
          "name": "stdout",
          "output_type": "stream",
          "text": [
            "Error retrieving data for 더네이쳐홀딩스 (A298540): '종가'\n"
          ]
        },
        {
          "metadata": {
            "tags": null
          },
          "name": "stderr",
          "output_type": "stream",
          "text": [
            "\rProgress:  22%|██▏       | 441/2000 [09:23<32:21,  1.25s/stock]"
          ]
        },
        {
          "metadata": {
            "tags": null
          },
          "name": "stdout",
          "output_type": "stream",
          "text": [
            "Error retrieving data for 더메디팜 (A118000): '종가'\n"
          ]
        },
        {
          "metadata": {
            "tags": null
          },
          "name": "stderr",
          "output_type": "stream",
          "text": [
            "\rProgress:  22%|██▏       | 442/2000 [09:24<32:37,  1.26s/stock]"
          ]
        },
        {
          "metadata": {
            "tags": null
          },
          "name": "stdout",
          "output_type": "stream",
          "text": [
            "Error retrieving data for 더블유게임즈 (A192080): '종가'\n"
          ]
        },
        {
          "metadata": {
            "tags": null
          },
          "name": "stderr",
          "output_type": "stream",
          "text": [
            "\rProgress:  22%|██▏       | 443/2000 [09:25<32:27,  1.25s/stock]"
          ]
        },
        {
          "metadata": {
            "tags": null
          },
          "name": "stdout",
          "output_type": "stream",
          "text": [
            "Error retrieving data for 더블유에스아이 (A299170): '종가'\n"
          ]
        },
        {
          "metadata": {
            "tags": null
          },
          "name": "stderr",
          "output_type": "stream",
          "text": [
            "\rProgress:  22%|██▏       | 444/2000 [09:27<32:18,  1.25s/stock]"
          ]
        },
        {
          "metadata": {
            "tags": null
          },
          "name": "stdout",
          "output_type": "stream",
          "text": [
            "Error retrieving data for 더존비즈온 (A012510): '종가'\n"
          ]
        },
        {
          "metadata": {
            "tags": null
          },
          "name": "stderr",
          "output_type": "stream",
          "text": [
            "\rProgress:  22%|██▏       | 445/2000 [09:28<32:15,  1.24s/stock]"
          ]
        },
        {
          "metadata": {
            "tags": null
          },
          "name": "stdout",
          "output_type": "stream",
          "text": [
            "Error retrieving data for 덕산네오룩스 (A213420): '종가'\n"
          ]
        },
        {
          "metadata": {
            "tags": null
          },
          "name": "stderr",
          "output_type": "stream",
          "text": [
            "\rProgress:  22%|██▏       | 446/2000 [09:29<32:06,  1.24s/stock]"
          ]
        },
        {
          "metadata": {
            "tags": null
          },
          "name": "stdout",
          "output_type": "stream",
          "text": [
            "Error retrieving data for 덕산테코피아 (A317330): '종가'\n"
          ]
        },
        {
          "metadata": {
            "tags": null
          },
          "name": "stderr",
          "output_type": "stream",
          "text": [
            "\rProgress:  22%|██▏       | 447/2000 [09:31<34:13,  1.32s/stock]"
          ]
        },
        {
          "metadata": {
            "tags": null
          },
          "name": "stdout",
          "output_type": "stream",
          "text": [
            "Error retrieving data for 덕산하이메탈 (A077360): '종가'\n"
          ]
        },
        {
          "metadata": {
            "tags": null
          },
          "name": "stderr",
          "output_type": "stream",
          "text": [
            "\rProgress:  22%|██▏       | 448/2000 [09:32<33:30,  1.30s/stock]"
          ]
        },
        {
          "metadata": {
            "tags": null
          },
          "name": "stdout",
          "output_type": "stream",
          "text": [
            "Error retrieving data for 덕성 (A004830): '종가'\n"
          ]
        },
        {
          "metadata": {
            "tags": null
          },
          "name": "stderr",
          "output_type": "stream",
          "text": [
            "\rProgress:  22%|██▏       | 449/2000 [09:33<32:59,  1.28s/stock]"
          ]
        },
        {
          "metadata": {
            "tags": null
          },
          "name": "stdout",
          "output_type": "stream",
          "text": [
            "Error retrieving data for 덕신하우징 (A090410): '종가'\n"
          ]
        },
        {
          "metadata": {
            "tags": null
          },
          "name": "stderr",
          "output_type": "stream",
          "text": [
            "\rProgress:  22%|██▎       | 450/2000 [09:34<32:39,  1.26s/stock]"
          ]
        },
        {
          "metadata": {
            "tags": null
          },
          "name": "stdout",
          "output_type": "stream",
          "text": [
            "Error retrieving data for 덕양산업 (A024900): '종가'\n"
          ]
        },
        {
          "metadata": {
            "tags": null
          },
          "name": "stderr",
          "output_type": "stream",
          "text": [
            "\rProgress:  23%|██▎       | 451/2000 [09:36<32:25,  1.26s/stock]"
          ]
        },
        {
          "metadata": {
            "tags": null
          },
          "name": "stdout",
          "output_type": "stream",
          "text": [
            "Error retrieving data for 덕우전자 (A263600): '종가'\n"
          ]
        },
        {
          "metadata": {
            "tags": null
          },
          "name": "stderr",
          "output_type": "stream",
          "text": [
            "\rProgress:  23%|██▎       | 452/2000 [09:37<32:16,  1.25s/stock]"
          ]
        },
        {
          "metadata": {
            "tags": null
          },
          "name": "stdout",
          "output_type": "stream",
          "text": [
            "Error retrieving data for 데브시스터즈 (A194480): '종가'\n"
          ]
        },
        {
          "metadata": {
            "tags": null
          },
          "name": "stderr",
          "output_type": "stream",
          "text": [
            "\rProgress:  23%|██▎       | 453/2000 [09:38<32:06,  1.25s/stock]"
          ]
        },
        {
          "metadata": {
            "tags": null
          },
          "name": "stdout",
          "output_type": "stream",
          "text": [
            "Error retrieving data for 데이타솔루션 (A263800): '종가'\n"
          ]
        },
        {
          "metadata": {
            "tags": null
          },
          "name": "stderr",
          "output_type": "stream",
          "text": [
            "\rProgress:  23%|██▎       | 454/2000 [09:39<31:55,  1.24s/stock]"
          ]
        },
        {
          "metadata": {
            "tags": null
          },
          "name": "stdout",
          "output_type": "stream",
          "text": [
            "Error retrieving data for 덱스터 (A206560): '종가'\n"
          ]
        },
        {
          "metadata": {
            "tags": null
          },
          "name": "stderr",
          "output_type": "stream",
          "text": [
            "\rProgress:  23%|██▎       | 455/2000 [09:41<31:53,  1.24s/stock]"
          ]
        },
        {
          "metadata": {
            "tags": null
          },
          "name": "stdout",
          "output_type": "stream",
          "text": [
            "Error retrieving data for 덴티스 (A261200): '종가'\n"
          ]
        },
        {
          "metadata": {
            "tags": null
          },
          "name": "stderr",
          "output_type": "stream",
          "text": [
            "\rProgress:  23%|██▎       | 456/2000 [09:42<31:49,  1.24s/stock]"
          ]
        },
        {
          "metadata": {
            "tags": null
          },
          "name": "stdout",
          "output_type": "stream",
          "text": [
            "Error retrieving data for 덴티움 (A145720): '종가'\n"
          ]
        },
        {
          "metadata": {
            "tags": null
          },
          "name": "stderr",
          "output_type": "stream",
          "text": [
            "\rProgress:  23%|██▎       | 457/2000 [09:43<31:45,  1.23s/stock]"
          ]
        },
        {
          "metadata": {
            "tags": null
          },
          "name": "stdout",
          "output_type": "stream",
          "text": [
            "Error retrieving data for 도이치모터스 (A067990): '종가'\n"
          ]
        },
        {
          "metadata": {
            "tags": null
          },
          "name": "stderr",
          "output_type": "stream",
          "text": [
            "\rProgress:  23%|██▎       | 458/2000 [09:44<31:41,  1.23s/stock]"
          ]
        },
        {
          "metadata": {
            "tags": null
          },
          "name": "stdout",
          "output_type": "stream",
          "text": [
            "Error retrieving data for 도화엔지니어링 (A002150): '종가'\n"
          ]
        },
        {
          "metadata": {
            "tags": null
          },
          "name": "stderr",
          "output_type": "stream",
          "text": [
            "\rProgress:  23%|██▎       | 459/2000 [09:45<31:38,  1.23s/stock]"
          ]
        },
        {
          "metadata": {
            "tags": null
          },
          "name": "stdout",
          "output_type": "stream",
          "text": [
            "Error retrieving data for 동구바이오제약 (A006620): '종가'\n"
          ]
        },
        {
          "metadata": {
            "tags": null
          },
          "name": "stderr",
          "output_type": "stream",
          "text": [
            "\rProgress:  23%|██▎       | 460/2000 [09:47<31:55,  1.24s/stock]"
          ]
        },
        {
          "metadata": {
            "tags": null
          },
          "name": "stdout",
          "output_type": "stream",
          "text": [
            "Error retrieving data for 동국S&C (A100130): '종가'\n"
          ]
        },
        {
          "metadata": {
            "tags": null
          },
          "name": "stderr",
          "output_type": "stream",
          "text": [
            "\rProgress:  23%|██▎       | 461/2000 [09:48<31:48,  1.24s/stock]"
          ]
        },
        {
          "metadata": {
            "tags": null
          },
          "name": "stdout",
          "output_type": "stream",
          "text": [
            "Error retrieving data for 동국산업 (A005160): '종가'\n"
          ]
        },
        {
          "metadata": {
            "tags": null
          },
          "name": "stderr",
          "output_type": "stream",
          "text": [
            "\rProgress:  23%|██▎       | 462/2000 [09:49<31:59,  1.25s/stock]"
          ]
        },
        {
          "metadata": {
            "tags": null
          },
          "name": "stdout",
          "output_type": "stream",
          "text": [
            "Error retrieving data for 동국알앤에스 (A075970): '종가'\n"
          ]
        },
        {
          "metadata": {
            "tags": null
          },
          "name": "stderr",
          "output_type": "stream",
          "text": [
            "\rProgress:  23%|██▎       | 463/2000 [09:51<32:28,  1.27s/stock]"
          ]
        },
        {
          "metadata": {
            "tags": null
          },
          "name": "stdout",
          "output_type": "stream",
          "text": [
            "Error retrieving data for 동국제강 (A001230): '종가'\n"
          ]
        },
        {
          "metadata": {
            "tags": null
          },
          "name": "stderr",
          "output_type": "stream",
          "text": [
            "\rProgress:  23%|██▎       | 464/2000 [09:52<32:24,  1.27s/stock]"
          ]
        },
        {
          "metadata": {
            "tags": null
          },
          "name": "stdout",
          "output_type": "stream",
          "text": [
            "Error retrieving data for 동국제약 (A086450): '종가'\n"
          ]
        },
        {
          "metadata": {
            "tags": null
          },
          "name": "stderr",
          "output_type": "stream",
          "text": [
            "\rProgress:  23%|██▎       | 465/2000 [09:53<32:23,  1.27s/stock]"
          ]
        },
        {
          "metadata": {
            "tags": null
          },
          "name": "stdout",
          "output_type": "stream",
          "text": [
            "Error retrieving data for 동남합성 (A023450): '종가'\n"
          ]
        },
        {
          "metadata": {
            "tags": null
          },
          "name": "stderr",
          "output_type": "stream",
          "text": [
            "\rProgress:  23%|██▎       | 466/2000 [09:54<32:21,  1.27s/stock]"
          ]
        },
        {
          "metadata": {
            "tags": null
          },
          "name": "stdout",
          "output_type": "stream",
          "text": [
            "Error retrieving data for 동방 (A004140): '종가'\n"
          ]
        },
        {
          "metadata": {
            "tags": null
          },
          "name": "stderr",
          "output_type": "stream",
          "text": [
            "\rProgress:  23%|██▎       | 467/2000 [09:56<32:15,  1.26s/stock]"
          ]
        },
        {
          "metadata": {
            "tags": null
          },
          "name": "stdout",
          "output_type": "stream",
          "text": [
            "Error retrieving data for 동방아그로 (A007590): '종가'\n"
          ]
        },
        {
          "metadata": {
            "tags": null
          },
          "name": "stderr",
          "output_type": "stream",
          "text": [
            "\rProgress:  23%|██▎       | 468/2000 [09:57<32:21,  1.27s/stock]"
          ]
        },
        {
          "metadata": {
            "tags": null
          },
          "name": "stdout",
          "output_type": "stream",
          "text": [
            "Error retrieving data for 동부건설 (A005960): '종가'\n"
          ]
        },
        {
          "metadata": {
            "tags": null
          },
          "name": "stderr",
          "output_type": "stream",
          "text": [
            "\rProgress:  23%|██▎       | 469/2000 [09:58<32:21,  1.27s/stock]"
          ]
        },
        {
          "metadata": {
            "tags": null
          },
          "name": "stdout",
          "output_type": "stream",
          "text": [
            "Error retrieving data for 동서 (A026960): '종가'\n"
          ]
        },
        {
          "metadata": {
            "tags": null
          },
          "name": "stderr",
          "output_type": "stream",
          "text": [
            "\rProgress:  24%|██▎       | 470/2000 [09:59<32:50,  1.29s/stock]"
          ]
        },
        {
          "metadata": {
            "tags": null
          },
          "name": "stdout",
          "output_type": "stream",
          "text": [
            "Error retrieving data for 동성제약 (A002210): '종가'\n"
          ]
        },
        {
          "metadata": {
            "tags": null
          },
          "name": "stderr",
          "output_type": "stream",
          "text": [
            "\rProgress:  24%|██▎       | 471/2000 [10:01<32:44,  1.28s/stock]"
          ]
        },
        {
          "metadata": {
            "tags": null
          },
          "name": "stdout",
          "output_type": "stream",
          "text": [
            "Error retrieving data for 동성케미컬 (A102260): '종가'\n"
          ]
        },
        {
          "metadata": {
            "tags": null
          },
          "name": "stderr",
          "output_type": "stream",
          "text": [
            "\rProgress:  24%|██▎       | 472/2000 [10:02<32:46,  1.29s/stock]"
          ]
        },
        {
          "metadata": {
            "tags": null
          },
          "name": "stdout",
          "output_type": "stream",
          "text": [
            "Error retrieving data for 동성화인텍 (A033500): '종가'\n"
          ]
        },
        {
          "metadata": {
            "tags": null
          },
          "name": "stderr",
          "output_type": "stream",
          "text": [
            "\rProgress:  24%|██▎       | 473/2000 [10:03<32:30,  1.28s/stock]"
          ]
        },
        {
          "metadata": {
            "tags": null
          },
          "name": "stdout",
          "output_type": "stream",
          "text": [
            "Error retrieving data for 동신건설 (A025950): '종가'\n"
          ]
        },
        {
          "metadata": {
            "tags": null
          },
          "name": "stderr",
          "output_type": "stream",
          "text": [
            "\rProgress:  24%|██▎       | 474/2000 [10:05<32:56,  1.30s/stock]"
          ]
        },
        {
          "metadata": {
            "tags": null
          },
          "name": "stdout",
          "output_type": "stream",
          "text": [
            "Error retrieving data for 동아쏘시오홀딩스 (A000640): '종가'\n"
          ]
        },
        {
          "metadata": {
            "tags": null
          },
          "name": "stderr",
          "output_type": "stream",
          "text": [
            "\rProgress:  24%|██▍       | 475/2000 [10:06<32:39,  1.28s/stock]"
          ]
        },
        {
          "metadata": {
            "tags": null
          },
          "name": "stdout",
          "output_type": "stream",
          "text": [
            "Error retrieving data for 동아에스티 (A170900): '종가'\n"
          ]
        },
        {
          "metadata": {
            "tags": null
          },
          "name": "stderr",
          "output_type": "stream",
          "text": [
            "\rProgress:  24%|██▍       | 476/2000 [10:07<32:26,  1.28s/stock]"
          ]
        },
        {
          "metadata": {
            "tags": null
          },
          "name": "stdout",
          "output_type": "stream",
          "text": [
            "Error retrieving data for 동아엘텍 (A088130): '종가'\n"
          ]
        },
        {
          "metadata": {
            "tags": null
          },
          "name": "stderr",
          "output_type": "stream",
          "text": [
            "\rProgress:  24%|██▍       | 477/2000 [10:08<32:13,  1.27s/stock]"
          ]
        },
        {
          "metadata": {
            "tags": null
          },
          "name": "stdout",
          "output_type": "stream",
          "text": [
            "Error retrieving data for 동아지질 (A028100): '종가'\n"
          ]
        },
        {
          "metadata": {
            "tags": null
          },
          "name": "stderr",
          "output_type": "stream",
          "text": [
            "\rProgress:  24%|██▍       | 478/2000 [10:10<32:12,  1.27s/stock]"
          ]
        },
        {
          "metadata": {
            "tags": null
          },
          "name": "stdout",
          "output_type": "stream",
          "text": [
            "Error retrieving data for 동아타이어 (A282690): '종가'\n"
          ]
        },
        {
          "metadata": {
            "tags": null
          },
          "name": "stderr",
          "output_type": "stream",
          "text": [
            "\rProgress:  24%|██▍       | 479/2000 [10:11<33:56,  1.34s/stock]"
          ]
        },
        {
          "metadata": {
            "tags": null
          },
          "name": "stdout",
          "output_type": "stream",
          "text": [
            "Error retrieving data for 동아화성 (A041930): '종가'\n"
          ]
        },
        {
          "metadata": {
            "tags": null
          },
          "name": "stderr",
          "output_type": "stream",
          "text": [
            "\rProgress:  24%|██▍       | 480/2000 [10:12<33:17,  1.31s/stock]"
          ]
        },
        {
          "metadata": {
            "tags": null
          },
          "name": "stdout",
          "output_type": "stream",
          "text": [
            "Error retrieving data for 동양 (A001520): '종가'\n"
          ]
        },
        {
          "metadata": {
            "tags": null
          },
          "name": "stderr",
          "output_type": "stream",
          "text": [
            "\rProgress:  24%|██▍       | 481/2000 [10:14<32:49,  1.30s/stock]"
          ]
        },
        {
          "metadata": {
            "tags": null
          },
          "name": "stdout",
          "output_type": "stream",
          "text": [
            "Error retrieving data for 동양고속 (A084670): '종가'\n"
          ]
        },
        {
          "metadata": {
            "tags": null
          },
          "name": "stderr",
          "output_type": "stream",
          "text": [
            "\rProgress:  24%|██▍       | 482/2000 [10:15<32:38,  1.29s/stock]"
          ]
        },
        {
          "metadata": {
            "tags": null
          },
          "name": "stdout",
          "output_type": "stream",
          "text": [
            "Error retrieving data for 동양생명 (A082640): '종가'\n"
          ]
        },
        {
          "metadata": {
            "tags": null
          },
          "name": "stderr",
          "output_type": "stream",
          "text": [
            "\rProgress:  24%|██▍       | 483/2000 [10:16<32:20,  1.28s/stock]"
          ]
        },
        {
          "metadata": {
            "tags": null
          },
          "name": "stdout",
          "output_type": "stream",
          "text": [
            "Error retrieving data for 동양에스텍 (A060380): '종가'\n"
          ]
        },
        {
          "metadata": {
            "tags": null
          },
          "name": "stderr",
          "output_type": "stream",
          "text": [
            "\rProgress:  24%|██▍       | 484/2000 [10:17<32:08,  1.27s/stock]"
          ]
        },
        {
          "metadata": {
            "tags": null
          },
          "name": "stdout",
          "output_type": "stream",
          "text": [
            "Error retrieving data for 동양이엔피 (A079960): '종가'\n"
          ]
        },
        {
          "metadata": {
            "tags": null
          },
          "name": "stderr",
          "output_type": "stream",
          "text": [
            "\rProgress:  24%|██▍       | 485/2000 [10:19<31:58,  1.27s/stock]"
          ]
        },
        {
          "metadata": {
            "tags": null
          },
          "name": "stdout",
          "output_type": "stream",
          "text": [
            "Error retrieving data for 동양철관 (A008970): '종가'\n"
          ]
        },
        {
          "metadata": {
            "tags": null
          },
          "name": "stderr",
          "output_type": "stream",
          "text": [
            "\rProgress:  24%|██▍       | 486/2000 [10:20<32:26,  1.29s/stock]"
          ]
        },
        {
          "metadata": {
            "tags": null
          },
          "name": "stdout",
          "output_type": "stream",
          "text": [
            "Error retrieving data for 동양파일 (A228340): '종가'\n"
          ]
        },
        {
          "metadata": {
            "tags": null
          },
          "name": "stderr",
          "output_type": "stream",
          "text": [
            "\rProgress:  24%|██▍       | 487/2000 [10:21<32:22,  1.28s/stock]"
          ]
        },
        {
          "metadata": {
            "tags": null
          },
          "name": "stdout",
          "output_type": "stream",
          "text": [
            "Error retrieving data for 동양피스톤 (A092780): '종가'\n"
          ]
        },
        {
          "metadata": {
            "tags": null
          },
          "name": "stderr",
          "output_type": "stream",
          "text": [
            "\rProgress:  24%|██▍       | 488/2000 [10:23<32:27,  1.29s/stock]"
          ]
        },
        {
          "metadata": {
            "tags": null
          },
          "name": "stdout",
          "output_type": "stream",
          "text": [
            "Error retrieving data for 동우팜투테이블 (A088910): '종가'\n"
          ]
        },
        {
          "metadata": {
            "tags": null
          },
          "name": "stderr",
          "output_type": "stream",
          "text": [
            "\rProgress:  24%|██▍       | 489/2000 [10:24<32:12,  1.28s/stock]"
          ]
        },
        {
          "metadata": {
            "tags": null
          },
          "name": "stdout",
          "output_type": "stream",
          "text": [
            "Error retrieving data for 동운아나텍 (A094170): '종가'\n"
          ]
        },
        {
          "metadata": {
            "tags": null
          },
          "name": "stderr",
          "output_type": "stream",
          "text": [
            "\rProgress:  24%|██▍       | 490/2000 [10:25<32:18,  1.28s/stock]"
          ]
        },
        {
          "metadata": {
            "tags": null
          },
          "name": "stdout",
          "output_type": "stream",
          "text": [
            "Error retrieving data for 동원F&B (A049770): '종가'\n"
          ]
        },
        {
          "metadata": {
            "tags": null
          },
          "name": "stderr",
          "output_type": "stream",
          "text": [
            "\rProgress:  25%|██▍       | 491/2000 [10:26<32:23,  1.29s/stock]"
          ]
        },
        {
          "metadata": {
            "tags": null
          },
          "name": "stdout",
          "output_type": "stream",
          "text": [
            "Error retrieving data for 동원개발 (A013120): '종가'\n"
          ]
        },
        {
          "metadata": {
            "tags": null
          },
          "name": "stderr",
          "output_type": "stream",
          "text": [
            "\rProgress:  25%|██▍       | 492/2000 [10:28<32:16,  1.28s/stock]"
          ]
        },
        {
          "metadata": {
            "tags": null
          },
          "name": "stdout",
          "output_type": "stream",
          "text": [
            "Error retrieving data for 동원금속 (A018500): '종가'\n"
          ]
        },
        {
          "metadata": {
            "tags": null
          },
          "name": "stderr",
          "output_type": "stream",
          "text": [
            "\rProgress:  25%|██▍       | 493/2000 [10:29<32:27,  1.29s/stock]"
          ]
        },
        {
          "metadata": {
            "tags": null
          },
          "name": "stdout",
          "output_type": "stream",
          "text": [
            "Error retrieving data for 동원산업 (A006040): '종가'\n"
          ]
        },
        {
          "metadata": {
            "tags": null
          },
          "name": "stderr",
          "output_type": "stream",
          "text": [
            "\rProgress:  25%|██▍       | 494/2000 [10:30<32:21,  1.29s/stock]"
          ]
        },
        {
          "metadata": {
            "tags": null
          },
          "name": "stdout",
          "output_type": "stream",
          "text": [
            "Error retrieving data for 동원시스템즈 (A014820): '종가'\n"
          ]
        },
        {
          "metadata": {
            "tags": null
          },
          "name": "stderr",
          "output_type": "stream",
          "text": [
            "\rProgress:  25%|██▍       | 495/2000 [10:32<32:29,  1.30s/stock]"
          ]
        },
        {
          "metadata": {
            "tags": null
          },
          "name": "stdout",
          "output_type": "stream",
          "text": [
            "Error retrieving data for 동일고무벨트 (A163560): '종가'\n"
          ]
        },
        {
          "metadata": {
            "tags": null
          },
          "name": "stderr",
          "output_type": "stream",
          "text": [
            "\rProgress:  25%|██▍       | 496/2000 [10:33<32:08,  1.28s/stock]"
          ]
        },
        {
          "metadata": {
            "tags": null
          },
          "name": "stdout",
          "output_type": "stream",
          "text": [
            "Error retrieving data for 동일금속 (A109860): '종가'\n"
          ]
        },
        {
          "metadata": {
            "tags": null
          },
          "name": "stderr",
          "output_type": "stream",
          "text": [
            "\rProgress:  25%|██▍       | 497/2000 [10:34<32:02,  1.28s/stock]"
          ]
        },
        {
          "metadata": {
            "tags": null
          },
          "name": "stdout",
          "output_type": "stream",
          "text": [
            "Error retrieving data for 동일기연 (A032960): '종가'\n"
          ]
        },
        {
          "metadata": {
            "tags": null
          },
          "name": "stderr",
          "output_type": "stream",
          "text": [
            "\rProgress:  25%|██▍       | 498/2000 [10:35<31:49,  1.27s/stock]"
          ]
        },
        {
          "metadata": {
            "tags": null
          },
          "name": "stdout",
          "output_type": "stream",
          "text": [
            "Error retrieving data for 동일산업 (A004890): '종가'\n"
          ]
        },
        {
          "metadata": {
            "tags": null
          },
          "name": "stderr",
          "output_type": "stream",
          "text": [
            "\rProgress:  25%|██▍       | 499/2000 [10:37<31:53,  1.27s/stock]"
          ]
        },
        {
          "metadata": {
            "tags": null
          },
          "name": "stdout",
          "output_type": "stream",
          "text": [
            "Error retrieving data for 동일제강 (A002690): '종가'\n"
          ]
        },
        {
          "metadata": {
            "tags": null
          },
          "name": "stderr",
          "output_type": "stream",
          "text": [
            "\rProgress:  25%|██▌       | 500/2000 [10:38<31:50,  1.27s/stock]"
          ]
        },
        {
          "metadata": {
            "tags": null
          },
          "name": "stdout",
          "output_type": "stream",
          "text": [
            "Error retrieving data for 동진쎄미켐 (A005290): '종가'\n"
          ]
        },
        {
          "metadata": {
            "tags": null
          },
          "name": "stderr",
          "output_type": "stream",
          "text": [
            "\rProgress:  25%|██▌       | 501/2000 [10:39<31:46,  1.27s/stock]"
          ]
        },
        {
          "metadata": {
            "tags": null
          },
          "name": "stdout",
          "output_type": "stream",
          "text": [
            "Error retrieving data for 동화기업 (A025900): '종가'\n"
          ]
        },
        {
          "metadata": {
            "tags": null
          },
          "name": "stderr",
          "output_type": "stream",
          "text": [
            "\rProgress:  25%|██▌       | 502/2000 [10:40<31:44,  1.27s/stock]"
          ]
        },
        {
          "metadata": {
            "tags": null
          },
          "name": "stdout",
          "output_type": "stream",
          "text": [
            "Error retrieving data for 동화약품 (A000020): '종가'\n"
          ]
        },
        {
          "metadata": {
            "tags": null
          },
          "name": "stderr",
          "output_type": "stream",
          "text": [
            "\rProgress:  25%|██▌       | 503/2000 [10:42<31:38,  1.27s/stock]"
          ]
        },
        {
          "metadata": {
            "tags": null
          },
          "name": "stdout",
          "output_type": "stream",
          "text": [
            "Error retrieving data for 두산 (A000150): '종가'\n"
          ]
        },
        {
          "metadata": {
            "tags": null
          },
          "name": "stderr",
          "output_type": "stream",
          "text": [
            "\rProgress:  25%|██▌       | 504/2000 [10:43<31:51,  1.28s/stock]"
          ]
        },
        {
          "metadata": {
            "tags": null
          },
          "name": "stdout",
          "output_type": "stream",
          "text": [
            "Error retrieving data for 두산밥캣 (A241560): '종가'\n"
          ]
        },
        {
          "metadata": {
            "tags": null
          },
          "name": "stderr",
          "output_type": "stream",
          "text": [
            "\rProgress:  25%|██▌       | 505/2000 [10:44<31:51,  1.28s/stock]"
          ]
        },
        {
          "metadata": {
            "tags": null
          },
          "name": "stdout",
          "output_type": "stream",
          "text": [
            "Error retrieving data for 두산에너빌리티 (A034020): '종가'\n"
          ]
        },
        {
          "metadata": {
            "tags": null
          },
          "name": "stderr",
          "output_type": "stream",
          "text": [
            "\rProgress:  25%|██▌       | 506/2000 [10:46<31:50,  1.28s/stock]"
          ]
        },
        {
          "metadata": {
            "tags": null
          },
          "name": "stdout",
          "output_type": "stream",
          "text": [
            "Error retrieving data for 두산테스나 (A131970): '종가'\n"
          ]
        },
        {
          "metadata": {
            "tags": null
          },
          "name": "stderr",
          "output_type": "stream",
          "text": [
            "\rProgress:  25%|██▌       | 507/2000 [10:47<31:48,  1.28s/stock]"
          ]
        },
        {
          "metadata": {
            "tags": null
          },
          "name": "stdout",
          "output_type": "stream",
          "text": [
            "Error retrieving data for 두산퓨얼셀 (A336260): '종가'\n"
          ]
        },
        {
          "metadata": {
            "tags": null
          },
          "name": "stderr",
          "output_type": "stream",
          "text": [
            "\rProgress:  25%|██▌       | 508/2000 [10:48<31:48,  1.28s/stock]"
          ]
        },
        {
          "metadata": {
            "tags": null
          },
          "name": "stdout",
          "output_type": "stream",
          "text": [
            "Error retrieving data for 두올 (A016740): '종가'\n"
          ]
        },
        {
          "metadata": {
            "tags": null
          },
          "name": "stderr",
          "output_type": "stream",
          "text": [
            "\rProgress:  25%|██▌       | 509/2000 [10:49<31:36,  1.27s/stock]"
          ]
        },
        {
          "metadata": {
            "tags": null
          },
          "name": "stdout",
          "output_type": "stream",
          "text": [
            "Error retrieving data for 드래곤플라이 (A030350): '종가'\n"
          ]
        },
        {
          "metadata": {
            "tags": null
          },
          "name": "stderr",
          "output_type": "stream",
          "text": [
            "\rProgress:  26%|██▌       | 510/2000 [10:51<31:29,  1.27s/stock]"
          ]
        },
        {
          "metadata": {
            "tags": null
          },
          "name": "stdout",
          "output_type": "stream",
          "text": [
            "Error retrieving data for 드림시큐리티 (A203650): '종가'\n"
          ]
        },
        {
          "metadata": {
            "tags": null
          },
          "name": "stderr",
          "output_type": "stream",
          "text": [
            "\rProgress:  26%|██▌       | 511/2000 [10:52<32:01,  1.29s/stock]"
          ]
        },
        {
          "metadata": {
            "tags": null
          },
          "name": "stdout",
          "output_type": "stream",
          "text": [
            "Error retrieving data for 드림씨아이에스 (A223250): '종가'\n"
          ]
        },
        {
          "metadata": {
            "tags": null
          },
          "name": "stderr",
          "output_type": "stream",
          "text": [
            "\rProgress:  26%|██▌       | 512/2000 [10:53<31:36,  1.27s/stock]"
          ]
        },
        {
          "metadata": {
            "tags": null
          },
          "name": "stdout",
          "output_type": "stream",
          "text": [
            "Error retrieving data for 드림어스컴퍼니 (A060570): '종가'\n"
          ]
        },
        {
          "metadata": {
            "tags": null
          },
          "name": "stderr",
          "output_type": "stream",
          "text": [
            "\rProgress:  26%|██▌       | 513/2000 [10:55<31:15,  1.26s/stock]"
          ]
        },
        {
          "metadata": {
            "tags": null
          },
          "name": "stdout",
          "output_type": "stream",
          "text": [
            "Error retrieving data for 드림텍 (A192650): '종가'\n"
          ]
        },
        {
          "metadata": {
            "tags": null
          },
          "name": "stderr",
          "output_type": "stream",
          "text": [
            "\rProgress:  26%|██▌       | 514/2000 [10:56<31:02,  1.25s/stock]"
          ]
        },
        {
          "metadata": {
            "tags": null
          },
          "name": "stdout",
          "output_type": "stream",
          "text": [
            "Error retrieving data for 디딤이앤에프 (A217620): '종가'\n"
          ]
        },
        {
          "metadata": {
            "tags": null
          },
          "name": "stderr",
          "output_type": "stream",
          "text": [
            "\rProgress:  26%|██▌       | 515/2000 [10:57<30:56,  1.25s/stock]"
          ]
        },
        {
          "metadata": {
            "tags": null
          },
          "name": "stdout",
          "output_type": "stream",
          "text": [
            "Error retrieving data for 디바이스이엔지 (A187870): '종가'\n"
          ]
        },
        {
          "metadata": {
            "tags": null
          },
          "name": "stderr",
          "output_type": "stream",
          "text": [
            "\rProgress:  26%|██▌       | 516/2000 [10:58<30:54,  1.25s/stock]"
          ]
        },
        {
          "metadata": {
            "tags": null
          },
          "name": "stdout",
          "output_type": "stream",
          "text": [
            "Error retrieving data for 디스플레이텍 (A066670): '종가'\n"
          ]
        },
        {
          "metadata": {
            "tags": null
          },
          "name": "stderr",
          "output_type": "stream",
          "text": [
            "\rProgress:  26%|██▌       | 517/2000 [10:59<30:45,  1.24s/stock]"
          ]
        },
        {
          "metadata": {
            "tags": null
          },
          "name": "stdout",
          "output_type": "stream",
          "text": [
            "Error retrieving data for 디씨엠 (A024090): '종가'\n"
          ]
        },
        {
          "metadata": {
            "tags": null
          },
          "name": "stderr",
          "output_type": "stream",
          "text": [
            "\rProgress:  26%|██▌       | 518/2000 [11:01<30:43,  1.24s/stock]"
          ]
        },
        {
          "metadata": {
            "tags": null
          },
          "name": "stdout",
          "output_type": "stream",
          "text": [
            "Error retrieving data for 디아이 (A003160): '종가'\n"
          ]
        },
        {
          "metadata": {
            "tags": null
          },
          "name": "stderr",
          "output_type": "stream",
          "text": [
            "\rProgress:  26%|██▌       | 519/2000 [11:02<30:36,  1.24s/stock]"
          ]
        },
        {
          "metadata": {
            "tags": null
          },
          "name": "stdout",
          "output_type": "stream",
          "text": [
            "Error retrieving data for 디아이씨 (A092200): '종가'\n"
          ]
        },
        {
          "metadata": {
            "tags": null
          },
          "name": "stderr",
          "output_type": "stream",
          "text": [
            "\rProgress:  26%|██▌       | 520/2000 [11:03<30:40,  1.24s/stock]"
          ]
        },
        {
          "metadata": {
            "tags": null
          },
          "name": "stdout",
          "output_type": "stream",
          "text": [
            "Error retrieving data for 디아이티 (A110990): '종가'\n"
          ]
        },
        {
          "metadata": {
            "tags": null
          },
          "name": "stderr",
          "output_type": "stream",
          "text": [
            "\rProgress:  26%|██▌       | 521/2000 [11:04<30:36,  1.24s/stock]"
          ]
        },
        {
          "metadata": {
            "tags": null
          },
          "name": "stdout",
          "output_type": "stream",
          "text": [
            "Error retrieving data for 디아크 (A078590): '종가'\n"
          ]
        },
        {
          "metadata": {
            "tags": null
          },
          "name": "stderr",
          "output_type": "stream",
          "text": [
            "\rProgress:  26%|██▌       | 522/2000 [11:06<30:32,  1.24s/stock]"
          ]
        },
        {
          "metadata": {
            "tags": null
          },
          "name": "stdout",
          "output_type": "stream",
          "text": [
            "Error retrieving data for 디알젬 (A263690): '종가'\n"
          ]
        },
        {
          "metadata": {
            "tags": null
          },
          "name": "stderr",
          "output_type": "stream",
          "text": [
            "\rProgress:  26%|██▌       | 523/2000 [11:07<30:28,  1.24s/stock]"
          ]
        },
        {
          "metadata": {
            "tags": null
          },
          "name": "stdout",
          "output_type": "stream",
          "text": [
            "Error retrieving data for 디알텍 (A214680): '종가'\n"
          ]
        },
        {
          "metadata": {
            "tags": null
          },
          "name": "stderr",
          "output_type": "stream",
          "text": [
            "\rProgress:  26%|██▌       | 524/2000 [11:08<30:23,  1.24s/stock]"
          ]
        },
        {
          "metadata": {
            "tags": null
          },
          "name": "stdout",
          "output_type": "stream",
          "text": [
            "Error retrieving data for 디앤씨미디어 (A263720): '종가'\n"
          ]
        },
        {
          "metadata": {
            "tags": null
          },
          "name": "stderr",
          "output_type": "stream",
          "text": [
            "\rProgress:  26%|██▋       | 525/2000 [11:09<30:36,  1.24s/stock]"
          ]
        },
        {
          "metadata": {
            "tags": null
          },
          "name": "stdout",
          "output_type": "stream",
          "text": [
            "Error retrieving data for 디에스케이 (A109740): '종가'\n"
          ]
        },
        {
          "metadata": {
            "tags": null
          },
          "name": "stderr",
          "output_type": "stream",
          "text": [
            "\rProgress:  26%|██▋       | 526/2000 [11:11<30:35,  1.24s/stock]"
          ]
        },
        {
          "metadata": {
            "tags": null
          },
          "name": "stdout",
          "output_type": "stream",
          "text": [
            "Error retrieving data for 디에이테크놀로지 (A196490): '종가'\n"
          ]
        },
        {
          "metadata": {
            "tags": null
          },
          "name": "stderr",
          "output_type": "stream",
          "text": [
            "\rProgress:  26%|██▋       | 527/2000 [11:12<31:36,  1.29s/stock]"
          ]
        },
        {
          "metadata": {
            "tags": null
          },
          "name": "stdout",
          "output_type": "stream",
          "text": [
            "Error retrieving data for 디에이피 (A066900): '종가'\n"
          ]
        },
        {
          "metadata": {
            "tags": null
          },
          "name": "stderr",
          "output_type": "stream",
          "text": [
            "\rProgress:  26%|██▋       | 528/2000 [11:13<31:17,  1.28s/stock]"
          ]
        },
        {
          "metadata": {
            "tags": null
          },
          "name": "stdout",
          "output_type": "stream",
          "text": [
            "Error retrieving data for 디엔에이링크 (A127120): '종가'\n"
          ]
        },
        {
          "metadata": {
            "tags": null
          },
          "name": "stderr",
          "output_type": "stream",
          "text": [
            "\rProgress:  26%|██▋       | 529/2000 [11:15<31:10,  1.27s/stock]"
          ]
        },
        {
          "metadata": {
            "tags": null
          },
          "name": "stdout",
          "output_type": "stream",
          "text": [
            "Error retrieving data for 디엔에프 (A092070): '종가'\n"
          ]
        },
        {
          "metadata": {
            "tags": null
          },
          "name": "stderr",
          "output_type": "stream",
          "text": [
            "\rProgress:  26%|██▋       | 530/2000 [11:16<30:59,  1.26s/stock]"
          ]
        },
        {
          "metadata": {
            "tags": null
          },
          "name": "stdout",
          "output_type": "stream",
          "text": [
            "Error retrieving data for 디오 (A039840): '종가'\n"
          ]
        },
        {
          "metadata": {
            "tags": null
          },
          "name": "stderr",
          "output_type": "stream",
          "text": [
            "\rProgress:  27%|██▋       | 531/2000 [11:17<31:47,  1.30s/stock]"
          ]
        },
        {
          "metadata": {
            "tags": null
          },
          "name": "stdout",
          "output_type": "stream",
          "text": [
            "Error retrieving data for 디와이 (A013570): '종가'\n"
          ]
        },
        {
          "metadata": {
            "tags": null
          },
          "name": "stderr",
          "output_type": "stream",
          "text": [
            "\rProgress:  27%|██▋       | 532/2000 [11:18<31:29,  1.29s/stock]"
          ]
        },
        {
          "metadata": {
            "tags": null
          },
          "name": "stdout",
          "output_type": "stream",
          "text": [
            "Error retrieving data for 디와이디 (A219550): '종가'\n"
          ]
        },
        {
          "metadata": {
            "tags": null
          },
          "name": "stderr",
          "output_type": "stream",
          "text": [
            "\rProgress:  27%|██▋       | 533/2000 [11:20<31:20,  1.28s/stock]"
          ]
        },
        {
          "metadata": {
            "tags": null
          },
          "name": "stdout",
          "output_type": "stream",
          "text": [
            "Error retrieving data for 디와이파워 (A210540): '종가'\n"
          ]
        },
        {
          "metadata": {
            "tags": null
          },
          "name": "stderr",
          "output_type": "stream",
          "text": [
            "\rProgress:  27%|██▋       | 534/2000 [11:21<31:03,  1.27s/stock]"
          ]
        },
        {
          "metadata": {
            "tags": null
          },
          "name": "stdout",
          "output_type": "stream",
          "text": [
            "Error retrieving data for 디와이피엔에프 (A104460): '종가'\n"
          ]
        },
        {
          "metadata": {
            "tags": null
          },
          "name": "stderr",
          "output_type": "stream",
          "text": [
            "\rProgress:  27%|██▋       | 535/2000 [11:22<30:58,  1.27s/stock]"
          ]
        },
        {
          "metadata": {
            "tags": null
          },
          "name": "stdout",
          "output_type": "stream",
          "text": [
            "Error retrieving data for 디이엔티 (A079810): '종가'\n"
          ]
        },
        {
          "metadata": {
            "tags": null
          },
          "name": "stderr",
          "output_type": "stream",
          "text": [
            "\rProgress:  27%|██▋       | 536/2000 [11:23<30:55,  1.27s/stock]"
          ]
        },
        {
          "metadata": {
            "tags": null
          },
          "name": "stdout",
          "output_type": "stream",
          "text": [
            "Error retrieving data for 디젠스 (A113810): '종가'\n"
          ]
        },
        {
          "metadata": {
            "tags": null
          },
          "name": "stderr",
          "output_type": "stream",
          "text": [
            "\rProgress:  27%|██▋       | 537/2000 [11:25<30:45,  1.26s/stock]"
          ]
        },
        {
          "metadata": {
            "tags": null
          },
          "name": "stdout",
          "output_type": "stream",
          "text": [
            "Error retrieving data for 디지캡 (A197140): '종가'\n"
          ]
        },
        {
          "metadata": {
            "tags": null
          },
          "name": "stderr",
          "output_type": "stream",
          "text": [
            "\rProgress:  27%|██▋       | 538/2000 [11:26<30:35,  1.26s/stock]"
          ]
        },
        {
          "metadata": {
            "tags": null
          },
          "name": "stdout",
          "output_type": "stream",
          "text": [
            "Error retrieving data for 디지털대성 (A068930): '종가'\n"
          ]
        },
        {
          "metadata": {
            "tags": null
          },
          "name": "stderr",
          "output_type": "stream",
          "text": [
            "\rProgress:  27%|██▋       | 539/2000 [11:27<30:28,  1.25s/stock]"
          ]
        },
        {
          "metadata": {
            "tags": null
          },
          "name": "stdout",
          "output_type": "stream",
          "text": [
            "Error retrieving data for 디지틀조선 (A033130): '종가'\n"
          ]
        },
        {
          "metadata": {
            "tags": null
          },
          "name": "stderr",
          "output_type": "stream",
          "text": [
            "\rProgress:  27%|██▋       | 540/2000 [11:28<30:35,  1.26s/stock]"
          ]
        },
        {
          "metadata": {
            "tags": null
          },
          "name": "stdout",
          "output_type": "stream",
          "text": [
            "Error retrieving data for 디케이락 (A105740): '종가'\n"
          ]
        },
        {
          "metadata": {
            "tags": null
          },
          "name": "stderr",
          "output_type": "stream",
          "text": [
            "\rProgress:  27%|██▋       | 541/2000 [11:30<30:37,  1.26s/stock]"
          ]
        },
        {
          "metadata": {
            "tags": null
          },
          "name": "stdout",
          "output_type": "stream",
          "text": [
            "Error retrieving data for 디케이앤디 (A263020): '종가'\n"
          ]
        },
        {
          "metadata": {
            "tags": null
          },
          "name": "stderr",
          "output_type": "stream",
          "text": [
            "\rProgress:  27%|██▋       | 542/2000 [11:31<30:33,  1.26s/stock]"
          ]
        },
        {
          "metadata": {
            "tags": null
          },
          "name": "stdout",
          "output_type": "stream",
          "text": [
            "Error retrieving data for 디케이티 (A290550): '종가'\n"
          ]
        },
        {
          "metadata": {
            "tags": null
          },
          "name": "stderr",
          "output_type": "stream",
          "text": [
            "\rProgress:  27%|██▋       | 543/2000 [11:32<32:26,  1.34s/stock]"
          ]
        },
        {
          "metadata": {
            "tags": null
          },
          "name": "stdout",
          "output_type": "stream",
          "text": [
            "Error retrieving data for 디티앤씨 (A187220): '종가'\n"
          ]
        },
        {
          "metadata": {
            "tags": null
          },
          "name": "stderr",
          "output_type": "stream",
          "text": [
            "\rProgress:  27%|██▋       | 544/2000 [11:34<31:46,  1.31s/stock]"
          ]
        },
        {
          "metadata": {
            "tags": null
          },
          "name": "stdout",
          "output_type": "stream",
          "text": [
            "Error retrieving data for 라닉스 (A317120): '종가'\n"
          ]
        },
        {
          "metadata": {
            "tags": null
          },
          "name": "stderr",
          "output_type": "stream",
          "text": [
            "\rProgress:  27%|██▋       | 545/2000 [11:35<31:10,  1.29s/stock]"
          ]
        },
        {
          "metadata": {
            "tags": null
          },
          "name": "stdout",
          "output_type": "stream",
          "text": [
            "Error retrieving data for 라온시큐어 (A042510): '종가'\n"
          ]
        },
        {
          "metadata": {
            "tags": null
          },
          "name": "stderr",
          "output_type": "stream",
          "text": [
            "\rProgress:  27%|██▋       | 546/2000 [11:36<30:54,  1.28s/stock]"
          ]
        },
        {
          "metadata": {
            "tags": null
          },
          "name": "stdout",
          "output_type": "stream",
          "text": [
            "Error retrieving data for 라온테크 (A232680): '종가'\n"
          ]
        },
        {
          "metadata": {
            "tags": null
          },
          "name": "stderr",
          "output_type": "stream",
          "text": [
            "\rProgress:  27%|██▋       | 547/2000 [11:37<30:34,  1.26s/stock]"
          ]
        },
        {
          "metadata": {
            "tags": null
          },
          "name": "stdout",
          "output_type": "stream",
          "text": [
            "Error retrieving data for 라온피플 (A300120): '종가'\n"
          ]
        },
        {
          "metadata": {
            "tags": null
          },
          "name": "stderr",
          "output_type": "stream",
          "text": [
            "\rProgress:  27%|██▋       | 548/2000 [11:39<30:21,  1.25s/stock]"
          ]
        },
        {
          "metadata": {
            "tags": null
          },
          "name": "stdout",
          "output_type": "stream",
          "text": [
            "Error retrieving data for 라이온켐텍 (A171120): '종가'\n"
          ]
        },
        {
          "metadata": {
            "tags": null
          },
          "name": "stderr",
          "output_type": "stream",
          "text": [
            "\rProgress:  27%|██▋       | 549/2000 [11:40<30:14,  1.25s/stock]"
          ]
        },
        {
          "metadata": {
            "tags": null
          },
          "name": "stdout",
          "output_type": "stream",
          "text": [
            "Error retrieving data for 라이트론 (A069540): '종가'\n"
          ]
        },
        {
          "metadata": {
            "tags": null
          },
          "name": "stderr",
          "output_type": "stream",
          "text": [
            "\rProgress:  28%|██▊       | 550/2000 [11:41<30:04,  1.24s/stock]"
          ]
        },
        {
          "metadata": {
            "tags": null
          },
          "name": "stdout",
          "output_type": "stream",
          "text": [
            "Error retrieving data for 라이프시맨틱스 (A347700): '종가'\n"
          ]
        },
        {
          "metadata": {
            "tags": null
          },
          "name": "stderr",
          "output_type": "stream",
          "text": [
            "\rProgress:  28%|██▊       | 551/2000 [11:42<29:54,  1.24s/stock]"
          ]
        },
        {
          "metadata": {
            "tags": null
          },
          "name": "stdout",
          "output_type": "stream",
          "text": [
            "Error retrieving data for 라파스 (A214260): '종가'\n"
          ]
        },
        {
          "metadata": {
            "tags": null
          },
          "name": "stderr",
          "output_type": "stream",
          "text": [
            "\rProgress:  28%|██▊       | 552/2000 [11:44<29:52,  1.24s/stock]"
          ]
        },
        {
          "metadata": {
            "tags": null
          },
          "name": "stdout",
          "output_type": "stream",
          "text": [
            "Error retrieving data for 락앤락 (A115390): '종가'\n"
          ]
        },
        {
          "metadata": {
            "tags": null
          },
          "name": "stderr",
          "output_type": "stream",
          "text": [
            "\rProgress:  28%|██▊       | 553/2000 [11:45<29:46,  1.23s/stock]"
          ]
        },
        {
          "metadata": {
            "tags": null
          },
          "name": "stdout",
          "output_type": "stream",
          "text": [
            "Error retrieving data for 래몽래인 (A200350): '종가'\n"
          ]
        },
        {
          "metadata": {
            "tags": null
          },
          "name": "stderr",
          "output_type": "stream",
          "text": [
            "\rProgress:  28%|██▊       | 554/2000 [11:46<30:07,  1.25s/stock]"
          ]
        },
        {
          "metadata": {
            "tags": null
          },
          "name": "stdout",
          "output_type": "stream",
          "text": [
            "Error retrieving data for 램테크놀러지 (A171010): '종가'\n"
          ]
        },
        {
          "metadata": {
            "tags": null
          },
          "name": "stderr",
          "output_type": "stream",
          "text": [
            "\rProgress:  28%|██▊       | 555/2000 [11:47<30:37,  1.27s/stock]"
          ]
        },
        {
          "metadata": {
            "tags": null
          },
          "name": "stdout",
          "output_type": "stream",
          "text": [
            "Error retrieving data for 랩지노믹스 (A084650): '종가'\n"
          ]
        },
        {
          "metadata": {
            "tags": null
          },
          "name": "stderr",
          "output_type": "stream",
          "text": [
            "\rProgress:  28%|██▊       | 556/2000 [11:49<30:29,  1.27s/stock]"
          ]
        },
        {
          "metadata": {
            "tags": null
          },
          "name": "stdout",
          "output_type": "stream",
          "text": [
            "Error retrieving data for 러셀 (A217500): '종가'\n"
          ]
        },
        {
          "metadata": {
            "tags": null
          },
          "name": "stderr",
          "output_type": "stream",
          "text": [
            "\rProgress:  28%|██▊       | 557/2000 [11:50<30:09,  1.25s/stock]"
          ]
        },
        {
          "metadata": {
            "tags": null
          },
          "name": "stdout",
          "output_type": "stream",
          "text": [
            "Error retrieving data for 레고켐바이오 (A141080): '종가'\n"
          ]
        },
        {
          "metadata": {
            "tags": null
          },
          "name": "stderr",
          "output_type": "stream",
          "text": [
            "\rProgress:  28%|██▊       | 558/2000 [11:51<30:14,  1.26s/stock]"
          ]
        },
        {
          "metadata": {
            "tags": null
          },
          "name": "stdout",
          "output_type": "stream",
          "text": [
            "Error retrieving data for 레드캡투어 (A038390): '종가'\n"
          ]
        },
        {
          "metadata": {
            "tags": null
          },
          "name": "stderr",
          "output_type": "stream",
          "text": [
            "\rProgress:  28%|██▊       | 559/2000 [11:53<30:41,  1.28s/stock]"
          ]
        },
        {
          "metadata": {
            "tags": null
          },
          "name": "stdout",
          "output_type": "stream",
          "text": [
            "Error retrieving data for 레몬 (A294140): '종가'\n"
          ]
        },
        {
          "metadata": {
            "tags": null
          },
          "name": "stderr",
          "output_type": "stream",
          "text": [
            "\rProgress:  28%|██▊       | 560/2000 [11:54<30:57,  1.29s/stock]"
          ]
        },
        {
          "metadata": {
            "tags": null
          },
          "name": "stdout",
          "output_type": "stream",
          "text": [
            "Error retrieving data for 레이 (A228670): '종가'\n"
          ]
        },
        {
          "metadata": {
            "tags": null
          },
          "name": "stderr",
          "output_type": "stream",
          "text": [
            "\rProgress:  28%|██▊       | 561/2000 [11:55<30:43,  1.28s/stock]"
          ]
        },
        {
          "metadata": {
            "tags": null
          },
          "name": "stdout",
          "output_type": "stream",
          "text": [
            "Error retrieving data for 레이언스 (A228850): '종가'\n"
          ]
        },
        {
          "metadata": {
            "tags": null
          },
          "name": "stderr",
          "output_type": "stream",
          "text": [
            "\rProgress:  28%|██▊       | 562/2000 [11:56<30:29,  1.27s/stock]"
          ]
        },
        {
          "metadata": {
            "tags": null
          },
          "name": "stdout",
          "output_type": "stream",
          "text": [
            "Error retrieving data for 레이크머티리얼즈 (A281740): '종가'\n"
          ]
        },
        {
          "metadata": {
            "tags": null
          },
          "name": "stderr",
          "output_type": "stream",
          "text": [
            "\rProgress:  28%|██▊       | 563/2000 [11:58<30:35,  1.28s/stock]"
          ]
        },
        {
          "metadata": {
            "tags": null
          },
          "name": "stdout",
          "output_type": "stream",
          "text": [
            "Error retrieving data for 레인보우로보틱스 (A277810): '종가'\n"
          ]
        },
        {
          "metadata": {
            "tags": null
          },
          "name": "stderr",
          "output_type": "stream",
          "text": [
            "\rProgress:  28%|██▊       | 564/2000 [11:59<30:29,  1.27s/stock]"
          ]
        },
        {
          "metadata": {
            "tags": null
          },
          "name": "stdout",
          "output_type": "stream",
          "text": [
            "Error retrieving data for 로보로보 (A215100): '종가'\n"
          ]
        },
        {
          "metadata": {
            "tags": null
          },
          "name": "stderr",
          "output_type": "stream",
          "text": [
            "\rProgress:  28%|██▊       | 565/2000 [12:00<30:24,  1.27s/stock]"
          ]
        },
        {
          "metadata": {
            "tags": null
          },
          "name": "stdout",
          "output_type": "stream",
          "text": [
            "Error retrieving data for 로보스타 (A090360): '종가'\n"
          ]
        },
        {
          "metadata": {
            "tags": null
          },
          "name": "stderr",
          "output_type": "stream",
          "text": [
            "\rProgress:  28%|██▊       | 566/2000 [12:01<30:35,  1.28s/stock]"
          ]
        },
        {
          "metadata": {
            "tags": null
          },
          "name": "stdout",
          "output_type": "stream",
          "text": [
            "Error retrieving data for 로보티즈 (A108490): '종가'\n"
          ]
        },
        {
          "metadata": {
            "tags": null
          },
          "name": "stderr",
          "output_type": "stream",
          "text": [
            "\rProgress:  28%|██▊       | 567/2000 [12:03<30:27,  1.28s/stock]"
          ]
        },
        {
          "metadata": {
            "tags": null
          },
          "name": "stdout",
          "output_type": "stream",
          "text": [
            "Error retrieving data for 로체시스템즈 (A071280): '종가'\n"
          ]
        },
        {
          "metadata": {
            "tags": null
          },
          "name": "stderr",
          "output_type": "stream",
          "text": [
            "\rProgress:  28%|██▊       | 568/2000 [12:04<30:27,  1.28s/stock]"
          ]
        },
        {
          "metadata": {
            "tags": null
          },
          "name": "stdout",
          "output_type": "stream",
          "text": [
            "Error retrieving data for 롯데관광개발 (A032350): '종가'\n"
          ]
        },
        {
          "metadata": {
            "tags": null
          },
          "name": "stderr",
          "output_type": "stream",
          "text": [
            "\rProgress:  28%|██▊       | 569/2000 [12:05<30:33,  1.28s/stock]"
          ]
        },
        {
          "metadata": {
            "tags": null
          },
          "name": "stdout",
          "output_type": "stream",
          "text": [
            "Error retrieving data for 롯데손해보험 (A000400): '종가'\n"
          ]
        },
        {
          "metadata": {
            "tags": null
          },
          "name": "stderr",
          "output_type": "stream",
          "text": [
            "\rProgress:  28%|██▊       | 570/2000 [12:07<30:35,  1.28s/stock]"
          ]
        },
        {
          "metadata": {
            "tags": null
          },
          "name": "stdout",
          "output_type": "stream",
          "text": [
            "Error retrieving data for 롯데쇼핑 (A023530): '종가'\n"
          ]
        },
        {
          "metadata": {
            "tags": null
          },
          "name": "stderr",
          "output_type": "stream",
          "text": [
            "\rProgress:  29%|██▊       | 571/2000 [12:08<30:22,  1.28s/stock]"
          ]
        },
        {
          "metadata": {
            "tags": null
          },
          "name": "stdout",
          "output_type": "stream",
          "text": [
            "Error retrieving data for 롯데에너지머티리얼즈 (A020150): '종가'\n"
          ]
        },
        {
          "metadata": {
            "tags": null
          },
          "name": "stderr",
          "output_type": "stream",
          "text": [
            "\rProgress:  29%|██▊       | 572/2000 [12:09<30:11,  1.27s/stock]"
          ]
        },
        {
          "metadata": {
            "tags": null
          },
          "name": "stdout",
          "output_type": "stream",
          "text": [
            "Error retrieving data for 롯데웰푸드 (A280360): '종가'\n"
          ]
        },
        {
          "metadata": {
            "tags": null
          },
          "name": "stderr",
          "output_type": "stream",
          "text": [
            "\rProgress:  29%|██▊       | 573/2000 [12:10<30:09,  1.27s/stock]"
          ]
        },
        {
          "metadata": {
            "tags": null
          },
          "name": "stdout",
          "output_type": "stream",
          "text": [
            "Error retrieving data for 롯데정밀화학 (A004000): '종가'\n"
          ]
        },
        {
          "metadata": {
            "tags": null
          },
          "name": "stderr",
          "output_type": "stream",
          "text": [
            "\rProgress:  29%|██▊       | 574/2000 [12:12<30:07,  1.27s/stock]"
          ]
        },
        {
          "metadata": {
            "tags": null
          },
          "name": "stdout",
          "output_type": "stream",
          "text": [
            "Error retrieving data for 롯데정보통신 (A286940): '종가'\n"
          ]
        },
        {
          "metadata": {
            "tags": null
          },
          "name": "stderr",
          "output_type": "stream",
          "text": [
            "\rProgress:  29%|██▉       | 575/2000 [12:13<30:38,  1.29s/stock]"
          ]
        },
        {
          "metadata": {
            "tags": null
          },
          "name": "stdout",
          "output_type": "stream",
          "text": [
            "Error retrieving data for 롯데지주 (A004990): '종가'\n"
          ]
        },
        {
          "metadata": {
            "tags": null
          },
          "name": "stderr",
          "output_type": "stream",
          "text": [
            "\rProgress:  29%|██▉       | 576/2000 [12:14<30:27,  1.28s/stock]"
          ]
        },
        {
          "metadata": {
            "tags": null
          },
          "name": "stdout",
          "output_type": "stream",
          "text": [
            "Error retrieving data for 롯데칠성 (A005300): '종가'\n"
          ]
        },
        {
          "metadata": {
            "tags": null
          },
          "name": "stderr",
          "output_type": "stream",
          "text": [
            "\rProgress:  29%|██▉       | 577/2000 [12:16<30:18,  1.28s/stock]"
          ]
        },
        {
          "metadata": {
            "tags": null
          },
          "name": "stdout",
          "output_type": "stream",
          "text": [
            "Error retrieving data for 롯데케미칼 (A011170): '종가'\n"
          ]
        },
        {
          "metadata": {
            "tags": null
          },
          "name": "stderr",
          "output_type": "stream",
          "text": [
            "\rProgress:  29%|██▉       | 578/2000 [12:17<30:18,  1.28s/stock]"
          ]
        },
        {
          "metadata": {
            "tags": null
          },
          "name": "stdout",
          "output_type": "stream",
          "text": [
            "Error retrieving data for 롯데하이마트 (A071840): '종가'\n"
          ]
        },
        {
          "metadata": {
            "tags": null
          },
          "name": "stderr",
          "output_type": "stream",
          "text": [
            "\rProgress:  29%|██▉       | 579/2000 [12:18<30:12,  1.28s/stock]"
          ]
        },
        {
          "metadata": {
            "tags": null
          },
          "name": "stdout",
          "output_type": "stream",
          "text": [
            "Error retrieving data for 루멘스 (A038060): '종가'\n"
          ]
        },
        {
          "metadata": {
            "tags": null
          },
          "name": "stderr",
          "output_type": "stream",
          "text": [
            "\rProgress:  29%|██▉       | 580/2000 [12:19<30:07,  1.27s/stock]"
          ]
        },
        {
          "metadata": {
            "tags": null
          },
          "name": "stdout",
          "output_type": "stream",
          "text": [
            "Error retrieving data for 루트로닉 (A085370): '종가'\n"
          ]
        },
        {
          "metadata": {
            "tags": null
          },
          "name": "stderr",
          "output_type": "stream",
          "text": [
            "\rProgress:  29%|██▉       | 581/2000 [12:21<30:10,  1.28s/stock]"
          ]
        },
        {
          "metadata": {
            "tags": null
          },
          "name": "stdout",
          "output_type": "stream",
          "text": [
            "Error retrieving data for 룽투코리아 (A060240): '종가'\n"
          ]
        },
        {
          "metadata": {
            "tags": null
          },
          "name": "stderr",
          "output_type": "stream",
          "text": [
            "\rProgress:  29%|██▉       | 582/2000 [12:22<30:37,  1.30s/stock]"
          ]
        },
        {
          "metadata": {
            "tags": null
          },
          "name": "stdout",
          "output_type": "stream",
          "text": [
            "Error retrieving data for 리노공업 (A058470): '종가'\n"
          ]
        },
        {
          "metadata": {
            "tags": null
          },
          "name": "stderr",
          "output_type": "stream",
          "text": [
            "\rProgress:  29%|██▉       | 583/2000 [12:23<30:25,  1.29s/stock]"
          ]
        },
        {
          "metadata": {
            "tags": null
          },
          "name": "stdout",
          "output_type": "stream",
          "text": [
            "Error retrieving data for 리더스 기술투자 (A019570): '종가'\n"
          ]
        },
        {
          "metadata": {
            "tags": null
          },
          "name": "stderr",
          "output_type": "stream",
          "text": [
            "\rProgress:  29%|██▉       | 584/2000 [12:25<30:30,  1.29s/stock]"
          ]
        },
        {
          "metadata": {
            "tags": null
          },
          "name": "stdout",
          "output_type": "stream",
          "text": [
            "Error retrieving data for 리더스코스메틱 (A016100): '종가'\n"
          ]
        },
        {
          "metadata": {
            "tags": null
          },
          "name": "stderr",
          "output_type": "stream",
          "text": [
            "\rProgress:  29%|██▉       | 585/2000 [12:26<30:15,  1.28s/stock]"
          ]
        },
        {
          "metadata": {
            "tags": null
          },
          "name": "stdout",
          "output_type": "stream",
          "text": [
            "Error retrieving data for 리드코프 (A012700): '종가'\n"
          ]
        },
        {
          "metadata": {
            "tags": null
          },
          "name": "stderr",
          "output_type": "stream",
          "text": [
            "\rProgress:  29%|██▉       | 586/2000 [12:27<30:01,  1.27s/stock]"
          ]
        },
        {
          "metadata": {
            "tags": null
          },
          "name": "stdout",
          "output_type": "stream",
          "text": [
            "Error retrieving data for 리메드 (A302550): '종가'\n"
          ]
        },
        {
          "metadata": {
            "tags": null
          },
          "name": "stderr",
          "output_type": "stream",
          "text": [
            "\rProgress:  29%|██▉       | 587/2000 [12:28<29:57,  1.27s/stock]"
          ]
        },
        {
          "metadata": {
            "tags": null
          },
          "name": "stdout",
          "output_type": "stream",
          "text": [
            "Error retrieving data for 린드먼아시아 (A277070): '종가'\n"
          ]
        },
        {
          "metadata": {
            "tags": null
          },
          "name": "stderr",
          "output_type": "stream",
          "text": [
            "\rProgress:  29%|██▉       | 588/2000 [12:30<29:59,  1.27s/stock]"
          ]
        },
        {
          "metadata": {
            "tags": null
          },
          "name": "stdout",
          "output_type": "stream",
          "text": [
            "Error retrieving data for 링네트 (A042500): '종가'\n"
          ]
        },
        {
          "metadata": {
            "tags": null
          },
          "name": "stderr",
          "output_type": "stream",
          "text": [
            "\rProgress:  29%|██▉       | 589/2000 [12:31<29:54,  1.27s/stock]"
          ]
        },
        {
          "metadata": {
            "tags": null
          },
          "name": "stdout",
          "output_type": "stream",
          "text": [
            "Error retrieving data for 링크제니시스 (A219420): '종가'\n"
          ]
        },
        {
          "metadata": {
            "tags": null
          },
          "name": "stderr",
          "output_type": "stream",
          "text": [
            "\rProgress:  30%|██▉       | 590/2000 [12:32<29:44,  1.27s/stock]"
          ]
        },
        {
          "metadata": {
            "tags": null
          },
          "name": "stdout",
          "output_type": "stream",
          "text": [
            "Error retrieving data for 마니커 (A027740): '종가'\n"
          ]
        },
        {
          "metadata": {
            "tags": null
          },
          "name": "stderr",
          "output_type": "stream",
          "text": [
            "\rProgress:  30%|██▉       | 591/2000 [12:33<29:53,  1.27s/stock]"
          ]
        },
        {
          "metadata": {
            "tags": null
          },
          "name": "stdout",
          "output_type": "stream",
          "text": [
            "Error retrieving data for 마니커에프앤지 (A195500): '종가'\n"
          ]
        },
        {
          "metadata": {
            "tags": null
          },
          "name": "stderr",
          "output_type": "stream",
          "text": [
            "\rProgress:  30%|██▉       | 592/2000 [12:35<29:36,  1.26s/stock]"
          ]
        },
        {
          "metadata": {
            "tags": null
          },
          "name": "stdout",
          "output_type": "stream",
          "text": [
            "Error retrieving data for 마이크로디지탈 (A305090): '종가'\n"
          ]
        },
        {
          "metadata": {
            "tags": null
          },
          "name": "stderr",
          "output_type": "stream",
          "text": [
            "\rProgress:  30%|██▉       | 593/2000 [12:36<29:26,  1.26s/stock]"
          ]
        },
        {
          "metadata": {
            "tags": null
          },
          "name": "stdout",
          "output_type": "stream",
          "text": [
            "Error retrieving data for 마이크로컨텍솔 (A098120): '종가'\n"
          ]
        },
        {
          "metadata": {
            "tags": null
          },
          "name": "stderr",
          "output_type": "stream",
          "text": [
            "\rProgress:  30%|██▉       | 594/2000 [12:37<29:17,  1.25s/stock]"
          ]
        },
        {
          "metadata": {
            "tags": null
          },
          "name": "stdout",
          "output_type": "stream",
          "text": [
            "Error retrieving data for 마크로젠 (A038290): '종가'\n"
          ]
        },
        {
          "metadata": {
            "tags": null
          },
          "name": "stderr",
          "output_type": "stream",
          "text": [
            "\rProgress:  30%|██▉       | 595/2000 [12:38<29:14,  1.25s/stock]"
          ]
        },
        {
          "metadata": {
            "tags": null
          },
          "name": "stdout",
          "output_type": "stream",
          "text": [
            "Error retrieving data for 만호제강 (A001080): '종가'\n"
          ]
        },
        {
          "metadata": {
            "tags": null
          },
          "name": "stderr",
          "output_type": "stream",
          "text": [
            "\rProgress:  30%|██▉       | 596/2000 [12:40<29:06,  1.24s/stock]"
          ]
        },
        {
          "metadata": {
            "tags": null
          },
          "name": "stdout",
          "output_type": "stream",
          "text": [
            "Error retrieving data for 매일유업 (A267980): '종가'\n"
          ]
        },
        {
          "metadata": {
            "tags": null
          },
          "name": "stderr",
          "output_type": "stream",
          "text": [
            "\rProgress:  30%|██▉       | 597/2000 [12:41<28:59,  1.24s/stock]"
          ]
        },
        {
          "metadata": {
            "tags": null
          },
          "name": "stdout",
          "output_type": "stream",
          "text": [
            "Error retrieving data for 매일홀딩스 (A005990): '종가'\n"
          ]
        },
        {
          "metadata": {
            "tags": null
          },
          "name": "stderr",
          "output_type": "stream",
          "text": [
            "\rProgress:  30%|██▉       | 598/2000 [12:42<28:57,  1.24s/stock]"
          ]
        },
        {
          "metadata": {
            "tags": null
          },
          "name": "stdout",
          "output_type": "stream",
          "text": [
            "Error retrieving data for 매커스 (A093520): '종가'\n"
          ]
        },
        {
          "metadata": {
            "tags": null
          },
          "name": "stderr",
          "output_type": "stream",
          "text": [
            "\rProgress:  30%|██▉       | 599/2000 [12:43<28:56,  1.24s/stock]"
          ]
        },
        {
          "metadata": {
            "tags": null
          },
          "name": "stdout",
          "output_type": "stream",
          "text": [
            "Error retrieving data for 머큐리 (A100590): '종가'\n"
          ]
        },
        {
          "metadata": {
            "tags": null
          },
          "name": "stderr",
          "output_type": "stream",
          "text": [
            "\rProgress:  30%|███       | 600/2000 [12:45<28:55,  1.24s/stock]"
          ]
        },
        {
          "metadata": {
            "tags": null
          },
          "name": "stdout",
          "output_type": "stream",
          "text": [
            "Error retrieving data for 멀티캠퍼스 (A067280): '종가'\n"
          ]
        },
        {
          "metadata": {
            "tags": null
          },
          "name": "stderr",
          "output_type": "stream",
          "text": [
            "\rProgress:  30%|███       | 601/2000 [12:46<28:51,  1.24s/stock]"
          ]
        },
        {
          "metadata": {
            "tags": null
          },
          "name": "stdout",
          "output_type": "stream",
          "text": [
            "Error retrieving data for 메가스터디 (A072870): '종가'\n"
          ]
        },
        {
          "metadata": {
            "tags": null
          },
          "name": "stderr",
          "output_type": "stream",
          "text": [
            "\rProgress:  30%|███       | 602/2000 [12:47<28:58,  1.24s/stock]"
          ]
        },
        {
          "metadata": {
            "tags": null
          },
          "name": "stdout",
          "output_type": "stream",
          "text": [
            "Error retrieving data for 메가스터디교육 (A215200): '종가'\n"
          ]
        },
        {
          "metadata": {
            "tags": null
          },
          "name": "stderr",
          "output_type": "stream",
          "text": [
            "\rProgress:  30%|███       | 603/2000 [12:48<28:57,  1.24s/stock]"
          ]
        },
        {
          "metadata": {
            "tags": null
          },
          "name": "stdout",
          "output_type": "stream",
          "text": [
            "Error retrieving data for 메가엠디 (A133750): '종가'\n"
          ]
        },
        {
          "metadata": {
            "tags": null
          },
          "name": "stderr",
          "output_type": "stream",
          "text": [
            "\rProgress:  30%|███       | 604/2000 [12:50<28:55,  1.24s/stock]"
          ]
        },
        {
          "metadata": {
            "tags": null
          },
          "name": "stdout",
          "output_type": "stream",
          "text": [
            "Error retrieving data for 메드팩토 (A235980): '종가'\n"
          ]
        },
        {
          "metadata": {
            "tags": null
          },
          "name": "stderr",
          "output_type": "stream",
          "text": [
            "\rProgress:  30%|███       | 605/2000 [12:51<28:52,  1.24s/stock]"
          ]
        },
        {
          "metadata": {
            "tags": null
          },
          "name": "stdout",
          "output_type": "stream",
          "text": [
            "Error retrieving data for 메디아나 (A041920): '종가'\n"
          ]
        },
        {
          "metadata": {
            "tags": null
          },
          "name": "stderr",
          "output_type": "stream",
          "text": [
            "\rProgress:  30%|███       | 606/2000 [12:52<28:51,  1.24s/stock]"
          ]
        },
        {
          "metadata": {
            "tags": null
          },
          "name": "stdout",
          "output_type": "stream",
          "text": [
            "Error retrieving data for 메디콕스 (A054180): '종가'\n"
          ]
        },
        {
          "metadata": {
            "tags": null
          },
          "name": "stderr",
          "output_type": "stream",
          "text": [
            "\rProgress:  30%|███       | 607/2000 [12:53<29:33,  1.27s/stock]"
          ]
        },
        {
          "metadata": {
            "tags": null
          },
          "name": "stdout",
          "output_type": "stream",
          "text": [
            "Error retrieving data for 메디톡스 (A086900): '종가'\n"
          ]
        },
        {
          "metadata": {
            "tags": null
          },
          "name": "stderr",
          "output_type": "stream",
          "text": [
            "\rProgress:  30%|███       | 608/2000 [12:55<29:11,  1.26s/stock]"
          ]
        },
        {
          "metadata": {
            "tags": null
          },
          "name": "stdout",
          "output_type": "stream",
          "text": [
            "Error retrieving data for 메디포스트 (A078160): '종가'\n"
          ]
        },
        {
          "metadata": {
            "tags": null
          },
          "name": "stderr",
          "output_type": "stream",
          "text": [
            "\rProgress:  30%|███       | 609/2000 [12:56<29:04,  1.25s/stock]"
          ]
        },
        {
          "metadata": {
            "tags": null
          },
          "name": "stdout",
          "output_type": "stream",
          "text": [
            "Error retrieving data for 메디프론 (A065650): '종가'\n"
          ]
        },
        {
          "metadata": {
            "tags": null
          },
          "name": "stderr",
          "output_type": "stream",
          "text": [
            "\rProgress:  30%|███       | 610/2000 [12:57<28:58,  1.25s/stock]"
          ]
        },
        {
          "metadata": {
            "tags": null
          },
          "name": "stdout",
          "output_type": "stream",
          "text": [
            "Error retrieving data for 메리츠금융지주 (A138040): '종가'\n"
          ]
        },
        {
          "metadata": {
            "tags": null
          },
          "name": "stderr",
          "output_type": "stream",
          "text": [
            "\rProgress:  31%|███       | 611/2000 [12:58<28:55,  1.25s/stock]"
          ]
        },
        {
          "metadata": {
            "tags": null
          },
          "name": "stdout",
          "output_type": "stream",
          "text": [
            "Error retrieving data for 메이슨캐피탈 (A021880): '종가'\n"
          ]
        },
        {
          "metadata": {
            "tags": null
          },
          "name": "stderr",
          "output_type": "stream",
          "text": [
            "\rProgress:  31%|███       | 612/2000 [13:00<28:55,  1.25s/stock]"
          ]
        },
        {
          "metadata": {
            "tags": null
          },
          "name": "stdout",
          "output_type": "stream",
          "text": [
            "Error retrieving data for 메지온 (A140410): '종가'\n"
          ]
        },
        {
          "metadata": {
            "tags": null
          },
          "name": "stderr",
          "output_type": "stream",
          "text": [
            "\rProgress:  31%|███       | 613/2000 [13:01<28:48,  1.25s/stock]"
          ]
        },
        {
          "metadata": {
            "tags": null
          },
          "name": "stdout",
          "output_type": "stream",
          "text": [
            "Error retrieving data for 메카로 (A241770): '종가'\n"
          ]
        },
        {
          "metadata": {
            "tags": null
          },
          "name": "stderr",
          "output_type": "stream",
          "text": [
            "\rProgress:  31%|███       | 614/2000 [13:02<28:49,  1.25s/stock]"
          ]
        },
        {
          "metadata": {
            "tags": null
          },
          "name": "stdout",
          "output_type": "stream",
          "text": [
            "Error retrieving data for 메타랩스 (A090370): '종가'\n"
          ]
        },
        {
          "metadata": {
            "tags": null
          },
          "name": "stderr",
          "output_type": "stream",
          "text": [
            "\rProgress:  31%|███       | 615/2000 [13:03<28:49,  1.25s/stock]"
          ]
        },
        {
          "metadata": {
            "tags": null
          },
          "name": "stdout",
          "output_type": "stream",
          "text": [
            "Error retrieving data for 메타바이오메드 (A059210): '종가'\n"
          ]
        },
        {
          "metadata": {
            "tags": null
          },
          "name": "stderr",
          "output_type": "stream",
          "text": [
            "\rProgress:  31%|███       | 616/2000 [13:05<28:45,  1.25s/stock]"
          ]
        },
        {
          "metadata": {
            "tags": null
          },
          "name": "stdout",
          "output_type": "stream",
          "text": [
            "Error retrieving data for 멕아이씨에스 (A058110): '종가'\n"
          ]
        },
        {
          "metadata": {
            "tags": null
          },
          "name": "stderr",
          "output_type": "stream",
          "text": [
            "\rProgress:  31%|███       | 617/2000 [13:06<28:46,  1.25s/stock]"
          ]
        },
        {
          "metadata": {
            "tags": null
          },
          "name": "stdout",
          "output_type": "stream",
          "text": [
            "Error retrieving data for 멜파스 (A096640): '종가'\n"
          ]
        },
        {
          "metadata": {
            "tags": null
          },
          "name": "stderr",
          "output_type": "stream",
          "text": [
            "\rProgress:  31%|███       | 618/2000 [13:07<28:38,  1.24s/stock]"
          ]
        },
        {
          "metadata": {
            "tags": null
          },
          "name": "stdout",
          "output_type": "stream",
          "text": [
            "Error retrieving data for 명문제약 (A017180): '종가'\n"
          ]
        },
        {
          "metadata": {
            "tags": null
          },
          "name": "stderr",
          "output_type": "stream",
          "text": [
            "\rProgress:  31%|███       | 619/2000 [13:08<28:39,  1.24s/stock]"
          ]
        },
        {
          "metadata": {
            "tags": null
          },
          "name": "stdout",
          "output_type": "stream",
          "text": [
            "Error retrieving data for 명성티엔에스 (A257370): '종가'\n"
          ]
        },
        {
          "metadata": {
            "tags": null
          },
          "name": "stderr",
          "output_type": "stream",
          "text": [
            "\rProgress:  31%|███       | 620/2000 [13:10<28:32,  1.24s/stock]"
          ]
        },
        {
          "metadata": {
            "tags": null
          },
          "name": "stdout",
          "output_type": "stream",
          "text": [
            "Error retrieving data for 명신산업 (A009900): '종가'\n"
          ]
        },
        {
          "metadata": {
            "tags": null
          },
          "name": "stderr",
          "output_type": "stream",
          "text": [
            "\rProgress:  31%|███       | 621/2000 [13:11<28:49,  1.25s/stock]"
          ]
        },
        {
          "metadata": {
            "tags": null
          },
          "name": "stdout",
          "output_type": "stream",
          "text": [
            "Error retrieving data for 모나리자 (A012690): '종가'\n"
          ]
        },
        {
          "metadata": {
            "tags": null
          },
          "name": "stderr",
          "output_type": "stream",
          "text": [
            "\rProgress:  31%|███       | 622/2000 [13:12<28:41,  1.25s/stock]"
          ]
        },
        {
          "metadata": {
            "tags": null
          },
          "name": "stdout",
          "output_type": "stream",
          "text": [
            "Error retrieving data for 모나미 (A005360): '종가'\n"
          ]
        },
        {
          "metadata": {
            "tags": null
          },
          "name": "stderr",
          "output_type": "stream",
          "text": [
            "\rProgress:  31%|███       | 623/2000 [13:13<29:11,  1.27s/stock]"
          ]
        },
        {
          "metadata": {
            "tags": null
          },
          "name": "stdout",
          "output_type": "stream",
          "text": [
            "Error retrieving data for 모다이노칩 (A080420): '종가'\n"
          ]
        },
        {
          "metadata": {
            "tags": null
          },
          "name": "stderr",
          "output_type": "stream",
          "text": [
            "\rProgress:  31%|███       | 624/2000 [13:15<29:10,  1.27s/stock]"
          ]
        },
        {
          "metadata": {
            "tags": null
          },
          "name": "stdout",
          "output_type": "stream",
          "text": [
            "Error retrieving data for 모두투어 (A080160): '종가'\n"
          ]
        },
        {
          "metadata": {
            "tags": null
          },
          "name": "stderr",
          "output_type": "stream",
          "text": [
            "\rProgress:  31%|███▏      | 625/2000 [13:16<29:04,  1.27s/stock]"
          ]
        },
        {
          "metadata": {
            "tags": null
          },
          "name": "stdout",
          "output_type": "stream",
          "text": [
            "Error retrieving data for 모바일어플라이언스 (A087260): '종가'\n"
          ]
        },
        {
          "metadata": {
            "tags": null
          },
          "name": "stderr",
          "output_type": "stream",
          "text": [
            "\rProgress:  31%|███▏      | 626/2000 [13:17<28:57,  1.26s/stock]"
          ]
        },
        {
          "metadata": {
            "tags": null
          },
          "name": "stdout",
          "output_type": "stream",
          "text": [
            "Error retrieving data for 모베이스 (A101330): '종가'\n"
          ]
        },
        {
          "metadata": {
            "tags": null
          },
          "name": "stderr",
          "output_type": "stream",
          "text": [
            "\rProgress:  31%|███▏      | 627/2000 [13:18<29:03,  1.27s/stock]"
          ]
        },
        {
          "metadata": {
            "tags": null
          },
          "name": "stdout",
          "output_type": "stream",
          "text": [
            "Error retrieving data for 모베이스전자 (A012860): '종가'\n"
          ]
        },
        {
          "metadata": {
            "tags": null
          },
          "name": "stderr",
          "output_type": "stream",
          "text": [
            "\rProgress:  31%|███▏      | 628/2000 [13:20<29:09,  1.28s/stock]"
          ]
        },
        {
          "metadata": {
            "tags": null
          },
          "name": "stdout",
          "output_type": "stream",
          "text": [
            "Error retrieving data for 모비데이즈 (A363260): '종가'\n"
          ]
        },
        {
          "metadata": {
            "tags": null
          },
          "name": "stderr",
          "output_type": "stream",
          "text": [
            "\rProgress:  31%|███▏      | 629/2000 [13:21<29:16,  1.28s/stock]"
          ]
        },
        {
          "metadata": {
            "tags": null
          },
          "name": "stdout",
          "output_type": "stream",
          "text": [
            "Error retrieving data for 모비릭스 (A348030): '종가'\n"
          ]
        },
        {
          "metadata": {
            "tags": null
          },
          "name": "stderr",
          "output_type": "stream",
          "text": [
            "\rProgress:  32%|███▏      | 630/2000 [13:22<29:11,  1.28s/stock]"
          ]
        },
        {
          "metadata": {
            "tags": null
          },
          "name": "stdout",
          "output_type": "stream",
          "text": [
            "Error retrieving data for 모비스 (A250060): '종가'\n"
          ]
        },
        {
          "metadata": {
            "tags": null
          },
          "name": "stderr",
          "output_type": "stream",
          "text": [
            "\rProgress:  32%|███▏      | 631/2000 [13:24<29:08,  1.28s/stock]"
          ]
        },
        {
          "metadata": {
            "tags": null
          },
          "name": "stdout",
          "output_type": "stream",
          "text": [
            "Error retrieving data for 모아텍 (A033200): '종가'\n"
          ]
        },
        {
          "metadata": {
            "tags": null
          },
          "name": "stderr",
          "output_type": "stream",
          "text": [
            "\rProgress:  32%|███▏      | 632/2000 [13:25<28:58,  1.27s/stock]"
          ]
        },
        {
          "metadata": {
            "tags": null
          },
          "name": "stdout",
          "output_type": "stream",
          "text": [
            "Error retrieving data for 모토닉 (A009680): '종가'\n"
          ]
        },
        {
          "metadata": {
            "tags": null
          },
          "name": "stderr",
          "output_type": "stream",
          "text": [
            "\rProgress:  32%|███▏      | 633/2000 [13:26<28:58,  1.27s/stock]"
          ]
        },
        {
          "metadata": {
            "tags": null
          },
          "name": "stdout",
          "output_type": "stream",
          "text": [
            "Error retrieving data for 모트렉스 (A118990): '종가'\n"
          ]
        },
        {
          "metadata": {
            "tags": null
          },
          "name": "stderr",
          "output_type": "stream",
          "text": [
            "\rProgress:  32%|███▏      | 634/2000 [13:27<28:50,  1.27s/stock]"
          ]
        },
        {
          "metadata": {
            "tags": null
          },
          "name": "stdout",
          "output_type": "stream",
          "text": [
            "Error retrieving data for 무림P&P (A009580): '종가'\n"
          ]
        },
        {
          "metadata": {
            "tags": null
          },
          "name": "stderr",
          "output_type": "stream",
          "text": [
            "\rProgress:  32%|███▏      | 635/2000 [13:29<28:45,  1.26s/stock]"
          ]
        },
        {
          "metadata": {
            "tags": null
          },
          "name": "stdout",
          "output_type": "stream",
          "text": [
            "Error retrieving data for 무림SP (A001810): '종가'\n"
          ]
        },
        {
          "metadata": {
            "tags": null
          },
          "name": "stderr",
          "output_type": "stream",
          "text": [
            "\rProgress:  32%|███▏      | 636/2000 [13:30<28:55,  1.27s/stock]"
          ]
        },
        {
          "metadata": {
            "tags": null
          },
          "name": "stdout",
          "output_type": "stream",
          "text": [
            "Error retrieving data for 무림페이퍼 (A009200): '종가'\n"
          ]
        },
        {
          "metadata": {
            "tags": null
          },
          "name": "stderr",
          "output_type": "stream",
          "text": [
            "\rProgress:  32%|███▏      | 637/2000 [13:31<28:54,  1.27s/stock]"
          ]
        },
        {
          "metadata": {
            "tags": null
          },
          "name": "stdout",
          "output_type": "stream",
          "text": [
            "Error retrieving data for 무학 (A033920): '종가'\n"
          ]
        },
        {
          "metadata": {
            "tags": null
          },
          "name": "stderr",
          "output_type": "stream",
          "text": [
            "\rProgress:  32%|███▏      | 638/2000 [13:32<28:51,  1.27s/stock]"
          ]
        },
        {
          "metadata": {
            "tags": null
          },
          "name": "stdout",
          "output_type": "stream",
          "text": [
            "Error retrieving data for 문배철강 (A008420): '종가'\n"
          ]
        },
        {
          "metadata": {
            "tags": null
          },
          "name": "stderr",
          "output_type": "stream",
          "text": [
            "\rProgress:  32%|███▏      | 639/2000 [13:34<28:57,  1.28s/stock]"
          ]
        },
        {
          "metadata": {
            "tags": null
          },
          "name": "stdout",
          "output_type": "stream",
          "text": [
            "Error retrieving data for 미디어젠 (A279600): '종가'\n"
          ]
        },
        {
          "metadata": {
            "tags": null
          },
          "name": "stderr",
          "output_type": "stream",
          "text": [
            "\rProgress:  32%|███▏      | 640/2000 [13:35<28:40,  1.26s/stock]"
          ]
        },
        {
          "metadata": {
            "tags": null
          },
          "name": "stdout",
          "output_type": "stream",
          "text": [
            "Error retrieving data for 미래나노텍 (A095500): '종가'\n"
          ]
        },
        {
          "metadata": {
            "tags": null
          },
          "name": "stderr",
          "output_type": "stream",
          "text": [
            "\rProgress:  32%|███▏      | 641/2000 [13:36<28:23,  1.25s/stock]"
          ]
        },
        {
          "metadata": {
            "tags": null
          },
          "name": "stdout",
          "output_type": "stream",
          "text": [
            "Error retrieving data for 미래산업 (A025560): '종가'\n"
          ]
        },
        {
          "metadata": {
            "tags": null
          },
          "name": "stderr",
          "output_type": "stream",
          "text": [
            "\rProgress:  32%|███▏      | 642/2000 [13:37<28:24,  1.26s/stock]"
          ]
        },
        {
          "metadata": {
            "tags": null
          },
          "name": "stdout",
          "output_type": "stream",
          "text": [
            "Error retrieving data for 미래생명자원 (A218150): '종가'\n"
          ]
        },
        {
          "metadata": {
            "tags": null
          },
          "name": "stderr",
          "output_type": "stream",
          "text": [
            "\rProgress:  32%|███▏      | 643/2000 [13:39<28:28,  1.26s/stock]"
          ]
        },
        {
          "metadata": {
            "tags": null
          },
          "name": "stdout",
          "output_type": "stream",
          "text": [
            "Error retrieving data for 미래아이앤지 (A007120): '종가'\n"
          ]
        },
        {
          "metadata": {
            "tags": null
          },
          "name": "stderr",
          "output_type": "stream",
          "text": [
            "\rProgress:  32%|███▏      | 644/2000 [13:40<28:18,  1.25s/stock]"
          ]
        },
        {
          "metadata": {
            "tags": null
          },
          "name": "stdout",
          "output_type": "stream",
          "text": [
            "Error retrieving data for 미래에셋벤처투자 (A100790): '종가'\n"
          ]
        },
        {
          "metadata": {
            "tags": null
          },
          "name": "stderr",
          "output_type": "stream",
          "text": [
            "\rProgress:  32%|███▏      | 645/2000 [13:41<28:19,  1.25s/stock]"
          ]
        },
        {
          "metadata": {
            "tags": null
          },
          "name": "stdout",
          "output_type": "stream",
          "text": [
            "Error retrieving data for 미래에셋생명 (A085620): '종가'\n"
          ]
        },
        {
          "metadata": {
            "tags": null
          },
          "name": "stderr",
          "output_type": "stream",
          "text": [
            "\rProgress:  32%|███▏      | 646/2000 [13:42<28:05,  1.24s/stock]"
          ]
        },
        {
          "metadata": {
            "tags": null
          },
          "name": "stdout",
          "output_type": "stream",
          "text": [
            "Error retrieving data for 미래에셋증권 (A006800): '종가'\n"
          ]
        },
        {
          "metadata": {
            "tags": null
          },
          "name": "stderr",
          "output_type": "stream",
          "text": [
            "\rProgress:  32%|███▏      | 647/2000 [13:44<28:17,  1.25s/stock]"
          ]
        },
        {
          "metadata": {
            "tags": null
          },
          "name": "stdout",
          "output_type": "stream",
          "text": [
            "Error retrieving data for 미래컴퍼니 (A049950): '종가'\n"
          ]
        },
        {
          "metadata": {
            "tags": null
          },
          "name": "stderr",
          "output_type": "stream",
          "text": [
            "\rProgress:  32%|███▏      | 648/2000 [13:45<28:08,  1.25s/stock]"
          ]
        },
        {
          "metadata": {
            "tags": null
          },
          "name": "stdout",
          "output_type": "stream",
          "text": [
            "Error retrieving data for 미스터블루 (A207760): '종가'\n"
          ]
        },
        {
          "metadata": {
            "tags": null
          },
          "name": "stderr",
          "output_type": "stream",
          "text": [
            "\rProgress:  32%|███▏      | 649/2000 [13:46<28:01,  1.24s/stock]"
          ]
        },
        {
          "metadata": {
            "tags": null
          },
          "name": "stdout",
          "output_type": "stream",
          "text": [
            "Error retrieving data for 미원상사 (A002840): '종가'\n"
          ]
        },
        {
          "metadata": {
            "tags": null
          },
          "name": "stderr",
          "output_type": "stream",
          "text": [
            "\rProgress:  32%|███▎      | 650/2000 [13:47<28:10,  1.25s/stock]"
          ]
        },
        {
          "metadata": {
            "tags": null
          },
          "name": "stdout",
          "output_type": "stream",
          "text": [
            "Error retrieving data for 미원에스씨 (A268280): '종가'\n"
          ]
        },
        {
          "metadata": {
            "tags": null
          },
          "name": "stderr",
          "output_type": "stream",
          "text": [
            "\rProgress:  33%|███▎      | 651/2000 [13:49<28:01,  1.25s/stock]"
          ]
        },
        {
          "metadata": {
            "tags": null
          },
          "name": "stdout",
          "output_type": "stream",
          "text": [
            "Error retrieving data for 미원홀딩스 (A107590): '종가'\n"
          ]
        },
        {
          "metadata": {
            "tags": null
          },
          "name": "stderr",
          "output_type": "stream",
          "text": [
            "\rProgress:  33%|███▎      | 652/2000 [13:50<28:08,  1.25s/stock]"
          ]
        },
        {
          "metadata": {
            "tags": null
          },
          "name": "stdout",
          "output_type": "stream",
          "text": [
            "Error retrieving data for 미원화학 (A134380): '종가'\n"
          ]
        },
        {
          "metadata": {
            "tags": null
          },
          "name": "stderr",
          "output_type": "stream",
          "text": [
            "\rProgress:  33%|███▎      | 653/2000 [13:51<27:58,  1.25s/stock]"
          ]
        },
        {
          "metadata": {
            "tags": null
          },
          "name": "stdout",
          "output_type": "stream",
          "text": [
            "Error retrieving data for 미창석유 (A003650): '종가'\n"
          ]
        },
        {
          "metadata": {
            "tags": null
          },
          "name": "stderr",
          "output_type": "stream",
          "text": [
            "\rProgress:  33%|███▎      | 654/2000 [13:52<27:56,  1.25s/stock]"
          ]
        },
        {
          "metadata": {
            "tags": null
          },
          "name": "stdout",
          "output_type": "stream",
          "text": [
            "Error retrieving data for 미코 (A059090): '종가'\n"
          ]
        },
        {
          "metadata": {
            "tags": null
          },
          "name": "stderr",
          "output_type": "stream",
          "text": [
            "\rProgress:  33%|███▎      | 655/2000 [13:54<28:45,  1.28s/stock]"
          ]
        },
        {
          "metadata": {
            "tags": null
          },
          "name": "stdout",
          "output_type": "stream",
          "text": [
            "Error retrieving data for 미코바이오메드 (A214610): '종가'\n"
          ]
        },
        {
          "metadata": {
            "tags": null
          },
          "name": "stderr",
          "output_type": "stream",
          "text": [
            "\rProgress:  33%|███▎      | 656/2000 [13:55<28:40,  1.28s/stock]"
          ]
        },
        {
          "metadata": {
            "tags": null
          },
          "name": "stdout",
          "output_type": "stream",
          "text": [
            "Error retrieving data for 미투온 (A201490): '종가'\n"
          ]
        },
        {
          "metadata": {
            "tags": null
          },
          "name": "stderr",
          "output_type": "stream",
          "text": [
            "\rProgress:  33%|███▎      | 657/2000 [13:56<28:39,  1.28s/stock]"
          ]
        },
        {
          "metadata": {
            "tags": null
          },
          "name": "stdout",
          "output_type": "stream",
          "text": [
            "Error retrieving data for 바디텍메드 (A206640): '종가'\n"
          ]
        },
        {
          "metadata": {
            "tags": null
          },
          "name": "stderr",
          "output_type": "stream",
          "text": [
            "\rProgress:  33%|███▎      | 658/2000 [13:58<28:34,  1.28s/stock]"
          ]
        },
        {
          "metadata": {
            "tags": null
          },
          "name": "stdout",
          "output_type": "stream",
          "text": [
            "Error retrieving data for 바른손 (A018700): '종가'\n"
          ]
        },
        {
          "metadata": {
            "tags": null
          },
          "name": "stderr",
          "output_type": "stream",
          "text": [
            "\rProgress:  33%|███▎      | 659/2000 [13:59<28:36,  1.28s/stock]"
          ]
        },
        {
          "metadata": {
            "tags": null
          },
          "name": "stdout",
          "output_type": "stream",
          "text": [
            "Error retrieving data for 바른손이앤에이 (A035620): '종가'\n"
          ]
        },
        {
          "metadata": {
            "tags": null
          },
          "name": "stderr",
          "output_type": "stream",
          "text": [
            "\rProgress:  33%|███▎      | 660/2000 [14:00<28:30,  1.28s/stock]"
          ]
        },
        {
          "metadata": {
            "tags": null
          },
          "name": "stdout",
          "output_type": "stream",
          "text": [
            "Error retrieving data for 바이넥스 (A053030): '종가'\n"
          ]
        },
        {
          "metadata": {
            "tags": null
          },
          "name": "stderr",
          "output_type": "stream",
          "text": [
            "\rProgress:  33%|███▎      | 661/2000 [14:01<28:26,  1.27s/stock]"
          ]
        },
        {
          "metadata": {
            "tags": null
          },
          "name": "stdout",
          "output_type": "stream",
          "text": [
            "Error retrieving data for 바이브컴퍼니 (A301300): '종가'\n"
          ]
        },
        {
          "metadata": {
            "tags": null
          },
          "name": "stderr",
          "output_type": "stream",
          "text": [
            "\rProgress:  33%|███▎      | 662/2000 [14:03<28:19,  1.27s/stock]"
          ]
        },
        {
          "metadata": {
            "tags": null
          },
          "name": "stdout",
          "output_type": "stream",
          "text": [
            "Error retrieving data for 바이오니아 (A064550): '종가'\n"
          ]
        },
        {
          "metadata": {
            "tags": null
          },
          "name": "stderr",
          "output_type": "stream",
          "text": [
            "\rProgress:  33%|███▎      | 663/2000 [14:04<28:09,  1.26s/stock]"
          ]
        },
        {
          "metadata": {
            "tags": null
          },
          "name": "stdout",
          "output_type": "stream",
          "text": [
            "Error retrieving data for 바이오다인 (A314930): '종가'\n"
          ]
        },
        {
          "metadata": {
            "tags": null
          },
          "name": "stderr",
          "output_type": "stream",
          "text": [
            "\rProgress:  33%|███▎      | 664/2000 [14:05<28:08,  1.26s/stock]"
          ]
        },
        {
          "metadata": {
            "tags": null
          },
          "name": "stdout",
          "output_type": "stream",
          "text": [
            "Error retrieving data for 바이오솔루션 (A086820): '종가'\n"
          ]
        },
        {
          "metadata": {
            "tags": null
          },
          "name": "stderr",
          "output_type": "stream",
          "text": [
            "\rProgress:  33%|███▎      | 665/2000 [14:07<28:18,  1.27s/stock]"
          ]
        },
        {
          "metadata": {
            "tags": null
          },
          "name": "stdout",
          "output_type": "stream",
          "text": [
            "Error retrieving data for 바이오스마트 (A038460): '종가'\n"
          ]
        },
        {
          "metadata": {
            "tags": null
          },
          "name": "stderr",
          "output_type": "stream",
          "text": [
            "\rProgress:  33%|███▎      | 666/2000 [14:08<28:10,  1.27s/stock]"
          ]
        },
        {
          "metadata": {
            "tags": null
          },
          "name": "stdout",
          "output_type": "stream",
          "text": [
            "Error retrieving data for 바이오톡스텍 (A086040): '종가'\n"
          ]
        },
        {
          "metadata": {
            "tags": null
          },
          "name": "stderr",
          "output_type": "stream",
          "text": [
            "\rProgress:  33%|███▎      | 667/2000 [14:09<28:07,  1.27s/stock]"
          ]
        },
        {
          "metadata": {
            "tags": null
          },
          "name": "stdout",
          "output_type": "stream",
          "text": [
            "Error retrieving data for 바이온 (A032980): '종가'\n"
          ]
        },
        {
          "metadata": {
            "tags": null
          },
          "name": "stderr",
          "output_type": "stream",
          "text": [
            "\rProgress:  33%|███▎      | 668/2000 [14:10<28:03,  1.26s/stock]"
          ]
        },
        {
          "metadata": {
            "tags": null
          },
          "name": "stdout",
          "output_type": "stream",
          "text": [
            "Error retrieving data for 바텍 (A043150): '종가'\n"
          ]
        },
        {
          "metadata": {
            "tags": null
          },
          "name": "stderr",
          "output_type": "stream",
          "text": [
            "\rProgress:  33%|███▎      | 669/2000 [14:12<28:04,  1.27s/stock]"
          ]
        },
        {
          "metadata": {
            "tags": null
          },
          "name": "stdout",
          "output_type": "stream",
          "text": [
            "Error retrieving data for 박셀바이오 (A323990): '종가'\n"
          ]
        },
        {
          "metadata": {
            "tags": null
          },
          "name": "stderr",
          "output_type": "stream",
          "text": [
            "\rProgress:  34%|███▎      | 670/2000 [14:13<28:10,  1.27s/stock]"
          ]
        },
        {
          "metadata": {
            "tags": null
          },
          "name": "stdout",
          "output_type": "stream",
          "text": [
            "Error retrieving data for 방림 (A003610): '종가'\n"
          ]
        },
        {
          "metadata": {
            "tags": null
          },
          "name": "stderr",
          "output_type": "stream",
          "text": [
            "\rProgress:  34%|███▎      | 671/2000 [14:14<28:34,  1.29s/stock]"
          ]
        },
        {
          "metadata": {
            "tags": null
          },
          "name": "stdout",
          "output_type": "stream",
          "text": [
            "Error retrieving data for 배럴 (A267790): '종가'\n"
          ]
        },
        {
          "metadata": {
            "tags": null
          },
          "name": "stderr",
          "output_type": "stream",
          "text": [
            "\rProgress:  34%|███▎      | 672/2000 [14:15<28:28,  1.29s/stock]"
          ]
        },
        {
          "metadata": {
            "tags": null
          },
          "name": "stdout",
          "output_type": "stream",
          "text": [
            "Error retrieving data for 백광산업 (A001340): '종가'\n"
          ]
        },
        {
          "metadata": {
            "tags": null
          },
          "name": "stderr",
          "output_type": "stream",
          "text": [
            "\rProgress:  34%|███▎      | 673/2000 [14:17<28:22,  1.28s/stock]"
          ]
        },
        {
          "metadata": {
            "tags": null
          },
          "name": "stdout",
          "output_type": "stream",
          "text": [
            "Error retrieving data for 백금T&A (A046310): '종가'\n"
          ]
        },
        {
          "metadata": {
            "tags": null
          },
          "name": "stderr",
          "output_type": "stream",
          "text": [
            "\rProgress:  34%|███▎      | 674/2000 [14:18<28:12,  1.28s/stock]"
          ]
        },
        {
          "metadata": {
            "tags": null
          },
          "name": "stdout",
          "output_type": "stream",
          "text": [
            "Error retrieving data for 백산 (A035150): '종가'\n"
          ]
        },
        {
          "metadata": {
            "tags": null
          },
          "name": "stderr",
          "output_type": "stream",
          "text": [
            "\rProgress:  34%|███▍      | 675/2000 [14:19<28:23,  1.29s/stock]"
          ]
        },
        {
          "metadata": {
            "tags": null
          },
          "name": "stdout",
          "output_type": "stream",
          "text": [
            "Error retrieving data for 밸로프 (A331520): '종가'\n"
          ]
        },
        {
          "metadata": {
            "tags": null
          },
          "name": "stderr",
          "output_type": "stream",
          "text": [
            "\rProgress:  34%|███▍      | 676/2000 [14:21<28:10,  1.28s/stock]"
          ]
        },
        {
          "metadata": {
            "tags": null
          },
          "name": "stdout",
          "output_type": "stream",
          "text": [
            "Error retrieving data for 버킷스튜디오 (A066410): '종가'\n"
          ]
        },
        {
          "metadata": {
            "tags": null
          },
          "name": "stderr",
          "output_type": "stream",
          "text": [
            "\rProgress:  34%|███▍      | 677/2000 [14:22<28:12,  1.28s/stock]"
          ]
        },
        {
          "metadata": {
            "tags": null
          },
          "name": "stdout",
          "output_type": "stream",
          "text": [
            "Error retrieving data for 범양건영 (A002410): '종가'\n"
          ]
        },
        {
          "metadata": {
            "tags": null
          },
          "name": "stderr",
          "output_type": "stream",
          "text": [
            "\rProgress:  34%|███▍      | 678/2000 [14:23<28:00,  1.27s/stock]"
          ]
        },
        {
          "metadata": {
            "tags": null
          },
          "name": "stdout",
          "output_type": "stream",
          "text": [
            "Error retrieving data for 베노홀딩스 (A206400): '종가'\n"
          ]
        },
        {
          "metadata": {
            "tags": null
          },
          "name": "stderr",
          "output_type": "stream",
          "text": [
            "\rProgress:  34%|███▍      | 679/2000 [14:24<27:59,  1.27s/stock]"
          ]
        },
        {
          "metadata": {
            "tags": null
          },
          "name": "stdout",
          "output_type": "stream",
          "text": [
            "Error retrieving data for 베뉴지 (A019010): '종가'\n"
          ]
        },
        {
          "metadata": {
            "tags": null
          },
          "name": "stderr",
          "output_type": "stream",
          "text": [
            "\rProgress:  34%|███▍      | 680/2000 [14:26<27:57,  1.27s/stock]"
          ]
        },
        {
          "metadata": {
            "tags": null
          },
          "name": "stdout",
          "output_type": "stream",
          "text": [
            "Error retrieving data for 베셀 (A177350): '종가'\n"
          ]
        },
        {
          "metadata": {
            "tags": null
          },
          "name": "stderr",
          "output_type": "stream",
          "text": [
            "\rProgress:  34%|███▍      | 681/2000 [14:27<28:06,  1.28s/stock]"
          ]
        },
        {
          "metadata": {
            "tags": null
          },
          "name": "stdout",
          "output_type": "stream",
          "text": [
            "Error retrieving data for 벽산 (A007210): '종가'\n"
          ]
        },
        {
          "metadata": {
            "tags": null
          },
          "name": "stderr",
          "output_type": "stream",
          "text": [
            "\rProgress:  34%|███▍      | 682/2000 [14:28<28:02,  1.28s/stock]"
          ]
        },
        {
          "metadata": {
            "tags": null
          },
          "name": "stdout",
          "output_type": "stream",
          "text": [
            "Error retrieving data for 보광산업 (A225530): '종가'\n"
          ]
        },
        {
          "metadata": {
            "tags": null
          },
          "name": "stderr",
          "output_type": "stream",
          "text": [
            "\rProgress:  34%|███▍      | 683/2000 [14:29<27:54,  1.27s/stock]"
          ]
        },
        {
          "metadata": {
            "tags": null
          },
          "name": "stdout",
          "output_type": "stream",
          "text": [
            "Error retrieving data for 보라티알 (A250000): '종가'\n"
          ]
        },
        {
          "metadata": {
            "tags": null
          },
          "name": "stderr",
          "output_type": "stream",
          "text": [
            "\rProgress:  34%|███▍      | 684/2000 [14:31<28:29,  1.30s/stock]"
          ]
        },
        {
          "metadata": {
            "tags": null
          },
          "name": "stdout",
          "output_type": "stream",
          "text": [
            "Error retrieving data for 보락 (A002760): '종가'\n"
          ]
        },
        {
          "metadata": {
            "tags": null
          },
          "name": "stderr",
          "output_type": "stream",
          "text": [
            "\rProgress:  34%|███▍      | 685/2000 [14:32<28:11,  1.29s/stock]"
          ]
        },
        {
          "metadata": {
            "tags": null
          },
          "name": "stdout",
          "output_type": "stream",
          "text": [
            "Error retrieving data for 보령 (A003850): '종가'\n"
          ]
        },
        {
          "metadata": {
            "tags": null
          },
          "name": "stderr",
          "output_type": "stream",
          "text": [
            "\rProgress:  34%|███▍      | 686/2000 [14:33<27:59,  1.28s/stock]"
          ]
        },
        {
          "metadata": {
            "tags": null
          },
          "name": "stdout",
          "output_type": "stream",
          "text": [
            "Error retrieving data for 보성파워텍 (A006910): '종가'\n"
          ]
        },
        {
          "metadata": {
            "tags": null
          },
          "name": "stderr",
          "output_type": "stream",
          "text": [
            "\rProgress:  34%|███▍      | 687/2000 [14:35<29:54,  1.37s/stock]"
          ]
        },
        {
          "metadata": {
            "tags": null
          },
          "name": "stdout",
          "output_type": "stream",
          "text": [
            "Error retrieving data for 보해양조 (A000890): '종가'\n"
          ]
        },
        {
          "metadata": {
            "tags": null
          },
          "name": "stderr",
          "output_type": "stream",
          "text": [
            "\rProgress:  34%|███▍      | 688/2000 [14:36<29:20,  1.34s/stock]"
          ]
        },
        {
          "metadata": {
            "tags": null
          },
          "name": "stdout",
          "output_type": "stream",
          "text": [
            "Error retrieving data for 본느 (A226340): '종가'\n"
          ]
        },
        {
          "metadata": {
            "tags": null
          },
          "name": "stderr",
          "output_type": "stream",
          "text": [
            "\rProgress:  34%|███▍      | 689/2000 [14:37<28:41,  1.31s/stock]"
          ]
        },
        {
          "metadata": {
            "tags": null
          },
          "name": "stdout",
          "output_type": "stream",
          "text": [
            "Error retrieving data for 부광약품 (A003000): '종가'\n"
          ]
        },
        {
          "metadata": {
            "tags": null
          },
          "name": "stderr",
          "output_type": "stream",
          "text": [
            "\rProgress:  34%|███▍      | 690/2000 [14:39<30:52,  1.41s/stock]"
          ]
        },
        {
          "metadata": {
            "tags": null
          },
          "name": "stdout",
          "output_type": "stream",
          "text": [
            "Error retrieving data for 부국증권 (A001270): '종가'\n"
          ]
        },
        {
          "metadata": {
            "tags": null
          },
          "name": "stderr",
          "output_type": "stream",
          "text": [
            "\rProgress:  35%|███▍      | 691/2000 [14:40<29:51,  1.37s/stock]"
          ]
        },
        {
          "metadata": {
            "tags": null
          },
          "name": "stdout",
          "output_type": "stream",
          "text": [
            "Error retrieving data for 부국철강 (A026940): '종가'\n"
          ]
        },
        {
          "metadata": {
            "tags": null
          },
          "name": "stderr",
          "output_type": "stream",
          "text": [
            "\rProgress:  35%|███▍      | 692/2000 [14:42<29:02,  1.33s/stock]"
          ]
        },
        {
          "metadata": {
            "tags": null
          },
          "name": "stdout",
          "output_type": "stream",
          "text": [
            "Error retrieving data for 부방 (A014470): '종가'\n"
          ]
        },
        {
          "metadata": {
            "tags": null
          },
          "name": "stderr",
          "output_type": "stream",
          "text": [
            "\rProgress:  35%|███▍      | 693/2000 [14:43<28:30,  1.31s/stock]"
          ]
        },
        {
          "metadata": {
            "tags": null
          },
          "name": "stdout",
          "output_type": "stream",
          "text": [
            "Error retrieving data for 부산산업 (A011390): '종가'\n"
          ]
        },
        {
          "metadata": {
            "tags": null
          },
          "name": "stderr",
          "output_type": "stream",
          "text": [
            "\rProgress:  35%|███▍      | 694/2000 [14:44<28:02,  1.29s/stock]"
          ]
        },
        {
          "metadata": {
            "tags": null
          },
          "name": "stdout",
          "output_type": "stream",
          "text": [
            "Error retrieving data for 뷰노 (A338220): '종가'\n"
          ]
        },
        {
          "metadata": {
            "tags": null
          },
          "name": "stderr",
          "output_type": "stream",
          "text": [
            "\rProgress:  35%|███▍      | 695/2000 [14:45<27:40,  1.27s/stock]"
          ]
        },
        {
          "metadata": {
            "tags": null
          },
          "name": "stdout",
          "output_type": "stream",
          "text": [
            "Error retrieving data for 뷰웍스 (A100120): '종가'\n"
          ]
        },
        {
          "metadata": {
            "tags": null
          },
          "name": "stderr",
          "output_type": "stream",
          "text": [
            "\rProgress:  35%|███▍      | 696/2000 [14:47<27:22,  1.26s/stock]"
          ]
        },
        {
          "metadata": {
            "tags": null
          },
          "name": "stdout",
          "output_type": "stream",
          "text": [
            "Error retrieving data for 브랜드엑스코퍼레이션 (A337930): '종가'\n"
          ]
        },
        {
          "metadata": {
            "tags": null
          },
          "name": "stderr",
          "output_type": "stream",
          "text": [
            "\rProgress:  35%|███▍      | 697/2000 [14:48<27:31,  1.27s/stock]"
          ]
        },
        {
          "metadata": {
            "tags": null
          },
          "name": "stdout",
          "output_type": "stream",
          "text": [
            "Error retrieving data for 브리지텍 (A064480): '종가'\n"
          ]
        },
        {
          "metadata": {
            "tags": null
          },
          "name": "stderr",
          "output_type": "stream",
          "text": [
            "\rProgress:  35%|███▍      | 698/2000 [14:49<27:13,  1.25s/stock]"
          ]
        },
        {
          "metadata": {
            "tags": null
          },
          "name": "stdout",
          "output_type": "stream",
          "text": [
            "Error retrieving data for 브릿지바이오테라퓨틱스 (A288330): '종가'\n"
          ]
        },
        {
          "metadata": {
            "tags": null
          },
          "name": "stderr",
          "output_type": "stream",
          "text": [
            "\rProgress:  35%|███▍      | 699/2000 [14:50<27:09,  1.25s/stock]"
          ]
        },
        {
          "metadata": {
            "tags": null
          },
          "name": "stdout",
          "output_type": "stream",
          "text": [
            "Error retrieving data for 브이원텍 (A251630): '종가'\n"
          ]
        },
        {
          "metadata": {
            "tags": null
          },
          "name": "stderr",
          "output_type": "stream",
          "text": [
            "\rProgress:  35%|███▌      | 700/2000 [14:52<26:59,  1.25s/stock]"
          ]
        },
        {
          "metadata": {
            "tags": null
          },
          "name": "stdout",
          "output_type": "stream",
          "text": [
            "Error retrieving data for 브이티지엠피 (A018290): '종가'\n"
          ]
        },
        {
          "metadata": {
            "tags": null
          },
          "name": "stderr",
          "output_type": "stream",
          "text": [
            "\rProgress:  35%|███▌      | 701/2000 [14:53<26:52,  1.24s/stock]"
          ]
        },
        {
          "metadata": {
            "tags": null
          },
          "name": "stdout",
          "output_type": "stream",
          "text": [
            "Error retrieving data for 블루콤 (A033560): '종가'\n"
          ]
        },
        {
          "metadata": {
            "tags": null
          },
          "name": "stderr",
          "output_type": "stream",
          "text": [
            "\rProgress:  35%|███▌      | 702/2000 [14:54<26:43,  1.24s/stock]"
          ]
        },
        {
          "metadata": {
            "tags": null
          },
          "name": "stdout",
          "output_type": "stream",
          "text": [
            "Error retrieving data for 블리츠웨이 (A369370): '종가'\n"
          ]
        },
        {
          "metadata": {
            "tags": null
          },
          "name": "stderr",
          "output_type": "stream",
          "text": [
            "\rProgress:  35%|███▌      | 703/2000 [14:55<27:03,  1.25s/stock]"
          ]
        },
        {
          "metadata": {
            "tags": null
          },
          "name": "stdout",
          "output_type": "stream",
          "text": [
            "Error retrieving data for 비나텍 (A126340): '종가'\n"
          ]
        },
        {
          "metadata": {
            "tags": null
          },
          "name": "stderr",
          "output_type": "stream",
          "text": [
            "\rProgress:  35%|███▌      | 704/2000 [14:57<26:58,  1.25s/stock]"
          ]
        },
        {
          "metadata": {
            "tags": null
          },
          "name": "stdout",
          "output_type": "stream",
          "text": [
            "Error retrieving data for 비덴트 (A121800): '종가'\n"
          ]
        },
        {
          "metadata": {
            "tags": null
          },
          "name": "stderr",
          "output_type": "stream",
          "text": [
            "\rProgress:  35%|███▌      | 705/2000 [14:58<26:45,  1.24s/stock]"
          ]
        },
        {
          "metadata": {
            "tags": null
          },
          "name": "stdout",
          "output_type": "stream",
          "text": [
            "Error retrieving data for 비보존 제약 (A082800): '종가'\n"
          ]
        },
        {
          "metadata": {
            "tags": null
          },
          "name": "stderr",
          "output_type": "stream",
          "text": [
            "\rProgress:  35%|███▌      | 706/2000 [14:59<26:44,  1.24s/stock]"
          ]
        },
        {
          "metadata": {
            "tags": null
          },
          "name": "stdout",
          "output_type": "stream",
          "text": [
            "Error retrieving data for 비비씨 (A318410): '종가'\n"
          ]
        },
        {
          "metadata": {
            "tags": null
          },
          "name": "stderr",
          "output_type": "stream",
          "text": [
            "\rProgress:  35%|███▌      | 707/2000 [15:00<26:36,  1.23s/stock]"
          ]
        },
        {
          "metadata": {
            "tags": null
          },
          "name": "stdout",
          "output_type": "stream",
          "text": [
            "Error retrieving data for 비상교육 (A100220): '종가'\n"
          ]
        },
        {
          "metadata": {
            "tags": null
          },
          "name": "stderr",
          "output_type": "stream",
          "text": [
            "\rProgress:  35%|███▌      | 708/2000 [15:01<26:36,  1.24s/stock]"
          ]
        },
        {
          "metadata": {
            "tags": null
          },
          "name": "stdout",
          "output_type": "stream",
          "text": [
            "Error retrieving data for 비씨월드제약 (A200780): '종가'\n"
          ]
        },
        {
          "metadata": {
            "tags": null
          },
          "name": "stderr",
          "output_type": "stream",
          "text": [
            "\rProgress:  35%|███▌      | 709/2000 [15:03<26:30,  1.23s/stock]"
          ]
        },
        {
          "metadata": {
            "tags": null
          },
          "name": "stdout",
          "output_type": "stream",
          "text": [
            "Error retrieving data for 비아트론 (A141000): '종가'\n"
          ]
        },
        {
          "metadata": {
            "tags": null
          },
          "name": "stderr",
          "output_type": "stream",
          "text": [
            "\rProgress:  36%|███▌      | 710/2000 [15:04<26:27,  1.23s/stock]"
          ]
        },
        {
          "metadata": {
            "tags": null
          },
          "name": "stdout",
          "output_type": "stream",
          "text": [
            "Error retrieving data for 비에이치 (A090460): '종가'\n"
          ]
        },
        {
          "metadata": {
            "tags": null
          },
          "name": "stderr",
          "output_type": "stream",
          "text": [
            "\rProgress:  36%|███▌      | 711/2000 [15:05<26:25,  1.23s/stock]"
          ]
        },
        {
          "metadata": {
            "tags": null
          },
          "name": "stdout",
          "output_type": "stream",
          "text": [
            "Error retrieving data for 비에이치아이 (A083650): '종가'\n"
          ]
        },
        {
          "metadata": {
            "tags": null
          },
          "name": "stderr",
          "output_type": "stream",
          "text": [
            "\rProgress:  36%|███▌      | 712/2000 [15:06<26:20,  1.23s/stock]"
          ]
        },
        {
          "metadata": {
            "tags": null
          },
          "name": "stdout",
          "output_type": "stream",
          "text": [
            "Error retrieving data for 비엘 (A142760): '종가'\n"
          ]
        },
        {
          "metadata": {
            "tags": null
          },
          "name": "stderr",
          "output_type": "stream",
          "text": [
            "\rProgress:  36%|███▌      | 713/2000 [15:08<26:30,  1.24s/stock]"
          ]
        },
        {
          "metadata": {
            "tags": null
          },
          "name": "stdout",
          "output_type": "stream",
          "text": [
            "Error retrieving data for 비엘팜텍 (A065170): '종가'\n"
          ]
        },
        {
          "metadata": {
            "tags": null
          },
          "name": "stderr",
          "output_type": "stream",
          "text": [
            "\rProgress:  36%|███▌      | 714/2000 [15:09<26:27,  1.23s/stock]"
          ]
        },
        {
          "metadata": {
            "tags": null
          },
          "name": "stdout",
          "output_type": "stream",
          "text": [
            "Error retrieving data for 비엠티 (A086670): '종가'\n"
          ]
        },
        {
          "metadata": {
            "tags": null
          },
          "name": "stderr",
          "output_type": "stream",
          "text": [
            "\rProgress:  36%|███▌      | 715/2000 [15:10<26:28,  1.24s/stock]"
          ]
        },
        {
          "metadata": {
            "tags": null
          },
          "name": "stdout",
          "output_type": "stream",
          "text": [
            "Error retrieving data for 비올 (A335890): '종가'\n"
          ]
        },
        {
          "metadata": {
            "tags": null
          },
          "name": "stderr",
          "output_type": "stream",
          "text": [
            "\rProgress:  36%|███▌      | 716/2000 [15:11<26:24,  1.23s/stock]"
          ]
        },
        {
          "metadata": {
            "tags": null
          },
          "name": "stdout",
          "output_type": "stream",
          "text": [
            "Error retrieving data for 비즈니스온 (A138580): '종가'\n"
          ]
        },
        {
          "metadata": {
            "tags": null
          },
          "name": "stderr",
          "output_type": "stream",
          "text": [
            "\rProgress:  36%|███▌      | 717/2000 [15:13<26:24,  1.23s/stock]"
          ]
        },
        {
          "metadata": {
            "tags": null
          },
          "name": "stdout",
          "output_type": "stream",
          "text": [
            "Error retrieving data for 비츠로셀 (A082920): '종가'\n"
          ]
        },
        {
          "metadata": {
            "tags": null
          },
          "name": "stderr",
          "output_type": "stream",
          "text": [
            "\rProgress:  36%|███▌      | 718/2000 [15:14<26:21,  1.23s/stock]"
          ]
        },
        {
          "metadata": {
            "tags": null
          },
          "name": "stdout",
          "output_type": "stream",
          "text": [
            "Error retrieving data for 비츠로테크 (A042370): '종가'\n"
          ]
        },
        {
          "metadata": {
            "tags": null
          },
          "name": "stderr",
          "output_type": "stream",
          "text": [
            "\rProgress:  36%|███▌      | 719/2000 [15:15<26:59,  1.26s/stock]"
          ]
        },
        {
          "metadata": {
            "tags": null
          },
          "name": "stdout",
          "output_type": "stream",
          "text": [
            "Error retrieving data for 비투엔 (A307870): '종가'\n"
          ]
        },
        {
          "metadata": {
            "tags": null
          },
          "name": "stderr",
          "output_type": "stream",
          "text": [
            "\rProgress:  36%|███▌      | 720/2000 [15:16<26:50,  1.26s/stock]"
          ]
        },
        {
          "metadata": {
            "tags": null
          },
          "name": "stdout",
          "output_type": "stream",
          "text": [
            "Error retrieving data for 비트컴퓨터 (A032850): '종가'\n"
          ]
        },
        {
          "metadata": {
            "tags": null
          },
          "name": "stderr",
          "output_type": "stream",
          "text": [
            "\rProgress:  36%|███▌      | 721/2000 [15:18<26:40,  1.25s/stock]"
          ]
        },
        {
          "metadata": {
            "tags": null
          },
          "name": "stdout",
          "output_type": "stream",
          "text": [
            "Error retrieving data for 비피도 (A238200): '종가'\n"
          ]
        },
        {
          "metadata": {
            "tags": null
          },
          "name": "stderr",
          "output_type": "stream",
          "text": [
            "\rProgress:  36%|███▌      | 722/2000 [15:19<26:29,  1.24s/stock]"
          ]
        },
        {
          "metadata": {
            "tags": null
          },
          "name": "stdout",
          "output_type": "stream",
          "text": [
            "Error retrieving data for 빅솔론 (A093190): '종가'\n"
          ]
        },
        {
          "metadata": {
            "tags": null
          },
          "name": "stderr",
          "output_type": "stream",
          "text": [
            "\rProgress:  36%|███▌      | 723/2000 [15:20<26:27,  1.24s/stock]"
          ]
        },
        {
          "metadata": {
            "tags": null
          },
          "name": "stdout",
          "output_type": "stream",
          "text": [
            "Error retrieving data for 빅텍 (A065450): '종가'\n"
          ]
        },
        {
          "metadata": {
            "tags": null
          },
          "name": "stderr",
          "output_type": "stream",
          "text": [
            "\rProgress:  36%|███▌      | 724/2000 [15:21<26:22,  1.24s/stock]"
          ]
        },
        {
          "metadata": {
            "tags": null
          },
          "name": "stdout",
          "output_type": "stream",
          "text": [
            "Error retrieving data for 빙그레 (A005180): '종가'\n"
          ]
        },
        {
          "metadata": {
            "tags": null
          },
          "name": "stderr",
          "output_type": "stream",
          "text": [
            "\rProgress:  36%|███▋      | 725/2000 [15:23<26:20,  1.24s/stock]"
          ]
        },
        {
          "metadata": {
            "tags": null
          },
          "name": "stdout",
          "output_type": "stream",
          "text": [
            "Error retrieving data for 사람인 (A143240): '종가'\n"
          ]
        },
        {
          "metadata": {
            "tags": null
          },
          "name": "stderr",
          "output_type": "stream",
          "text": [
            "\rProgress:  36%|███▋      | 726/2000 [15:24<26:14,  1.24s/stock]"
          ]
        },
        {
          "metadata": {
            "tags": null
          },
          "name": "stdout",
          "output_type": "stream",
          "text": [
            "Error retrieving data for 사조대림 (A003960): '종가'\n"
          ]
        },
        {
          "metadata": {
            "tags": null
          },
          "name": "stderr",
          "output_type": "stream",
          "text": [
            "\rProgress:  36%|███▋      | 727/2000 [15:25<26:13,  1.24s/stock]"
          ]
        },
        {
          "metadata": {
            "tags": null
          },
          "name": "stdout",
          "output_type": "stream",
          "text": [
            "Error retrieving data for 사조동아원 (A008040): '종가'\n"
          ]
        },
        {
          "metadata": {
            "tags": null
          },
          "name": "stderr",
          "output_type": "stream",
          "text": [
            "\rProgress:  36%|███▋      | 728/2000 [15:26<26:06,  1.23s/stock]"
          ]
        },
        {
          "metadata": {
            "tags": null
          },
          "name": "stdout",
          "output_type": "stream",
          "text": [
            "Error retrieving data for 사조산업 (A007160): '종가'\n"
          ]
        },
        {
          "metadata": {
            "tags": null
          },
          "name": "stderr",
          "output_type": "stream",
          "text": [
            "\rProgress:  36%|███▋      | 729/2000 [15:27<26:03,  1.23s/stock]"
          ]
        },
        {
          "metadata": {
            "tags": null
          },
          "name": "stdout",
          "output_type": "stream",
          "text": [
            "Error retrieving data for 사조씨푸드 (A014710): '종가'\n"
          ]
        },
        {
          "metadata": {
            "tags": null
          },
          "name": "stderr",
          "output_type": "stream",
          "text": [
            "\rProgress:  36%|███▋      | 730/2000 [15:29<26:00,  1.23s/stock]"
          ]
        },
        {
          "metadata": {
            "tags": null
          },
          "name": "stdout",
          "output_type": "stream",
          "text": [
            "Error retrieving data for 사조오양 (A006090): '종가'\n"
          ]
        },
        {
          "metadata": {
            "tags": null
          },
          "name": "stderr",
          "output_type": "stream",
          "text": [
            "\rProgress:  37%|███▋      | 731/2000 [15:30<25:58,  1.23s/stock]"
          ]
        },
        {
          "metadata": {
            "tags": null
          },
          "name": "stdout",
          "output_type": "stream",
          "text": [
            "Error retrieving data for 삼기 (A122350): '종가'\n"
          ]
        },
        {
          "metadata": {
            "tags": null
          },
          "name": "stderr",
          "output_type": "stream",
          "text": [
            "\rProgress:  37%|███▋      | 732/2000 [15:31<25:59,  1.23s/stock]"
          ]
        },
        {
          "metadata": {
            "tags": null
          },
          "name": "stdout",
          "output_type": "stream",
          "text": [
            "Error retrieving data for 삼륭물산 (A014970): '종가'\n"
          ]
        },
        {
          "metadata": {
            "tags": null
          },
          "name": "stderr",
          "output_type": "stream",
          "text": [
            "\rProgress:  37%|███▋      | 733/2000 [15:32<26:07,  1.24s/stock]"
          ]
        },
        {
          "metadata": {
            "tags": null
          },
          "name": "stdout",
          "output_type": "stream",
          "text": [
            "Error retrieving data for 삼목에스폼 (A018310): '종가'\n"
          ]
        },
        {
          "metadata": {
            "tags": null
          },
          "name": "stderr",
          "output_type": "stream",
          "text": [
            "\rProgress:  37%|███▋      | 734/2000 [15:34<26:18,  1.25s/stock]"
          ]
        },
        {
          "metadata": {
            "tags": null
          },
          "name": "stdout",
          "output_type": "stream",
          "text": [
            "Error retrieving data for 삼보모터스 (A053700): '종가'\n"
          ]
        },
        {
          "metadata": {
            "tags": null
          },
          "name": "stderr",
          "output_type": "stream",
          "text": [
            "\rProgress:  37%|███▋      | 735/2000 [15:35<28:33,  1.35s/stock]"
          ]
        },
        {
          "metadata": {
            "tags": null
          },
          "name": "stdout",
          "output_type": "stream",
          "text": [
            "Error retrieving data for 삼보산업 (A009620): '종가'\n"
          ]
        },
        {
          "metadata": {
            "tags": null
          },
          "name": "stderr",
          "output_type": "stream",
          "text": [
            "\rProgress:  37%|███▋      | 736/2000 [15:36<27:47,  1.32s/stock]"
          ]
        },
        {
          "metadata": {
            "tags": null
          },
          "name": "stdout",
          "output_type": "stream",
          "text": [
            "Error retrieving data for 삼보판지 (A023600): '종가'\n"
          ]
        },
        {
          "metadata": {
            "tags": null
          },
          "name": "stderr",
          "output_type": "stream",
          "text": [
            "\rProgress:  37%|███▋      | 737/2000 [15:38<27:17,  1.30s/stock]"
          ]
        },
        {
          "metadata": {
            "tags": null
          },
          "name": "stdout",
          "output_type": "stream",
          "text": [
            "Error retrieving data for 삼부토건 (A001470): '종가'\n"
          ]
        },
        {
          "metadata": {
            "tags": null
          },
          "name": "stderr",
          "output_type": "stream",
          "text": [
            "\rProgress:  37%|███▋      | 738/2000 [15:39<26:51,  1.28s/stock]"
          ]
        },
        {
          "metadata": {
            "tags": null
          },
          "name": "stdout",
          "output_type": "stream",
          "text": [
            "Error retrieving data for 삼성SDI (A006400): '종가'\n"
          ]
        },
        {
          "metadata": {
            "tags": null
          },
          "name": "stderr",
          "output_type": "stream",
          "text": [
            "\rProgress:  37%|███▋      | 739/2000 [15:40<26:38,  1.27s/stock]"
          ]
        },
        {
          "metadata": {
            "tags": null
          },
          "name": "stdout",
          "output_type": "stream",
          "text": [
            "Error retrieving data for 삼성공조 (A006660): '종가'\n"
          ]
        },
        {
          "metadata": {
            "tags": null
          },
          "name": "stderr",
          "output_type": "stream",
          "text": [
            "\rProgress:  37%|███▋      | 740/2000 [15:41<26:26,  1.26s/stock]"
          ]
        },
        {
          "metadata": {
            "tags": null
          },
          "name": "stdout",
          "output_type": "stream",
          "text": [
            "Error retrieving data for 삼성물산 (A028260): '종가'\n"
          ]
        },
        {
          "metadata": {
            "tags": null
          },
          "name": "stderr",
          "output_type": "stream",
          "text": [
            "\rProgress:  37%|███▋      | 741/2000 [15:43<26:16,  1.25s/stock]"
          ]
        },
        {
          "metadata": {
            "tags": null
          },
          "name": "stdout",
          "output_type": "stream",
          "text": [
            "Error retrieving data for 삼성바이오로직스 (A207940): '종가'\n"
          ]
        },
        {
          "metadata": {
            "tags": null
          },
          "name": "stderr",
          "output_type": "stream",
          "text": [
            "\rProgress:  37%|███▋      | 742/2000 [15:44<26:08,  1.25s/stock]"
          ]
        },
        {
          "metadata": {
            "tags": null
          },
          "name": "stdout",
          "output_type": "stream",
          "text": [
            "Error retrieving data for 삼성생명 (A032830): '종가'\n"
          ]
        },
        {
          "metadata": {
            "tags": null
          },
          "name": "stderr",
          "output_type": "stream",
          "text": [
            "\rProgress:  37%|███▋      | 743/2000 [15:45<26:14,  1.25s/stock]"
          ]
        },
        {
          "metadata": {
            "tags": null
          },
          "name": "stdout",
          "output_type": "stream",
          "text": [
            "Error retrieving data for 삼성에스디에스 (A018260): '종가'\n"
          ]
        },
        {
          "metadata": {
            "tags": null
          },
          "name": "stderr",
          "output_type": "stream",
          "text": [
            "\rProgress:  37%|███▋      | 744/2000 [15:46<26:05,  1.25s/stock]"
          ]
        },
        {
          "metadata": {
            "tags": null
          },
          "name": "stdout",
          "output_type": "stream",
          "text": [
            "Error retrieving data for 삼성엔지니어링 (A028050): '종가'\n"
          ]
        },
        {
          "metadata": {
            "tags": null
          },
          "name": "stderr",
          "output_type": "stream",
          "text": [
            "\rProgress:  37%|███▋      | 745/2000 [15:48<26:00,  1.24s/stock]"
          ]
        },
        {
          "metadata": {
            "tags": null
          },
          "name": "stdout",
          "output_type": "stream",
          "text": [
            "Error retrieving data for 삼성전기 (A009150): '종가'\n"
          ]
        },
        {
          "metadata": {
            "tags": null
          },
          "name": "stderr",
          "output_type": "stream",
          "text": [
            "\rProgress:  37%|███▋      | 746/2000 [15:49<25:56,  1.24s/stock]"
          ]
        },
        {
          "metadata": {
            "tags": null
          },
          "name": "stdout",
          "output_type": "stream",
          "text": [
            "Error retrieving data for 삼성전자 (A005930): '종가'\n"
          ]
        },
        {
          "metadata": {
            "tags": null
          },
          "name": "stderr",
          "output_type": "stream",
          "text": [
            "\rProgress:  37%|███▋      | 747/2000 [15:50<25:56,  1.24s/stock]"
          ]
        },
        {
          "metadata": {
            "tags": null
          },
          "name": "stdout",
          "output_type": "stream",
          "text": [
            "Error retrieving data for 삼성제약 (A001360): '종가'\n"
          ]
        },
        {
          "metadata": {
            "tags": null
          },
          "name": "stderr",
          "output_type": "stream",
          "text": [
            "\rProgress:  37%|███▋      | 748/2000 [15:51<25:54,  1.24s/stock]"
          ]
        },
        {
          "metadata": {
            "tags": null
          },
          "name": "stdout",
          "output_type": "stream",
          "text": [
            "Error retrieving data for 삼성중공업 (A010140): '종가'\n"
          ]
        },
        {
          "metadata": {
            "tags": null
          },
          "name": "stderr",
          "output_type": "stream",
          "text": [
            "\rProgress:  37%|███▋      | 749/2000 [15:53<25:49,  1.24s/stock]"
          ]
        },
        {
          "metadata": {
            "tags": null
          },
          "name": "stdout",
          "output_type": "stream",
          "text": [
            "Error retrieving data for 삼성증권 (A016360): '종가'\n"
          ]
        },
        {
          "metadata": {
            "tags": null
          },
          "name": "stderr",
          "output_type": "stream",
          "text": [
            "\rProgress:  38%|███▊      | 750/2000 [15:54<25:46,  1.24s/stock]"
          ]
        },
        {
          "metadata": {
            "tags": null
          },
          "name": "stdout",
          "output_type": "stream",
          "text": [
            "Error retrieving data for 삼성출판사 (A068290): '종가'\n"
          ]
        },
        {
          "metadata": {
            "tags": null
          },
          "name": "stderr",
          "output_type": "stream",
          "text": [
            "\rProgress:  38%|███▊      | 751/2000 [15:55<26:06,  1.25s/stock]"
          ]
        },
        {
          "metadata": {
            "tags": null
          },
          "name": "stdout",
          "output_type": "stream",
          "text": [
            "Error retrieving data for 삼성카드 (A029780): '종가'\n"
          ]
        },
        {
          "metadata": {
            "tags": null
          },
          "name": "stderr",
          "output_type": "stream",
          "text": [
            "\rProgress:  38%|███▊      | 752/2000 [15:56<26:00,  1.25s/stock]"
          ]
        },
        {
          "metadata": {
            "tags": null
          },
          "name": "stdout",
          "output_type": "stream",
          "text": [
            "Error retrieving data for 삼성화재 (A000810): '종가'\n"
          ]
        },
        {
          "metadata": {
            "tags": null
          },
          "name": "stderr",
          "output_type": "stream",
          "text": [
            "\rProgress:  38%|███▊      | 753/2000 [15:58<26:03,  1.25s/stock]"
          ]
        },
        {
          "metadata": {
            "tags": null
          },
          "name": "stdout",
          "output_type": "stream",
          "text": [
            "Error retrieving data for 삼아알미늄 (A006110): '종가'\n"
          ]
        },
        {
          "metadata": {
            "tags": null
          },
          "name": "stderr",
          "output_type": "stream",
          "text": [
            "\rProgress:  38%|███▊      | 754/2000 [15:59<25:52,  1.25s/stock]"
          ]
        },
        {
          "metadata": {
            "tags": null
          },
          "name": "stdout",
          "output_type": "stream",
          "text": [
            "Error retrieving data for 삼아제약 (A009300): '종가'\n"
          ]
        },
        {
          "metadata": {
            "tags": null
          },
          "name": "stderr",
          "output_type": "stream",
          "text": [
            "\rProgress:  38%|███▊      | 755/2000 [16:00<25:47,  1.24s/stock]"
          ]
        },
        {
          "metadata": {
            "tags": null
          },
          "name": "stdout",
          "output_type": "stream",
          "text": [
            "Error retrieving data for 삼양사 (A145990): '종가'\n"
          ]
        },
        {
          "metadata": {
            "tags": null
          },
          "name": "stderr",
          "output_type": "stream",
          "text": [
            "\rProgress:  38%|███▊      | 756/2000 [16:01<25:56,  1.25s/stock]"
          ]
        },
        {
          "metadata": {
            "tags": null
          },
          "name": "stdout",
          "output_type": "stream",
          "text": [
            "Error retrieving data for 삼양식품 (A003230): '종가'\n"
          ]
        },
        {
          "metadata": {
            "tags": null
          },
          "name": "stderr",
          "output_type": "stream",
          "text": [
            "\rProgress:  38%|███▊      | 757/2000 [16:03<25:49,  1.25s/stock]"
          ]
        },
        {
          "metadata": {
            "tags": null
          },
          "name": "stdout",
          "output_type": "stream",
          "text": [
            "Error retrieving data for 삼양옵틱스 (A225190): '종가'\n"
          ]
        },
        {
          "metadata": {
            "tags": null
          },
          "name": "stderr",
          "output_type": "stream",
          "text": [
            "\rProgress:  38%|███▊      | 758/2000 [16:04<25:46,  1.25s/stock]"
          ]
        },
        {
          "metadata": {
            "tags": null
          },
          "name": "stdout",
          "output_type": "stream",
          "text": [
            "Error retrieving data for 삼양통상 (A002170): '종가'\n"
          ]
        },
        {
          "metadata": {
            "tags": null
          },
          "name": "stderr",
          "output_type": "stream",
          "text": [
            "\rProgress:  38%|███▊      | 759/2000 [16:05<25:41,  1.24s/stock]"
          ]
        },
        {
          "metadata": {
            "tags": null
          },
          "name": "stdout",
          "output_type": "stream",
          "text": [
            "Error retrieving data for 삼양패키징 (A272550): '종가'\n"
          ]
        },
        {
          "metadata": {
            "tags": null
          },
          "name": "stderr",
          "output_type": "stream",
          "text": [
            "\rProgress:  38%|███▊      | 760/2000 [16:06<25:39,  1.24s/stock]"
          ]
        },
        {
          "metadata": {
            "tags": null
          },
          "name": "stdout",
          "output_type": "stream",
          "text": [
            "Error retrieving data for 삼양홀딩스 (A000070): '종가'\n"
          ]
        },
        {
          "metadata": {
            "tags": null
          },
          "name": "stderr",
          "output_type": "stream",
          "text": [
            "\rProgress:  38%|███▊      | 761/2000 [16:08<25:36,  1.24s/stock]"
          ]
        },
        {
          "metadata": {
            "tags": null
          },
          "name": "stdout",
          "output_type": "stream",
          "text": [
            "Error retrieving data for 삼영 (A003720): '종가'\n"
          ]
        },
        {
          "metadata": {
            "tags": null
          },
          "name": "stderr",
          "output_type": "stream",
          "text": [
            "\rProgress:  38%|███▊      | 762/2000 [16:09<25:34,  1.24s/stock]"
          ]
        },
        {
          "metadata": {
            "tags": null
          },
          "name": "stdout",
          "output_type": "stream",
          "text": [
            "Error retrieving data for 삼영무역 (A002810): '종가'\n"
          ]
        },
        {
          "metadata": {
            "tags": null
          },
          "name": "stderr",
          "output_type": "stream",
          "text": [
            "\rProgress:  38%|███▊      | 763/2000 [16:10<25:32,  1.24s/stock]"
          ]
        },
        {
          "metadata": {
            "tags": null
          },
          "name": "stdout",
          "output_type": "stream",
          "text": [
            "Error retrieving data for 삼영엠텍 (A054540): '종가'\n"
          ]
        },
        {
          "metadata": {
            "tags": null
          },
          "name": "stderr",
          "output_type": "stream",
          "text": [
            "\rProgress:  38%|███▊      | 764/2000 [16:11<25:30,  1.24s/stock]"
          ]
        },
        {
          "metadata": {
            "tags": null
          },
          "name": "stdout",
          "output_type": "stream",
          "text": [
            "Error retrieving data for 삼영전자 (A005680): '종가'\n"
          ]
        },
        {
          "metadata": {
            "tags": null
          },
          "name": "stderr",
          "output_type": "stream",
          "text": [
            "\rProgress:  38%|███▊      | 765/2000 [16:13<25:38,  1.25s/stock]"
          ]
        },
        {
          "metadata": {
            "tags": null
          },
          "name": "stdout",
          "output_type": "stream",
          "text": [
            "Error retrieving data for 삼원강재 (A023000): '종가'\n"
          ]
        },
        {
          "metadata": {
            "tags": null
          },
          "name": "stderr",
          "output_type": "stream",
          "text": [
            "\rProgress:  38%|███▊      | 766/2000 [16:14<25:38,  1.25s/stock]"
          ]
        },
        {
          "metadata": {
            "tags": null
          },
          "name": "stdout",
          "output_type": "stream",
          "text": [
            "Error retrieving data for 삼익THK (A004380): '종가'\n"
          ]
        },
        {
          "metadata": {
            "tags": null
          },
          "name": "stderr",
          "output_type": "stream",
          "text": [
            "\rProgress:  38%|███▊      | 767/2000 [16:15<27:31,  1.34s/stock]"
          ]
        },
        {
          "metadata": {
            "tags": null
          },
          "name": "stdout",
          "output_type": "stream",
          "text": [
            "Error retrieving data for 삼익악기 (A002450): '종가'\n"
          ]
        },
        {
          "metadata": {
            "tags": null
          },
          "name": "stderr",
          "output_type": "stream",
          "text": [
            "\rProgress:  38%|███▊      | 768/2000 [16:17<27:00,  1.32s/stock]"
          ]
        },
        {
          "metadata": {
            "tags": null
          },
          "name": "stdout",
          "output_type": "stream",
          "text": [
            "Error retrieving data for 삼일기업공사 (A002290): '종가'\n"
          ]
        },
        {
          "metadata": {
            "tags": null
          },
          "name": "stderr",
          "output_type": "stream",
          "text": [
            "\rProgress:  38%|███▊      | 769/2000 [16:18<26:31,  1.29s/stock]"
          ]
        },
        {
          "metadata": {
            "tags": null
          },
          "name": "stdout",
          "output_type": "stream",
          "text": [
            "Error retrieving data for 삼일씨엔에스 (A004440): '종가'\n"
          ]
        },
        {
          "metadata": {
            "tags": null
          },
          "name": "stderr",
          "output_type": "stream",
          "text": [
            "\rProgress:  38%|███▊      | 770/2000 [16:19<26:06,  1.27s/stock]"
          ]
        },
        {
          "metadata": {
            "tags": null
          },
          "name": "stdout",
          "output_type": "stream",
          "text": [
            "Error retrieving data for 삼일제약 (A000520): '종가'\n"
          ]
        },
        {
          "metadata": {
            "tags": null
          },
          "name": "stderr",
          "output_type": "stream",
          "text": [
            "\rProgress:  39%|███▊      | 771/2000 [16:20<26:21,  1.29s/stock]"
          ]
        },
        {
          "metadata": {
            "tags": null
          },
          "name": "stdout",
          "output_type": "stream",
          "text": [
            "Error retrieving data for 삼정펄프 (A009770): '종가'\n"
          ]
        },
        {
          "metadata": {
            "tags": null
          },
          "name": "stderr",
          "output_type": "stream",
          "text": [
            "\rProgress:  39%|███▊      | 772/2000 [16:22<26:09,  1.28s/stock]"
          ]
        },
        {
          "metadata": {
            "tags": null
          },
          "name": "stdout",
          "output_type": "stream",
          "text": [
            "Error retrieving data for 삼지전자 (A037460): '종가'\n"
          ]
        },
        {
          "metadata": {
            "tags": null
          },
          "name": "stderr",
          "output_type": "stream",
          "text": [
            "\rProgress:  39%|███▊      | 773/2000 [16:23<25:52,  1.27s/stock]"
          ]
        },
        {
          "metadata": {
            "tags": null
          },
          "name": "stdout",
          "output_type": "stream",
          "text": [
            "Error retrieving data for 삼진 (A032750): '종가'\n"
          ]
        },
        {
          "metadata": {
            "tags": null
          },
          "name": "stderr",
          "output_type": "stream",
          "text": [
            "\rProgress:  39%|███▊      | 774/2000 [16:24<25:38,  1.26s/stock]"
          ]
        },
        {
          "metadata": {
            "tags": null
          },
          "name": "stdout",
          "output_type": "stream",
          "text": [
            "Error retrieving data for 삼진엘앤디 (A054090): '종가'\n"
          ]
        },
        {
          "metadata": {
            "tags": null
          },
          "name": "stderr",
          "output_type": "stream",
          "text": [
            "\rProgress:  39%|███▉      | 775/2000 [16:25<25:29,  1.25s/stock]"
          ]
        },
        {
          "metadata": {
            "tags": null
          },
          "name": "stdout",
          "output_type": "stream",
          "text": [
            "Error retrieving data for 삼진제약 (A005500): '종가'\n"
          ]
        },
        {
          "metadata": {
            "tags": null
          },
          "name": "stderr",
          "output_type": "stream",
          "text": [
            "\rProgress:  39%|███▉      | 776/2000 [16:27<25:32,  1.25s/stock]"
          ]
        },
        {
          "metadata": {
            "tags": null
          },
          "name": "stdout",
          "output_type": "stream",
          "text": [
            "Error retrieving data for 삼천당제약 (A000250): '종가'\n"
          ]
        },
        {
          "metadata": {
            "tags": null
          },
          "name": "stderr",
          "output_type": "stream",
          "text": [
            "\rProgress:  39%|███▉      | 777/2000 [16:28<25:24,  1.25s/stock]"
          ]
        },
        {
          "metadata": {
            "tags": null
          },
          "name": "stdout",
          "output_type": "stream",
          "text": [
            "Error retrieving data for 삼천리 (A004690): '종가'\n"
          ]
        },
        {
          "metadata": {
            "tags": null
          },
          "name": "stderr",
          "output_type": "stream",
          "text": [
            "\rProgress:  39%|███▉      | 778/2000 [16:29<25:31,  1.25s/stock]"
          ]
        },
        {
          "metadata": {
            "tags": null
          },
          "name": "stdout",
          "output_type": "stream",
          "text": [
            "Error retrieving data for 삼천리자전거 (A024950): '종가'\n"
          ]
        },
        {
          "metadata": {
            "tags": null
          },
          "name": "stderr",
          "output_type": "stream",
          "text": [
            "\rProgress:  39%|███▉      | 779/2000 [16:30<25:27,  1.25s/stock]"
          ]
        },
        {
          "metadata": {
            "tags": null
          },
          "name": "stdout",
          "output_type": "stream",
          "text": [
            "Error retrieving data for 삼표시멘트 (A038500): '종가'\n"
          ]
        },
        {
          "metadata": {
            "tags": null
          },
          "name": "stderr",
          "output_type": "stream",
          "text": [
            "\rProgress:  39%|███▉      | 780/2000 [16:32<25:21,  1.25s/stock]"
          ]
        },
        {
          "metadata": {
            "tags": null
          },
          "name": "stdout",
          "output_type": "stream",
          "text": [
            "Error retrieving data for 삼현철강 (A017480): '종가'\n"
          ]
        },
        {
          "metadata": {
            "tags": null
          },
          "name": "stderr",
          "output_type": "stream",
          "text": [
            "\rProgress:  39%|███▉      | 781/2000 [16:33<25:16,  1.24s/stock]"
          ]
        },
        {
          "metadata": {
            "tags": null
          },
          "name": "stdout",
          "output_type": "stream",
          "text": [
            "Error retrieving data for 삼호개발 (A010960): '종가'\n"
          ]
        },
        {
          "metadata": {
            "tags": null
          },
          "name": "stderr",
          "output_type": "stream",
          "text": [
            "\rProgress:  39%|███▉      | 782/2000 [16:34<25:13,  1.24s/stock]"
          ]
        },
        {
          "metadata": {
            "tags": null
          },
          "name": "stdout",
          "output_type": "stream",
          "text": [
            "Error retrieving data for 삼화네트웍스 (A046390): '종가'\n"
          ]
        },
        {
          "metadata": {
            "tags": null
          },
          "name": "stderr",
          "output_type": "stream",
          "text": [
            "\rProgress:  39%|███▉      | 783/2000 [16:35<25:31,  1.26s/stock]"
          ]
        },
        {
          "metadata": {
            "tags": null
          },
          "name": "stdout",
          "output_type": "stream",
          "text": [
            "Error retrieving data for 삼화왕관 (A004450): '종가'\n"
          ]
        },
        {
          "metadata": {
            "tags": null
          },
          "name": "stderr",
          "output_type": "stream",
          "text": [
            "\rProgress:  39%|███▉      | 784/2000 [16:37<25:43,  1.27s/stock]"
          ]
        },
        {
          "metadata": {
            "tags": null
          },
          "name": "stdout",
          "output_type": "stream",
          "text": [
            "Error retrieving data for 삼화전기 (A009470): '종가'\n"
          ]
        },
        {
          "metadata": {
            "tags": null
          },
          "name": "stderr",
          "output_type": "stream",
          "text": [
            "\rProgress:  39%|███▉      | 785/2000 [16:38<25:56,  1.28s/stock]"
          ]
        },
        {
          "metadata": {
            "tags": null
          },
          "name": "stdout",
          "output_type": "stream",
          "text": [
            "Error retrieving data for 삼화전자 (A011230): '종가'\n"
          ]
        },
        {
          "metadata": {
            "tags": null
          },
          "name": "stderr",
          "output_type": "stream",
          "text": [
            "\rProgress:  39%|███▉      | 786/2000 [16:39<25:47,  1.27s/stock]"
          ]
        },
        {
          "metadata": {
            "tags": null
          },
          "name": "stdout",
          "output_type": "stream",
          "text": [
            "Error retrieving data for 삼화콘덴서 (A001820): '종가'\n"
          ]
        },
        {
          "metadata": {
            "tags": null
          },
          "name": "stderr",
          "output_type": "stream",
          "text": [
            "\rProgress:  39%|███▉      | 787/2000 [16:41<25:42,  1.27s/stock]"
          ]
        },
        {
          "metadata": {
            "tags": null
          },
          "name": "stdout",
          "output_type": "stream",
          "text": [
            "Error retrieving data for 삼화페인트 (A000390): '종가'\n"
          ]
        },
        {
          "metadata": {
            "tags": null
          },
          "name": "stderr",
          "output_type": "stream",
          "text": [
            "\rProgress:  39%|███▉      | 788/2000 [16:42<25:43,  1.27s/stock]"
          ]
        },
        {
          "metadata": {
            "tags": null
          },
          "name": "stdout",
          "output_type": "stream",
          "text": [
            "Error retrieving data for 상보 (A027580): '종가'\n"
          ]
        },
        {
          "metadata": {
            "tags": null
          },
          "name": "stderr",
          "output_type": "stream",
          "text": [
            "\rProgress:  39%|███▉      | 789/2000 [16:43<25:54,  1.28s/stock]"
          ]
        },
        {
          "metadata": {
            "tags": null
          },
          "name": "stdout",
          "output_type": "stream",
          "text": [
            "Error retrieving data for 상상인 (A038540): '종가'\n"
          ]
        },
        {
          "metadata": {
            "tags": null
          },
          "name": "stderr",
          "output_type": "stream",
          "text": [
            "\rProgress:  40%|███▉      | 790/2000 [16:44<25:50,  1.28s/stock]"
          ]
        },
        {
          "metadata": {
            "tags": null
          },
          "name": "stdout",
          "output_type": "stream",
          "text": [
            "Error retrieving data for 상상인증권 (A001290): '종가'\n"
          ]
        },
        {
          "metadata": {
            "tags": null
          },
          "name": "stderr",
          "output_type": "stream",
          "text": [
            "\rProgress:  40%|███▉      | 791/2000 [16:46<25:41,  1.27s/stock]"
          ]
        },
        {
          "metadata": {
            "tags": null
          },
          "name": "stdout",
          "output_type": "stream",
          "text": [
            "Error retrieving data for 상신브레이크 (A041650): '종가'\n"
          ]
        },
        {
          "metadata": {
            "tags": null
          },
          "name": "stderr",
          "output_type": "stream",
          "text": [
            "\rProgress:  40%|███▉      | 792/2000 [16:47<25:41,  1.28s/stock]"
          ]
        },
        {
          "metadata": {
            "tags": null
          },
          "name": "stdout",
          "output_type": "stream",
          "text": [
            "Error retrieving data for 상신이디피 (A091580): '종가'\n"
          ]
        },
        {
          "metadata": {
            "tags": null
          },
          "name": "stderr",
          "output_type": "stream",
          "text": [
            "\rProgress:  40%|███▉      | 793/2000 [16:48<25:31,  1.27s/stock]"
          ]
        },
        {
          "metadata": {
            "tags": null
          },
          "name": "stdout",
          "output_type": "stream",
          "text": [
            "Error retrieving data for 상신전자 (A263810): '종가'\n"
          ]
        },
        {
          "metadata": {
            "tags": null
          },
          "name": "stderr",
          "output_type": "stream",
          "text": [
            "\rProgress:  40%|███▉      | 794/2000 [16:49<25:37,  1.27s/stock]"
          ]
        },
        {
          "metadata": {
            "tags": null
          },
          "name": "stdout",
          "output_type": "stream",
          "text": [
            "Error retrieving data for 상아프론테크 (A089980): '종가'\n"
          ]
        },
        {
          "metadata": {
            "tags": null
          },
          "name": "stderr",
          "output_type": "stream",
          "text": [
            "\rProgress:  40%|███▉      | 795/2000 [16:51<25:40,  1.28s/stock]"
          ]
        },
        {
          "metadata": {
            "tags": null
          },
          "name": "stdout",
          "output_type": "stream",
          "text": [
            "Error retrieving data for 상지카일룸 (A042940): '종가'\n"
          ]
        },
        {
          "metadata": {
            "tags": null
          },
          "name": "stderr",
          "output_type": "stream",
          "text": [
            "\rProgress:  40%|███▉      | 796/2000 [16:52<25:47,  1.29s/stock]"
          ]
        },
        {
          "metadata": {
            "tags": null
          },
          "name": "stdout",
          "output_type": "stream",
          "text": [
            "Error retrieving data for 새로닉스 (A042600): '종가'\n"
          ]
        },
        {
          "metadata": {
            "tags": null
          },
          "name": "stderr",
          "output_type": "stream",
          "text": [
            "\rProgress:  40%|███▉      | 797/2000 [16:53<25:54,  1.29s/stock]"
          ]
        },
        {
          "metadata": {
            "tags": null
          },
          "name": "stdout",
          "output_type": "stream",
          "text": [
            "Error retrieving data for 새론오토모티브 (A075180): '종가'\n"
          ]
        },
        {
          "metadata": {
            "tags": null
          },
          "name": "stderr",
          "output_type": "stream",
          "text": [
            "\rProgress:  40%|███▉      | 798/2000 [16:55<25:57,  1.30s/stock]"
          ]
        },
        {
          "metadata": {
            "tags": null
          },
          "name": "stdout",
          "output_type": "stream",
          "text": [
            "Error retrieving data for 샘씨엔에스 (A252990): '종가'\n"
          ]
        },
        {
          "metadata": {
            "tags": null
          },
          "name": "stderr",
          "output_type": "stream",
          "text": [
            "\rProgress:  40%|███▉      | 799/2000 [16:56<25:55,  1.30s/stock]"
          ]
        },
        {
          "metadata": {
            "tags": null
          },
          "name": "stdout",
          "output_type": "stream",
          "text": [
            "Error retrieving data for 샘표 (A007540): '종가'\n"
          ]
        },
        {
          "metadata": {
            "tags": null
          },
          "name": "stderr",
          "output_type": "stream",
          "text": [
            "\rProgress:  40%|████      | 800/2000 [16:57<25:47,  1.29s/stock]"
          ]
        },
        {
          "metadata": {
            "tags": null
          },
          "name": "stdout",
          "output_type": "stream",
          "text": [
            "Error retrieving data for 샘표식품 (A248170): '종가'\n"
          ]
        },
        {
          "metadata": {
            "tags": null
          },
          "name": "stderr",
          "output_type": "stream",
          "text": [
            "\rProgress:  40%|████      | 801/2000 [16:58<25:37,  1.28s/stock]"
          ]
        },
        {
          "metadata": {
            "tags": null
          },
          "name": "stdout",
          "output_type": "stream",
          "text": [
            "Error retrieving data for 서남 (A294630): '종가'\n"
          ]
        },
        {
          "metadata": {
            "tags": null
          },
          "name": "stderr",
          "output_type": "stream",
          "text": [
            "\rProgress:  40%|████      | 802/2000 [17:00<25:46,  1.29s/stock]"
          ]
        },
        {
          "metadata": {
            "tags": null
          },
          "name": "stdout",
          "output_type": "stream",
          "text": [
            "Error retrieving data for 서린바이오 (A038070): '종가'\n"
          ]
        },
        {
          "metadata": {
            "tags": null
          },
          "name": "stderr",
          "output_type": "stream",
          "text": [
            "\rProgress:  40%|████      | 803/2000 [17:01<25:37,  1.28s/stock]"
          ]
        },
        {
          "metadata": {
            "tags": null
          },
          "name": "stdout",
          "output_type": "stream",
          "text": [
            "Error retrieving data for 서부T&D (A006730): '종가'\n"
          ]
        },
        {
          "metadata": {
            "tags": null
          },
          "name": "stderr",
          "output_type": "stream",
          "text": [
            "\rProgress:  40%|████      | 804/2000 [17:02<25:22,  1.27s/stock]"
          ]
        },
        {
          "metadata": {
            "tags": null
          },
          "name": "stdout",
          "output_type": "stream",
          "text": [
            "Error retrieving data for 서암기계공업 (A100660): '종가'\n"
          ]
        },
        {
          "metadata": {
            "tags": null
          },
          "name": "stderr",
          "output_type": "stream",
          "text": [
            "\rProgress:  40%|████      | 805/2000 [17:04<25:10,  1.26s/stock]"
          ]
        },
        {
          "metadata": {
            "tags": null
          },
          "name": "stdout",
          "output_type": "stream",
          "text": [
            "Error retrieving data for 서연 (A007860): '종가'\n"
          ]
        },
        {
          "metadata": {
            "tags": null
          },
          "name": "stderr",
          "output_type": "stream",
          "text": [
            "\rProgress:  40%|████      | 806/2000 [17:05<25:03,  1.26s/stock]"
          ]
        },
        {
          "metadata": {
            "tags": null
          },
          "name": "stdout",
          "output_type": "stream",
          "text": [
            "Error retrieving data for 서연이화 (A200880): '종가'\n"
          ]
        },
        {
          "metadata": {
            "tags": null
          },
          "name": "stderr",
          "output_type": "stream",
          "text": [
            "\rProgress:  40%|████      | 807/2000 [17:06<24:53,  1.25s/stock]"
          ]
        },
        {
          "metadata": {
            "tags": null
          },
          "name": "stdout",
          "output_type": "stream",
          "text": [
            "Error retrieving data for 서연탑메탈 (A019770): '종가'\n"
          ]
        },
        {
          "metadata": {
            "tags": null
          },
          "name": "stderr",
          "output_type": "stream",
          "text": [
            "\rProgress:  40%|████      | 808/2000 [17:07<24:49,  1.25s/stock]"
          ]
        },
        {
          "metadata": {
            "tags": null
          },
          "name": "stdout",
          "output_type": "stream",
          "text": [
            "Error retrieving data for 서울가스 (A017390): '종가'\n"
          ]
        },
        {
          "metadata": {
            "tags": null
          },
          "name": "stderr",
          "output_type": "stream",
          "text": [
            "\rProgress:  40%|████      | 809/2000 [17:09<24:45,  1.25s/stock]"
          ]
        },
        {
          "metadata": {
            "tags": null
          },
          "name": "stdout",
          "output_type": "stream",
          "text": [
            "Error retrieving data for 서울바이오시스 (A092190): '종가'\n"
          ]
        },
        {
          "metadata": {
            "tags": null
          },
          "name": "stderr",
          "output_type": "stream",
          "text": [
            "\rProgress:  40%|████      | 810/2000 [17:10<24:52,  1.25s/stock]"
          ]
        },
        {
          "metadata": {
            "tags": null
          },
          "name": "stdout",
          "output_type": "stream",
          "text": [
            "Error retrieving data for 서울반도체 (A046890): '종가'\n"
          ]
        },
        {
          "metadata": {
            "tags": null
          },
          "name": "stderr",
          "output_type": "stream",
          "text": [
            "\rProgress:  41%|████      | 811/2000 [17:11<24:45,  1.25s/stock]"
          ]
        },
        {
          "metadata": {
            "tags": null
          },
          "name": "stdout",
          "output_type": "stream",
          "text": [
            "Error retrieving data for 서울식품 (A004410): '종가'\n"
          ]
        },
        {
          "metadata": {
            "tags": null
          },
          "name": "stderr",
          "output_type": "stream",
          "text": [
            "\rProgress:  41%|████      | 812/2000 [17:12<24:54,  1.26s/stock]"
          ]
        },
        {
          "metadata": {
            "tags": null
          },
          "name": "stdout",
          "output_type": "stream",
          "text": [
            "Error retrieving data for 서울옥션 (A063170): '종가'\n"
          ]
        },
        {
          "metadata": {
            "tags": null
          },
          "name": "stderr",
          "output_type": "stream",
          "text": [
            "\rProgress:  41%|████      | 813/2000 [17:14<24:48,  1.25s/stock]"
          ]
        },
        {
          "metadata": {
            "tags": null
          },
          "name": "stdout",
          "output_type": "stream",
          "text": [
            "Error retrieving data for 서울제약 (A018680): '종가'\n"
          ]
        },
        {
          "metadata": {
            "tags": null
          },
          "name": "stderr",
          "output_type": "stream",
          "text": [
            "\rProgress:  41%|████      | 814/2000 [17:15<24:42,  1.25s/stock]"
          ]
        },
        {
          "metadata": {
            "tags": null
          },
          "name": "stdout",
          "output_type": "stream",
          "text": [
            "Error retrieving data for 서원 (A021050): '종가'\n"
          ]
        },
        {
          "metadata": {
            "tags": null
          },
          "name": "stderr",
          "output_type": "stream",
          "text": [
            "\rProgress:  41%|████      | 815/2000 [17:16<25:17,  1.28s/stock]"
          ]
        },
        {
          "metadata": {
            "tags": null
          },
          "name": "stdout",
          "output_type": "stream",
          "text": [
            "Error retrieving data for 서원인텍 (A093920): '종가'\n"
          ]
        },
        {
          "metadata": {
            "tags": null
          },
          "name": "stderr",
          "output_type": "stream",
          "text": [
            "\rProgress:  41%|████      | 816/2000 [17:17<25:11,  1.28s/stock]"
          ]
        },
        {
          "metadata": {
            "tags": null
          },
          "name": "stdout",
          "output_type": "stream",
          "text": [
            "Error retrieving data for 서전기전 (A189860): '종가'\n"
          ]
        },
        {
          "metadata": {
            "tags": null
          },
          "name": "stderr",
          "output_type": "stream",
          "text": [
            "\rProgress:  41%|████      | 817/2000 [17:19<25:00,  1.27s/stock]"
          ]
        },
        {
          "metadata": {
            "tags": null
          },
          "name": "stdout",
          "output_type": "stream",
          "text": [
            "Error retrieving data for 서진시스템 (A178320): '종가'\n"
          ]
        },
        {
          "metadata": {
            "tags": null
          },
          "name": "stderr",
          "output_type": "stream",
          "text": [
            "\rProgress:  41%|████      | 818/2000 [17:20<25:01,  1.27s/stock]"
          ]
        },
        {
          "metadata": {
            "tags": null
          },
          "name": "stdout",
          "output_type": "stream",
          "text": [
            "Error retrieving data for 서진오토모티브 (A122690): '종가'\n"
          ]
        },
        {
          "metadata": {
            "tags": null
          },
          "name": "stderr",
          "output_type": "stream",
          "text": [
            "\rProgress:  41%|████      | 819/2000 [17:21<24:54,  1.27s/stock]"
          ]
        },
        {
          "metadata": {
            "tags": null
          },
          "name": "stdout",
          "output_type": "stream",
          "text": [
            "Error retrieving data for 서플러스글로벌 (A140070): '종가'\n"
          ]
        },
        {
          "metadata": {
            "tags": null
          },
          "name": "stderr",
          "output_type": "stream",
          "text": [
            "\rProgress:  41%|████      | 820/2000 [17:22<24:48,  1.26s/stock]"
          ]
        },
        {
          "metadata": {
            "tags": null
          },
          "name": "stdout",
          "output_type": "stream",
          "text": [
            "Error retrieving data for 서한 (A011370): '종가'\n"
          ]
        },
        {
          "metadata": {
            "tags": null
          },
          "name": "stderr",
          "output_type": "stream",
          "text": [
            "\rProgress:  41%|████      | 821/2000 [17:24<24:47,  1.26s/stock]"
          ]
        },
        {
          "metadata": {
            "tags": null
          },
          "name": "stdout",
          "output_type": "stream",
          "text": [
            "Error retrieving data for 서호전기 (A065710): '종가'\n"
          ]
        },
        {
          "metadata": {
            "tags": null
          },
          "name": "stderr",
          "output_type": "stream",
          "text": [
            "\rProgress:  41%|████      | 822/2000 [17:25<24:54,  1.27s/stock]"
          ]
        },
        {
          "metadata": {
            "tags": null
          },
          "name": "stdout",
          "output_type": "stream",
          "text": [
            "Error retrieving data for 서흥 (A008490): '종가'\n"
          ]
        },
        {
          "metadata": {
            "tags": null
          },
          "name": "stderr",
          "output_type": "stream",
          "text": [
            "\rProgress:  41%|████      | 823/2000 [17:26<25:00,  1.27s/stock]"
          ]
        },
        {
          "metadata": {
            "tags": null
          },
          "name": "stdout",
          "output_type": "stream",
          "text": [
            "Error retrieving data for 서희건설 (A035890): '종가'\n"
          ]
        },
        {
          "metadata": {
            "tags": null
          },
          "name": "stderr",
          "output_type": "stream",
          "text": [
            "\rProgress:  41%|████      | 824/2000 [17:28<24:48,  1.27s/stock]"
          ]
        },
        {
          "metadata": {
            "tags": null
          },
          "name": "stdout",
          "output_type": "stream",
          "text": [
            "Error retrieving data for 석경에이티 (A357550): '종가'\n"
          ]
        },
        {
          "metadata": {
            "tags": null
          },
          "name": "stderr",
          "output_type": "stream",
          "text": [
            "\rProgress:  41%|████▏     | 825/2000 [17:29<24:40,  1.26s/stock]"
          ]
        },
        {
          "metadata": {
            "tags": null
          },
          "name": "stdout",
          "output_type": "stream",
          "text": [
            "Error retrieving data for 선광 (A003100): '종가'\n"
          ]
        },
        {
          "metadata": {
            "tags": null
          },
          "name": "stderr",
          "output_type": "stream",
          "text": [
            "\rProgress:  41%|████▏     | 826/2000 [17:30<24:35,  1.26s/stock]"
          ]
        },
        {
          "metadata": {
            "tags": null
          },
          "name": "stdout",
          "output_type": "stream",
          "text": [
            "Error retrieving data for 선도전기 (A007610): '종가'\n"
          ]
        },
        {
          "metadata": {
            "tags": null
          },
          "name": "stderr",
          "output_type": "stream",
          "text": [
            "\rProgress:  41%|████▏     | 827/2000 [17:31<24:33,  1.26s/stock]"
          ]
        },
        {
          "metadata": {
            "tags": null
          },
          "name": "stdout",
          "output_type": "stream",
          "text": [
            "Error retrieving data for 선바이오 (A067370): '종가'\n"
          ]
        },
        {
          "metadata": {
            "tags": null
          },
          "name": "stderr",
          "output_type": "stream",
          "text": [
            "\rProgress:  41%|████▏     | 828/2000 [17:33<24:43,  1.27s/stock]"
          ]
        },
        {
          "metadata": {
            "tags": null
          },
          "name": "stdout",
          "output_type": "stream",
          "text": [
            "Error retrieving data for 선익시스템 (A171090): '종가'\n"
          ]
        },
        {
          "metadata": {
            "tags": null
          },
          "name": "stderr",
          "output_type": "stream",
          "text": [
            "\rProgress:  41%|████▏     | 829/2000 [17:34<24:40,  1.26s/stock]"
          ]
        },
        {
          "metadata": {
            "tags": null
          },
          "name": "stdout",
          "output_type": "stream",
          "text": [
            "Error retrieving data for 선진 (A136490): '종가'\n"
          ]
        },
        {
          "metadata": {
            "tags": null
          },
          "name": "stderr",
          "output_type": "stream",
          "text": [
            "\rProgress:  42%|████▏     | 830/2000 [17:35<24:34,  1.26s/stock]"
          ]
        },
        {
          "metadata": {
            "tags": null
          },
          "name": "stdout",
          "output_type": "stream",
          "text": [
            "Error retrieving data for 선진뷰티사이언스 (A086710): '종가'\n"
          ]
        },
        {
          "metadata": {
            "tags": null
          },
          "name": "stderr",
          "output_type": "stream",
          "text": [
            "\rProgress:  42%|████▏     | 831/2000 [17:36<24:46,  1.27s/stock]"
          ]
        },
        {
          "metadata": {
            "tags": null
          },
          "name": "stdout",
          "output_type": "stream",
          "text": [
            "Error retrieving data for 성광벤드 (A014620): '종가'\n"
          ]
        },
        {
          "metadata": {
            "tags": null
          },
          "name": "stderr",
          "output_type": "stream",
          "text": [
            "\rProgress:  42%|████▏     | 832/2000 [17:38<24:34,  1.26s/stock]"
          ]
        },
        {
          "metadata": {
            "tags": null
          },
          "name": "stdout",
          "output_type": "stream",
          "text": [
            "Error retrieving data for 성도이엔지 (A037350): '종가'\n"
          ]
        },
        {
          "metadata": {
            "tags": null
          },
          "name": "stderr",
          "output_type": "stream",
          "text": [
            "\rProgress:  42%|████▏     | 833/2000 [17:39<24:25,  1.26s/stock]"
          ]
        },
        {
          "metadata": {
            "tags": null
          },
          "name": "stdout",
          "output_type": "stream",
          "text": [
            "Error retrieving data for 성문전자 (A014910): '종가'\n"
          ]
        },
        {
          "metadata": {
            "tags": null
          },
          "name": "stderr",
          "output_type": "stream",
          "text": [
            "\rProgress:  42%|████▏     | 834/2000 [17:40<24:28,  1.26s/stock]"
          ]
        },
        {
          "metadata": {
            "tags": null
          },
          "name": "stdout",
          "output_type": "stream",
          "text": [
            "Error retrieving data for 성보화학 (A003080): '종가'\n"
          ]
        },
        {
          "metadata": {
            "tags": null
          },
          "name": "stderr",
          "output_type": "stream",
          "text": [
            "\rProgress:  42%|████▏     | 835/2000 [17:41<24:25,  1.26s/stock]"
          ]
        },
        {
          "metadata": {
            "tags": null
          },
          "name": "stdout",
          "output_type": "stream",
          "text": [
            "Error retrieving data for 성신양회 (A004980): '종가'\n"
          ]
        },
        {
          "metadata": {
            "tags": null
          },
          "name": "stderr",
          "output_type": "stream",
          "text": [
            "\rProgress:  42%|████▏     | 836/2000 [17:43<24:16,  1.25s/stock]"
          ]
        },
        {
          "metadata": {
            "tags": null
          },
          "name": "stdout",
          "output_type": "stream",
          "text": [
            "Error retrieving data for 성안 (A011300): '종가'\n"
          ]
        },
        {
          "metadata": {
            "tags": null
          },
          "name": "stderr",
          "output_type": "stream",
          "text": [
            "\rProgress:  42%|████▏     | 837/2000 [17:44<24:10,  1.25s/stock]"
          ]
        },
        {
          "metadata": {
            "tags": null
          },
          "name": "stdout",
          "output_type": "stream",
          "text": [
            "Error retrieving data for 성우전자 (A081580): '종가'\n"
          ]
        },
        {
          "metadata": {
            "tags": null
          },
          "name": "stderr",
          "output_type": "stream",
          "text": [
            "\rProgress:  42%|████▏     | 838/2000 [17:45<24:31,  1.27s/stock]"
          ]
        },
        {
          "metadata": {
            "tags": null
          },
          "name": "stdout",
          "output_type": "stream",
          "text": [
            "Error retrieving data for 성우테크론 (A045300): '종가'\n"
          ]
        },
        {
          "metadata": {
            "tags": null
          },
          "name": "stderr",
          "output_type": "stream",
          "text": [
            "\rProgress:  42%|████▏     | 839/2000 [17:46<24:21,  1.26s/stock]"
          ]
        },
        {
          "metadata": {
            "tags": null
          },
          "name": "stdout",
          "output_type": "stream",
          "text": [
            "Error retrieving data for 성우하이텍 (A015750): '종가'\n"
          ]
        },
        {
          "metadata": {
            "tags": null
          },
          "name": "stderr",
          "output_type": "stream",
          "text": [
            "\rProgress:  42%|████▏     | 840/2000 [17:48<24:11,  1.25s/stock]"
          ]
        },
        {
          "metadata": {
            "tags": null
          },
          "name": "stdout",
          "output_type": "stream",
          "text": [
            "Error retrieving data for 성창기업지주 (A000180): '종가'\n"
          ]
        },
        {
          "metadata": {
            "tags": null
          },
          "name": "stderr",
          "output_type": "stream",
          "text": [
            "\rProgress:  42%|████▏     | 841/2000 [17:49<24:12,  1.25s/stock]"
          ]
        },
        {
          "metadata": {
            "tags": null
          },
          "name": "stdout",
          "output_type": "stream",
          "text": [
            "Error retrieving data for 성창오토텍 (A080470): '종가'\n"
          ]
        },
        {
          "metadata": {
            "tags": null
          },
          "name": "stderr",
          "output_type": "stream",
          "text": [
            "\rProgress:  42%|████▏     | 842/2000 [17:50<24:39,  1.28s/stock]"
          ]
        },
        {
          "metadata": {
            "tags": null
          },
          "name": "stdout",
          "output_type": "stream",
          "text": [
            "Error retrieving data for 성호전자 (A043260): '종가'\n"
          ]
        },
        {
          "metadata": {
            "tags": null
          },
          "name": "stderr",
          "output_type": "stream",
          "text": [
            "\rProgress:  42%|████▏     | 843/2000 [17:51<24:23,  1.27s/stock]"
          ]
        },
        {
          "metadata": {
            "tags": null
          },
          "name": "stdout",
          "output_type": "stream",
          "text": [
            "Error retrieving data for 세경하이테크 (A148150): '종가'\n"
          ]
        },
        {
          "metadata": {
            "tags": null
          },
          "name": "stderr",
          "output_type": "stream",
          "text": [
            "\rProgress:  42%|████▏     | 844/2000 [17:53<24:21,  1.26s/stock]"
          ]
        },
        {
          "metadata": {
            "tags": null
          },
          "name": "stdout",
          "output_type": "stream",
          "text": [
            "Error retrieving data for 세림B&G (A340440): '종가'\n"
          ]
        },
        {
          "metadata": {
            "tags": null
          },
          "name": "stderr",
          "output_type": "stream",
          "text": [
            "\rProgress:  42%|████▏     | 845/2000 [17:54<24:11,  1.26s/stock]"
          ]
        },
        {
          "metadata": {
            "tags": null
          },
          "name": "stdout",
          "output_type": "stream",
          "text": [
            "Error retrieving data for 세명전기 (A017510): '종가'\n"
          ]
        },
        {
          "metadata": {
            "tags": null
          },
          "name": "stderr",
          "output_type": "stream",
          "text": [
            "\rProgress:  42%|████▏     | 846/2000 [17:55<24:05,  1.25s/stock]"
          ]
        },
        {
          "metadata": {
            "tags": null
          },
          "name": "stdout",
          "output_type": "stream",
          "text": [
            "Error retrieving data for 세방 (A004360): '종가'\n"
          ]
        },
        {
          "metadata": {
            "tags": null
          },
          "name": "stderr",
          "output_type": "stream",
          "text": [
            "\rProgress:  42%|████▏     | 847/2000 [17:57<24:35,  1.28s/stock]"
          ]
        },
        {
          "metadata": {
            "tags": null
          },
          "name": "stdout",
          "output_type": "stream",
          "text": [
            "Error retrieving data for 세방전지 (A004490): '종가'\n"
          ]
        },
        {
          "metadata": {
            "tags": null
          },
          "name": "stderr",
          "output_type": "stream",
          "text": [
            "\rProgress:  42%|████▏     | 848/2000 [17:58<24:17,  1.26s/stock]"
          ]
        },
        {
          "metadata": {
            "tags": null
          },
          "name": "stdout",
          "output_type": "stream",
          "text": [
            "Error retrieving data for 세보엠이씨 (A011560): '종가'\n"
          ]
        },
        {
          "metadata": {
            "tags": null
          },
          "name": "stderr",
          "output_type": "stream",
          "text": [
            "\rProgress:  42%|████▏     | 849/2000 [17:59<24:06,  1.26s/stock]"
          ]
        },
        {
          "metadata": {
            "tags": null
          },
          "name": "stdout",
          "output_type": "stream",
          "text": [
            "Error retrieving data for 세아베스틸지주 (A001430): '종가'\n"
          ]
        },
        {
          "metadata": {
            "tags": null
          },
          "name": "stderr",
          "output_type": "stream",
          "text": [
            "\rProgress:  42%|████▎     | 850/2000 [18:00<24:00,  1.25s/stock]"
          ]
        },
        {
          "metadata": {
            "tags": null
          },
          "name": "stdout",
          "output_type": "stream",
          "text": [
            "Error retrieving data for 세아제강 (A306200): '종가'\n"
          ]
        },
        {
          "metadata": {
            "tags": null
          },
          "name": "stderr",
          "output_type": "stream",
          "text": [
            "\rProgress:  43%|████▎     | 851/2000 [18:01<23:53,  1.25s/stock]"
          ]
        },
        {
          "metadata": {
            "tags": null
          },
          "name": "stdout",
          "output_type": "stream",
          "text": [
            "Error retrieving data for 세아제강지주 (A003030): '종가'\n"
          ]
        },
        {
          "metadata": {
            "tags": null
          },
          "name": "stderr",
          "output_type": "stream",
          "text": [
            "\rProgress:  43%|████▎     | 852/2000 [18:03<23:50,  1.25s/stock]"
          ]
        },
        {
          "metadata": {
            "tags": null
          },
          "name": "stdout",
          "output_type": "stream",
          "text": [
            "Error retrieving data for 세아특수강 (A019440): '종가'\n"
          ]
        },
        {
          "metadata": {
            "tags": null
          },
          "name": "stderr",
          "output_type": "stream",
          "text": [
            "\rProgress:  43%|████▎     | 853/2000 [18:04<23:44,  1.24s/stock]"
          ]
        },
        {
          "metadata": {
            "tags": null
          },
          "name": "stdout",
          "output_type": "stream",
          "text": [
            "Error retrieving data for 세아홀딩스 (A058650): '종가'\n"
          ]
        },
        {
          "metadata": {
            "tags": null
          },
          "name": "stderr",
          "output_type": "stream",
          "text": [
            "\rProgress:  43%|████▎     | 854/2000 [18:05<23:42,  1.24s/stock]"
          ]
        },
        {
          "metadata": {
            "tags": null
          },
          "name": "stdout",
          "output_type": "stream",
          "text": [
            "Error retrieving data for 세운메디칼 (A100700): '종가'\n"
          ]
        },
        {
          "metadata": {
            "tags": null
          },
          "name": "stderr",
          "output_type": "stream",
          "text": [
            "\rProgress:  43%|████▎     | 855/2000 [18:06<23:48,  1.25s/stock]"
          ]
        },
        {
          "metadata": {
            "tags": null
          },
          "name": "stdout",
          "output_type": "stream",
          "text": [
            "Error retrieving data for 세원물산 (A024830): '종가'\n"
          ]
        },
        {
          "metadata": {
            "tags": null
          },
          "name": "stderr",
          "output_type": "stream",
          "text": [
            "\rProgress:  43%|████▎     | 856/2000 [18:08<23:42,  1.24s/stock]"
          ]
        },
        {
          "metadata": {
            "tags": null
          },
          "name": "stdout",
          "output_type": "stream",
          "text": [
            "Error retrieving data for 세원이앤씨 (A091090): '종가'\n"
          ]
        },
        {
          "metadata": {
            "tags": null
          },
          "name": "stderr",
          "output_type": "stream",
          "text": [
            "\rProgress:  43%|████▎     | 857/2000 [18:09<23:38,  1.24s/stock]"
          ]
        },
        {
          "metadata": {
            "tags": null
          },
          "name": "stdout",
          "output_type": "stream",
          "text": [
            "Error retrieving data for 세원정공 (A021820): '종가'\n"
          ]
        },
        {
          "metadata": {
            "tags": null
          },
          "name": "stderr",
          "output_type": "stream",
          "text": [
            "\rProgress:  43%|████▎     | 858/2000 [18:10<23:38,  1.24s/stock]"
          ]
        },
        {
          "metadata": {
            "tags": null
          },
          "name": "stdout",
          "output_type": "stream",
          "text": [
            "Error retrieving data for 세이브존I&C (A067830): '종가'\n"
          ]
        },
        {
          "metadata": {
            "tags": null
          },
          "name": "stderr",
          "output_type": "stream",
          "text": [
            "\rProgress:  43%|████▎     | 859/2000 [18:11<23:40,  1.25s/stock]"
          ]
        },
        {
          "metadata": {
            "tags": null
          },
          "name": "stdout",
          "output_type": "stream",
          "text": [
            "Error retrieving data for 세종공업 (A033530): '종가'\n"
          ]
        },
        {
          "metadata": {
            "tags": null
          },
          "name": "stderr",
          "output_type": "stream",
          "text": [
            "\rProgress:  43%|████▎     | 860/2000 [18:13<23:37,  1.24s/stock]"
          ]
        },
        {
          "metadata": {
            "tags": null
          },
          "name": "stdout",
          "output_type": "stream",
          "text": [
            "Error retrieving data for 세종메디칼 (A258830): '종가'\n"
          ]
        },
        {
          "metadata": {
            "tags": null
          },
          "name": "stderr",
          "output_type": "stream",
          "text": [
            "\rProgress:  43%|████▎     | 861/2000 [18:14<23:35,  1.24s/stock]"
          ]
        },
        {
          "metadata": {
            "tags": null
          },
          "name": "stdout",
          "output_type": "stream",
          "text": [
            "Error retrieving data for 세종텔레콤 (A036630): '종가'\n"
          ]
        },
        {
          "metadata": {
            "tags": null
          },
          "name": "stderr",
          "output_type": "stream",
          "text": [
            "\rProgress:  43%|████▎     | 862/2000 [18:15<23:32,  1.24s/stock]"
          ]
        },
        {
          "metadata": {
            "tags": null
          },
          "name": "stdout",
          "output_type": "stream",
          "text": [
            "Error retrieving data for 세중 (A039310): '종가'\n"
          ]
        },
        {
          "metadata": {
            "tags": null
          },
          "name": "stderr",
          "output_type": "stream",
          "text": [
            "\rProgress:  43%|████▎     | 863/2000 [18:16<24:04,  1.27s/stock]"
          ]
        },
        {
          "metadata": {
            "tags": null
          },
          "name": "stdout",
          "output_type": "stream",
          "text": [
            "Error retrieving data for 세진중공업 (A075580): '종가'\n"
          ]
        },
        {
          "metadata": {
            "tags": null
          },
          "name": "stderr",
          "output_type": "stream",
          "text": [
            "\rProgress:  43%|████▎     | 864/2000 [18:18<25:23,  1.34s/stock]"
          ]
        },
        {
          "metadata": {
            "tags": null
          },
          "name": "stdout",
          "output_type": "stream",
          "text": [
            "Error retrieving data for 세코닉스 (A053450): '종가'\n"
          ]
        },
        {
          "metadata": {
            "tags": null
          },
          "name": "stderr",
          "output_type": "stream",
          "text": [
            "\rProgress:  43%|████▎     | 865/2000 [18:19<24:46,  1.31s/stock]"
          ]
        },
        {
          "metadata": {
            "tags": null
          },
          "name": "stdout",
          "output_type": "stream",
          "text": [
            "Error retrieving data for 세토피아 (A222810): '종가'\n"
          ]
        },
        {
          "metadata": {
            "tags": null
          },
          "name": "stderr",
          "output_type": "stream",
          "text": [
            "\rProgress:  43%|████▎     | 866/2000 [18:20<24:19,  1.29s/stock]"
          ]
        },
        {
          "metadata": {
            "tags": null
          },
          "name": "stdout",
          "output_type": "stream",
          "text": [
            "Error retrieving data for 세하 (A027970): '종가'\n"
          ]
        },
        {
          "metadata": {
            "tags": null
          },
          "name": "stderr",
          "output_type": "stream",
          "text": [
            "\rProgress:  43%|████▎     | 867/2000 [18:22<24:00,  1.27s/stock]"
          ]
        },
        {
          "metadata": {
            "tags": null
          },
          "name": "stdout",
          "output_type": "stream",
          "text": [
            "Error retrieving data for 세화피앤씨 (A252500): '종가'\n"
          ]
        },
        {
          "metadata": {
            "tags": null
          },
          "name": "stderr",
          "output_type": "stream",
          "text": [
            "\rProgress:  43%|████▎     | 868/2000 [18:23<23:47,  1.26s/stock]"
          ]
        },
        {
          "metadata": {
            "tags": null
          },
          "name": "stdout",
          "output_type": "stream",
          "text": [
            "Error retrieving data for 셀루메드 (A049180): '종가'\n"
          ]
        },
        {
          "metadata": {
            "tags": null
          },
          "name": "stderr",
          "output_type": "stream",
          "text": [
            "\rProgress:  43%|████▎     | 869/2000 [18:24<23:39,  1.25s/stock]"
          ]
        },
        {
          "metadata": {
            "tags": null
          },
          "name": "stdout",
          "output_type": "stream",
          "text": [
            "Error retrieving data for 셀리드 (A299660): '종가'\n"
          ]
        },
        {
          "metadata": {
            "tags": null
          },
          "name": "stderr",
          "output_type": "stream",
          "text": [
            "\rProgress:  44%|████▎     | 870/2000 [18:25<23:28,  1.25s/stock]"
          ]
        },
        {
          "metadata": {
            "tags": null
          },
          "name": "stdout",
          "output_type": "stream",
          "text": [
            "Error retrieving data for 셀리버리 (A268600): '종가'\n"
          ]
        },
        {
          "metadata": {
            "tags": null
          },
          "name": "stderr",
          "output_type": "stream",
          "text": [
            "\rProgress:  44%|████▎     | 871/2000 [18:27<23:25,  1.24s/stock]"
          ]
        },
        {
          "metadata": {
            "tags": null
          },
          "name": "stdout",
          "output_type": "stream",
          "text": [
            "Error retrieving data for 셀바스AI (A108860): '종가'\n"
          ]
        },
        {
          "metadata": {
            "tags": null
          },
          "name": "stderr",
          "output_type": "stream",
          "text": [
            "\rProgress:  44%|████▎     | 872/2000 [18:28<23:22,  1.24s/stock]"
          ]
        },
        {
          "metadata": {
            "tags": null
          },
          "name": "stdout",
          "output_type": "stream",
          "text": [
            "Error retrieving data for 셀바스헬스케어 (A208370): '종가'\n"
          ]
        },
        {
          "metadata": {
            "tags": null
          },
          "name": "stderr",
          "output_type": "stream",
          "text": [
            "\rProgress:  44%|████▎     | 873/2000 [18:29<23:18,  1.24s/stock]"
          ]
        },
        {
          "metadata": {
            "tags": null
          },
          "name": "stdout",
          "output_type": "stream",
          "text": [
            "Error retrieving data for 셀트리온 (A068270): '종가'\n"
          ]
        },
        {
          "metadata": {
            "tags": null
          },
          "name": "stderr",
          "output_type": "stream",
          "text": [
            "\rProgress:  44%|████▎     | 874/2000 [18:30<23:17,  1.24s/stock]"
          ]
        },
        {
          "metadata": {
            "tags": null
          },
          "name": "stdout",
          "output_type": "stream",
          "text": [
            "Error retrieving data for 셀트리온제약 (A068760): '종가'\n"
          ]
        },
        {
          "metadata": {
            "tags": null
          },
          "name": "stderr",
          "output_type": "stream",
          "text": [
            "\rProgress:  44%|████▍     | 875/2000 [18:32<23:21,  1.25s/stock]"
          ]
        },
        {
          "metadata": {
            "tags": null
          },
          "name": "stdout",
          "output_type": "stream",
          "text": [
            "Error retrieving data for 셀트리온헬스케어 (A091990): '종가'\n"
          ]
        },
        {
          "metadata": {
            "tags": null
          },
          "name": "stderr",
          "output_type": "stream",
          "text": [
            "\rProgress:  44%|████▍     | 876/2000 [18:33<23:16,  1.24s/stock]"
          ]
        },
        {
          "metadata": {
            "tags": null
          },
          "name": "stdout",
          "output_type": "stream",
          "text": [
            "Error retrieving data for 소니드 (A060230): '종가'\n"
          ]
        },
        {
          "metadata": {
            "tags": null
          },
          "name": "stderr",
          "output_type": "stream",
          "text": [
            "\rProgress:  44%|████▍     | 877/2000 [18:34<23:35,  1.26s/stock]"
          ]
        },
        {
          "metadata": {
            "tags": null
          },
          "name": "stdout",
          "output_type": "stream",
          "text": [
            "Error retrieving data for 소룩스 (A290690): '종가'\n"
          ]
        },
        {
          "metadata": {
            "tags": null
          },
          "name": "stderr",
          "output_type": "stream",
          "text": [
            "\rProgress:  44%|████▍     | 878/2000 [18:35<23:24,  1.25s/stock]"
          ]
        },
        {
          "metadata": {
            "tags": null
          },
          "name": "stdout",
          "output_type": "stream",
          "text": [
            "Error retrieving data for 소프트센 (A032680): '종가'\n"
          ]
        },
        {
          "metadata": {
            "tags": null
          },
          "name": "stderr",
          "output_type": "stream",
          "text": [
            "\rProgress:  44%|████▍     | 879/2000 [18:37<23:33,  1.26s/stock]"
          ]
        },
        {
          "metadata": {
            "tags": null
          },
          "name": "stdout",
          "output_type": "stream",
          "text": [
            "Error retrieving data for 손오공 (A066910): '종가'\n"
          ]
        },
        {
          "metadata": {
            "tags": null
          },
          "name": "stderr",
          "output_type": "stream",
          "text": [
            "\rProgress:  44%|████▍     | 880/2000 [18:38<25:08,  1.35s/stock]"
          ]
        },
        {
          "metadata": {
            "tags": null
          },
          "name": "stdout",
          "output_type": "stream",
          "text": [
            "Error retrieving data for 솔루스첨단소재 (A336370): '종가'\n"
          ]
        },
        {
          "metadata": {
            "tags": null
          },
          "name": "stderr",
          "output_type": "stream",
          "text": [
            "\rProgress:  44%|████▍     | 881/2000 [18:39<24:29,  1.31s/stock]"
          ]
        },
        {
          "metadata": {
            "tags": null
          },
          "name": "stdout",
          "output_type": "stream",
          "text": [
            "Error retrieving data for 솔루엠 (A248070): '종가'\n"
          ]
        },
        {
          "metadata": {
            "tags": null
          },
          "name": "stderr",
          "output_type": "stream",
          "text": [
            "\rProgress:  44%|████▍     | 882/2000 [18:41<24:01,  1.29s/stock]"
          ]
        },
        {
          "metadata": {
            "tags": null
          },
          "name": "stdout",
          "output_type": "stream",
          "text": [
            "Error retrieving data for 솔본 (A035610): '종가'\n"
          ]
        },
        {
          "metadata": {
            "tags": null
          },
          "name": "stderr",
          "output_type": "stream",
          "text": [
            "\rProgress:  44%|████▍     | 883/2000 [18:42<23:43,  1.27s/stock]"
          ]
        },
        {
          "metadata": {
            "tags": null
          },
          "name": "stdout",
          "output_type": "stream",
          "text": [
            "Error retrieving data for 솔브레인 (A357780): '종가'\n"
          ]
        },
        {
          "metadata": {
            "tags": null
          },
          "name": "stderr",
          "output_type": "stream",
          "text": [
            "\rProgress:  44%|████▍     | 884/2000 [18:43<23:31,  1.26s/stock]"
          ]
        },
        {
          "metadata": {
            "tags": null
          },
          "name": "stdout",
          "output_type": "stream",
          "text": [
            "Error retrieving data for 솔브레인홀딩스 (A036830): '종가'\n"
          ]
        },
        {
          "metadata": {
            "tags": null
          },
          "name": "stderr",
          "output_type": "stream",
          "text": [
            "\rProgress:  44%|████▍     | 885/2000 [18:44<23:29,  1.26s/stock]"
          ]
        },
        {
          "metadata": {
            "tags": null
          },
          "name": "stdout",
          "output_type": "stream",
          "text": [
            "Error retrieving data for 솔트룩스 (A304100): '종가'\n"
          ]
        },
        {
          "metadata": {
            "tags": null
          },
          "name": "stderr",
          "output_type": "stream",
          "text": [
            "\rProgress:  44%|████▍     | 886/2000 [18:46<23:23,  1.26s/stock]"
          ]
        },
        {
          "metadata": {
            "tags": null
          },
          "name": "stdout",
          "output_type": "stream",
          "text": [
            "Error retrieving data for 송원산업 (A004430): '종가'\n"
          ]
        },
        {
          "metadata": {
            "tags": null
          },
          "name": "stderr",
          "output_type": "stream",
          "text": [
            "\rProgress:  44%|████▍     | 887/2000 [18:47<23:19,  1.26s/stock]"
          ]
        },
        {
          "metadata": {
            "tags": null
          },
          "name": "stdout",
          "output_type": "stream",
          "text": [
            "Error retrieving data for 쇼박스 (A086980): '종가'\n"
          ]
        },
        {
          "metadata": {
            "tags": null
          },
          "name": "stderr",
          "output_type": "stream",
          "text": [
            "\rProgress:  44%|████▍     | 888/2000 [18:48<23:14,  1.25s/stock]"
          ]
        },
        {
          "metadata": {
            "tags": null
          },
          "name": "stdout",
          "output_type": "stream",
          "text": [
            "Error retrieving data for 수산아이앤티 (A050960): '종가'\n"
          ]
        },
        {
          "metadata": {
            "tags": null
          },
          "name": "stderr",
          "output_type": "stream",
          "text": [
            "\rProgress:  44%|████▍     | 889/2000 [18:49<23:12,  1.25s/stock]"
          ]
        },
        {
          "metadata": {
            "tags": null
          },
          "name": "stdout",
          "output_type": "stream",
          "text": [
            "Error retrieving data for 수산중공업 (A017550): '종가'\n"
          ]
        },
        {
          "metadata": {
            "tags": null
          },
          "name": "stderr",
          "output_type": "stream",
          "text": [
            "\rProgress:  44%|████▍     | 890/2000 [18:51<23:17,  1.26s/stock]"
          ]
        },
        {
          "metadata": {
            "tags": null
          },
          "name": "stdout",
          "output_type": "stream",
          "text": [
            "Error retrieving data for 수성샐바시온 (A084180): '종가'\n"
          ]
        },
        {
          "metadata": {
            "tags": null
          },
          "name": "stderr",
          "output_type": "stream",
          "text": [
            "\rProgress:  45%|████▍     | 891/2000 [18:52<23:13,  1.26s/stock]"
          ]
        },
        {
          "metadata": {
            "tags": null
          },
          "name": "stdout",
          "output_type": "stream",
          "text": [
            "Error retrieving data for 수젠텍 (A253840): '종가'\n"
          ]
        },
        {
          "metadata": {
            "tags": null
          },
          "name": "stderr",
          "output_type": "stream",
          "text": [
            "\rProgress:  45%|████▍     | 892/2000 [18:53<23:08,  1.25s/stock]"
          ]
        },
        {
          "metadata": {
            "tags": null
          },
          "name": "stdout",
          "output_type": "stream",
          "text": [
            "Error retrieving data for 슈프리마 (A236200): '종가'\n"
          ]
        },
        {
          "metadata": {
            "tags": null
          },
          "name": "stderr",
          "output_type": "stream",
          "text": [
            "\rProgress:  45%|████▍     | 893/2000 [18:54<23:01,  1.25s/stock]"
          ]
        },
        {
          "metadata": {
            "tags": null
          },
          "name": "stdout",
          "output_type": "stream",
          "text": [
            "Error retrieving data for 슈프리마아이디 (A317770): '종가'\n"
          ]
        },
        {
          "metadata": {
            "tags": null
          },
          "name": "stderr",
          "output_type": "stream",
          "text": [
            "\rProgress:  45%|████▍     | 894/2000 [18:56<22:53,  1.24s/stock]"
          ]
        },
        {
          "metadata": {
            "tags": null
          },
          "name": "stdout",
          "output_type": "stream",
          "text": [
            "Error retrieving data for 슈프리마에이치큐 (A094840): '종가'\n"
          ]
        },
        {
          "metadata": {
            "tags": null
          },
          "name": "stderr",
          "output_type": "stream",
          "text": [
            "\rProgress:  45%|████▍     | 895/2000 [18:57<22:50,  1.24s/stock]"
          ]
        },
        {
          "metadata": {
            "tags": null
          },
          "name": "stdout",
          "output_type": "stream",
          "text": [
            "Error retrieving data for 슈피겐코리아 (A192440): '종가'\n"
          ]
        },
        {
          "metadata": {
            "tags": null
          },
          "name": "stderr",
          "output_type": "stream",
          "text": [
            "\rProgress:  45%|████▍     | 896/2000 [18:58<24:02,  1.31s/stock]"
          ]
        },
        {
          "metadata": {
            "tags": null
          },
          "name": "stdout",
          "output_type": "stream",
          "text": [
            "Error retrieving data for 스마트솔루션즈 (A136510): '종가'\n"
          ]
        },
        {
          "metadata": {
            "tags": null
          },
          "name": "stderr",
          "output_type": "stream",
          "text": [
            "\rProgress:  45%|████▍     | 897/2000 [19:00<23:47,  1.29s/stock]"
          ]
        },
        {
          "metadata": {
            "tags": null
          },
          "name": "stdout",
          "output_type": "stream",
          "text": [
            "Error retrieving data for 스맥 (A099440): '종가'\n"
          ]
        },
        {
          "metadata": {
            "tags": null
          },
          "name": "stderr",
          "output_type": "stream",
          "text": [
            "\rProgress:  45%|████▍     | 898/2000 [19:01<23:51,  1.30s/stock]"
          ]
        },
        {
          "metadata": {
            "tags": null
          },
          "name": "stdout",
          "output_type": "stream",
          "text": [
            "Error retrieving data for 스카이라이프 (A053210): '종가'\n"
          ]
        },
        {
          "metadata": {
            "tags": null
          },
          "name": "stderr",
          "output_type": "stream",
          "text": [
            "\rProgress:  45%|████▍     | 899/2000 [19:02<23:34,  1.28s/stock]"
          ]
        },
        {
          "metadata": {
            "tags": null
          },
          "name": "stdout",
          "output_type": "stream",
          "text": [
            "Error retrieving data for 스킨앤스킨 (A159910): '종가'\n"
          ]
        },
        {
          "metadata": {
            "tags": null
          },
          "name": "stderr",
          "output_type": "stream",
          "text": [
            "\rProgress:  45%|████▌     | 900/2000 [19:03<23:22,  1.27s/stock]"
          ]
        },
        {
          "metadata": {
            "tags": null
          },
          "name": "stdout",
          "output_type": "stream",
          "text": [
            "Error retrieving data for 스튜디오드래곤 (A253450): '종가'\n"
          ]
        },
        {
          "metadata": {
            "tags": null
          },
          "name": "stderr",
          "output_type": "stream",
          "text": [
            "\rProgress:  45%|████▌     | 901/2000 [19:05<23:23,  1.28s/stock]"
          ]
        },
        {
          "metadata": {
            "tags": null
          },
          "name": "stdout",
          "output_type": "stream",
          "text": [
            "Error retrieving data for 스틱인베스트먼트 (A026890): '종가'\n"
          ]
        },
        {
          "metadata": {
            "tags": null
          },
          "name": "stderr",
          "output_type": "stream",
          "text": [
            "\rProgress:  45%|████▌     | 902/2000 [19:06<23:28,  1.28s/stock]"
          ]
        },
        {
          "metadata": {
            "tags": null
          },
          "name": "stdout",
          "output_type": "stream",
          "text": [
            "Error retrieving data for 스페코 (A013810): '종가'\n"
          ]
        },
        {
          "metadata": {
            "tags": null
          },
          "name": "stderr",
          "output_type": "stream",
          "text": [
            "\rProgress:  45%|████▌     | 903/2000 [19:07<23:45,  1.30s/stock]"
          ]
        },
        {
          "metadata": {
            "tags": null
          },
          "name": "stdout",
          "output_type": "stream",
          "text": [
            "Error retrieving data for 승일 (A049830): '종가'\n"
          ]
        },
        {
          "metadata": {
            "tags": null
          },
          "name": "stderr",
          "output_type": "stream",
          "text": [
            "\rProgress:  45%|████▌     | 904/2000 [19:09<23:30,  1.29s/stock]"
          ]
        },
        {
          "metadata": {
            "tags": null
          },
          "name": "stdout",
          "output_type": "stream",
          "text": [
            "Error retrieving data for 시공테크 (A020710): '종가'\n"
          ]
        },
        {
          "metadata": {
            "tags": null
          },
          "name": "stderr",
          "output_type": "stream",
          "text": [
            "\rProgress:  45%|████▌     | 905/2000 [19:10<23:21,  1.28s/stock]"
          ]
        },
        {
          "metadata": {
            "tags": null
          },
          "name": "stdout",
          "output_type": "stream",
          "text": [
            "Error retrieving data for 시그네틱스 (A033170): '종가'\n"
          ]
        },
        {
          "metadata": {
            "tags": null
          },
          "name": "stderr",
          "output_type": "stream",
          "text": [
            "\rProgress:  45%|████▌     | 906/2000 [19:11<24:41,  1.35s/stock]"
          ]
        },
        {
          "metadata": {
            "tags": null
          },
          "name": "stdout",
          "output_type": "stream",
          "text": [
            "Error retrieving data for 시너지이노베이션 (A048870): '종가'\n"
          ]
        },
        {
          "metadata": {
            "tags": null
          },
          "name": "stderr",
          "output_type": "stream",
          "text": [
            "\rProgress:  45%|████▌     | 907/2000 [19:13<25:08,  1.38s/stock]"
          ]
        },
        {
          "metadata": {
            "tags": null
          },
          "name": "stdout",
          "output_type": "stream",
          "text": [
            "Error retrieving data for 시노펙스 (A025320): '종가'\n"
          ]
        },
        {
          "metadata": {
            "tags": null
          },
          "name": "stderr",
          "output_type": "stream",
          "text": [
            "\rProgress:  45%|████▌     | 908/2000 [19:14<26:25,  1.45s/stock]"
          ]
        },
        {
          "metadata": {
            "tags": null
          },
          "name": "stdout",
          "output_type": "stream",
          "text": [
            "Error retrieving data for 시디즈 (A134790): '종가'\n"
          ]
        },
        {
          "metadata": {
            "tags": null
          },
          "name": "stderr",
          "output_type": "stream",
          "text": [
            "\rProgress:  45%|████▌     | 909/2000 [19:16<26:18,  1.45s/stock]"
          ]
        },
        {
          "metadata": {
            "tags": null
          },
          "name": "stdout",
          "output_type": "stream",
          "text": [
            "Error retrieving data for 시스웍 (A269620): '종가'\n"
          ]
        },
        {
          "metadata": {
            "tags": null
          },
          "name": "stderr",
          "output_type": "stream",
          "text": [
            "\rProgress:  46%|████▌     | 910/2000 [19:18<30:58,  1.70s/stock]"
          ]
        },
        {
          "metadata": {
            "tags": null
          },
          "name": "stdout",
          "output_type": "stream",
          "text": [
            "Error retrieving data for 시큐브 (A131090): '종가'\n"
          ]
        },
        {
          "metadata": {
            "tags": null
          },
          "name": "stderr",
          "output_type": "stream",
          "text": [
            "\rProgress:  46%|████▌     | 911/2000 [19:21<38:44,  2.13s/stock]"
          ]
        },
        {
          "metadata": {
            "tags": null
          },
          "name": "stdout",
          "output_type": "stream",
          "text": [
            "Error retrieving data for 시티랩스 (A139050): '종가'\n"
          ]
        },
        {
          "metadata": {
            "tags": null
          },
          "name": "stderr",
          "output_type": "stream",
          "text": [
            "\rProgress:  46%|████▌     | 912/2000 [19:23<35:33,  1.96s/stock]"
          ]
        },
        {
          "metadata": {
            "tags": null
          },
          "name": "stdout",
          "output_type": "stream",
          "text": [
            "Error retrieving data for 신대양제지 (A016590): '종가'\n"
          ]
        },
        {
          "metadata": {
            "tags": null
          },
          "name": "stderr",
          "output_type": "stream",
          "text": [
            "\rProgress:  46%|████▌     | 913/2000 [19:24<32:49,  1.81s/stock]"
          ]
        },
        {
          "metadata": {
            "tags": null
          },
          "name": "stdout",
          "output_type": "stream",
          "text": [
            "Error retrieving data for 신도기연 (A290520): '종가'\n"
          ]
        },
        {
          "metadata": {
            "tags": null
          },
          "name": "stderr",
          "output_type": "stream",
          "text": [
            "\rProgress:  46%|████▌     | 914/2000 [19:27<35:18,  1.95s/stock]"
          ]
        },
        {
          "metadata": {
            "tags": null
          },
          "name": "stdout",
          "output_type": "stream",
          "text": [
            "Error retrieving data for 신도리코 (A029530): '종가'\n"
          ]
        },
        {
          "metadata": {
            "tags": null
          },
          "name": "stderr",
          "output_type": "stream",
          "text": [
            "\rProgress:  46%|████▌     | 915/2000 [19:28<32:17,  1.79s/stock]"
          ]
        },
        {
          "metadata": {
            "tags": null
          },
          "name": "stdout",
          "output_type": "stream",
          "text": [
            "Error retrieving data for 신라교역 (A004970): '종가'\n"
          ]
        },
        {
          "metadata": {
            "tags": null
          },
          "name": "stderr",
          "output_type": "stream",
          "text": [
            "\rProgress:  46%|████▌     | 916/2000 [19:29<30:24,  1.68s/stock]"
          ]
        },
        {
          "metadata": {
            "tags": null
          },
          "name": "stdout",
          "output_type": "stream",
          "text": [
            "Error retrieving data for 신라섬유 (A001000): '종가'\n"
          ]
        },
        {
          "metadata": {
            "tags": null
          },
          "name": "stderr",
          "output_type": "stream",
          "text": [
            "\rProgress:  46%|████▌     | 917/2000 [19:31<28:51,  1.60s/stock]"
          ]
        },
        {
          "metadata": {
            "tags": null
          },
          "name": "stdout",
          "output_type": "stream",
          "text": [
            "Error retrieving data for 신라젠 (A215600): '종가'\n"
          ]
        },
        {
          "metadata": {
            "tags": null
          },
          "name": "stderr",
          "output_type": "stream",
          "text": [
            "\rProgress:  46%|████▌     | 918/2000 [19:32<27:42,  1.54s/stock]"
          ]
        },
        {
          "metadata": {
            "tags": null
          },
          "name": "stdout",
          "output_type": "stream",
          "text": [
            "Error retrieving data for 신성델타테크 (A065350): '종가'\n"
          ]
        },
        {
          "metadata": {
            "tags": null
          },
          "name": "stderr",
          "output_type": "stream",
          "text": [
            "\rProgress:  46%|████▌     | 919/2000 [19:34<26:54,  1.49s/stock]"
          ]
        },
        {
          "metadata": {
            "tags": null
          },
          "name": "stdout",
          "output_type": "stream",
          "text": [
            "Error retrieving data for 신성이엔지 (A011930): '종가'\n"
          ]
        },
        {
          "metadata": {
            "tags": null
          },
          "name": "stderr",
          "output_type": "stream",
          "text": [
            "\rProgress:  46%|████▌     | 920/2000 [19:35<27:01,  1.50s/stock]"
          ]
        },
        {
          "metadata": {
            "tags": null
          },
          "name": "stdout",
          "output_type": "stream",
          "text": [
            "Error retrieving data for 신성통상 (A005390): '종가'\n"
          ]
        },
        {
          "metadata": {
            "tags": null
          },
          "name": "stderr",
          "output_type": "stream",
          "text": [
            "\rProgress:  46%|████▌     | 921/2000 [19:37<26:23,  1.47s/stock]"
          ]
        },
        {
          "metadata": {
            "tags": null
          },
          "name": "stdout",
          "output_type": "stream",
          "text": [
            "Error retrieving data for 신세계 (A004170): '종가'\n"
          ]
        },
        {
          "metadata": {
            "tags": null
          },
          "name": "stderr",
          "output_type": "stream",
          "text": [
            "\rProgress:  46%|████▌     | 922/2000 [19:38<26:40,  1.48s/stock]"
          ]
        },
        {
          "metadata": {
            "tags": null
          },
          "name": "stdout",
          "output_type": "stream",
          "text": [
            "Error retrieving data for 신세계 I&C (A035510): '종가'\n"
          ]
        },
        {
          "metadata": {
            "tags": null
          },
          "name": "stderr",
          "output_type": "stream",
          "text": [
            "\rProgress:  46%|████▌     | 923/2000 [19:40<26:46,  1.49s/stock]"
          ]
        },
        {
          "metadata": {
            "tags": null
          },
          "name": "stdout",
          "output_type": "stream",
          "text": [
            "Error retrieving data for 신세계건설 (A034300): '종가'\n"
          ]
        },
        {
          "metadata": {
            "tags": null
          },
          "name": "stderr",
          "output_type": "stream",
          "text": [
            "\rProgress:  46%|████▌     | 924/2000 [19:41<25:21,  1.41s/stock]"
          ]
        },
        {
          "metadata": {
            "tags": null
          },
          "name": "stdout",
          "output_type": "stream",
          "text": [
            "Error retrieving data for 신세계인터내셔날 (A031430): '종가'\n"
          ]
        },
        {
          "metadata": {
            "tags": null
          },
          "name": "stderr",
          "output_type": "stream",
          "text": [
            "\rProgress:  46%|████▋     | 925/2000 [19:42<24:29,  1.37s/stock]"
          ]
        },
        {
          "metadata": {
            "tags": null
          },
          "name": "stdout",
          "output_type": "stream",
          "text": [
            "Error retrieving data for 신세계푸드 (A031440): '종가'\n"
          ]
        },
        {
          "metadata": {
            "tags": null
          },
          "name": "stderr",
          "output_type": "stream",
          "text": [
            "\rProgress:  46%|████▋     | 926/2000 [19:43<23:50,  1.33s/stock]"
          ]
        },
        {
          "metadata": {
            "tags": null
          },
          "name": "stdout",
          "output_type": "stream",
          "text": [
            "Error retrieving data for 신송홀딩스 (A006880): '종가'\n"
          ]
        },
        {
          "metadata": {
            "tags": null
          },
          "name": "stderr",
          "output_type": "stream",
          "text": [
            "\rProgress:  46%|████▋     | 927/2000 [19:45<23:20,  1.31s/stock]"
          ]
        },
        {
          "metadata": {
            "tags": null
          },
          "name": "stdout",
          "output_type": "stream",
          "text": [
            "Error retrieving data for 신신제약 (A002800): '종가'\n"
          ]
        },
        {
          "metadata": {
            "tags": null
          },
          "name": "stderr",
          "output_type": "stream",
          "text": [
            "\rProgress:  46%|████▋     | 928/2000 [19:46<23:02,  1.29s/stock]"
          ]
        },
        {
          "metadata": {
            "tags": null
          },
          "name": "stdout",
          "output_type": "stream",
          "text": [
            "Error retrieving data for 신영와코루 (A005800): '종가'\n"
          ]
        },
        {
          "metadata": {
            "tags": null
          },
          "name": "stderr",
          "output_type": "stream",
          "text": [
            "\rProgress:  46%|████▋     | 929/2000 [19:47<22:45,  1.27s/stock]"
          ]
        },
        {
          "metadata": {
            "tags": null
          },
          "name": "stdout",
          "output_type": "stream",
          "text": [
            "Error retrieving data for 신영증권 (A001720): '종가'\n"
          ]
        },
        {
          "metadata": {
            "tags": null
          },
          "name": "stderr",
          "output_type": "stream",
          "text": [
            "\rProgress:  46%|████▋     | 930/2000 [19:48<23:02,  1.29s/stock]"
          ]
        },
        {
          "metadata": {
            "tags": null
          },
          "name": "stdout",
          "output_type": "stream",
          "text": [
            "Error retrieving data for 신원 (A009270): '종가'\n"
          ]
        },
        {
          "metadata": {
            "tags": null
          },
          "name": "stderr",
          "output_type": "stream",
          "text": [
            "\rProgress:  47%|████▋     | 931/2000 [19:50<22:43,  1.28s/stock]"
          ]
        },
        {
          "metadata": {
            "tags": null
          },
          "name": "stdout",
          "output_type": "stream",
          "text": [
            "Error retrieving data for 신원종합개발 (A017000): '종가'\n"
          ]
        },
        {
          "metadata": {
            "tags": null
          },
          "name": "stderr",
          "output_type": "stream",
          "text": [
            "\rProgress:  47%|████▋     | 932/2000 [19:51<22:41,  1.27s/stock]"
          ]
        },
        {
          "metadata": {
            "tags": null
          },
          "name": "stdout",
          "output_type": "stream",
          "text": [
            "Error retrieving data for 신일전자 (A002700): '종가'\n"
          ]
        },
        {
          "metadata": {
            "tags": null
          },
          "name": "stderr",
          "output_type": "stream",
          "text": [
            "\rProgress:  47%|████▋     | 933/2000 [19:52<22:31,  1.27s/stock]"
          ]
        },
        {
          "metadata": {
            "tags": null
          },
          "name": "stdout",
          "output_type": "stream",
          "text": [
            "Error retrieving data for 신일제약 (A012790): '종가'\n"
          ]
        },
        {
          "metadata": {
            "tags": null
          },
          "name": "stderr",
          "output_type": "stream",
          "text": [
            "\rProgress:  47%|████▋     | 934/2000 [19:53<22:26,  1.26s/stock]"
          ]
        },
        {
          "metadata": {
            "tags": null
          },
          "name": "stdout",
          "output_type": "stream",
          "text": [
            "Error retrieving data for 신진에스엠 (A138070): '종가'\n"
          ]
        },
        {
          "metadata": {
            "tags": null
          },
          "name": "stderr",
          "output_type": "stream",
          "text": [
            "\rProgress:  47%|████▋     | 935/2000 [19:55<22:23,  1.26s/stock]"
          ]
        },
        {
          "metadata": {
            "tags": null
          },
          "name": "stdout",
          "output_type": "stream",
          "text": [
            "Error retrieving data for 신테카바이오 (A226330): '종가'\n"
          ]
        },
        {
          "metadata": {
            "tags": null
          },
          "name": "stderr",
          "output_type": "stream",
          "text": [
            "\rProgress:  47%|████▋     | 936/2000 [19:56<22:22,  1.26s/stock]"
          ]
        },
        {
          "metadata": {
            "tags": null
          },
          "name": "stdout",
          "output_type": "stream",
          "text": [
            "Error retrieving data for 신풍제약 (A019170): '종가'\n"
          ]
        },
        {
          "metadata": {
            "tags": null
          },
          "name": "stderr",
          "output_type": "stream",
          "text": [
            "\rProgress:  47%|████▋     | 937/2000 [19:57<22:26,  1.27s/stock]"
          ]
        },
        {
          "metadata": {
            "tags": null
          },
          "name": "stdout",
          "output_type": "stream",
          "text": [
            "Error retrieving data for 신한지주 (A055550): '종가'\n"
          ]
        },
        {
          "metadata": {
            "tags": null
          },
          "name": "stderr",
          "output_type": "stream",
          "text": [
            "\rProgress:  47%|████▋     | 938/2000 [19:58<22:14,  1.26s/stock]"
          ]
        },
        {
          "metadata": {
            "tags": null
          },
          "name": "stdout",
          "output_type": "stream",
          "text": [
            "Error retrieving data for 신화인터텍 (A056700): '종가'\n"
          ]
        },
        {
          "metadata": {
            "tags": null
          },
          "name": "stderr",
          "output_type": "stream",
          "text": [
            "\rProgress:  47%|████▋     | 939/2000 [20:00<24:52,  1.41s/stock]"
          ]
        },
        {
          "metadata": {
            "tags": null
          },
          "name": "stdout",
          "output_type": "stream",
          "text": [
            "Error retrieving data for 신화콘텍 (A187270): '종가'\n"
          ]
        },
        {
          "metadata": {
            "tags": null
          },
          "name": "stderr",
          "output_type": "stream",
          "text": [
            "\rProgress:  47%|████▋     | 940/2000 [20:01<23:56,  1.36s/stock]"
          ]
        },
        {
          "metadata": {
            "tags": null
          },
          "name": "stdout",
          "output_type": "stream",
          "text": [
            "Error retrieving data for 신흥 (A004080): '종가'\n"
          ]
        },
        {
          "metadata": {
            "tags": null
          },
          "name": "stderr",
          "output_type": "stream",
          "text": [
            "\rProgress:  47%|████▋     | 941/2000 [20:03<23:19,  1.32s/stock]"
          ]
        },
        {
          "metadata": {
            "tags": null
          },
          "name": "stdout",
          "output_type": "stream",
          "text": [
            "Error retrieving data for 신흥에스이씨 (A243840): '종가'\n"
          ]
        },
        {
          "metadata": {
            "tags": null
          },
          "name": "stderr",
          "output_type": "stream",
          "text": [
            "\rProgress:  47%|████▋     | 942/2000 [20:04<22:55,  1.30s/stock]"
          ]
        },
        {
          "metadata": {
            "tags": null
          },
          "name": "stdout",
          "output_type": "stream",
          "text": [
            "Error retrieving data for 심텍 (A222800): '종가'\n"
          ]
        },
        {
          "metadata": {
            "tags": null
          },
          "name": "stderr",
          "output_type": "stream",
          "text": [
            "\rProgress:  47%|████▋     | 943/2000 [20:05<22:37,  1.28s/stock]"
          ]
        },
        {
          "metadata": {
            "tags": null
          },
          "name": "stdout",
          "output_type": "stream",
          "text": [
            "Error retrieving data for 심텍홀딩스 (A036710): '종가'\n"
          ]
        },
        {
          "metadata": {
            "tags": null
          },
          "name": "stderr",
          "output_type": "stream",
          "text": [
            "\rProgress:  47%|████▋     | 944/2000 [20:06<22:21,  1.27s/stock]"
          ]
        },
        {
          "metadata": {
            "tags": null
          },
          "name": "stdout",
          "output_type": "stream",
          "text": [
            "Error retrieving data for 싸이맥스 (A160980): '종가'\n"
          ]
        },
        {
          "metadata": {
            "tags": null
          },
          "name": "stderr",
          "output_type": "stream",
          "text": [
            "\rProgress:  47%|████▋     | 945/2000 [20:08<22:08,  1.26s/stock]"
          ]
        },
        {
          "metadata": {
            "tags": null
          },
          "name": "stdout",
          "output_type": "stream",
          "text": [
            "Error retrieving data for 싸이버원 (A356890): '종가'\n"
          ]
        },
        {
          "metadata": {
            "tags": null
          },
          "name": "stderr",
          "output_type": "stream",
          "text": [
            "\rProgress:  47%|████▋     | 946/2000 [20:09<22:00,  1.25s/stock]"
          ]
        },
        {
          "metadata": {
            "tags": null
          },
          "name": "stdout",
          "output_type": "stream",
          "text": [
            "Error retrieving data for 싸이토젠 (A217330): '종가'\n"
          ]
        },
        {
          "metadata": {
            "tags": null
          },
          "name": "stderr",
          "output_type": "stream",
          "text": [
            "\rProgress:  47%|████▋     | 947/2000 [20:10<21:56,  1.25s/stock]"
          ]
        },
        {
          "metadata": {
            "tags": null
          },
          "name": "stdout",
          "output_type": "stream",
          "text": [
            "Error retrieving data for 쌍방울 (A102280): '종가'\n"
          ]
        },
        {
          "metadata": {
            "tags": null
          },
          "name": "stderr",
          "output_type": "stream",
          "text": [
            "\rProgress:  47%|████▋     | 948/2000 [20:11<21:59,  1.25s/stock]"
          ]
        },
        {
          "metadata": {
            "tags": null
          },
          "name": "stdout",
          "output_type": "stream",
          "text": [
            "Error retrieving data for 쌍용C&E (A003410): '종가'\n"
          ]
        },
        {
          "metadata": {
            "tags": null
          },
          "name": "stderr",
          "output_type": "stream",
          "text": [
            "\rProgress:  47%|████▋     | 949/2000 [20:13<21:53,  1.25s/stock]"
          ]
        },
        {
          "metadata": {
            "tags": null
          },
          "name": "stdout",
          "output_type": "stream",
          "text": [
            "Error retrieving data for 쌍용정보통신 (A010280): '종가'\n"
          ]
        },
        {
          "metadata": {
            "tags": null
          },
          "name": "stderr",
          "output_type": "stream",
          "text": [
            "\rProgress:  48%|████▊     | 950/2000 [20:14<21:49,  1.25s/stock]"
          ]
        },
        {
          "metadata": {
            "tags": null
          },
          "name": "stdout",
          "output_type": "stream",
          "text": [
            "Error retrieving data for 써니전자 (A004770): '종가'\n"
          ]
        },
        {
          "metadata": {
            "tags": null
          },
          "name": "stderr",
          "output_type": "stream",
          "text": [
            "\rProgress:  48%|████▊     | 951/2000 [20:15<21:46,  1.25s/stock]"
          ]
        },
        {
          "metadata": {
            "tags": null
          },
          "name": "stdout",
          "output_type": "stream",
          "text": [
            "Error retrieving data for 썸에이지 (A208640): '종가'\n"
          ]
        },
        {
          "metadata": {
            "tags": null
          },
          "name": "stderr",
          "output_type": "stream",
          "text": [
            "\rProgress:  48%|████▊     | 952/2000 [20:16<21:40,  1.24s/stock]"
          ]
        },
        {
          "metadata": {
            "tags": null
          },
          "name": "stdout",
          "output_type": "stream",
          "text": [
            "Error retrieving data for 쎄노텍 (A222420): '종가'\n"
          ]
        },
        {
          "metadata": {
            "tags": null
          },
          "name": "stderr",
          "output_type": "stream",
          "text": [
            "\rProgress:  48%|████▊     | 953/2000 [20:18<22:46,  1.31s/stock]"
          ]
        },
        {
          "metadata": {
            "tags": null
          },
          "name": "stdout",
          "output_type": "stream",
          "text": [
            "Error retrieving data for 쎄니트 (A037760): '종가'\n"
          ]
        },
        {
          "metadata": {
            "tags": null
          },
          "name": "stderr",
          "output_type": "stream",
          "text": [
            "\rProgress:  48%|████▊     | 954/2000 [20:19<22:32,  1.29s/stock]"
          ]
        },
        {
          "metadata": {
            "tags": null
          },
          "name": "stdout",
          "output_type": "stream",
          "text": [
            "Error retrieving data for 쎄트렉아이 (A099320): '종가'\n"
          ]
        },
        {
          "metadata": {
            "tags": null
          },
          "name": "stderr",
          "output_type": "stream",
          "text": [
            "\rProgress:  48%|████▊     | 955/2000 [20:20<22:50,  1.31s/stock]"
          ]
        },
        {
          "metadata": {
            "tags": null
          },
          "name": "stdout",
          "output_type": "stream",
          "text": [
            "Error retrieving data for 쎌마테라퓨틱스 (A015540): '종가'\n"
          ]
        },
        {
          "metadata": {
            "tags": null
          },
          "name": "stderr",
          "output_type": "stream",
          "text": [
            "\rProgress:  48%|████▊     | 956/2000 [20:22<22:28,  1.29s/stock]"
          ]
        },
        {
          "metadata": {
            "tags": null
          },
          "name": "stdout",
          "output_type": "stream",
          "text": [
            "Error retrieving data for 쎌바이오텍 (A049960): '종가'\n"
          ]
        },
        {
          "metadata": {
            "tags": null
          },
          "name": "stderr",
          "output_type": "stream",
          "text": [
            "\rProgress:  48%|████▊     | 957/2000 [20:23<22:12,  1.28s/stock]"
          ]
        },
        {
          "metadata": {
            "tags": null
          },
          "name": "stdout",
          "output_type": "stream",
          "text": [
            "Error retrieving data for 쏠리드 (A050890): '종가'\n"
          ]
        },
        {
          "metadata": {
            "tags": null
          },
          "name": "stderr",
          "output_type": "stream",
          "text": [
            "\rProgress:  48%|████▊     | 958/2000 [20:24<21:58,  1.27s/stock]"
          ]
        },
        {
          "metadata": {
            "tags": null
          },
          "name": "stdout",
          "output_type": "stream",
          "text": [
            "Error retrieving data for 씨아이에스 (A222080): '종가'\n"
          ]
        },
        {
          "metadata": {
            "tags": null
          },
          "name": "stderr",
          "output_type": "stream",
          "text": [
            "\rProgress:  48%|████▊     | 959/2000 [20:25<22:04,  1.27s/stock]"
          ]
        },
        {
          "metadata": {
            "tags": null
          },
          "name": "stdout",
          "output_type": "stream",
          "text": [
            "Error retrieving data for 씨아이테크 (A004920): '종가'\n"
          ]
        },
        {
          "metadata": {
            "tags": null
          },
          "name": "stderr",
          "output_type": "stream",
          "text": [
            "\rProgress:  48%|████▊     | 960/2000 [20:27<21:52,  1.26s/stock]"
          ]
        },
        {
          "metadata": {
            "tags": null
          },
          "name": "stdout",
          "output_type": "stream",
          "text": [
            "Error retrieving data for 씨앤씨인터내셔널 (A352480): '종가'\n"
          ]
        },
        {
          "metadata": {
            "tags": null
          },
          "name": "stderr",
          "output_type": "stream",
          "text": [
            "\rProgress:  48%|████▊     | 961/2000 [20:28<21:59,  1.27s/stock]"
          ]
        },
        {
          "metadata": {
            "tags": null
          },
          "name": "stdout",
          "output_type": "stream",
          "text": [
            "Error retrieving data for 씨앤지하이테크 (A264660): '종가'\n"
          ]
        },
        {
          "metadata": {
            "tags": null
          },
          "name": "stderr",
          "output_type": "stream",
          "text": [
            "\rProgress:  48%|████▊     | 962/2000 [20:29<22:00,  1.27s/stock]"
          ]
        },
        {
          "metadata": {
            "tags": null
          },
          "name": "stdout",
          "output_type": "stream",
          "text": [
            "Error retrieving data for 씨앤투스 (A352700): '종가'\n"
          ]
        },
        {
          "metadata": {
            "tags": null
          },
          "name": "stderr",
          "output_type": "stream",
          "text": [
            "\rProgress:  48%|████▊     | 963/2000 [20:31<21:50,  1.26s/stock]"
          ]
        },
        {
          "metadata": {
            "tags": null
          },
          "name": "stdout",
          "output_type": "stream",
          "text": [
            "Error retrieving data for 씨에스베어링 (A297090): '종가'\n"
          ]
        },
        {
          "metadata": {
            "tags": null
          },
          "name": "stderr",
          "output_type": "stream",
          "text": [
            "\rProgress:  48%|████▊     | 964/2000 [20:32<21:51,  1.27s/stock]"
          ]
        },
        {
          "metadata": {
            "tags": null
          },
          "name": "stdout",
          "output_type": "stream",
          "text": [
            "Error retrieving data for 씨에스윈드 (A112610): '종가'\n"
          ]
        },
        {
          "metadata": {
            "tags": null
          },
          "name": "stderr",
          "output_type": "stream",
          "text": [
            "\rProgress:  48%|████▊     | 965/2000 [20:33<21:57,  1.27s/stock]"
          ]
        },
        {
          "metadata": {
            "tags": null
          },
          "name": "stdout",
          "output_type": "stream",
          "text": [
            "Error retrieving data for 씨엔알리서치 (A359090): '종가'\n"
          ]
        },
        {
          "metadata": {
            "tags": null
          },
          "name": "stderr",
          "output_type": "stream",
          "text": [
            "\rProgress:  48%|████▊     | 966/2000 [20:34<21:57,  1.27s/stock]"
          ]
        },
        {
          "metadata": {
            "tags": null
          },
          "name": "stdout",
          "output_type": "stream",
          "text": [
            "Error retrieving data for 씨유메디칼 (A115480): '종가'\n"
          ]
        },
        {
          "metadata": {
            "tags": null
          },
          "name": "stderr",
          "output_type": "stream",
          "text": [
            "\rProgress:  48%|████▊     | 967/2000 [20:36<21:45,  1.26s/stock]"
          ]
        },
        {
          "metadata": {
            "tags": null
          },
          "name": "stdout",
          "output_type": "stream",
          "text": [
            "Error retrieving data for 씨이랩 (A189330): '종가'\n"
          ]
        },
        {
          "metadata": {
            "tags": null
          },
          "name": "stderr",
          "output_type": "stream",
          "text": [
            "\rProgress:  48%|████▊     | 968/2000 [20:37<21:34,  1.25s/stock]"
          ]
        },
        {
          "metadata": {
            "tags": null
          },
          "name": "stdout",
          "output_type": "stream",
          "text": [
            "Error retrieving data for 씨젠 (A096530): '종가'\n"
          ]
        },
        {
          "metadata": {
            "tags": null
          },
          "name": "stderr",
          "output_type": "stream",
          "text": [
            "\rProgress:  48%|████▊     | 969/2000 [20:38<21:28,  1.25s/stock]"
          ]
        },
        {
          "metadata": {
            "tags": null
          },
          "name": "stdout",
          "output_type": "stream",
          "text": [
            "Error retrieving data for 씨큐브 (A101240): '종가'\n"
          ]
        },
        {
          "metadata": {
            "tags": null
          },
          "name": "stderr",
          "output_type": "stream",
          "text": [
            "\rProgress:  48%|████▊     | 970/2000 [20:39<21:25,  1.25s/stock]"
          ]
        },
        {
          "metadata": {
            "tags": null
          },
          "name": "stdout",
          "output_type": "stream",
          "text": [
            "Error retrieving data for 씨티씨바이오 (A060590): '종가'\n"
          ]
        },
        {
          "metadata": {
            "tags": null
          },
          "name": "stderr",
          "output_type": "stream",
          "text": [
            "\rProgress:  49%|████▊     | 971/2000 [20:41<22:57,  1.34s/stock]"
          ]
        },
        {
          "metadata": {
            "tags": null
          },
          "name": "stdout",
          "output_type": "stream",
          "text": [
            "Error retrieving data for 씨티알모빌리티 (A308170): '종가'\n"
          ]
        },
        {
          "metadata": {
            "tags": null
          },
          "name": "stderr",
          "output_type": "stream",
          "text": [
            "\rProgress:  49%|████▊     | 972/2000 [20:42<22:34,  1.32s/stock]"
          ]
        },
        {
          "metadata": {
            "tags": null
          },
          "name": "stdout",
          "output_type": "stream",
          "text": [
            "Error retrieving data for 씨티케이 (A260930): '종가'\n"
          ]
        },
        {
          "metadata": {
            "tags": null
          },
          "name": "stderr",
          "output_type": "stream",
          "text": [
            "\rProgress:  49%|████▊     | 973/2000 [20:43<22:12,  1.30s/stock]"
          ]
        },
        {
          "metadata": {
            "tags": null
          },
          "name": "stdout",
          "output_type": "stream",
          "text": [
            "Error retrieving data for 아가방컴퍼니 (A013990): '종가'\n"
          ]
        },
        {
          "metadata": {
            "tags": null
          },
          "name": "stderr",
          "output_type": "stream",
          "text": [
            "\rProgress:  49%|████▊     | 974/2000 [20:45<22:37,  1.32s/stock]"
          ]
        },
        {
          "metadata": {
            "tags": null
          },
          "name": "stdout",
          "output_type": "stream",
          "text": [
            "Error retrieving data for 아나패스 (A123860): '종가'\n"
          ]
        },
        {
          "metadata": {
            "tags": null
          },
          "name": "stderr",
          "output_type": "stream",
          "text": [
            "\rProgress:  49%|████▉     | 975/2000 [20:46<22:15,  1.30s/stock]"
          ]
        },
        {
          "metadata": {
            "tags": null
          },
          "name": "stdout",
          "output_type": "stream",
          "text": [
            "Error retrieving data for 아난티 (A025980): '종가'\n"
          ]
        },
        {
          "metadata": {
            "tags": null
          },
          "name": "stderr",
          "output_type": "stream",
          "text": [
            "\rProgress:  49%|████▉     | 976/2000 [20:47<22:03,  1.29s/stock]"
          ]
        },
        {
          "metadata": {
            "tags": null
          },
          "name": "stdout",
          "output_type": "stream",
          "text": [
            "Error retrieving data for 아남전자 (A008700): '종가'\n"
          ]
        },
        {
          "metadata": {
            "tags": null
          },
          "name": "stderr",
          "output_type": "stream",
          "text": [
            "\rProgress:  49%|████▉     | 977/2000 [20:49<21:52,  1.28s/stock]"
          ]
        },
        {
          "metadata": {
            "tags": null
          },
          "name": "stdout",
          "output_type": "stream",
          "text": [
            "Error retrieving data for 아모그린텍 (A125210): '종가'\n"
          ]
        },
        {
          "metadata": {
            "tags": null
          },
          "name": "stderr",
          "output_type": "stream",
          "text": [
            "\rProgress:  49%|████▉     | 978/2000 [20:50<21:42,  1.27s/stock]"
          ]
        },
        {
          "metadata": {
            "tags": null
          },
          "name": "stdout",
          "output_type": "stream",
          "text": [
            "Error retrieving data for 아모레G (A002790): '종가'\n"
          ]
        },
        {
          "metadata": {
            "tags": null
          },
          "name": "stderr",
          "output_type": "stream",
          "text": [
            "\rProgress:  49%|████▉     | 979/2000 [20:51<21:37,  1.27s/stock]"
          ]
        },
        {
          "metadata": {
            "tags": null
          },
          "name": "stdout",
          "output_type": "stream",
          "text": [
            "Error retrieving data for 아모레퍼시픽 (A090430): '종가'\n"
          ]
        },
        {
          "metadata": {
            "tags": null
          },
          "name": "stderr",
          "output_type": "stream",
          "text": [
            "\rProgress:  49%|████▉     | 980/2000 [20:52<21:33,  1.27s/stock]"
          ]
        },
        {
          "metadata": {
            "tags": null
          },
          "name": "stdout",
          "output_type": "stream",
          "text": [
            "Error retrieving data for 아모텍 (A052710): '종가'\n"
          ]
        },
        {
          "metadata": {
            "tags": null
          },
          "name": "stderr",
          "output_type": "stream",
          "text": [
            "\rProgress:  49%|████▉     | 981/2000 [20:54<21:29,  1.27s/stock]"
          ]
        },
        {
          "metadata": {
            "tags": null
          },
          "name": "stdout",
          "output_type": "stream",
          "text": [
            "Error retrieving data for 아미노로직스 (A074430): '종가'\n"
          ]
        },
        {
          "metadata": {
            "tags": null
          },
          "name": "stderr",
          "output_type": "stream",
          "text": [
            "\rProgress:  49%|████▉     | 982/2000 [20:55<21:24,  1.26s/stock]"
          ]
        },
        {
          "metadata": {
            "tags": null
          },
          "name": "stdout",
          "output_type": "stream",
          "text": [
            "Error retrieving data for 아미코젠 (A092040): '종가'\n"
          ]
        },
        {
          "metadata": {
            "tags": null
          },
          "name": "stderr",
          "output_type": "stream",
          "text": [
            "\rProgress:  49%|████▉     | 983/2000 [20:56<21:20,  1.26s/stock]"
          ]
        },
        {
          "metadata": {
            "tags": null
          },
          "name": "stdout",
          "output_type": "stream",
          "text": [
            "Error retrieving data for 아바코 (A083930): '종가'\n"
          ]
        },
        {
          "metadata": {
            "tags": null
          },
          "name": "stderr",
          "output_type": "stream",
          "text": [
            "\rProgress:  49%|████▉     | 984/2000 [20:57<21:21,  1.26s/stock]"
          ]
        },
        {
          "metadata": {
            "tags": null
          },
          "name": "stdout",
          "output_type": "stream",
          "text": [
            "Error retrieving data for 아바텍 (A149950): '종가'\n"
          ]
        },
        {
          "metadata": {
            "tags": null
          },
          "name": "stderr",
          "output_type": "stream",
          "text": [
            "\rProgress:  49%|████▉     | 985/2000 [20:59<21:20,  1.26s/stock]"
          ]
        },
        {
          "metadata": {
            "tags": null
          },
          "name": "stdout",
          "output_type": "stream",
          "text": [
            "Error retrieving data for 아비코전자 (A036010): '종가'\n"
          ]
        },
        {
          "metadata": {
            "tags": null
          },
          "name": "stderr",
          "output_type": "stream",
          "text": [
            "\rProgress:  49%|████▉     | 986/2000 [21:00<22:22,  1.32s/stock]"
          ]
        },
        {
          "metadata": {
            "tags": null
          },
          "name": "stdout",
          "output_type": "stream",
          "text": [
            "Error retrieving data for 아세아 (A002030): '종가'\n"
          ]
        },
        {
          "metadata": {
            "tags": null
          },
          "name": "stderr",
          "output_type": "stream",
          "text": [
            "\rProgress:  49%|████▉     | 987/2000 [21:01<21:53,  1.30s/stock]"
          ]
        },
        {
          "metadata": {
            "tags": null
          },
          "name": "stdout",
          "output_type": "stream",
          "text": [
            "Error retrieving data for 아세아시멘트 (A183190): '종가'\n"
          ]
        },
        {
          "metadata": {
            "tags": null
          },
          "name": "stderr",
          "output_type": "stream",
          "text": [
            "\rProgress:  49%|████▉     | 988/2000 [21:03<21:35,  1.28s/stock]"
          ]
        },
        {
          "metadata": {
            "tags": null
          },
          "name": "stdout",
          "output_type": "stream",
          "text": [
            "Error retrieving data for 아세아제지 (A002310): '종가'\n"
          ]
        },
        {
          "metadata": {
            "tags": null
          },
          "name": "stderr",
          "output_type": "stream",
          "text": [
            "\rProgress:  49%|████▉     | 989/2000 [21:04<21:24,  1.27s/stock]"
          ]
        },
        {
          "metadata": {
            "tags": null
          },
          "name": "stdout",
          "output_type": "stream",
          "text": [
            "Error retrieving data for 아세아텍 (A050860): '종가'\n"
          ]
        },
        {
          "metadata": {
            "tags": null
          },
          "name": "stderr",
          "output_type": "stream",
          "text": [
            "\rProgress:  50%|████▉     | 990/2000 [21:05<21:50,  1.30s/stock]"
          ]
        },
        {
          "metadata": {
            "tags": null
          },
          "name": "stdout",
          "output_type": "stream",
          "text": [
            "Error retrieving data for 아센디오 (A012170): '종가'\n"
          ]
        },
        {
          "metadata": {
            "tags": null
          },
          "name": "stderr",
          "output_type": "stream",
          "text": [
            "\rProgress:  50%|████▉     | 991/2000 [21:06<21:32,  1.28s/stock]"
          ]
        },
        {
          "metadata": {
            "tags": null
          },
          "name": "stdout",
          "output_type": "stream",
          "text": [
            "Error retrieving data for 아스타 (A246720): '종가'\n"
          ]
        },
        {
          "metadata": {
            "tags": null
          },
          "name": "stderr",
          "output_type": "stream",
          "text": [
            "\rProgress:  50%|████▉     | 992/2000 [21:08<21:26,  1.28s/stock]"
          ]
        },
        {
          "metadata": {
            "tags": null
          },
          "name": "stdout",
          "output_type": "stream",
          "text": [
            "Error retrieving data for 아스트 (A067390): '종가'\n"
          ]
        },
        {
          "metadata": {
            "tags": null
          },
          "name": "stderr",
          "output_type": "stream",
          "text": [
            "\rProgress:  50%|████▉     | 993/2000 [21:09<21:22,  1.27s/stock]"
          ]
        },
        {
          "metadata": {
            "tags": null
          },
          "name": "stdout",
          "output_type": "stream",
          "text": [
            "Error retrieving data for 아시아경제 (A127710): '종가'\n"
          ]
        },
        {
          "metadata": {
            "tags": null
          },
          "name": "stderr",
          "output_type": "stream",
          "text": [
            "\rProgress:  50%|████▉     | 994/2000 [21:10<21:12,  1.27s/stock]"
          ]
        },
        {
          "metadata": {
            "tags": null
          },
          "name": "stdout",
          "output_type": "stream",
          "text": [
            "Error retrieving data for 아시아나IDT (A267850): '종가'\n"
          ]
        },
        {
          "metadata": {
            "tags": null
          },
          "name": "stderr",
          "output_type": "stream",
          "text": [
            "\rProgress:  50%|████▉     | 995/2000 [21:12<22:51,  1.36s/stock]"
          ]
        },
        {
          "metadata": {
            "tags": null
          },
          "name": "stdout",
          "output_type": "stream",
          "text": [
            "Error retrieving data for 아시아나항공 (A020560): '종가'\n"
          ]
        },
        {
          "metadata": {
            "tags": null
          },
          "name": "stderr",
          "output_type": "stream",
          "text": [
            "\rProgress:  50%|████▉     | 996/2000 [21:13<22:18,  1.33s/stock]"
          ]
        },
        {
          "metadata": {
            "tags": null
          },
          "name": "stdout",
          "output_type": "stream",
          "text": [
            "Error retrieving data for 아이디스 (A143160): '종가'\n"
          ]
        },
        {
          "metadata": {
            "tags": null
          },
          "name": "stderr",
          "output_type": "stream",
          "text": [
            "\rProgress:  50%|████▉     | 997/2000 [21:14<21:50,  1.31s/stock]"
          ]
        },
        {
          "metadata": {
            "tags": null
          },
          "name": "stdout",
          "output_type": "stream",
          "text": [
            "Error retrieving data for 아이디스홀딩스 (A054800): '종가'\n"
          ]
        },
        {
          "metadata": {
            "tags": null
          },
          "name": "stderr",
          "output_type": "stream",
          "text": [
            "\rProgress:  50%|████▉     | 998/2000 [21:16<21:45,  1.30s/stock]"
          ]
        },
        {
          "metadata": {
            "tags": null
          },
          "name": "stdout",
          "output_type": "stream",
          "text": [
            "Error retrieving data for 아이디피 (A332370): '종가'\n"
          ]
        },
        {
          "metadata": {
            "tags": null
          },
          "name": "stderr",
          "output_type": "stream",
          "text": [
            "\rProgress:  50%|████▉     | 999/2000 [21:17<21:27,  1.29s/stock]"
          ]
        },
        {
          "metadata": {
            "tags": null
          },
          "name": "stdout",
          "output_type": "stream",
          "text": [
            "Error retrieving data for 아이마켓코리아 (A122900): '종가'\n"
          ]
        },
        {
          "metadata": {
            "tags": null
          },
          "name": "stderr",
          "output_type": "stream",
          "text": [
            "\rProgress:  50%|█████     | 1000/2000 [21:18<21:16,  1.28s/stock]"
          ]
        },
        {
          "metadata": {
            "tags": null
          },
          "name": "stdout",
          "output_type": "stream",
          "text": [
            "Error retrieving data for 아이비김영 (A339950): '종가'\n"
          ]
        },
        {
          "metadata": {
            "tags": null
          },
          "name": "stderr",
          "output_type": "stream",
          "text": [
            "\rProgress:  50%|█████     | 1001/2000 [21:19<21:02,  1.26s/stock]"
          ]
        },
        {
          "metadata": {
            "tags": null
          },
          "name": "stdout",
          "output_type": "stream",
          "text": [
            "Error retrieving data for 아이센스 (A099190): '종가'\n"
          ]
        },
        {
          "metadata": {
            "tags": null
          },
          "name": "stderr",
          "output_type": "stream",
          "text": [
            "\rProgress:  50%|█████     | 1002/2000 [21:21<21:40,  1.30s/stock]"
          ]
        },
        {
          "metadata": {
            "tags": null
          },
          "name": "stdout",
          "output_type": "stream",
          "text": [
            "Error retrieving data for 아이스크림에듀 (A289010): '종가'\n"
          ]
        },
        {
          "metadata": {
            "tags": null
          },
          "name": "stderr",
          "output_type": "stream",
          "text": [
            "\rProgress:  50%|█████     | 1003/2000 [21:22<21:27,  1.29s/stock]"
          ]
        },
        {
          "metadata": {
            "tags": null
          },
          "name": "stdout",
          "output_type": "stream",
          "text": [
            "Error retrieving data for 아이쓰리시스템 (A214430): '종가'\n"
          ]
        },
        {
          "metadata": {
            "tags": null
          },
          "name": "stderr",
          "output_type": "stream",
          "text": [
            "\rProgress:  50%|█████     | 1004/2000 [21:23<21:12,  1.28s/stock]"
          ]
        },
        {
          "metadata": {
            "tags": null
          },
          "name": "stdout",
          "output_type": "stream",
          "text": [
            "Error retrieving data for 아이씨디 (A040910): '종가'\n"
          ]
        },
        {
          "metadata": {
            "tags": null
          },
          "name": "stderr",
          "output_type": "stream",
          "text": [
            "\rProgress:  50%|█████     | 1005/2000 [21:24<20:59,  1.27s/stock]"
          ]
        },
        {
          "metadata": {
            "tags": null
          },
          "name": "stdout",
          "output_type": "stream",
          "text": [
            "Error retrieving data for 아이앤씨 (A052860): '종가'\n"
          ]
        },
        {
          "metadata": {
            "tags": null
          },
          "name": "stderr",
          "output_type": "stream",
          "text": [
            "\rProgress:  50%|█████     | 1006/2000 [21:26<20:55,  1.26s/stock]"
          ]
        },
        {
          "metadata": {
            "tags": null
          },
          "name": "stdout",
          "output_type": "stream",
          "text": [
            "Error retrieving data for 아이에스동서 (A010780): '종가'\n"
          ]
        },
        {
          "metadata": {
            "tags": null
          },
          "name": "stderr",
          "output_type": "stream",
          "text": [
            "\rProgress:  50%|█████     | 1007/2000 [21:27<20:51,  1.26s/stock]"
          ]
        },
        {
          "metadata": {
            "tags": null
          },
          "name": "stdout",
          "output_type": "stream",
          "text": [
            "Error retrieving data for 아이에스이커머스 (A069920): '종가'\n"
          ]
        },
        {
          "metadata": {
            "tags": null
          },
          "name": "stderr",
          "output_type": "stream",
          "text": [
            "\rProgress:  50%|█████     | 1008/2000 [21:28<20:44,  1.25s/stock]"
          ]
        },
        {
          "metadata": {
            "tags": null
          },
          "name": "stdout",
          "output_type": "stream",
          "text": [
            "Error retrieving data for 아이에이 (A038880): '종가'\n"
          ]
        },
        {
          "metadata": {
            "tags": null
          },
          "name": "stderr",
          "output_type": "stream",
          "text": [
            "\rProgress:  50%|█████     | 1009/2000 [21:29<20:41,  1.25s/stock]"
          ]
        },
        {
          "metadata": {
            "tags": null
          },
          "name": "stdout",
          "output_type": "stream",
          "text": [
            "Error retrieving data for 아이엘사이언스 (A307180): '종가'\n"
          ]
        },
        {
          "metadata": {
            "tags": null
          },
          "name": "stderr",
          "output_type": "stream",
          "text": [
            "\rProgress:  50%|█████     | 1010/2000 [21:31<20:40,  1.25s/stock]"
          ]
        },
        {
          "metadata": {
            "tags": null
          },
          "name": "stdout",
          "output_type": "stream",
          "text": [
            "Error retrieving data for 아이엠 (A101390): '종가'\n"
          ]
        },
        {
          "metadata": {
            "tags": null
          },
          "name": "stderr",
          "output_type": "stream",
          "text": [
            "\rProgress:  51%|█████     | 1011/2000 [21:32<20:39,  1.25s/stock]"
          ]
        },
        {
          "metadata": {
            "tags": null
          },
          "name": "stdout",
          "output_type": "stream",
          "text": [
            "Error retrieving data for 아이윈 (A090150): '종가'\n"
          ]
        },
        {
          "metadata": {
            "tags": null
          },
          "name": "stderr",
          "output_type": "stream",
          "text": [
            "\rProgress:  51%|█████     | 1012/2000 [21:33<20:39,  1.25s/stock]"
          ]
        },
        {
          "metadata": {
            "tags": null
          },
          "name": "stdout",
          "output_type": "stream",
          "text": [
            "Error retrieving data for 아이윈플러스 (A123010): '종가'\n"
          ]
        },
        {
          "metadata": {
            "tags": null
          },
          "name": "stderr",
          "output_type": "stream",
          "text": [
            "\rProgress:  51%|█████     | 1013/2000 [21:34<20:35,  1.25s/stock]"
          ]
        },
        {
          "metadata": {
            "tags": null
          },
          "name": "stdout",
          "output_type": "stream",
          "text": [
            "Error retrieving data for 아이즈비전 (A031310): '종가'\n"
          ]
        },
        {
          "metadata": {
            "tags": null
          },
          "name": "stderr",
          "output_type": "stream",
          "text": [
            "\rProgress:  51%|█████     | 1014/2000 [21:36<20:30,  1.25s/stock]"
          ]
        },
        {
          "metadata": {
            "tags": null
          },
          "name": "stdout",
          "output_type": "stream",
          "text": [
            "Error retrieving data for 아이진 (A185490): '종가'\n"
          ]
        },
        {
          "metadata": {
            "tags": null
          },
          "name": "stderr",
          "output_type": "stream",
          "text": [
            "\rProgress:  51%|█████     | 1015/2000 [21:37<20:33,  1.25s/stock]"
          ]
        },
        {
          "metadata": {
            "tags": null
          },
          "name": "stdout",
          "output_type": "stream",
          "text": [
            "Error retrieving data for 아이컴포넌트 (A059100): '종가'\n"
          ]
        },
        {
          "metadata": {
            "tags": null
          },
          "name": "stderr",
          "output_type": "stream",
          "text": [
            "\rProgress:  51%|█████     | 1016/2000 [21:38<20:32,  1.25s/stock]"
          ]
        },
        {
          "metadata": {
            "tags": null
          },
          "name": "stdout",
          "output_type": "stream",
          "text": [
            "Error retrieving data for 아이퀘스트 (A262840): '종가'\n"
          ]
        },
        {
          "metadata": {
            "tags": null
          },
          "name": "stderr",
          "output_type": "stream",
          "text": [
            "\rProgress:  51%|█████     | 1017/2000 [21:39<20:26,  1.25s/stock]"
          ]
        },
        {
          "metadata": {
            "tags": null
          },
          "name": "stdout",
          "output_type": "stream",
          "text": [
            "Error retrieving data for 아이큐어 (A175250): '종가'\n"
          ]
        },
        {
          "metadata": {
            "tags": null
          },
          "name": "stderr",
          "output_type": "stream",
          "text": [
            "\rProgress:  51%|█████     | 1018/2000 [21:41<20:45,  1.27s/stock]"
          ]
        },
        {
          "metadata": {
            "tags": null
          },
          "name": "stdout",
          "output_type": "stream",
          "text": [
            "Error retrieving data for 아이크래프트 (A052460): '종가'\n"
          ]
        },
        {
          "metadata": {
            "tags": null
          },
          "name": "stderr",
          "output_type": "stream",
          "text": [
            "\rProgress:  51%|█████     | 1019/2000 [21:42<20:40,  1.26s/stock]"
          ]
        },
        {
          "metadata": {
            "tags": null
          },
          "name": "stdout",
          "output_type": "stream",
          "text": [
            "Error retrieving data for 아이텍 (A119830): '종가'\n"
          ]
        },
        {
          "metadata": {
            "tags": null
          },
          "name": "stderr",
          "output_type": "stream",
          "text": [
            "\rProgress:  51%|█████     | 1020/2000 [21:43<20:36,  1.26s/stock]"
          ]
        },
        {
          "metadata": {
            "tags": null
          },
          "name": "stdout",
          "output_type": "stream",
          "text": [
            "Error retrieving data for 아이티센 (A124500): '종가'\n"
          ]
        },
        {
          "metadata": {
            "tags": null
          },
          "name": "stderr",
          "output_type": "stream",
          "text": [
            "\rProgress:  51%|█████     | 1021/2000 [21:45<20:37,  1.26s/stock]"
          ]
        },
        {
          "metadata": {
            "tags": null
          },
          "name": "stdout",
          "output_type": "stream",
          "text": [
            "Error retrieving data for 아이티엠반도체 (A084850): '종가'\n"
          ]
        },
        {
          "metadata": {
            "tags": null
          },
          "name": "stderr",
          "output_type": "stream",
          "text": [
            "\rProgress:  51%|█████     | 1022/2000 [21:46<20:36,  1.26s/stock]"
          ]
        },
        {
          "metadata": {
            "tags": null
          },
          "name": "stdout",
          "output_type": "stream",
          "text": [
            "Error retrieving data for 아주IB투자 (A027360): '종가'\n"
          ]
        },
        {
          "metadata": {
            "tags": null
          },
          "name": "stderr",
          "output_type": "stream",
          "text": [
            "\rProgress:  51%|█████     | 1023/2000 [21:47<20:32,  1.26s/stock]"
          ]
        },
        {
          "metadata": {
            "tags": null
          },
          "name": "stdout",
          "output_type": "stream",
          "text": [
            "Error retrieving data for 아진산업 (A013310): '종가'\n"
          ]
        },
        {
          "metadata": {
            "tags": null
          },
          "name": "stderr",
          "output_type": "stream",
          "text": [
            "\rProgress:  51%|█████     | 1024/2000 [21:48<20:30,  1.26s/stock]"
          ]
        },
        {
          "metadata": {
            "tags": null
          },
          "name": "stdout",
          "output_type": "stream",
          "text": [
            "Error retrieving data for 아진엑스텍 (A059120): '종가'\n"
          ]
        },
        {
          "metadata": {
            "tags": null
          },
          "name": "stderr",
          "output_type": "stream",
          "text": [
            "\rProgress:  51%|█████▏    | 1025/2000 [21:50<20:25,  1.26s/stock]"
          ]
        },
        {
          "metadata": {
            "tags": null
          },
          "name": "stdout",
          "output_type": "stream",
          "text": [
            "Error retrieving data for 아톤 (A158430): '종가'\n"
          ]
        },
        {
          "metadata": {
            "tags": null
          },
          "name": "stderr",
          "output_type": "stream",
          "text": [
            "\rProgress:  51%|█████▏    | 1026/2000 [21:51<20:29,  1.26s/stock]"
          ]
        },
        {
          "metadata": {
            "tags": null
          },
          "name": "stdout",
          "output_type": "stream",
          "text": [
            "Error retrieving data for 아프리카TV (A067160): '종가'\n"
          ]
        },
        {
          "metadata": {
            "tags": null
          },
          "name": "stderr",
          "output_type": "stream",
          "text": [
            "\rProgress:  51%|█████▏    | 1027/2000 [21:52<20:26,  1.26s/stock]"
          ]
        },
        {
          "metadata": {
            "tags": null
          },
          "name": "stdout",
          "output_type": "stream",
          "text": [
            "Error retrieving data for 안국약품 (A001540): '종가'\n"
          ]
        },
        {
          "metadata": {
            "tags": null
          },
          "name": "stderr",
          "output_type": "stream",
          "text": [
            "\rProgress:  51%|█████▏    | 1028/2000 [21:53<20:23,  1.26s/stock]"
          ]
        },
        {
          "metadata": {
            "tags": null
          },
          "name": "stdout",
          "output_type": "stream",
          "text": [
            "Error retrieving data for 안랩 (A053800): '종가'\n"
          ]
        },
        {
          "metadata": {
            "tags": null
          },
          "name": "stderr",
          "output_type": "stream",
          "text": [
            "\rProgress:  51%|█████▏    | 1029/2000 [21:55<20:31,  1.27s/stock]"
          ]
        },
        {
          "metadata": {
            "tags": null
          },
          "name": "stdout",
          "output_type": "stream",
          "text": [
            "Error retrieving data for 안트로젠 (A065660): '종가'\n"
          ]
        },
        {
          "metadata": {
            "tags": null
          },
          "name": "stderr",
          "output_type": "stream",
          "text": [
            "\rProgress:  52%|█████▏    | 1030/2000 [21:56<20:34,  1.27s/stock]"
          ]
        },
        {
          "metadata": {
            "tags": null
          },
          "name": "stdout",
          "output_type": "stream",
          "text": [
            "Error retrieving data for 알로이스 (A297570): '종가'\n"
          ]
        },
        {
          "metadata": {
            "tags": null
          },
          "name": "stderr",
          "output_type": "stream",
          "text": [
            "\rProgress:  52%|█████▏    | 1031/2000 [21:57<20:28,  1.27s/stock]"
          ]
        },
        {
          "metadata": {
            "tags": null
          },
          "name": "stdout",
          "output_type": "stream",
          "text": [
            "Error retrieving data for 알루코 (A001780): '종가'\n"
          ]
        },
        {
          "metadata": {
            "tags": null
          },
          "name": "stderr",
          "output_type": "stream",
          "text": [
            "\rProgress:  52%|█████▏    | 1032/2000 [21:58<20:28,  1.27s/stock]"
          ]
        },
        {
          "metadata": {
            "tags": null
          },
          "name": "stdout",
          "output_type": "stream",
          "text": [
            "Error retrieving data for 알리코제약 (A260660): '종가'\n"
          ]
        },
        {
          "metadata": {
            "tags": null
          },
          "name": "stderr",
          "output_type": "stream",
          "text": [
            "\rProgress:  52%|█████▏    | 1033/2000 [22:00<20:26,  1.27s/stock]"
          ]
        },
        {
          "metadata": {
            "tags": null
          },
          "name": "stdout",
          "output_type": "stream",
          "text": [
            "Error retrieving data for 알비케이그룹 (A215790): '종가'\n"
          ]
        },
        {
          "metadata": {
            "tags": null
          },
          "name": "stderr",
          "output_type": "stream",
          "text": [
            "\rProgress:  52%|█████▏    | 1034/2000 [22:02<22:51,  1.42s/stock]"
          ]
        },
        {
          "metadata": {
            "tags": null
          },
          "name": "stdout",
          "output_type": "stream",
          "text": [
            "Error retrieving data for 알서포트 (A131370): '종가'\n"
          ]
        },
        {
          "metadata": {
            "tags": null
          },
          "name": "stderr",
          "output_type": "stream",
          "text": [
            "\rProgress:  52%|█████▏    | 1035/2000 [22:03<21:59,  1.37s/stock]"
          ]
        },
        {
          "metadata": {
            "tags": null
          },
          "name": "stdout",
          "output_type": "stream",
          "text": [
            "Error retrieving data for 알에스오토메이션 (A140670): '종가'\n"
          ]
        },
        {
          "metadata": {
            "tags": null
          },
          "name": "stderr",
          "output_type": "stream",
          "text": [
            "\rProgress:  52%|█████▏    | 1036/2000 [22:04<21:26,  1.33s/stock]"
          ]
        },
        {
          "metadata": {
            "tags": null
          },
          "name": "stdout",
          "output_type": "stream",
          "text": [
            "Error retrieving data for 알에프세미 (A096610): '종가'\n"
          ]
        },
        {
          "metadata": {
            "tags": null
          },
          "name": "stderr",
          "output_type": "stream",
          "text": [
            "\rProgress:  52%|█████▏    | 1037/2000 [22:05<20:55,  1.30s/stock]"
          ]
        },
        {
          "metadata": {
            "tags": null
          },
          "name": "stdout",
          "output_type": "stream",
          "text": [
            "Error retrieving data for 알에프텍 (A061040): '종가'\n"
          ]
        },
        {
          "metadata": {
            "tags": null
          },
          "name": "stderr",
          "output_type": "stream",
          "text": [
            "\rProgress:  52%|█████▏    | 1038/2000 [22:06<20:34,  1.28s/stock]"
          ]
        },
        {
          "metadata": {
            "tags": null
          },
          "name": "stdout",
          "output_type": "stream",
          "text": [
            "Error retrieving data for 알엔투테크놀로지 (A148250): '종가'\n"
          ]
        },
        {
          "metadata": {
            "tags": null
          },
          "name": "stderr",
          "output_type": "stream",
          "text": [
            "\rProgress:  52%|█████▏    | 1039/2000 [22:08<20:24,  1.27s/stock]"
          ]
        },
        {
          "metadata": {
            "tags": null
          },
          "name": "stdout",
          "output_type": "stream",
          "text": [
            "Error retrieving data for 알체라 (A347860): '종가'\n"
          ]
        },
        {
          "metadata": {
            "tags": null
          },
          "name": "stderr",
          "output_type": "stream",
          "text": [
            "\rProgress:  52%|█████▏    | 1040/2000 [22:09<20:11,  1.26s/stock]"
          ]
        },
        {
          "metadata": {
            "tags": null
          },
          "name": "stdout",
          "output_type": "stream",
          "text": [
            "Error retrieving data for 알테오젠 (A196170): '종가'\n"
          ]
        },
        {
          "metadata": {
            "tags": null
          },
          "name": "stderr",
          "output_type": "stream",
          "text": [
            "\rProgress:  52%|█████▏    | 1041/2000 [22:10<20:04,  1.26s/stock]"
          ]
        },
        {
          "metadata": {
            "tags": null
          },
          "name": "stdout",
          "output_type": "stream",
          "text": [
            "Error retrieving data for 알톤스포츠 (A123750): '종가'\n"
          ]
        },
        {
          "metadata": {
            "tags": null
          },
          "name": "stderr",
          "output_type": "stream",
          "text": [
            "\rProgress:  52%|█████▏    | 1042/2000 [22:11<20:06,  1.26s/stock]"
          ]
        },
        {
          "metadata": {
            "tags": null
          },
          "name": "stdout",
          "output_type": "stream",
          "text": [
            "Error retrieving data for 알티캐스트 (A085810): '종가'\n"
          ]
        },
        {
          "metadata": {
            "tags": null
          },
          "name": "stderr",
          "output_type": "stream",
          "text": [
            "\rProgress:  52%|█████▏    | 1043/2000 [22:13<20:02,  1.26s/stock]"
          ]
        },
        {
          "metadata": {
            "tags": null
          },
          "name": "stdout",
          "output_type": "stream",
          "text": [
            "Error retrieving data for 압타머사이언스 (A291650): '종가'\n"
          ]
        },
        {
          "metadata": {
            "tags": null
          },
          "name": "stderr",
          "output_type": "stream",
          "text": [
            "\rProgress:  52%|█████▏    | 1044/2000 [22:14<19:57,  1.25s/stock]"
          ]
        },
        {
          "metadata": {
            "tags": null
          },
          "name": "stdout",
          "output_type": "stream",
          "text": [
            "Error retrieving data for 압타바이오 (A293780): '종가'\n"
          ]
        },
        {
          "metadata": {
            "tags": null
          },
          "name": "stderr",
          "output_type": "stream",
          "text": [
            "\rProgress:  52%|█████▏    | 1045/2000 [22:15<19:53,  1.25s/stock]"
          ]
        },
        {
          "metadata": {
            "tags": null
          },
          "name": "stdout",
          "output_type": "stream",
          "text": [
            "Error retrieving data for 애경산업 (A018250): '종가'\n"
          ]
        },
        {
          "metadata": {
            "tags": null
          },
          "name": "stderr",
          "output_type": "stream",
          "text": [
            "\rProgress:  52%|█████▏    | 1046/2000 [22:17<20:04,  1.26s/stock]"
          ]
        },
        {
          "metadata": {
            "tags": null
          },
          "name": "stdout",
          "output_type": "stream",
          "text": [
            "Error retrieving data for 애경케미칼 (A161000): '종가'\n"
          ]
        },
        {
          "metadata": {
            "tags": null
          },
          "name": "stderr",
          "output_type": "stream",
          "text": [
            "\rProgress:  52%|█████▏    | 1047/2000 [22:18<19:56,  1.26s/stock]"
          ]
        },
        {
          "metadata": {
            "tags": null
          },
          "name": "stdout",
          "output_type": "stream",
          "text": [
            "Error retrieving data for 애니젠 (A196300): '종가'\n"
          ]
        },
        {
          "metadata": {
            "tags": null
          },
          "name": "stderr",
          "output_type": "stream",
          "text": [
            "\rProgress:  52%|█████▏    | 1048/2000 [22:19<19:55,  1.26s/stock]"
          ]
        },
        {
          "metadata": {
            "tags": null
          },
          "name": "stdout",
          "output_type": "stream",
          "text": [
            "Error retrieving data for 애니플러스 (A310200): '종가'\n"
          ]
        },
        {
          "metadata": {
            "tags": null
          },
          "name": "stderr",
          "output_type": "stream",
          "text": [
            "\rProgress:  52%|█████▏    | 1049/2000 [22:20<19:51,  1.25s/stock]"
          ]
        },
        {
          "metadata": {
            "tags": null
          },
          "name": "stdout",
          "output_type": "stream",
          "text": [
            "Error retrieving data for 액션스퀘어 (A205500): '종가'\n"
          ]
        },
        {
          "metadata": {
            "tags": null
          },
          "name": "stderr",
          "output_type": "stream",
          "text": [
            "\rProgress:  52%|█████▎    | 1050/2000 [22:22<20:15,  1.28s/stock]"
          ]
        },
        {
          "metadata": {
            "tags": null
          },
          "name": "stdout",
          "output_type": "stream",
          "text": [
            "Error retrieving data for 액토즈소프트 (A052790): '종가'\n"
          ]
        },
        {
          "metadata": {
            "tags": null
          },
          "name": "stderr",
          "output_type": "stream",
          "text": [
            "\rProgress:  53%|█████▎    | 1051/2000 [22:23<22:42,  1.44s/stock]"
          ]
        },
        {
          "metadata": {
            "tags": null
          },
          "name": "stdout",
          "output_type": "stream",
          "text": [
            "Error retrieving data for 액트로 (A290740): '종가'\n"
          ]
        },
        {
          "metadata": {
            "tags": null
          },
          "name": "stderr",
          "output_type": "stream",
          "text": [
            "\rProgress:  53%|█████▎    | 1052/2000 [22:25<21:43,  1.37s/stock]"
          ]
        },
        {
          "metadata": {
            "tags": null
          },
          "name": "stdout",
          "output_type": "stream",
          "text": [
            "Error retrieving data for 앤디포스 (A238090): '종가'\n"
          ]
        },
        {
          "metadata": {
            "tags": null
          },
          "name": "stderr",
          "output_type": "stream",
          "text": [
            "\rProgress:  53%|█████▎    | 1053/2000 [22:26<20:58,  1.33s/stock]"
          ]
        },
        {
          "metadata": {
            "tags": null
          },
          "name": "stdout",
          "output_type": "stream",
          "text": [
            "Error retrieving data for 앱코 (A129890): '종가'\n"
          ]
        },
        {
          "metadata": {
            "tags": null
          },
          "name": "stderr",
          "output_type": "stream",
          "text": [
            "\rProgress:  53%|█████▎    | 1054/2000 [22:27<20:35,  1.31s/stock]"
          ]
        },
        {
          "metadata": {
            "tags": null
          },
          "name": "stdout",
          "output_type": "stream",
          "text": [
            "Error retrieving data for 앱클론 (A174900): '종가'\n"
          ]
        },
        {
          "metadata": {
            "tags": null
          },
          "name": "stderr",
          "output_type": "stream",
          "text": [
            "\rProgress:  53%|█████▎    | 1055/2000 [22:28<20:19,  1.29s/stock]"
          ]
        },
        {
          "metadata": {
            "tags": null
          },
          "name": "stdout",
          "output_type": "stream",
          "text": [
            "Error retrieving data for 야스 (A255440): '종가'\n"
          ]
        },
        {
          "metadata": {
            "tags": null
          },
          "name": "stderr",
          "output_type": "stream",
          "text": [
            "\rProgress:  53%|█████▎    | 1056/2000 [22:30<20:03,  1.27s/stock]"
          ]
        },
        {
          "metadata": {
            "tags": null
          },
          "name": "stdout",
          "output_type": "stream",
          "text": [
            "Error retrieving data for 양지사 (A030960): '종가'\n"
          ]
        },
        {
          "metadata": {
            "tags": null
          },
          "name": "stderr",
          "output_type": "stream",
          "text": [
            "\rProgress:  53%|█████▎    | 1057/2000 [22:31<19:58,  1.27s/stock]"
          ]
        },
        {
          "metadata": {
            "tags": null
          },
          "name": "stdout",
          "output_type": "stream",
          "text": [
            "Error retrieving data for 어반리튬 (A073570): '종가'\n"
          ]
        },
        {
          "metadata": {
            "tags": null
          },
          "name": "stderr",
          "output_type": "stream",
          "text": [
            "\rProgress:  53%|█████▎    | 1058/2000 [22:32<19:44,  1.26s/stock]"
          ]
        },
        {
          "metadata": {
            "tags": null
          },
          "name": "stdout",
          "output_type": "stream",
          "text": [
            "Error retrieving data for 어보브반도체 (A102120): '종가'\n"
          ]
        },
        {
          "metadata": {
            "tags": null
          },
          "name": "stderr",
          "output_type": "stream",
          "text": [
            "\rProgress:  53%|█████▎    | 1059/2000 [22:33<19:35,  1.25s/stock]"
          ]
        },
        {
          "metadata": {
            "tags": null
          },
          "name": "stdout",
          "output_type": "stream",
          "text": [
            "Error retrieving data for 어스앤에어로스페이스 (A263540): '종가'\n"
          ]
        },
        {
          "metadata": {
            "tags": null
          },
          "name": "stderr",
          "output_type": "stream",
          "text": [
            "\rProgress:  53%|█████▎    | 1060/2000 [22:35<19:32,  1.25s/stock]"
          ]
        },
        {
          "metadata": {
            "tags": null
          },
          "name": "stdout",
          "output_type": "stream",
          "text": [
            "Error retrieving data for 얼라인드 (A238120): '종가'\n"
          ]
        },
        {
          "metadata": {
            "tags": null
          },
          "name": "stderr",
          "output_type": "stream",
          "text": [
            "\rProgress:  53%|█████▎    | 1061/2000 [22:36<19:23,  1.24s/stock]"
          ]
        },
        {
          "metadata": {
            "tags": null
          },
          "name": "stdout",
          "output_type": "stream",
          "text": [
            "Error retrieving data for 에너토크 (A019990): '종가'\n"
          ]
        },
        {
          "metadata": {
            "tags": null
          },
          "name": "stderr",
          "output_type": "stream",
          "text": [
            "\rProgress:  53%|█████▎    | 1062/2000 [22:37<19:41,  1.26s/stock]"
          ]
        },
        {
          "metadata": {
            "tags": null
          },
          "name": "stdout",
          "output_type": "stream",
          "text": [
            "Error retrieving data for 에브리봇 (A270660): '종가'\n"
          ]
        },
        {
          "metadata": {
            "tags": null
          },
          "name": "stderr",
          "output_type": "stream",
          "text": [
            "\rProgress:  53%|█████▎    | 1063/2000 [22:38<19:34,  1.25s/stock]"
          ]
        },
        {
          "metadata": {
            "tags": null
          },
          "name": "stdout",
          "output_type": "stream",
          "text": [
            "Error retrieving data for 에스넷 (A038680): '종가'\n"
          ]
        },
        {
          "metadata": {
            "tags": null
          },
          "name": "stderr",
          "output_type": "stream",
          "text": [
            "\rProgress:  53%|█████▎    | 1064/2000 [22:40<19:27,  1.25s/stock]"
          ]
        },
        {
          "metadata": {
            "tags": null
          },
          "name": "stdout",
          "output_type": "stream",
          "text": [
            "Error retrieving data for 에스맥 (A097780): '종가'\n"
          ]
        },
        {
          "metadata": {
            "tags": null
          },
          "name": "stderr",
          "output_type": "stream",
          "text": [
            "\rProgress:  53%|█████▎    | 1065/2000 [22:41<19:25,  1.25s/stock]"
          ]
        },
        {
          "metadata": {
            "tags": null
          },
          "name": "stdout",
          "output_type": "stream",
          "text": [
            "Error retrieving data for 에스씨디 (A042110): '종가'\n"
          ]
        },
        {
          "metadata": {
            "tags": null
          },
          "name": "stderr",
          "output_type": "stream",
          "text": [
            "\rProgress:  53%|█████▎    | 1066/2000 [22:42<19:53,  1.28s/stock]"
          ]
        },
        {
          "metadata": {
            "tags": null
          },
          "name": "stdout",
          "output_type": "stream",
          "text": [
            "Error retrieving data for 에스씨엠생명과학 (A298060): '종가'\n"
          ]
        },
        {
          "metadata": {
            "tags": null
          },
          "name": "stderr",
          "output_type": "stream",
          "text": [
            "\rProgress:  53%|█████▎    | 1067/2000 [22:44<20:15,  1.30s/stock]"
          ]
        },
        {
          "metadata": {
            "tags": null
          },
          "name": "stdout",
          "output_type": "stream",
          "text": [
            "Error retrieving data for 에스앤디 (A260970): '종가'\n"
          ]
        },
        {
          "metadata": {
            "tags": null
          },
          "name": "stderr",
          "output_type": "stream",
          "text": [
            "\rProgress:  53%|█████▎    | 1068/2000 [22:45<20:49,  1.34s/stock]"
          ]
        },
        {
          "metadata": {
            "tags": null
          },
          "name": "stdout",
          "output_type": "stream",
          "text": [
            "Error retrieving data for 에스앤에스텍 (A101490): '종가'\n"
          ]
        },
        {
          "metadata": {
            "tags": null
          },
          "name": "stderr",
          "output_type": "stream",
          "text": [
            "\rProgress:  53%|█████▎    | 1069/2000 [22:46<20:33,  1.32s/stock]"
          ]
        },
        {
          "metadata": {
            "tags": null
          },
          "name": "stdout",
          "output_type": "stream",
          "text": [
            "Error retrieving data for 에스에너지 (A095910): '종가'\n"
          ]
        },
        {
          "metadata": {
            "tags": null
          },
          "name": "stderr",
          "output_type": "stream",
          "text": [
            "\rProgress:  54%|█████▎    | 1070/2000 [22:48<20:20,  1.31s/stock]"
          ]
        },
        {
          "metadata": {
            "tags": null
          },
          "name": "stdout",
          "output_type": "stream",
          "text": [
            "Error retrieving data for 에스에이엠티 (A031330): '종가'\n"
          ]
        },
        {
          "metadata": {
            "tags": null
          },
          "name": "stderr",
          "output_type": "stream",
          "text": [
            "\rProgress:  54%|█████▎    | 1071/2000 [22:49<20:10,  1.30s/stock]"
          ]
        },
        {
          "metadata": {
            "tags": null
          },
          "name": "stdout",
          "output_type": "stream",
          "text": [
            "Error retrieving data for 에스에이티 (A060540): '종가'\n"
          ]
        },
        {
          "metadata": {
            "tags": null
          },
          "name": "stderr",
          "output_type": "stream",
          "text": [
            "\rProgress:  54%|█████▎    | 1072/2000 [22:50<20:02,  1.30s/stock]"
          ]
        },
        {
          "metadata": {
            "tags": null
          },
          "name": "stdout",
          "output_type": "stream",
          "text": [
            "Error retrieving data for 에스에이티이엔지 (A351320): '종가'\n"
          ]
        },
        {
          "metadata": {
            "tags": null
          },
          "name": "stderr",
          "output_type": "stream",
          "text": [
            "\rProgress:  54%|█████▎    | 1073/2000 [22:51<20:13,  1.31s/stock]"
          ]
        },
        {
          "metadata": {
            "tags": null
          },
          "name": "stdout",
          "output_type": "stream",
          "text": [
            "Error retrieving data for 에스에프에이 (A056190): '종가'\n"
          ]
        },
        {
          "metadata": {
            "tags": null
          },
          "name": "stderr",
          "output_type": "stream",
          "text": [
            "\rProgress:  54%|█████▎    | 1074/2000 [22:53<20:20,  1.32s/stock]"
          ]
        },
        {
          "metadata": {
            "tags": null
          },
          "name": "stdout",
          "output_type": "stream",
          "text": [
            "Error retrieving data for 에스엔유 (A080000): '종가'\n"
          ]
        },
        {
          "metadata": {
            "tags": null
          },
          "name": "stderr",
          "output_type": "stream",
          "text": [
            "\rProgress:  54%|█████▍    | 1075/2000 [22:54<20:08,  1.31s/stock]"
          ]
        },
        {
          "metadata": {
            "tags": null
          },
          "name": "stdout",
          "output_type": "stream",
          "text": [
            "Error retrieving data for 에스엘 (A005850): '종가'\n"
          ]
        },
        {
          "metadata": {
            "tags": null
          },
          "name": "stderr",
          "output_type": "stream",
          "text": [
            "\rProgress:  54%|█████▍    | 1076/2000 [22:55<20:15,  1.32s/stock]"
          ]
        },
        {
          "metadata": {
            "tags": null
          },
          "name": "stdout",
          "output_type": "stream",
          "text": [
            "Error retrieving data for 에스엠 (A041510): '종가'\n"
          ]
        },
        {
          "metadata": {
            "tags": null
          },
          "name": "stderr",
          "output_type": "stream",
          "text": [
            "\rProgress:  54%|█████▍    | 1077/2000 [22:57<20:13,  1.31s/stock]"
          ]
        },
        {
          "metadata": {
            "tags": null
          },
          "name": "stdout",
          "output_type": "stream",
          "text": [
            "Error retrieving data for 에스엠벡셀 (A010580): '종가'\n"
          ]
        },
        {
          "metadata": {
            "tags": null
          },
          "name": "stderr",
          "output_type": "stream",
          "text": [
            "\rProgress:  54%|█████▍    | 1078/2000 [22:58<20:02,  1.30s/stock]"
          ]
        },
        {
          "metadata": {
            "tags": null
          },
          "name": "stdout",
          "output_type": "stream",
          "text": [
            "Error retrieving data for 에스엠코어 (A007820): '종가'\n"
          ]
        },
        {
          "metadata": {
            "tags": null
          },
          "name": "stderr",
          "output_type": "stream",
          "text": [
            "\rProgress:  54%|█████▍    | 1079/2000 [22:59<20:13,  1.32s/stock]"
          ]
        },
        {
          "metadata": {
            "tags": null
          },
          "name": "stdout",
          "output_type": "stream",
          "text": [
            "Error retrieving data for 에스와이 (A109610): '종가'\n"
          ]
        },
        {
          "metadata": {
            "tags": null
          },
          "name": "stderr",
          "output_type": "stream",
          "text": [
            "\rProgress:  54%|█████▍    | 1080/2000 [23:01<20:01,  1.31s/stock]"
          ]
        },
        {
          "metadata": {
            "tags": null
          },
          "name": "stdout",
          "output_type": "stream",
          "text": [
            "Error retrieving data for 에스원 (A012750): '종가'\n"
          ]
        },
        {
          "metadata": {
            "tags": null
          },
          "name": "stderr",
          "output_type": "stream",
          "text": [
            "\rProgress:  54%|█████▍    | 1081/2000 [23:02<20:10,  1.32s/stock]"
          ]
        },
        {
          "metadata": {
            "tags": null
          },
          "name": "stdout",
          "output_type": "stream",
          "text": [
            "Error retrieving data for 에스제이그룹 (A306040): '종가'\n"
          ]
        },
        {
          "metadata": {
            "tags": null
          },
          "name": "stderr",
          "output_type": "stream",
          "text": [
            "\rProgress:  54%|█████▍    | 1082/2000 [23:03<19:47,  1.29s/stock]"
          ]
        },
        {
          "metadata": {
            "tags": null
          },
          "name": "stdout",
          "output_type": "stream",
          "text": [
            "Error retrieving data for 에스코넥 (A096630): '종가'\n"
          ]
        },
        {
          "metadata": {
            "tags": null
          },
          "name": "stderr",
          "output_type": "stream",
          "text": [
            "\rProgress:  54%|█████▍    | 1083/2000 [23:04<19:32,  1.28s/stock]"
          ]
        },
        {
          "metadata": {
            "tags": null
          },
          "name": "stdout",
          "output_type": "stream",
          "text": [
            "Error retrieving data for 에스텍 (A069510): '종가'\n"
          ]
        },
        {
          "metadata": {
            "tags": null
          },
          "name": "stderr",
          "output_type": "stream",
          "text": [
            "\rProgress:  54%|█████▍    | 1084/2000 [23:06<20:05,  1.32s/stock]"
          ]
        },
        {
          "metadata": {
            "tags": null
          },
          "name": "stdout",
          "output_type": "stream",
          "text": [
            "Error retrieving data for 에스텍파마 (A041910): '종가'\n"
          ]
        },
        {
          "metadata": {
            "tags": null
          },
          "name": "stderr",
          "output_type": "stream",
          "text": [
            "\rProgress:  54%|█████▍    | 1085/2000 [23:07<19:42,  1.29s/stock]"
          ]
        },
        {
          "metadata": {
            "tags": null
          },
          "name": "stdout",
          "output_type": "stream",
          "text": [
            "Error retrieving data for 에스트래픽 (A234300): '종가'\n"
          ]
        },
        {
          "metadata": {
            "tags": null
          },
          "name": "stderr",
          "output_type": "stream",
          "text": [
            "\rProgress:  54%|█████▍    | 1086/2000 [23:08<19:22,  1.27s/stock]"
          ]
        },
        {
          "metadata": {
            "tags": null
          },
          "name": "stdout",
          "output_type": "stream",
          "text": [
            "Error retrieving data for 에스티아이 (A039440): '종가'\n"
          ]
        },
        {
          "metadata": {
            "tags": null
          },
          "name": "stderr",
          "output_type": "stream",
          "text": [
            "\rProgress:  54%|█████▍    | 1087/2000 [23:10<19:11,  1.26s/stock]"
          ]
        },
        {
          "metadata": {
            "tags": null
          },
          "name": "stdout",
          "output_type": "stream",
          "text": [
            "Error retrieving data for 에스티큐브 (A052020): '종가'\n"
          ]
        },
        {
          "metadata": {
            "tags": null
          },
          "name": "stderr",
          "output_type": "stream",
          "text": [
            "\rProgress:  54%|█████▍    | 1088/2000 [23:11<19:10,  1.26s/stock]"
          ]
        },
        {
          "metadata": {
            "tags": null
          },
          "name": "stdout",
          "output_type": "stream",
          "text": [
            "Error retrieving data for 에스티팜 (A237690): '종가'\n"
          ]
        },
        {
          "metadata": {
            "tags": null
          },
          "name": "stderr",
          "output_type": "stream",
          "text": [
            "\rProgress:  54%|█████▍    | 1089/2000 [23:12<19:03,  1.25s/stock]"
          ]
        },
        {
          "metadata": {
            "tags": null
          },
          "name": "stdout",
          "output_type": "stream",
          "text": [
            "Error retrieving data for 에스퓨얼셀 (A288620): '종가'\n"
          ]
        },
        {
          "metadata": {
            "tags": null
          },
          "name": "stderr",
          "output_type": "stream",
          "text": [
            "\rProgress:  55%|█████▍    | 1090/2000 [23:13<18:55,  1.25s/stock]"
          ]
        },
        {
          "metadata": {
            "tags": null
          },
          "name": "stdout",
          "output_type": "stream",
          "text": [
            "Error retrieving data for 에스피시스템스 (A317830): '종가'\n"
          ]
        },
        {
          "metadata": {
            "tags": null
          },
          "name": "stderr",
          "output_type": "stream",
          "text": [
            "\rProgress:  55%|█████▍    | 1091/2000 [23:14<18:55,  1.25s/stock]"
          ]
        },
        {
          "metadata": {
            "tags": null
          },
          "name": "stdout",
          "output_type": "stream",
          "text": [
            "Error retrieving data for 에스피지 (A058610): '종가'\n"
          ]
        },
        {
          "metadata": {
            "tags": null
          },
          "name": "stderr",
          "output_type": "stream",
          "text": [
            "\rProgress:  55%|█████▍    | 1092/2000 [23:16<18:51,  1.25s/stock]"
          ]
        },
        {
          "metadata": {
            "tags": null
          },
          "name": "stdout",
          "output_type": "stream",
          "text": [
            "Error retrieving data for 에쎈테크 (A043340): '종가'\n"
          ]
        },
        {
          "metadata": {
            "tags": null
          },
          "name": "stderr",
          "output_type": "stream",
          "text": [
            "\rProgress:  55%|█████▍    | 1093/2000 [23:17<19:00,  1.26s/stock]"
          ]
        },
        {
          "metadata": {
            "tags": null
          },
          "name": "stdout",
          "output_type": "stream",
          "text": [
            "Error retrieving data for 에쓰씨엔지니어링 (A023960): '종가'\n"
          ]
        },
        {
          "metadata": {
            "tags": null
          },
          "name": "stderr",
          "output_type": "stream",
          "text": [
            "\rProgress:  55%|█████▍    | 1094/2000 [23:18<18:56,  1.25s/stock]"
          ]
        },
        {
          "metadata": {
            "tags": null
          },
          "name": "stdout",
          "output_type": "stream",
          "text": [
            "Error retrieving data for 에어부산 (A298690): '종가'\n"
          ]
        },
        {
          "metadata": {
            "tags": null
          },
          "name": "stderr",
          "output_type": "stream",
          "text": [
            "\rProgress:  55%|█████▍    | 1095/2000 [23:20<18:52,  1.25s/stock]"
          ]
        },
        {
          "metadata": {
            "tags": null
          },
          "name": "stdout",
          "output_type": "stream",
          "text": [
            "Error retrieving data for 에이디테크놀로지 (A200710): '종가'\n"
          ]
        },
        {
          "metadata": {
            "tags": null
          },
          "name": "stderr",
          "output_type": "stream",
          "text": [
            "\rProgress:  55%|█████▍    | 1096/2000 [23:21<18:49,  1.25s/stock]"
          ]
        },
        {
          "metadata": {
            "tags": null
          },
          "name": "stdout",
          "output_type": "stream",
          "text": [
            "Error retrieving data for 에이루트 (A096690): '종가'\n"
          ]
        },
        {
          "metadata": {
            "tags": null
          },
          "name": "stderr",
          "output_type": "stream",
          "text": [
            "\rProgress:  55%|█████▍    | 1097/2000 [23:22<19:11,  1.27s/stock]"
          ]
        },
        {
          "metadata": {
            "tags": null
          },
          "name": "stdout",
          "output_type": "stream",
          "text": [
            "Error retrieving data for 에이블씨엔씨 (A078520): '종가'\n"
          ]
        },
        {
          "metadata": {
            "tags": null
          },
          "name": "stderr",
          "output_type": "stream",
          "text": [
            "\rProgress:  55%|█████▍    | 1098/2000 [23:23<19:08,  1.27s/stock]"
          ]
        },
        {
          "metadata": {
            "tags": null
          },
          "name": "stdout",
          "output_type": "stream",
          "text": [
            "Error retrieving data for 에이비엘바이오 (A298380): '종가'\n"
          ]
        },
        {
          "metadata": {
            "tags": null
          },
          "name": "stderr",
          "output_type": "stream",
          "text": [
            "\rProgress:  55%|█████▍    | 1099/2000 [23:25<19:08,  1.27s/stock]"
          ]
        },
        {
          "metadata": {
            "tags": null
          },
          "name": "stdout",
          "output_type": "stream",
          "text": [
            "Error retrieving data for 에이비온 (A203400): '종가'\n"
          ]
        },
        {
          "metadata": {
            "tags": null
          },
          "name": "stderr",
          "output_type": "stream",
          "text": [
            "\rProgress:  55%|█████▌    | 1100/2000 [23:26<19:09,  1.28s/stock]"
          ]
        },
        {
          "metadata": {
            "tags": null
          },
          "name": "stdout",
          "output_type": "stream",
          "text": [
            "Error retrieving data for 에이비프로바이오 (A195990): '종가'\n"
          ]
        },
        {
          "metadata": {
            "tags": null
          },
          "name": "stderr",
          "output_type": "stream",
          "text": [
            "\rProgress:  55%|█████▌    | 1101/2000 [23:27<19:08,  1.28s/stock]"
          ]
        },
        {
          "metadata": {
            "tags": null
          },
          "name": "stdout",
          "output_type": "stream",
          "text": [
            "Error retrieving data for 에이스침대 (A003800): '종가'\n"
          ]
        },
        {
          "metadata": {
            "tags": null
          },
          "name": "stderr",
          "output_type": "stream",
          "text": [
            "\rProgress:  55%|█████▌    | 1102/2000 [23:28<19:05,  1.28s/stock]"
          ]
        },
        {
          "metadata": {
            "tags": null
          },
          "name": "stdout",
          "output_type": "stream",
          "text": [
            "Error retrieving data for 에이스테크 (A088800): '종가'\n"
          ]
        },
        {
          "metadata": {
            "tags": null
          },
          "name": "stderr",
          "output_type": "stream",
          "text": [
            "\rProgress:  55%|█████▌    | 1103/2000 [23:30<19:05,  1.28s/stock]"
          ]
        },
        {
          "metadata": {
            "tags": null
          },
          "name": "stdout",
          "output_type": "stream",
          "text": [
            "Error retrieving data for 에이스토리 (A241840): '종가'\n"
          ]
        },
        {
          "metadata": {
            "tags": null
          },
          "name": "stderr",
          "output_type": "stream",
          "text": [
            "\rProgress:  55%|█████▌    | 1104/2000 [23:31<19:12,  1.29s/stock]"
          ]
        },
        {
          "metadata": {
            "tags": null
          },
          "name": "stdout",
          "output_type": "stream",
          "text": [
            "Error retrieving data for 에이에프더블류 (A312610): '종가'\n"
          ]
        },
        {
          "metadata": {
            "tags": null
          },
          "name": "stderr",
          "output_type": "stream",
          "text": [
            "\rProgress:  55%|█████▌    | 1105/2000 [23:33<20:01,  1.34s/stock]"
          ]
        },
        {
          "metadata": {
            "tags": null
          },
          "name": "stdout",
          "output_type": "stream",
          "text": [
            "Error retrieving data for 에이엔피 (A015260): '종가'\n"
          ]
        },
        {
          "metadata": {
            "tags": null
          },
          "name": "stderr",
          "output_type": "stream",
          "text": [
            "\rProgress:  55%|█████▌    | 1106/2000 [23:34<19:39,  1.32s/stock]"
          ]
        },
        {
          "metadata": {
            "tags": null
          },
          "name": "stdout",
          "output_type": "stream",
          "text": [
            "Error retrieving data for 에이치시티 (A072990): '종가'\n"
          ]
        },
        {
          "metadata": {
            "tags": null
          },
          "name": "stderr",
          "output_type": "stream",
          "text": [
            "\rProgress:  55%|█████▌    | 1107/2000 [23:35<19:27,  1.31s/stock]"
          ]
        },
        {
          "metadata": {
            "tags": null
          },
          "name": "stdout",
          "output_type": "stream",
          "text": [
            "Error retrieving data for 에이치앤비디자인 (A227100): '종가'\n"
          ]
        },
        {
          "metadata": {
            "tags": null
          },
          "name": "stderr",
          "output_type": "stream",
          "text": [
            "\rProgress:  55%|█████▌    | 1108/2000 [23:36<19:21,  1.30s/stock]"
          ]
        },
        {
          "metadata": {
            "tags": null
          },
          "name": "stdout",
          "output_type": "stream",
          "text": [
            "Error retrieving data for 에이치엘사이언스 (A239610): '종가'\n"
          ]
        },
        {
          "metadata": {
            "tags": null
          },
          "name": "stderr",
          "output_type": "stream",
          "text": [
            "\rProgress:  55%|█████▌    | 1109/2000 [23:38<19:09,  1.29s/stock]"
          ]
        },
        {
          "metadata": {
            "tags": null
          },
          "name": "stdout",
          "output_type": "stream",
          "text": [
            "Error retrieving data for 에이치피오 (A357230): '종가'\n"
          ]
        },
        {
          "metadata": {
            "tags": null
          },
          "name": "stderr",
          "output_type": "stream",
          "text": [
            "\rProgress:  56%|█████▌    | 1110/2000 [23:39<19:02,  1.28s/stock]"
          ]
        },
        {
          "metadata": {
            "tags": null
          },
          "name": "stdout",
          "output_type": "stream",
          "text": [
            "Error retrieving data for 에이테크솔루션 (A071670): '종가'\n"
          ]
        },
        {
          "metadata": {
            "tags": null
          },
          "name": "stderr",
          "output_type": "stream",
          "text": [
            "\rProgress:  56%|█████▌    | 1111/2000 [23:40<19:02,  1.29s/stock]"
          ]
        },
        {
          "metadata": {
            "tags": null
          },
          "name": "stdout",
          "output_type": "stream",
          "text": [
            "Error retrieving data for 에이텍 (A045660): '종가'\n"
          ]
        },
        {
          "metadata": {
            "tags": null
          },
          "name": "stderr",
          "output_type": "stream",
          "text": [
            "\rProgress:  56%|█████▌    | 1112/2000 [23:41<19:00,  1.28s/stock]"
          ]
        },
        {
          "metadata": {
            "tags": null
          },
          "name": "stdout",
          "output_type": "stream",
          "text": [
            "Error retrieving data for 에이텍모빌리티 (A224110): '종가'\n"
          ]
        },
        {
          "metadata": {
            "tags": null
          },
          "name": "stderr",
          "output_type": "stream",
          "text": [
            "\rProgress:  56%|█████▌    | 1113/2000 [23:43<19:21,  1.31s/stock]"
          ]
        },
        {
          "metadata": {
            "tags": null
          },
          "name": "stdout",
          "output_type": "stream",
          "text": [
            "Error retrieving data for 에이트원 (A230980): '종가'\n"
          ]
        },
        {
          "metadata": {
            "tags": null
          },
          "name": "stderr",
          "output_type": "stream",
          "text": [
            "\rProgress:  56%|█████▌    | 1114/2000 [23:44<19:06,  1.29s/stock]"
          ]
        },
        {
          "metadata": {
            "tags": null
          },
          "name": "stdout",
          "output_type": "stream",
          "text": [
            "Error retrieving data for 에이티넘인베스트 (A021080): '종가'\n"
          ]
        },
        {
          "metadata": {
            "tags": null
          },
          "name": "stderr",
          "output_type": "stream",
          "text": [
            "\rProgress:  56%|█████▌    | 1115/2000 [23:45<19:05,  1.29s/stock]"
          ]
        },
        {
          "metadata": {
            "tags": null
          },
          "name": "stdout",
          "output_type": "stream",
          "text": [
            "Error retrieving data for 에이팩트 (A200470): '종가'\n"
          ]
        },
        {
          "metadata": {
            "tags": null
          },
          "name": "stderr",
          "output_type": "stream",
          "text": [
            "\rProgress:  56%|█████▌    | 1116/2000 [23:47<18:51,  1.28s/stock]"
          ]
        },
        {
          "metadata": {
            "tags": null
          },
          "name": "stdout",
          "output_type": "stream",
          "text": [
            "Error retrieving data for 에이프로 (A262260): '종가'\n"
          ]
        },
        {
          "metadata": {
            "tags": null
          },
          "name": "stderr",
          "output_type": "stream",
          "text": [
            "\rProgress:  56%|█████▌    | 1117/2000 [23:48<18:52,  1.28s/stock]"
          ]
        },
        {
          "metadata": {
            "tags": null
          },
          "name": "stdout",
          "output_type": "stream",
          "text": [
            "Error retrieving data for 에이프로젠 (A007460): '종가'\n"
          ]
        },
        {
          "metadata": {
            "tags": null
          },
          "name": "stderr",
          "output_type": "stream",
          "text": [
            "\rProgress:  56%|█████▌    | 1118/2000 [23:49<18:42,  1.27s/stock]"
          ]
        },
        {
          "metadata": {
            "tags": null
          },
          "name": "stdout",
          "output_type": "stream",
          "text": [
            "Error retrieving data for 에이프로젠 H&G (A109960): '종가'\n"
          ]
        },
        {
          "metadata": {
            "tags": null
          },
          "name": "stderr",
          "output_type": "stream",
          "text": [
            "\rProgress:  56%|█████▌    | 1119/2000 [23:50<18:41,  1.27s/stock]"
          ]
        },
        {
          "metadata": {
            "tags": null
          },
          "name": "stdout",
          "output_type": "stream",
          "text": [
            "Error retrieving data for 에이프로젠바이오로직스 (A003060): '종가'\n"
          ]
        },
        {
          "metadata": {
            "tags": null
          },
          "name": "stderr",
          "output_type": "stream",
          "text": [
            "\rProgress:  56%|█████▌    | 1120/2000 [23:52<18:42,  1.28s/stock]"
          ]
        },
        {
          "metadata": {
            "tags": null
          },
          "name": "stdout",
          "output_type": "stream",
          "text": [
            "Error retrieving data for 에이플러스에셋 (A244920): '종가'\n"
          ]
        },
        {
          "metadata": {
            "tags": null
          },
          "name": "stderr",
          "output_type": "stream",
          "text": [
            "\rProgress:  56%|█████▌    | 1121/2000 [23:53<19:14,  1.31s/stock]"
          ]
        },
        {
          "metadata": {
            "tags": null
          },
          "name": "stdout",
          "output_type": "stream",
          "text": [
            "Error retrieving data for 에이피티씨 (A089970): '종가'\n"
          ]
        },
        {
          "metadata": {
            "tags": null
          },
          "name": "stderr",
          "output_type": "stream",
          "text": [
            "\rProgress:  56%|█████▌    | 1122/2000 [23:54<18:54,  1.29s/stock]"
          ]
        },
        {
          "metadata": {
            "tags": null
          },
          "name": "stdout",
          "output_type": "stream",
          "text": [
            "Error retrieving data for 에치에프알 (A230240): '종가'\n"
          ]
        },
        {
          "metadata": {
            "tags": null
          },
          "name": "stderr",
          "output_type": "stream",
          "text": [
            "\rProgress:  56%|█████▌    | 1123/2000 [23:56<18:39,  1.28s/stock]"
          ]
        },
        {
          "metadata": {
            "tags": null
          },
          "name": "stdout",
          "output_type": "stream",
          "text": [
            "Error retrieving data for 에코마케팅 (A230360): '종가'\n"
          ]
        },
        {
          "metadata": {
            "tags": null
          },
          "name": "stderr",
          "output_type": "stream",
          "text": [
            "\rProgress:  56%|█████▌    | 1124/2000 [23:57<18:30,  1.27s/stock]"
          ]
        },
        {
          "metadata": {
            "tags": null
          },
          "name": "stdout",
          "output_type": "stream",
          "text": [
            "Error retrieving data for 에코바이오 (A038870): '종가'\n"
          ]
        },
        {
          "metadata": {
            "tags": null
          },
          "name": "stderr",
          "output_type": "stream",
          "text": [
            "\rProgress:  56%|█████▋    | 1125/2000 [23:58<18:27,  1.27s/stock]"
          ]
        },
        {
          "metadata": {
            "tags": null
          },
          "name": "stdout",
          "output_type": "stream",
          "text": [
            "Error retrieving data for 에코앤드림 (A101360): '종가'\n"
          ]
        },
        {
          "metadata": {
            "tags": null
          },
          "name": "stderr",
          "output_type": "stream",
          "text": [
            "\rProgress:  56%|█████▋    | 1126/2000 [23:59<18:21,  1.26s/stock]"
          ]
        },
        {
          "metadata": {
            "tags": null
          },
          "name": "stdout",
          "output_type": "stream",
          "text": [
            "Error retrieving data for 에코캡 (A128540): '종가'\n"
          ]
        },
        {
          "metadata": {
            "tags": null
          },
          "name": "stderr",
          "output_type": "stream",
          "text": [
            "\rProgress:  56%|█████▋    | 1127/2000 [24:01<18:16,  1.26s/stock]"
          ]
        },
        {
          "metadata": {
            "tags": null
          },
          "name": "stdout",
          "output_type": "stream",
          "text": [
            "Error retrieving data for 에코프로 (A086520): '종가'\n"
          ]
        },
        {
          "metadata": {
            "tags": null
          },
          "name": "stderr",
          "output_type": "stream",
          "text": [
            "\rProgress:  56%|█████▋    | 1128/2000 [24:02<18:16,  1.26s/stock]"
          ]
        },
        {
          "metadata": {
            "tags": null
          },
          "name": "stdout",
          "output_type": "stream",
          "text": [
            "Error retrieving data for 에코프로비엠 (A247540): '종가'\n"
          ]
        },
        {
          "metadata": {
            "tags": null
          },
          "name": "stderr",
          "output_type": "stream",
          "text": [
            "\rProgress:  56%|█████▋    | 1129/2000 [24:03<18:23,  1.27s/stock]"
          ]
        },
        {
          "metadata": {
            "tags": null
          },
          "name": "stdout",
          "output_type": "stream",
          "text": [
            "Error retrieving data for 에코프로에이치엔 (A383310): '종가'\n"
          ]
        },
        {
          "metadata": {
            "tags": null
          },
          "name": "stderr",
          "output_type": "stream",
          "text": [
            "\rProgress:  56%|█████▋    | 1130/2000 [24:04<18:24,  1.27s/stock]"
          ]
        },
        {
          "metadata": {
            "tags": null
          },
          "name": "stdout",
          "output_type": "stream",
          "text": [
            "Error retrieving data for 에코플라스틱 (A038110): '종가'\n"
          ]
        },
        {
          "metadata": {
            "tags": null
          },
          "name": "stderr",
          "output_type": "stream",
          "text": [
            "\rProgress:  57%|█████▋    | 1131/2000 [24:06<18:16,  1.26s/stock]"
          ]
        },
        {
          "metadata": {
            "tags": null
          },
          "name": "stdout",
          "output_type": "stream",
          "text": [
            "Error retrieving data for 에프앤가이드 (A064850): '종가'\n"
          ]
        },
        {
          "metadata": {
            "tags": null
          },
          "name": "stderr",
          "output_type": "stream",
          "text": [
            "\rProgress:  57%|█████▋    | 1132/2000 [24:07<18:10,  1.26s/stock]"
          ]
        },
        {
          "metadata": {
            "tags": null
          },
          "name": "stdout",
          "output_type": "stream",
          "text": [
            "Error retrieving data for 에프에스티 (A036810): '종가'\n"
          ]
        },
        {
          "metadata": {
            "tags": null
          },
          "name": "stderr",
          "output_type": "stream",
          "text": [
            "\rProgress:  57%|█████▋    | 1133/2000 [24:08<18:02,  1.25s/stock]"
          ]
        },
        {
          "metadata": {
            "tags": null
          },
          "name": "stdout",
          "output_type": "stream",
          "text": [
            "Error retrieving data for 에프엔씨엔터 (A173940): '종가'\n"
          ]
        },
        {
          "metadata": {
            "tags": null
          },
          "name": "stderr",
          "output_type": "stream",
          "text": [
            "\rProgress:  57%|█████▋    | 1134/2000 [24:09<17:55,  1.24s/stock]"
          ]
        },
        {
          "metadata": {
            "tags": null
          },
          "name": "stdout",
          "output_type": "stream",
          "text": [
            "Error retrieving data for 에프엔에스테크 (A083500): '종가'\n"
          ]
        },
        {
          "metadata": {
            "tags": null
          },
          "name": "stderr",
          "output_type": "stream",
          "text": [
            "\rProgress:  57%|█████▋    | 1135/2000 [24:11<17:53,  1.24s/stock]"
          ]
        },
        {
          "metadata": {
            "tags": null
          },
          "name": "stdout",
          "output_type": "stream",
          "text": [
            "Error retrieving data for 엑서지21 (A043090): '종가'\n"
          ]
        },
        {
          "metadata": {
            "tags": null
          },
          "name": "stderr",
          "output_type": "stream",
          "text": [
            "\rProgress:  57%|█████▋    | 1136/2000 [24:12<17:50,  1.24s/stock]"
          ]
        },
        {
          "metadata": {
            "tags": null
          },
          "name": "stdout",
          "output_type": "stream",
          "text": [
            "Error retrieving data for 엑셈 (A205100): '종가'\n"
          ]
        },
        {
          "metadata": {
            "tags": null
          },
          "name": "stderr",
          "output_type": "stream",
          "text": [
            "\rProgress:  57%|█████▋    | 1137/2000 [24:13<17:45,  1.23s/stock]"
          ]
        },
        {
          "metadata": {
            "tags": null
          },
          "name": "stdout",
          "output_type": "stream",
          "text": [
            "Error retrieving data for 엑시콘 (A092870): '종가'\n"
          ]
        },
        {
          "metadata": {
            "tags": null
          },
          "name": "stderr",
          "output_type": "stream",
          "text": [
            "\rProgress:  57%|█████▋    | 1138/2000 [24:14<17:47,  1.24s/stock]"
          ]
        },
        {
          "metadata": {
            "tags": null
          },
          "name": "stdout",
          "output_type": "stream",
          "text": [
            "Error retrieving data for 엔바이오니아 (A317870): '종가'\n"
          ]
        },
        {
          "metadata": {
            "tags": null
          },
          "name": "stderr",
          "output_type": "stream",
          "text": [
            "\rProgress:  57%|█████▋    | 1139/2000 [24:16<17:43,  1.24s/stock]"
          ]
        },
        {
          "metadata": {
            "tags": null
          },
          "name": "stdout",
          "output_type": "stream",
          "text": [
            "Error retrieving data for 엔브이에이치코리아 (A067570): '종가'\n"
          ]
        },
        {
          "metadata": {
            "tags": null
          },
          "name": "stderr",
          "output_type": "stream",
          "text": [
            "\rProgress:  57%|█████▋    | 1140/2000 [24:17<17:45,  1.24s/stock]"
          ]
        },
        {
          "metadata": {
            "tags": null
          },
          "name": "stdout",
          "output_type": "stream",
          "text": [
            "Error retrieving data for 엔비티 (A236810): '종가'\n"
          ]
        },
        {
          "metadata": {
            "tags": null
          },
          "name": "stderr",
          "output_type": "stream",
          "text": [
            "\rProgress:  57%|█████▋    | 1141/2000 [24:18<17:42,  1.24s/stock]"
          ]
        },
        {
          "metadata": {
            "tags": null
          },
          "name": "stdout",
          "output_type": "stream",
          "text": [
            "Error retrieving data for 엔시스 (A333620): '종가'\n"
          ]
        },
        {
          "metadata": {
            "tags": null
          },
          "name": "stderr",
          "output_type": "stream",
          "text": [
            "\rProgress:  57%|█████▋    | 1142/2000 [24:19<17:50,  1.25s/stock]"
          ]
        },
        {
          "metadata": {
            "tags": null
          },
          "name": "stdout",
          "output_type": "stream",
          "text": [
            "Error retrieving data for 엔씨소프트 (A036570): '종가'\n"
          ]
        },
        {
          "metadata": {
            "tags": null
          },
          "name": "stderr",
          "output_type": "stream",
          "text": [
            "\rProgress:  57%|█████▋    | 1143/2000 [24:21<17:47,  1.25s/stock]"
          ]
        },
        {
          "metadata": {
            "tags": null
          },
          "name": "stdout",
          "output_type": "stream",
          "text": [
            "Error retrieving data for 엔에스엔 (A031860): '종가'\n"
          ]
        },
        {
          "metadata": {
            "tags": null
          },
          "name": "stderr",
          "output_type": "stream",
          "text": [
            "\rProgress:  57%|█████▋    | 1144/2000 [24:22<17:45,  1.24s/stock]"
          ]
        },
        {
          "metadata": {
            "tags": null
          },
          "name": "stdout",
          "output_type": "stream",
          "text": [
            "Error retrieving data for 엔에프씨 (A265740): '종가'\n"
          ]
        },
        {
          "metadata": {
            "tags": null
          },
          "name": "stderr",
          "output_type": "stream",
          "text": [
            "\rProgress:  57%|█████▋    | 1145/2000 [24:23<18:03,  1.27s/stock]"
          ]
        },
        {
          "metadata": {
            "tags": null
          },
          "name": "stdout",
          "output_type": "stream",
          "text": [
            "Error retrieving data for 엔젠바이오 (A354200): '종가'\n"
          ]
        },
        {
          "metadata": {
            "tags": null
          },
          "name": "stderr",
          "output_type": "stream",
          "text": [
            "\rProgress:  57%|█████▋    | 1146/2000 [24:24<17:56,  1.26s/stock]"
          ]
        },
        {
          "metadata": {
            "tags": null
          },
          "name": "stdout",
          "output_type": "stream",
          "text": [
            "Error retrieving data for 엔지켐생명과학 (A183490): '종가'\n"
          ]
        },
        {
          "metadata": {
            "tags": null
          },
          "name": "stderr",
          "output_type": "stream",
          "text": [
            "\rProgress:  57%|█████▋    | 1147/2000 [24:26<17:46,  1.25s/stock]"
          ]
        },
        {
          "metadata": {
            "tags": null
          },
          "name": "stdout",
          "output_type": "stream",
          "text": [
            "Error retrieving data for 엔케이 (A085310): '종가'\n"
          ]
        },
        {
          "metadata": {
            "tags": null
          },
          "name": "stderr",
          "output_type": "stream",
          "text": [
            "\rProgress:  57%|█████▋    | 1148/2000 [24:27<17:41,  1.25s/stock]"
          ]
        },
        {
          "metadata": {
            "tags": null
          },
          "name": "stdout",
          "output_type": "stream",
          "text": [
            "Error retrieving data for 엔케이맥스 (A182400): '종가'\n"
          ]
        },
        {
          "metadata": {
            "tags": null
          },
          "name": "stderr",
          "output_type": "stream",
          "text": [
            "\rProgress:  57%|█████▋    | 1149/2000 [24:28<17:40,  1.25s/stock]"
          ]
        },
        {
          "metadata": {
            "tags": null
          },
          "name": "stdout",
          "output_type": "stream",
          "text": [
            "Error retrieving data for 엔텔스 (A069410): '종가'\n"
          ]
        },
        {
          "metadata": {
            "tags": null
          },
          "name": "stderr",
          "output_type": "stream",
          "text": [
            "\rProgress:  57%|█████▊    | 1150/2000 [24:29<17:37,  1.24s/stock]"
          ]
        },
        {
          "metadata": {
            "tags": null
          },
          "name": "stdout",
          "output_type": "stream",
          "text": [
            "Error retrieving data for 엔투텍 (A227950): '종가'\n"
          ]
        },
        {
          "metadata": {
            "tags": null
          },
          "name": "stderr",
          "output_type": "stream",
          "text": [
            "\rProgress:  58%|█████▊    | 1151/2000 [24:31<17:33,  1.24s/stock]"
          ]
        },
        {
          "metadata": {
            "tags": null
          },
          "name": "stdout",
          "output_type": "stream",
          "text": [
            "Error retrieving data for 엔피 (A291230): '종가'\n"
          ]
        },
        {
          "metadata": {
            "tags": null
          },
          "name": "stderr",
          "output_type": "stream",
          "text": [
            "\rProgress:  58%|█████▊    | 1152/2000 [24:32<17:39,  1.25s/stock]"
          ]
        },
        {
          "metadata": {
            "tags": null
          },
          "name": "stdout",
          "output_type": "stream",
          "text": [
            "Error retrieving data for 엘앤씨바이오 (A290650): '종가'\n"
          ]
        },
        {
          "metadata": {
            "tags": null
          },
          "name": "stderr",
          "output_type": "stream",
          "text": [
            "\rProgress:  58%|█████▊    | 1153/2000 [24:33<17:31,  1.24s/stock]"
          ]
        },
        {
          "metadata": {
            "tags": null
          },
          "name": "stdout",
          "output_type": "stream",
          "text": [
            "Error retrieving data for 엘앤에프 (A066970): '종가'\n"
          ]
        },
        {
          "metadata": {
            "tags": null
          },
          "name": "stderr",
          "output_type": "stream",
          "text": [
            "\rProgress:  58%|█████▊    | 1154/2000 [24:34<17:27,  1.24s/stock]"
          ]
        },
        {
          "metadata": {
            "tags": null
          },
          "name": "stdout",
          "output_type": "stream",
          "text": [
            "Error retrieving data for 엘앤케이바이오 (A156100): '종가'\n"
          ]
        },
        {
          "metadata": {
            "tags": null
          },
          "name": "stderr",
          "output_type": "stream",
          "text": [
            "\rProgress:  58%|█████▊    | 1155/2000 [24:35<17:23,  1.24s/stock]"
          ]
        },
        {
          "metadata": {
            "tags": null
          },
          "name": "stdout",
          "output_type": "stream",
          "text": [
            "Error retrieving data for 엘엠에스 (A073110): '종가'\n"
          ]
        },
        {
          "metadata": {
            "tags": null
          },
          "name": "stderr",
          "output_type": "stream",
          "text": [
            "\rProgress:  58%|█████▊    | 1156/2000 [24:37<17:22,  1.24s/stock]"
          ]
        },
        {
          "metadata": {
            "tags": null
          },
          "name": "stdout",
          "output_type": "stream",
          "text": [
            "Error retrieving data for 엘오티베큠 (A083310): '종가'\n"
          ]
        },
        {
          "metadata": {
            "tags": null
          },
          "name": "stderr",
          "output_type": "stream",
          "text": [
            "\rProgress:  58%|█████▊    | 1157/2000 [24:38<17:20,  1.23s/stock]"
          ]
        },
        {
          "metadata": {
            "tags": null
          },
          "name": "stdout",
          "output_type": "stream",
          "text": [
            "Error retrieving data for 엘컴텍 (A037950): '종가'\n"
          ]
        },
        {
          "metadata": {
            "tags": null
          },
          "name": "stderr",
          "output_type": "stream",
          "text": [
            "\rProgress:  58%|█████▊    | 1158/2000 [24:39<17:16,  1.23s/stock]"
          ]
        },
        {
          "metadata": {
            "tags": null
          },
          "name": "stdout",
          "output_type": "stream",
          "text": [
            "Error retrieving data for 엘티씨 (A170920): '종가'\n"
          ]
        },
        {
          "metadata": {
            "tags": null
          },
          "name": "stderr",
          "output_type": "stream",
          "text": [
            "\rProgress:  58%|█████▊    | 1159/2000 [24:40<17:24,  1.24s/stock]"
          ]
        },
        {
          "metadata": {
            "tags": null
          },
          "name": "stdout",
          "output_type": "stream",
          "text": [
            "Error retrieving data for 엠게임 (A058630): '종가'\n"
          ]
        },
        {
          "metadata": {
            "tags": null
          },
          "name": "stderr",
          "output_type": "stream",
          "text": [
            "\rProgress:  58%|█████▊    | 1160/2000 [24:42<17:22,  1.24s/stock]"
          ]
        },
        {
          "metadata": {
            "tags": null
          },
          "name": "stdout",
          "output_type": "stream",
          "text": [
            "Error retrieving data for 엠로 (A058970): '종가'\n"
          ]
        },
        {
          "metadata": {
            "tags": null
          },
          "name": "stderr",
          "output_type": "stream",
          "text": [
            "\rProgress:  58%|█████▊    | 1161/2000 [24:43<17:33,  1.26s/stock]"
          ]
        },
        {
          "metadata": {
            "tags": null
          },
          "name": "stdout",
          "output_type": "stream",
          "text": [
            "Error retrieving data for 엠벤처투자 (A019590): '종가'\n"
          ]
        },
        {
          "metadata": {
            "tags": null
          },
          "name": "stderr",
          "output_type": "stream",
          "text": [
            "\rProgress:  58%|█████▊    | 1162/2000 [24:44<17:29,  1.25s/stock]"
          ]
        },
        {
          "metadata": {
            "tags": null
          },
          "name": "stdout",
          "output_type": "stream",
          "text": [
            "Error retrieving data for 엠브레인 (A169330): '종가'\n"
          ]
        },
        {
          "metadata": {
            "tags": null
          },
          "name": "stderr",
          "output_type": "stream",
          "text": [
            "\rProgress:  58%|█████▊    | 1163/2000 [24:45<17:29,  1.25s/stock]"
          ]
        },
        {
          "metadata": {
            "tags": null
          },
          "name": "stdout",
          "output_type": "stream",
          "text": [
            "Error retrieving data for 엠씨넥스 (A097520): '종가'\n"
          ]
        },
        {
          "metadata": {
            "tags": null
          },
          "name": "stderr",
          "output_type": "stream",
          "text": [
            "\rProgress:  58%|█████▊    | 1164/2000 [24:47<17:25,  1.25s/stock]"
          ]
        },
        {
          "metadata": {
            "tags": null
          },
          "name": "stdout",
          "output_type": "stream",
          "text": [
            "Error retrieving data for 엠아이텍 (A179290): '종가'\n"
          ]
        },
        {
          "metadata": {
            "tags": null
          },
          "name": "stderr",
          "output_type": "stream",
          "text": [
            "\rProgress:  58%|█████▊    | 1165/2000 [24:48<17:21,  1.25s/stock]"
          ]
        },
        {
          "metadata": {
            "tags": null
          },
          "name": "stdout",
          "output_type": "stream",
          "text": [
            "Error retrieving data for 엠에스씨 (A009780): '종가'\n"
          ]
        },
        {
          "metadata": {
            "tags": null
          },
          "name": "stderr",
          "output_type": "stream",
          "text": [
            "\rProgress:  58%|█████▊    | 1166/2000 [24:49<17:19,  1.25s/stock]"
          ]
        },
        {
          "metadata": {
            "tags": null
          },
          "name": "stdout",
          "output_type": "stream",
          "text": [
            "Error retrieving data for 엠에스오토텍 (A123040): '종가'\n"
          ]
        },
        {
          "metadata": {
            "tags": null
          },
          "name": "stderr",
          "output_type": "stream",
          "text": [
            "\rProgress:  58%|█████▊    | 1167/2000 [24:50<17:14,  1.24s/stock]"
          ]
        },
        {
          "metadata": {
            "tags": null
          },
          "name": "stdout",
          "output_type": "stream",
          "text": [
            "Error retrieving data for 엠젠솔루션 (A032790): '종가'\n"
          ]
        },
        {
          "metadata": {
            "tags": null
          },
          "name": "stderr",
          "output_type": "stream",
          "text": [
            "\rProgress:  58%|█████▊    | 1168/2000 [24:52<17:12,  1.24s/stock]"
          ]
        },
        {
          "metadata": {
            "tags": null
          },
          "name": "stdout",
          "output_type": "stream",
          "text": [
            "Error retrieving data for 엠케이전자 (A033160): '종가'\n"
          ]
        },
        {
          "metadata": {
            "tags": null
          },
          "name": "stderr",
          "output_type": "stream",
          "text": [
            "\rProgress:  58%|█████▊    | 1169/2000 [24:53<17:15,  1.25s/stock]"
          ]
        },
        {
          "metadata": {
            "tags": null
          },
          "name": "stdout",
          "output_type": "stream",
          "text": [
            "Error retrieving data for 엠투아이 (A347890): '종가'\n"
          ]
        },
        {
          "metadata": {
            "tags": null
          },
          "name": "stderr",
          "output_type": "stream",
          "text": [
            "\rProgress:  58%|█████▊    | 1170/2000 [24:54<17:15,  1.25s/stock]"
          ]
        },
        {
          "metadata": {
            "tags": null
          },
          "name": "stdout",
          "output_type": "stream",
          "text": [
            "Error retrieving data for 엠투엔 (A033310): '종가'\n"
          ]
        },
        {
          "metadata": {
            "tags": null
          },
          "name": "stderr",
          "output_type": "stream",
          "text": [
            "\rProgress:  59%|█████▊    | 1171/2000 [24:55<17:26,  1.26s/stock]"
          ]
        },
        {
          "metadata": {
            "tags": null
          },
          "name": "stdout",
          "output_type": "stream",
          "text": [
            "Error retrieving data for 엠플러스 (A259630): '종가'\n"
          ]
        },
        {
          "metadata": {
            "tags": null
          },
          "name": "stderr",
          "output_type": "stream",
          "text": [
            "\rProgress:  59%|█████▊    | 1172/2000 [24:57<17:17,  1.25s/stock]"
          ]
        },
        {
          "metadata": {
            "tags": null
          },
          "name": "stdout",
          "output_type": "stream",
          "text": [
            "Error retrieving data for 연우 (A115960): '종가'\n"
          ]
        },
        {
          "metadata": {
            "tags": null
          },
          "name": "stderr",
          "output_type": "stream",
          "text": [
            "\rProgress:  59%|█████▊    | 1173/2000 [24:58<17:09,  1.24s/stock]"
          ]
        },
        {
          "metadata": {
            "tags": null
          },
          "name": "stdout",
          "output_type": "stream",
          "text": [
            "Error retrieving data for 영림원소프트랩 (A060850): '종가'\n"
          ]
        },
        {
          "metadata": {
            "tags": null
          },
          "name": "stderr",
          "output_type": "stream",
          "text": [
            "\rProgress:  59%|█████▊    | 1174/2000 [24:59<17:05,  1.24s/stock]"
          ]
        },
        {
          "metadata": {
            "tags": null
          },
          "name": "stdout",
          "output_type": "stream",
          "text": [
            "Error retrieving data for 영보화학 (A014440): '종가'\n"
          ]
        },
        {
          "metadata": {
            "tags": null
          },
          "name": "stderr",
          "output_type": "stream",
          "text": [
            "\rProgress:  59%|█████▉    | 1175/2000 [25:00<17:01,  1.24s/stock]"
          ]
        },
        {
          "metadata": {
            "tags": null
          },
          "name": "stdout",
          "output_type": "stream",
          "text": [
            "Error retrieving data for 영우디에스피 (A143540): '종가'\n"
          ]
        },
        {
          "metadata": {
            "tags": null
          },
          "name": "stderr",
          "output_type": "stream",
          "text": [
            "\rProgress:  59%|█████▉    | 1176/2000 [25:02<17:06,  1.25s/stock]"
          ]
        },
        {
          "metadata": {
            "tags": null
          },
          "name": "stdout",
          "output_type": "stream",
          "text": [
            "Error retrieving data for 영원무역 (A111770): '종가'\n"
          ]
        },
        {
          "metadata": {
            "tags": null
          },
          "name": "stderr",
          "output_type": "stream",
          "text": [
            "\rProgress:  59%|█████▉    | 1177/2000 [25:03<17:41,  1.29s/stock]"
          ]
        },
        {
          "metadata": {
            "tags": null
          },
          "name": "stdout",
          "output_type": "stream",
          "text": [
            "Error retrieving data for 영원무역홀딩스 (A009970): '종가'\n"
          ]
        },
        {
          "metadata": {
            "tags": null
          },
          "name": "stderr",
          "output_type": "stream",
          "text": [
            "\rProgress:  59%|█████▉    | 1178/2000 [25:04<17:46,  1.30s/stock]"
          ]
        },
        {
          "metadata": {
            "tags": null
          },
          "name": "stdout",
          "output_type": "stream",
          "text": [
            "Error retrieving data for 영진약품 (A003520): '종가'\n"
          ]
        },
        {
          "metadata": {
            "tags": null
          },
          "name": "stderr",
          "output_type": "stream",
          "text": [
            "\rProgress:  59%|█████▉    | 1179/2000 [25:06<17:39,  1.29s/stock]"
          ]
        },
        {
          "metadata": {
            "tags": null
          },
          "name": "stdout",
          "output_type": "stream",
          "text": [
            "Error retrieving data for 영풍 (A000670): '종가'\n"
          ]
        },
        {
          "metadata": {
            "tags": null
          },
          "name": "stderr",
          "output_type": "stream",
          "text": [
            "\rProgress:  59%|█████▉    | 1180/2000 [25:07<17:40,  1.29s/stock]"
          ]
        },
        {
          "metadata": {
            "tags": null
          },
          "name": "stdout",
          "output_type": "stream",
          "text": [
            "Error retrieving data for 영풍정밀 (A036560): '종가'\n"
          ]
        },
        {
          "metadata": {
            "tags": null
          },
          "name": "stderr",
          "output_type": "stream",
          "text": [
            "\rProgress:  59%|█████▉    | 1181/2000 [25:08<17:41,  1.30s/stock]"
          ]
        },
        {
          "metadata": {
            "tags": null
          },
          "name": "stdout",
          "output_type": "stream",
          "text": [
            "Error retrieving data for 영풍제지 (A006740): '종가'\n"
          ]
        },
        {
          "metadata": {
            "tags": null
          },
          "name": "stderr",
          "output_type": "stream",
          "text": [
            "\rProgress:  59%|█████▉    | 1182/2000 [25:10<18:25,  1.35s/stock]"
          ]
        },
        {
          "metadata": {
            "tags": null
          },
          "name": "stdout",
          "output_type": "stream",
          "text": [
            "Error retrieving data for 영화금속 (A012280): '종가'\n"
          ]
        },
        {
          "metadata": {
            "tags": null
          },
          "name": "stderr",
          "output_type": "stream",
          "text": [
            "\rProgress:  59%|█████▉    | 1183/2000 [25:11<18:33,  1.36s/stock]"
          ]
        },
        {
          "metadata": {
            "tags": null
          },
          "name": "stdout",
          "output_type": "stream",
          "text": [
            "Error retrieving data for 영화테크 (A265560): '종가'\n"
          ]
        },
        {
          "metadata": {
            "tags": null
          },
          "name": "stderr",
          "output_type": "stream",
          "text": [
            "\rProgress:  59%|█████▉    | 1184/2000 [25:13<19:02,  1.40s/stock]"
          ]
        },
        {
          "metadata": {
            "tags": null
          },
          "name": "stdout",
          "output_type": "stream",
          "text": [
            "Error retrieving data for 영흥 (A012160): '종가'\n"
          ]
        },
        {
          "metadata": {
            "tags": null
          },
          "name": "stderr",
          "output_type": "stream",
          "text": [
            "\rProgress:  59%|█████▉    | 1185/2000 [25:14<18:35,  1.37s/stock]"
          ]
        },
        {
          "output_type": "stream",
          "name": "stdout",
          "text": [
            "Error retrieving data for 예림당 (A036000): '종가'\n"
          ]
        },
        {
          "output_type": "stream",
          "name": "stderr",
          "text": [
            "\rProgress:  59%|█████▉    | 1186/2000 [25:15<19:06,  1.41s/stock]"
          ]
        },
        {
          "output_type": "stream",
          "name": "stdout",
          "text": [
            "Error retrieving data for 예스24 (A053280): '종가'\n"
          ]
        },
        {
          "output_type": "stream",
          "name": "stderr",
          "text": [
            "\rProgress:  59%|█████▉    | 1187/2000 [25:17<18:28,  1.36s/stock]"
          ]
        },
        {
          "output_type": "stream",
          "name": "stdout",
          "text": [
            "Error retrieving data for 예스코홀딩스 (A015360): '종가'\n"
          ]
        },
        {
          "output_type": "stream",
          "name": "stderr",
          "text": [
            "\rProgress:  59%|█████▉    | 1188/2000 [25:18<18:02,  1.33s/stock]"
          ]
        },
        {
          "output_type": "stream",
          "name": "stdout",
          "text": [
            "Error retrieving data for 예스티 (A122640): '종가'\n"
          ]
        },
        {
          "output_type": "stream",
          "name": "stderr",
          "text": [
            "\rProgress:  59%|█████▉    | 1189/2000 [25:19<17:57,  1.33s/stock]"
          ]
        },
        {
          "output_type": "stream",
          "name": "stdout",
          "text": [
            "Error retrieving data for 오공 (A045060): '종가'\n"
          ]
        },
        {
          "output_type": "stream",
          "name": "stderr",
          "text": [
            "\rProgress:  60%|█████▉    | 1190/2000 [25:21<17:45,  1.32s/stock]"
          ]
        },
        {
          "output_type": "stream",
          "name": "stdout",
          "text": [
            "Error retrieving data for 오디텍 (A080520): '종가'\n"
          ]
        },
        {
          "output_type": "stream",
          "name": "stderr",
          "text": [
            "\rProgress:  60%|█████▉    | 1191/2000 [25:22<17:36,  1.31s/stock]"
          ]
        },
        {
          "output_type": "stream",
          "name": "stdout",
          "text": [
            "Error retrieving data for 오뚜기 (A007310): '종가'\n"
          ]
        },
        {
          "output_type": "stream",
          "name": "stderr",
          "text": [
            "\rProgress:  60%|█████▉    | 1192/2000 [25:24<19:07,  1.42s/stock]"
          ]
        },
        {
          "output_type": "stream",
          "name": "stdout",
          "text": [
            "Error retrieving data for 오로라 (A039830): '종가'\n"
          ]
        },
        {
          "output_type": "stream",
          "name": "stderr",
          "text": [
            "\rProgress:  60%|█████▉    | 1193/2000 [25:25<18:26,  1.37s/stock]"
          ]
        },
        {
          "output_type": "stream",
          "name": "stdout",
          "text": [
            "Error retrieving data for 오로스테크놀로지 (A322310): '종가'\n"
          ]
        },
        {
          "output_type": "stream",
          "name": "stderr",
          "text": [
            "\rProgress:  60%|█████▉    | 1194/2000 [25:26<17:58,  1.34s/stock]"
          ]
        },
        {
          "output_type": "stream",
          "name": "stdout",
          "text": [
            "Error retrieving data for 오르비텍 (A046120): '종가'\n"
          ]
        },
        {
          "output_type": "stream",
          "name": "stderr",
          "text": [
            "\rProgress:  60%|█████▉    | 1195/2000 [25:27<17:36,  1.31s/stock]"
          ]
        },
        {
          "output_type": "stream",
          "name": "stdout",
          "text": [
            "Error retrieving data for 오리엔탈정공 (A014940): '종가'\n"
          ]
        },
        {
          "output_type": "stream",
          "name": "stderr",
          "text": [
            "\rProgress:  60%|█████▉    | 1196/2000 [25:29<17:23,  1.30s/stock]"
          ]
        },
        {
          "output_type": "stream",
          "name": "stdout",
          "text": [
            "Error retrieving data for 오리엔트바이오 (A002630): '종가'\n"
          ]
        },
        {
          "output_type": "stream",
          "name": "stderr",
          "text": [
            "\rProgress:  60%|█████▉    | 1197/2000 [25:30<17:13,  1.29s/stock]"
          ]
        },
        {
          "output_type": "stream",
          "name": "stdout",
          "text": [
            "Error retrieving data for 오리온 (A271560): '종가'\n"
          ]
        },
        {
          "output_type": "stream",
          "name": "stderr",
          "text": [
            "\rProgress:  60%|█████▉    | 1198/2000 [25:31<17:04,  1.28s/stock]"
          ]
        },
        {
          "output_type": "stream",
          "name": "stdout",
          "text": [
            "Error retrieving data for 오리온홀딩스 (A001800): '종가'\n"
          ]
        },
        {
          "output_type": "stream",
          "name": "stderr",
          "text": [
            "\rProgress:  60%|█████▉    | 1199/2000 [25:32<17:00,  1.27s/stock]"
          ]
        },
        {
          "output_type": "stream",
          "name": "stdout",
          "text": [
            "Error retrieving data for 오리콤 (A010470): '종가'\n"
          ]
        },
        {
          "output_type": "stream",
          "name": "stderr",
          "text": [
            "\rProgress:  60%|██████    | 1200/2000 [25:34<16:59,  1.27s/stock]"
          ]
        },
        {
          "output_type": "stream",
          "name": "stdout",
          "text": [
            "Error retrieving data for 오상자이엘 (A053980): '종가'\n"
          ]
        },
        {
          "output_type": "stream",
          "name": "stderr",
          "text": [
            "\rProgress:  60%|██████    | 1201/2000 [25:35<16:54,  1.27s/stock]"
          ]
        },
        {
          "output_type": "stream",
          "name": "stdout",
          "text": [
            "Error retrieving data for 오성첨단소재 (A052420): '종가'\n"
          ]
        },
        {
          "output_type": "stream",
          "name": "stderr",
          "text": [
            "\rProgress:  60%|██████    | 1202/2000 [25:36<16:57,  1.27s/stock]"
          ]
        },
        {
          "output_type": "stream",
          "name": "stdout",
          "text": [
            "Error retrieving data for 오션브릿지 (A241790): '종가'\n"
          ]
        },
        {
          "output_type": "stream",
          "name": "stderr",
          "text": [
            "\rProgress:  60%|██████    | 1203/2000 [25:37<16:49,  1.27s/stock]"
          ]
        },
        {
          "output_type": "stream",
          "name": "stdout",
          "text": [
            "Error retrieving data for 오스코텍 (A039200): '종가'\n"
          ]
        },
        {
          "output_type": "stream",
          "name": "stderr",
          "text": [
            "\rProgress:  60%|██████    | 1204/2000 [25:39<16:53,  1.27s/stock]"
          ]
        },
        {
          "output_type": "stream",
          "name": "stdout",
          "text": [
            "Error retrieving data for 오스테오닉 (A226400): '종가'\n"
          ]
        },
        {
          "output_type": "stream",
          "name": "stderr",
          "text": [
            "\rProgress:  60%|██████    | 1205/2000 [25:40<16:45,  1.26s/stock]"
          ]
        },
        {
          "output_type": "stream",
          "name": "stdout",
          "text": [
            "Error retrieving data for 오스템 (A031510): '종가'\n"
          ]
        },
        {
          "output_type": "stream",
          "name": "stderr",
          "text": [
            "\rProgress:  60%|██████    | 1206/2000 [25:41<16:42,  1.26s/stock]"
          ]
        },
        {
          "output_type": "stream",
          "name": "stdout",
          "text": [
            "Error retrieving data for 오스템임플란트 (A048260): '종가'\n"
          ]
        },
        {
          "output_type": "stream",
          "name": "stderr",
          "text": [
            "\rProgress:  60%|██████    | 1207/2000 [25:42<16:41,  1.26s/stock]"
          ]
        },
        {
          "output_type": "stream",
          "name": "stdout",
          "text": [
            "Error retrieving data for 오이솔루션 (A138080): '종가'\n"
          ]
        },
        {
          "output_type": "stream",
          "name": "stderr",
          "text": [
            "\rProgress:  60%|██████    | 1208/2000 [25:44<18:27,  1.40s/stock]"
          ]
        },
        {
          "output_type": "stream",
          "name": "stdout",
          "text": [
            "Error retrieving data for 오킨스전자 (A080580): '종가'\n"
          ]
        },
        {
          "output_type": "stream",
          "name": "stderr",
          "text": [
            "\rProgress:  60%|██████    | 1209/2000 [25:45<17:47,  1.35s/stock]"
          ]
        },
        {
          "output_type": "stream",
          "name": "stdout",
          "text": [
            "Error retrieving data for 오텍 (A067170): '종가'\n"
          ]
        },
        {
          "output_type": "stream",
          "name": "stderr",
          "text": [
            "\rProgress:  60%|██████    | 1210/2000 [25:47<17:17,  1.31s/stock]"
          ]
        },
        {
          "output_type": "stream",
          "name": "stdout",
          "text": [
            "Error retrieving data for 오파스넷 (A173130): '종가'\n"
          ]
        },
        {
          "output_type": "stream",
          "name": "stderr",
          "text": [
            "\rProgress:  61%|██████    | 1211/2000 [25:48<17:00,  1.29s/stock]"
          ]
        },
        {
          "output_type": "stream",
          "name": "stdout",
          "text": [
            "Error retrieving data for 오픈베이스 (A049480): '종가'\n"
          ]
        },
        {
          "output_type": "stream",
          "name": "stderr",
          "text": [
            "\rProgress:  61%|██████    | 1212/2000 [25:49<16:45,  1.28s/stock]"
          ]
        },
        {
          "output_type": "stream",
          "name": "stdout",
          "text": [
            "Error retrieving data for 오하임아이엔티 (A309930): '종가'\n"
          ]
        },
        {
          "output_type": "stream",
          "name": "stderr",
          "text": [
            "\rProgress:  61%|██████    | 1213/2000 [25:50<16:31,  1.26s/stock]"
          ]
        },
        {
          "output_type": "stream",
          "name": "stdout",
          "text": [
            "Error retrieving data for 올리패스 (A244460): '종가'\n"
          ]
        },
        {
          "output_type": "stream",
          "name": "stderr",
          "text": [
            "\rProgress:  61%|██████    | 1214/2000 [25:52<16:26,  1.25s/stock]"
          ]
        },
        {
          "output_type": "stream",
          "name": "stdout",
          "text": [
            "Error retrieving data for 올릭스 (A226950): '종가'\n"
          ]
        },
        {
          "output_type": "stream",
          "name": "stderr",
          "text": [
            "\rProgress:  61%|██████    | 1215/2000 [25:53<16:20,  1.25s/stock]"
          ]
        },
        {
          "output_type": "stream",
          "name": "stdout",
          "text": [
            "Error retrieving data for 옴니시스템 (A057540): '종가'\n"
          ]
        },
        {
          "output_type": "stream",
          "name": "stderr",
          "text": [
            "\rProgress:  61%|██████    | 1216/2000 [25:54<16:25,  1.26s/stock]"
          ]
        },
        {
          "output_type": "stream",
          "name": "stdout",
          "text": [
            "Error retrieving data for 옵투스제약 (A131030): '종가'\n"
          ]
        },
        {
          "output_type": "stream",
          "name": "stderr",
          "text": [
            "\rProgress:  61%|██████    | 1217/2000 [25:55<16:22,  1.25s/stock]"
          ]
        },
        {
          "output_type": "stream",
          "name": "stdout",
          "text": [
            "Error retrieving data for 옵트론텍 (A082210): '종가'\n"
          ]
        },
        {
          "output_type": "stream",
          "name": "stderr",
          "text": [
            "\rProgress:  61%|██████    | 1218/2000 [25:57<16:24,  1.26s/stock]"
          ]
        },
        {
          "output_type": "stream",
          "name": "stdout",
          "text": [
            "Error retrieving data for 옵티시스 (A109080): '종가'\n"
          ]
        },
        {
          "output_type": "stream",
          "name": "stderr",
          "text": [
            "\rProgress:  61%|██████    | 1219/2000 [25:58<16:17,  1.25s/stock]"
          ]
        },
        {
          "output_type": "stream",
          "name": "stdout",
          "text": [
            "Error retrieving data for 옵티팜 (A153710): '종가'\n"
          ]
        },
        {
          "output_type": "stream",
          "name": "stderr",
          "text": [
            "\rProgress:  61%|██████    | 1220/2000 [25:59<16:15,  1.25s/stock]"
          ]
        },
        {
          "output_type": "stream",
          "name": "stdout",
          "text": [
            "Error retrieving data for 와이솔 (A122990): '종가'\n"
          ]
        },
        {
          "output_type": "stream",
          "name": "stderr",
          "text": [
            "\rProgress:  61%|██████    | 1221/2000 [26:00<16:08,  1.24s/stock]"
          ]
        },
        {
          "output_type": "stream",
          "name": "stdout",
          "text": [
            "Error retrieving data for 와이아이케이 (A232140): '종가'\n"
          ]
        },
        {
          "output_type": "stream",
          "name": "stderr",
          "text": [
            "\rProgress:  61%|██████    | 1222/2000 [26:02<16:05,  1.24s/stock]"
          ]
        },
        {
          "output_type": "stream",
          "name": "stdout",
          "text": [
            "Error retrieving data for 와이어블 (A065530): '종가'\n"
          ]
        },
        {
          "output_type": "stream",
          "name": "stderr",
          "text": [
            "\rProgress:  61%|██████    | 1223/2000 [26:03<16:03,  1.24s/stock]"
          ]
        },
        {
          "output_type": "stream",
          "name": "stdout",
          "text": [
            "Error retrieving data for 와이엔텍 (A067900): '종가'\n"
          ]
        },
        {
          "output_type": "stream",
          "name": "stderr",
          "text": [
            "\rProgress:  61%|██████    | 1224/2000 [26:04<16:33,  1.28s/stock]"
          ]
        },
        {
          "output_type": "stream",
          "name": "stdout",
          "text": [
            "Error retrieving data for 와이엠 (A007530): '종가'\n"
          ]
        },
        {
          "output_type": "stream",
          "name": "stderr",
          "text": [
            "\rProgress:  61%|██████▏   | 1225/2000 [26:05<16:31,  1.28s/stock]"
          ]
        },
        {
          "output_type": "stream",
          "name": "stdout",
          "text": [
            "Error retrieving data for 와이엠씨 (A155650): '종가'\n"
          ]
        },
        {
          "output_type": "stream",
          "name": "stderr",
          "text": [
            "\rProgress:  61%|██████▏   | 1226/2000 [26:07<16:29,  1.28s/stock]"
          ]
        },
        {
          "output_type": "stream",
          "name": "stdout",
          "text": [
            "Error retrieving data for 와이엠티 (A251370): '종가'\n"
          ]
        },
        {
          "output_type": "stream",
          "name": "stderr",
          "text": [
            "\rProgress:  61%|██████▏   | 1227/2000 [26:08<16:26,  1.28s/stock]"
          ]
        },
        {
          "output_type": "stream",
          "name": "stdout",
          "text": [
            "Error retrieving data for 와이제이엠게임즈 (A193250): '종가'\n"
          ]
        },
        {
          "output_type": "stream",
          "name": "stderr",
          "text": [
            "\rProgress:  61%|██████▏   | 1228/2000 [26:09<16:23,  1.27s/stock]"
          ]
        },
        {
          "output_type": "stream",
          "name": "stdout",
          "text": [
            "Error retrieving data for 와이즈버즈 (A273060): '종가'\n"
          ]
        },
        {
          "output_type": "stream",
          "name": "stderr",
          "text": [
            "\rProgress:  61%|██████▏   | 1229/2000 [26:11<16:27,  1.28s/stock]"
          ]
        },
        {
          "output_type": "stream",
          "name": "stdout",
          "text": [
            "Error retrieving data for 와이지-원 (A019210): '종가'\n"
          ]
        },
        {
          "output_type": "stream",
          "name": "stderr",
          "text": [
            "\rProgress:  62%|██████▏   | 1230/2000 [26:12<17:17,  1.35s/stock]"
          ]
        },
        {
          "output_type": "stream",
          "name": "stdout",
          "text": [
            "Error retrieving data for 와이지엔터테인먼트 (A122870): '종가'\n"
          ]
        },
        {
          "output_type": "stream",
          "name": "stderr",
          "text": [
            "\rProgress:  62%|██████▏   | 1231/2000 [26:13<17:06,  1.33s/stock]"
          ]
        },
        {
          "output_type": "stream",
          "name": "stdout",
          "text": [
            "Error retrieving data for 와이투솔루션 (A011690): '종가'\n"
          ]
        },
        {
          "output_type": "stream",
          "name": "stderr",
          "text": [
            "\rProgress:  62%|██████▏   | 1232/2000 [26:15<16:57,  1.33s/stock]"
          ]
        },
        {
          "output_type": "stream",
          "name": "stdout",
          "text": [
            "Error retrieving data for 와이팜 (A332570): '종가'\n"
          ]
        },
        {
          "output_type": "stream",
          "name": "stderr",
          "text": [
            "\rProgress:  62%|██████▏   | 1233/2000 [26:16<17:10,  1.34s/stock]"
          ]
        },
        {
          "output_type": "stream",
          "name": "stdout",
          "text": [
            "Error retrieving data for 용평리조트 (A070960): '종가'\n"
          ]
        },
        {
          "output_type": "stream",
          "name": "stderr",
          "text": [
            "\rProgress:  62%|██████▏   | 1234/2000 [26:17<17:01,  1.33s/stock]"
          ]
        },
        {
          "output_type": "stream",
          "name": "stdout",
          "text": [
            "Error retrieving data for 우리금융지주 (A316140): '종가'\n"
          ]
        },
        {
          "output_type": "stream",
          "name": "stderr",
          "text": [
            "\rProgress:  62%|██████▏   | 1235/2000 [26:19<16:56,  1.33s/stock]"
          ]
        },
        {
          "output_type": "stream",
          "name": "stdout",
          "text": [
            "Error retrieving data for 우리기술 (A032820): '종가'\n"
          ]
        },
        {
          "output_type": "stream",
          "name": "stderr",
          "text": [
            "\rProgress:  62%|██████▏   | 1236/2000 [26:20<16:40,  1.31s/stock]"
          ]
        },
        {
          "output_type": "stream",
          "name": "stdout",
          "text": [
            "Error retrieving data for 우리기술투자 (A041190): '종가'\n"
          ]
        },
        {
          "output_type": "stream",
          "name": "stderr",
          "text": [
            "\rProgress:  62%|██████▏   | 1237/2000 [26:21<16:37,  1.31s/stock]"
          ]
        },
        {
          "output_type": "stream",
          "name": "stdout",
          "text": [
            "Error retrieving data for 우리넷 (A115440): '종가'\n"
          ]
        },
        {
          "output_type": "stream",
          "name": "stderr",
          "text": [
            "\rProgress:  62%|██████▏   | 1238/2000 [26:23<16:29,  1.30s/stock]"
          ]
        },
        {
          "output_type": "stream",
          "name": "stdout",
          "text": [
            "Error retrieving data for 우리바이오 (A082850): '종가'\n"
          ]
        },
        {
          "output_type": "stream",
          "name": "stderr",
          "text": [
            "\rProgress:  62%|██████▏   | 1239/2000 [26:24<16:18,  1.29s/stock]"
          ]
        },
        {
          "output_type": "stream",
          "name": "stdout",
          "text": [
            "Error retrieving data for 우리산업 (A215360): '종가'\n"
          ]
        },
        {
          "output_type": "stream",
          "name": "stderr",
          "text": [
            "\rProgress:  62%|██████▏   | 1240/2000 [26:25<16:19,  1.29s/stock]"
          ]
        },
        {
          "output_type": "stream",
          "name": "stdout",
          "text": [
            "Error retrieving data for 우리산업홀딩스 (A072470): '종가'\n"
          ]
        },
        {
          "output_type": "stream",
          "name": "stderr",
          "text": [
            "\rProgress:  62%|██████▏   | 1241/2000 [26:26<16:02,  1.27s/stock]"
          ]
        },
        {
          "output_type": "stream",
          "name": "stdout",
          "text": [
            "Error retrieving data for 우리손에프앤지 (A073560): '종가'\n"
          ]
        },
        {
          "output_type": "stream",
          "name": "stderr",
          "text": [
            "\rProgress:  62%|██████▏   | 1242/2000 [26:28<16:00,  1.27s/stock]"
          ]
        },
        {
          "output_type": "stream",
          "name": "stdout",
          "text": [
            "Error retrieving data for 우리이앤엘 (A153490): '종가'\n"
          ]
        },
        {
          "output_type": "stream",
          "name": "stderr",
          "text": [
            "\rProgress:  62%|██████▏   | 1243/2000 [26:29<15:49,  1.25s/stock]"
          ]
        },
        {
          "output_type": "stream",
          "name": "stdout",
          "text": [
            "Error retrieving data for 우리종금 (A010050): '종가'\n"
          ]
        },
        {
          "output_type": "stream",
          "name": "stderr",
          "text": [
            "\rProgress:  62%|██████▏   | 1244/2000 [26:30<15:44,  1.25s/stock]"
          ]
        },
        {
          "output_type": "stream",
          "name": "stdout",
          "text": [
            "Error retrieving data for 우림피티에스 (A101170): '종가'\n"
          ]
        },
        {
          "output_type": "stream",
          "name": "stderr",
          "text": [
            "\rProgress:  62%|██████▏   | 1245/2000 [26:31<15:38,  1.24s/stock]"
          ]
        },
        {
          "output_type": "stream",
          "name": "stdout",
          "text": [
            "Error retrieving data for 우성 (A006980): '종가'\n"
          ]
        },
        {
          "output_type": "stream",
          "name": "stderr",
          "text": [
            "\rProgress:  62%|██████▏   | 1246/2000 [26:32<15:40,  1.25s/stock]"
          ]
        },
        {
          "output_type": "stream",
          "name": "stdout",
          "text": [
            "Error retrieving data for 우수AMS (A066590): '종가'\n"
          ]
        },
        {
          "output_type": "stream",
          "name": "stderr",
          "text": [
            "\rProgress:  62%|██████▏   | 1247/2000 [26:34<15:38,  1.25s/stock]"
          ]
        },
        {
          "output_type": "stream",
          "name": "stdout",
          "text": [
            "Error retrieving data for 우신시스템 (A017370): '종가'\n"
          ]
        },
        {
          "output_type": "stream",
          "name": "stderr",
          "text": [
            "\rProgress:  62%|██████▏   | 1248/2000 [26:35<15:32,  1.24s/stock]"
          ]
        },
        {
          "output_type": "stream",
          "name": "stdout",
          "text": [
            "Error retrieving data for 우양 (A103840): '종가'\n"
          ]
        },
        {
          "output_type": "stream",
          "name": "stderr",
          "text": [
            "\rProgress:  62%|██████▏   | 1249/2000 [26:36<15:29,  1.24s/stock]"
          ]
        },
        {
          "output_type": "stream",
          "name": "stdout",
          "text": [
            "Error retrieving data for 우원개발 (A046940): '종가'\n"
          ]
        },
        {
          "output_type": "stream",
          "name": "stderr",
          "text": [
            "\rProgress:  62%|██████▎   | 1250/2000 [26:37<15:34,  1.25s/stock]"
          ]
        },
        {
          "output_type": "stream",
          "name": "stdout",
          "text": [
            "Error retrieving data for 우주일렉트로 (A065680): '종가'\n"
          ]
        },
        {
          "output_type": "stream",
          "name": "stderr",
          "text": [
            "\rProgress:  63%|██████▎   | 1251/2000 [26:39<15:35,  1.25s/stock]"
          ]
        },
        {
          "output_type": "stream",
          "name": "stdout",
          "text": [
            "Error retrieving data for 우진 (A105840): '종가'\n"
          ]
        },
        {
          "output_type": "stream",
          "name": "stderr",
          "text": [
            "\rProgress:  63%|██████▎   | 1252/2000 [26:40<15:32,  1.25s/stock]"
          ]
        },
        {
          "output_type": "stream",
          "name": "stdout",
          "text": [
            "Error retrieving data for 우진비앤지 (A018620): '종가'\n"
          ]
        },
        {
          "output_type": "stream",
          "name": "stderr",
          "text": [
            "\rProgress:  63%|██████▎   | 1253/2000 [26:41<15:26,  1.24s/stock]"
          ]
        },
        {
          "output_type": "stream",
          "name": "stdout",
          "text": [
            "Error retrieving data for 우진플라임 (A049800): '종가'\n"
          ]
        },
        {
          "output_type": "stream",
          "name": "stderr",
          "text": [
            "\rProgress:  63%|██████▎   | 1254/2000 [26:42<15:23,  1.24s/stock]"
          ]
        },
        {
          "output_type": "stream",
          "name": "stdout",
          "text": [
            "Error retrieving data for 웅진 (A016880): '종가'\n"
          ]
        },
        {
          "output_type": "stream",
          "name": "stderr",
          "text": [
            "\rProgress:  63%|██████▎   | 1255/2000 [26:44<15:20,  1.24s/stock]"
          ]
        },
        {
          "output_type": "stream",
          "name": "stdout",
          "text": [
            "Error retrieving data for 웅진씽크빅 (A095720): '종가'\n"
          ]
        },
        {
          "output_type": "stream",
          "name": "stderr",
          "text": [
            "\rProgress:  63%|██████▎   | 1256/2000 [26:45<15:35,  1.26s/stock]"
          ]
        },
        {
          "output_type": "stream",
          "name": "stdout",
          "text": [
            "Error retrieving data for 원림 (A005820): '종가'\n"
          ]
        },
        {
          "output_type": "stream",
          "name": "stderr",
          "text": [
            "\rProgress:  63%|██████▎   | 1257/2000 [26:46<15:36,  1.26s/stock]"
          ]
        },
        {
          "output_type": "stream",
          "name": "stdout",
          "text": [
            "Error retrieving data for 원바이오젠 (A307280): '종가'\n"
          ]
        },
        {
          "output_type": "stream",
          "name": "stderr",
          "text": [
            "\rProgress:  63%|██████▎   | 1258/2000 [26:48<15:39,  1.27s/stock]"
          ]
        },
        {
          "output_type": "stream",
          "name": "stdout",
          "text": [
            "Error retrieving data for 원방테크 (A053080): '종가'\n"
          ]
        },
        {
          "output_type": "stream",
          "name": "stderr",
          "text": [
            "\rProgress:  63%|██████▎   | 1259/2000 [26:49<15:33,  1.26s/stock]"
          ]
        },
        {
          "output_type": "stream",
          "name": "stdout",
          "text": [
            "Error retrieving data for 원익 (A032940): '종가'\n"
          ]
        },
        {
          "output_type": "stream",
          "name": "stderr",
          "text": [
            "\rProgress:  63%|██████▎   | 1260/2000 [26:50<15:31,  1.26s/stock]"
          ]
        },
        {
          "output_type": "stream",
          "name": "stdout",
          "text": [
            "Error retrieving data for 원익IPS (A240810): '종가'\n"
          ]
        },
        {
          "output_type": "stream",
          "name": "stderr",
          "text": [
            "\rProgress:  63%|██████▎   | 1261/2000 [26:51<15:26,  1.25s/stock]"
          ]
        },
        {
          "output_type": "stream",
          "name": "stdout",
          "text": [
            "Error retrieving data for 원익QnC (A074600): '종가'\n"
          ]
        },
        {
          "output_type": "stream",
          "name": "stderr",
          "text": [
            "\rProgress:  63%|██████▎   | 1262/2000 [26:52<15:21,  1.25s/stock]"
          ]
        },
        {
          "output_type": "stream",
          "name": "stdout",
          "text": [
            "Error retrieving data for 원익머트리얼즈 (A104830): '종가'\n"
          ]
        },
        {
          "output_type": "stream",
          "name": "stderr",
          "text": [
            "\rProgress:  63%|██████▎   | 1263/2000 [26:54<15:14,  1.24s/stock]"
          ]
        },
        {
          "output_type": "stream",
          "name": "stdout",
          "text": [
            "Error retrieving data for 원익큐브 (A014190): '종가'\n"
          ]
        },
        {
          "output_type": "stream",
          "name": "stderr",
          "text": [
            "\rProgress:  63%|██████▎   | 1264/2000 [26:55<15:12,  1.24s/stock]"
          ]
        },
        {
          "output_type": "stream",
          "name": "stdout",
          "text": [
            "Error retrieving data for 원익피앤이 (A217820): '종가'\n"
          ]
        },
        {
          "output_type": "stream",
          "name": "stderr",
          "text": [
            "\rProgress:  63%|██████▎   | 1265/2000 [26:56<15:07,  1.23s/stock]"
          ]
        },
        {
          "output_type": "stream",
          "name": "stdout",
          "text": [
            "Error retrieving data for 원익홀딩스 (A030530): '종가'\n"
          ]
        },
        {
          "output_type": "stream",
          "name": "stderr",
          "text": [
            "\rProgress:  63%|██████▎   | 1266/2000 [26:57<15:11,  1.24s/stock]"
          ]
        },
        {
          "output_type": "stream",
          "name": "stdout",
          "text": [
            "Error retrieving data for 원텍 (A336570): '종가'\n"
          ]
        },
        {
          "output_type": "stream",
          "name": "stderr",
          "text": [
            "\rProgress:  63%|██████▎   | 1267/2000 [26:59<15:11,  1.24s/stock]"
          ]
        },
        {
          "output_type": "stream",
          "name": "stdout",
          "text": [
            "Error retrieving data for 원풍 (A008370): '종가'\n"
          ]
        },
        {
          "output_type": "stream",
          "name": "stderr",
          "text": [
            "\rProgress:  63%|██████▎   | 1268/2000 [27:00<15:12,  1.25s/stock]"
          ]
        },
        {
          "output_type": "stream",
          "name": "stdout",
          "text": [
            "Error retrieving data for 월덱스 (A101160): '종가'\n"
          ]
        },
        {
          "output_type": "stream",
          "name": "stderr",
          "text": [
            "\rProgress:  63%|██████▎   | 1269/2000 [27:01<15:20,  1.26s/stock]"
          ]
        },
        {
          "output_type": "stream",
          "name": "stdout",
          "text": [
            "Error retrieving data for 웨스트라이즈 (A064090): '종가'\n"
          ]
        },
        {
          "output_type": "stream",
          "name": "stderr",
          "text": [
            "\rProgress:  64%|██████▎   | 1270/2000 [27:02<15:14,  1.25s/stock]"
          ]
        },
        {
          "output_type": "stream",
          "name": "stdout",
          "text": [
            "Error retrieving data for 웨이버스 (A336060): '종가'\n"
          ]
        },
        {
          "output_type": "stream",
          "name": "stderr",
          "text": [
            "\rProgress:  64%|██████▎   | 1271/2000 [27:04<15:07,  1.25s/stock]"
          ]
        },
        {
          "output_type": "stream",
          "name": "stdout",
          "text": [
            "Error retrieving data for 웨이브일렉트로 (A095270): '종가'\n"
          ]
        },
        {
          "output_type": "stream",
          "name": "stderr",
          "text": [
            "\rProgress:  64%|██████▎   | 1272/2000 [27:05<15:30,  1.28s/stock]"
          ]
        },
        {
          "output_type": "stream",
          "name": "stdout",
          "text": [
            "Error retrieving data for 웰바이오텍 (A010600): '종가'\n"
          ]
        },
        {
          "output_type": "stream",
          "name": "stderr",
          "text": [
            "\rProgress:  64%|██████▎   | 1273/2000 [27:06<15:18,  1.26s/stock]"
          ]
        },
        {
          "output_type": "stream",
          "name": "stdout",
          "text": [
            "Error retrieving data for 웰크론 (A065950): '종가'\n"
          ]
        },
        {
          "output_type": "stream",
          "name": "stderr",
          "text": [
            "\rProgress:  64%|██████▎   | 1274/2000 [27:08<15:15,  1.26s/stock]"
          ]
        },
        {
          "output_type": "stream",
          "name": "stdout",
          "text": [
            "Error retrieving data for 웰크론한텍 (A076080): '종가'\n"
          ]
        },
        {
          "output_type": "stream",
          "name": "stderr",
          "text": [
            "\rProgress:  64%|██████▍   | 1275/2000 [27:09<15:23,  1.27s/stock]"
          ]
        },
        {
          "output_type": "stream",
          "name": "stdout",
          "text": [
            "Error retrieving data for 웰킵스하이텍 (A043590): '종가'\n"
          ]
        },
        {
          "output_type": "stream",
          "name": "stderr",
          "text": [
            "\rProgress:  64%|██████▍   | 1276/2000 [27:10<15:18,  1.27s/stock]"
          ]
        },
        {
          "output_type": "stream",
          "name": "stdout",
          "text": [
            "Error retrieving data for 웹젠 (A069080): '종가'\n"
          ]
        },
        {
          "output_type": "stream",
          "name": "stderr",
          "text": [
            "\rProgress:  64%|██████▍   | 1277/2000 [27:11<15:08,  1.26s/stock]"
          ]
        },
        {
          "output_type": "stream",
          "name": "stdout",
          "text": [
            "Error retrieving data for 웹케시 (A053580): '종가'\n"
          ]
        },
        {
          "output_type": "stream",
          "name": "stderr",
          "text": [
            "\rProgress:  64%|██████▍   | 1278/2000 [27:13<15:04,  1.25s/stock]"
          ]
        },
        {
          "output_type": "stream",
          "name": "stdout",
          "text": [
            "Error retrieving data for 위니아 (A071460): '종가'\n"
          ]
        },
        {
          "output_type": "stream",
          "name": "stderr",
          "text": [
            "\rProgress:  64%|██████▍   | 1279/2000 [27:14<14:57,  1.25s/stock]"
          ]
        },
        {
          "output_type": "stream",
          "name": "stdout",
          "text": [
            "Error retrieving data for 위닉스 (A044340): '종가'\n"
          ]
        },
        {
          "output_type": "stream",
          "name": "stderr",
          "text": [
            "\rProgress:  64%|██████▍   | 1280/2000 [27:15<14:54,  1.24s/stock]"
          ]
        },
        {
          "output_type": "stream",
          "name": "stdout",
          "text": [
            "Error retrieving data for 위더스제약 (A330350): '종가'\n"
          ]
        },
        {
          "output_type": "stream",
          "name": "stderr",
          "text": [
            "\rProgress:  64%|██████▍   | 1281/2000 [27:16<14:53,  1.24s/stock]"
          ]
        },
        {
          "output_type": "stream",
          "name": "stdout",
          "text": [
            "Error retrieving data for 위드텍 (A348350): '종가'\n"
          ]
        },
        {
          "output_type": "stream",
          "name": "stderr",
          "text": [
            "\rProgress:  64%|██████▍   | 1282/2000 [27:17<14:49,  1.24s/stock]"
          ]
        },
        {
          "output_type": "stream",
          "name": "stdout",
          "text": [
            "Error retrieving data for 위메이드 (A112040): '종가'\n"
          ]
        },
        {
          "output_type": "stream",
          "name": "stderr",
          "text": [
            "\rProgress:  64%|██████▍   | 1283/2000 [27:19<14:45,  1.23s/stock]"
          ]
        },
        {
          "output_type": "stream",
          "name": "stdout",
          "text": [
            "Error retrieving data for 위메이드맥스 (A101730): '종가'\n"
          ]
        },
        {
          "output_type": "stream",
          "name": "stderr",
          "text": [
            "\rProgress:  64%|██████▍   | 1284/2000 [27:20<14:47,  1.24s/stock]"
          ]
        },
        {
          "output_type": "stream",
          "name": "stdout",
          "text": [
            "Error retrieving data for 위메이드플레이 (A123420): '종가'\n"
          ]
        },
        {
          "output_type": "stream",
          "name": "stderr",
          "text": [
            "\rProgress:  64%|██████▍   | 1285/2000 [27:21<14:44,  1.24s/stock]"
          ]
        },
        {
          "output_type": "stream",
          "name": "stdout",
          "text": [
            "Error retrieving data for 위세아이텍 (A065370): '종가'\n"
          ]
        },
        {
          "output_type": "stream",
          "name": "stderr",
          "text": [
            "\rProgress:  64%|██████▍   | 1286/2000 [27:22<14:44,  1.24s/stock]"
          ]
        },
        {
          "output_type": "stream",
          "name": "stdout",
          "text": [
            "Error retrieving data for 위즈코프 (A038620): '종가'\n"
          ]
        },
        {
          "output_type": "stream",
          "name": "stderr",
          "text": [
            "\rProgress:  64%|██████▍   | 1287/2000 [27:24<14:43,  1.24s/stock]"
          ]
        },
        {
          "output_type": "stream",
          "name": "stdout",
          "text": [
            "Error retrieving data for 위지윅스튜디오 (A299900): '종가'\n"
          ]
        },
        {
          "output_type": "stream",
          "name": "stderr",
          "text": [
            "\rProgress:  64%|██████▍   | 1288/2000 [27:25<15:18,  1.29s/stock]"
          ]
        },
        {
          "output_type": "stream",
          "name": "stdout",
          "text": [
            "Error retrieving data for 위지트 (A036090): '종가'\n"
          ]
        },
        {
          "output_type": "stream",
          "name": "stderr",
          "text": [
            "\rProgress:  64%|██████▍   | 1289/2000 [27:26<15:08,  1.28s/stock]"
          ]
        },
        {
          "output_type": "stream",
          "name": "stdout",
          "text": [
            "Error retrieving data for 윈스 (A136540): '종가'\n"
          ]
        },
        {
          "output_type": "stream",
          "name": "stderr",
          "text": [
            "\rProgress:  64%|██████▍   | 1290/2000 [27:28<15:02,  1.27s/stock]"
          ]
        },
        {
          "output_type": "stream",
          "name": "stdout",
          "text": [
            "Error retrieving data for 윈텍 (A320000): '종가'\n"
          ]
        },
        {
          "output_type": "stream",
          "name": "stderr",
          "text": [
            "\rProgress:  65%|██████▍   | 1291/2000 [27:29<14:55,  1.26s/stock]"
          ]
        },
        {
          "output_type": "stream",
          "name": "stdout",
          "text": [
            "Error retrieving data for 윈팩 (A097800): '종가'\n"
          ]
        },
        {
          "output_type": "stream",
          "name": "stderr",
          "text": [
            "\rProgress:  65%|██████▍   | 1292/2000 [27:30<15:16,  1.29s/stock]"
          ]
        },
        {
          "output_type": "stream",
          "name": "stdout",
          "text": [
            "Error retrieving data for 윌링스 (A313760): '종가'\n"
          ]
        },
        {
          "output_type": "stream",
          "name": "stderr",
          "text": [
            "\rProgress:  65%|██████▍   | 1293/2000 [27:31<15:11,  1.29s/stock]"
          ]
        },
        {
          "output_type": "stream",
          "name": "stdout",
          "text": [
            "Error retrieving data for 유나이티드제약 (A033270): '종가'\n"
          ]
        },
        {
          "output_type": "stream",
          "name": "stderr",
          "text": [
            "\rProgress:  65%|██████▍   | 1294/2000 [27:33<15:04,  1.28s/stock]"
          ]
        },
        {
          "output_type": "stream",
          "name": "stdout",
          "text": [
            "Error retrieving data for 유니드 (A014830): '종가'\n"
          ]
        },
        {
          "output_type": "stream",
          "name": "stderr",
          "text": [
            "\rProgress:  65%|██████▍   | 1295/2000 [27:34<14:52,  1.27s/stock]"
          ]
        },
        {
          "output_type": "stream",
          "name": "stdout",
          "text": [
            "Error retrieving data for 유니셈 (A036200): '종가'\n"
          ]
        },
        {
          "output_type": "stream",
          "name": "stderr",
          "text": [
            "\rProgress:  65%|██████▍   | 1296/2000 [27:35<14:47,  1.26s/stock]"
          ]
        },
        {
          "output_type": "stream",
          "name": "stdout",
          "text": [
            "Error retrieving data for 유니슨 (A018000): '종가'\n"
          ]
        },
        {
          "output_type": "stream",
          "name": "stderr",
          "text": [
            "\rProgress:  65%|██████▍   | 1297/2000 [27:36<14:43,  1.26s/stock]"
          ]
        },
        {
          "output_type": "stream",
          "name": "stdout",
          "text": [
            "Error retrieving data for 유니온 (A000910): '종가'\n"
          ]
        },
        {
          "output_type": "stream",
          "name": "stderr",
          "text": [
            "\rProgress:  65%|██████▍   | 1298/2000 [27:38<14:39,  1.25s/stock]"
          ]
        },
        {
          "output_type": "stream",
          "name": "stdout",
          "text": [
            "Error retrieving data for 유니온머티리얼 (A047400): '종가'\n"
          ]
        },
        {
          "output_type": "stream",
          "name": "stderr",
          "text": [
            "\rProgress:  65%|██████▍   | 1299/2000 [27:39<14:38,  1.25s/stock]"
          ]
        },
        {
          "output_type": "stream",
          "name": "stdout",
          "text": [
            "Error retrieving data for 유니온커뮤니티 (A203450): '종가'\n"
          ]
        },
        {
          "output_type": "stream",
          "name": "stderr",
          "text": [
            "\rProgress:  65%|██████▌   | 1300/2000 [27:40<15:00,  1.29s/stock]"
          ]
        },
        {
          "output_type": "stream",
          "name": "stdout",
          "text": [
            "Error retrieving data for 유니켐 (A011330): '종가'\n"
          ]
        },
        {
          "output_type": "stream",
          "name": "stderr",
          "text": [
            "\rProgress:  65%|██████▌   | 1301/2000 [27:42<14:57,  1.28s/stock]"
          ]
        },
        {
          "output_type": "stream",
          "name": "stdout",
          "text": [
            "Error retrieving data for 유니퀘스트 (A077500): '종가'\n"
          ]
        },
        {
          "output_type": "stream",
          "name": "stderr",
          "text": [
            "\rProgress:  65%|██████▌   | 1302/2000 [27:43<14:50,  1.28s/stock]"
          ]
        },
        {
          "output_type": "stream",
          "name": "stdout",
          "text": [
            "Error retrieving data for 유니크 (A011320): '종가'\n"
          ]
        },
        {
          "output_type": "stream",
          "name": "stderr",
          "text": [
            "\rProgress:  65%|██████▌   | 1303/2000 [27:44<14:52,  1.28s/stock]"
          ]
        },
        {
          "output_type": "stream",
          "name": "stdout",
          "text": [
            "Error retrieving data for 유니테스트 (A086390): '종가'\n"
          ]
        },
        {
          "output_type": "stream",
          "name": "stderr",
          "text": [
            "\rProgress:  65%|██████▌   | 1304/2000 [27:46<16:32,  1.43s/stock]"
          ]
        },
        {
          "output_type": "stream",
          "name": "stdout",
          "text": [
            "Error retrieving data for 유니테크노 (A241690): '종가'\n"
          ]
        },
        {
          "output_type": "stream",
          "name": "stderr",
          "text": [
            "\rProgress:  65%|██████▌   | 1305/2000 [27:48<17:28,  1.51s/stock]"
          ]
        },
        {
          "output_type": "stream",
          "name": "stdout",
          "text": [
            "Error retrieving data for 유니트론텍 (A142210): '종가'\n"
          ]
        },
        {
          "output_type": "stream",
          "name": "stderr",
          "text": [
            "\rProgress:  65%|██████▌   | 1306/2000 [27:49<16:30,  1.43s/stock]"
          ]
        },
        {
          "output_type": "stream",
          "name": "stdout",
          "text": [
            "Error retrieving data for 유라테크 (A048430): '종가'\n"
          ]
        },
        {
          "output_type": "stream",
          "name": "stderr",
          "text": [
            "\rProgress:  65%|██████▌   | 1307/2000 [27:50<15:47,  1.37s/stock]"
          ]
        },
        {
          "output_type": "stream",
          "name": "stdout",
          "text": [
            "Error retrieving data for 유바이오로직스 (A206650): '종가'\n"
          ]
        },
        {
          "output_type": "stream",
          "name": "stderr",
          "text": [
            "\rProgress:  65%|██████▌   | 1308/2000 [27:51<15:21,  1.33s/stock]"
          ]
        },
        {
          "output_type": "stream",
          "name": "stdout",
          "text": [
            "Error retrieving data for 유비벨록스 (A089850): '종가'\n"
          ]
        },
        {
          "output_type": "stream",
          "name": "stderr",
          "text": [
            "\rProgress:  65%|██████▌   | 1309/2000 [27:53<15:03,  1.31s/stock]"
          ]
        },
        {
          "output_type": "stream",
          "name": "stdout",
          "text": [
            "Error retrieving data for 유비케어 (A032620): '종가'\n"
          ]
        },
        {
          "output_type": "stream",
          "name": "stderr",
          "text": [
            "\rProgress:  66%|██████▌   | 1310/2000 [27:54<14:44,  1.28s/stock]"
          ]
        },
        {
          "output_type": "stream",
          "name": "stdout",
          "text": [
            "Error retrieving data for 유비쿼스 (A264450): '종가'\n"
          ]
        },
        {
          "output_type": "stream",
          "name": "stderr",
          "text": [
            "\rProgress:  66%|██████▌   | 1311/2000 [27:55<14:38,  1.27s/stock]"
          ]
        },
        {
          "output_type": "stream",
          "name": "stdout",
          "text": [
            "Error retrieving data for 유비쿼스홀딩스 (A078070): '종가'\n"
          ]
        },
        {
          "output_type": "stream",
          "name": "stderr",
          "text": [
            "\rProgress:  66%|██████▌   | 1312/2000 [27:56<14:26,  1.26s/stock]"
          ]
        },
        {
          "output_type": "stream",
          "name": "stdout",
          "text": [
            "Error retrieving data for 유성기업 (A002920): '종가'\n"
          ]
        },
        {
          "output_type": "stream",
          "name": "stderr",
          "text": [
            "\rProgress:  66%|██████▌   | 1313/2000 [27:58<14:20,  1.25s/stock]"
          ]
        },
        {
          "output_type": "stream",
          "name": "stdout",
          "text": [
            "Error retrieving data for 유성티엔에스 (A024800): '종가'\n"
          ]
        },
        {
          "output_type": "stream",
          "name": "stderr",
          "text": [
            "\rProgress:  66%|██████▌   | 1314/2000 [27:59<14:14,  1.25s/stock]"
          ]
        },
        {
          "output_type": "stream",
          "name": "stdout",
          "text": [
            "Error retrieving data for 유수홀딩스 (A000700): '종가'\n"
          ]
        },
        {
          "output_type": "stream",
          "name": "stderr",
          "text": [
            "\rProgress:  66%|██████▌   | 1315/2000 [28:00<14:11,  1.24s/stock]"
          ]
        },
        {
          "output_type": "stream",
          "name": "stdout",
          "text": [
            "Error retrieving data for 유신 (A054930): '종가'\n"
          ]
        },
        {
          "output_type": "stream",
          "name": "stderr",
          "text": [
            "\rProgress:  66%|██████▌   | 1316/2000 [28:01<14:12,  1.25s/stock]"
          ]
        },
        {
          "output_type": "stream",
          "name": "stdout",
          "text": [
            "Error retrieving data for 유아이엘 (A049520): '종가'\n"
          ]
        },
        {
          "output_type": "stream",
          "name": "stderr",
          "text": [
            "\rProgress:  66%|██████▌   | 1317/2000 [28:03<14:21,  1.26s/stock]"
          ]
        },
        {
          "output_type": "stream",
          "name": "stdout",
          "text": [
            "Error retrieving data for 유안타증권 (A003470): '종가'\n"
          ]
        },
        {
          "output_type": "stream",
          "name": "stderr",
          "text": [
            "\rProgress:  66%|██████▌   | 1318/2000 [28:04<14:16,  1.26s/stock]"
          ]
        },
        {
          "output_type": "stream",
          "name": "stdout",
          "text": [
            "Error retrieving data for 유에스티 (A263770): '종가'\n"
          ]
        },
        {
          "output_type": "stream",
          "name": "stderr",
          "text": [
            "\rProgress:  66%|██████▌   | 1319/2000 [28:05<15:13,  1.34s/stock]"
          ]
        },
        {
          "output_type": "stream",
          "name": "stdout",
          "text": [
            "Error retrieving data for 유엔젤 (A072130): '종가'\n"
          ]
        },
        {
          "output_type": "stream",
          "name": "stderr",
          "text": [
            "\rProgress:  66%|██████▌   | 1320/2000 [28:07<14:49,  1.31s/stock]"
          ]
        },
        {
          "output_type": "stream",
          "name": "stdout",
          "text": [
            "Error retrieving data for 유유제약 (A000220): '종가'\n"
          ]
        },
        {
          "output_type": "stream",
          "name": "stderr",
          "text": [
            "\rProgress:  66%|██████▌   | 1321/2000 [28:08<14:34,  1.29s/stock]"
          ]
        },
        {
          "output_type": "stream",
          "name": "stdout",
          "text": [
            "Error retrieving data for 유일에너테크 (A340930): '종가'\n"
          ]
        },
        {
          "output_type": "stream",
          "name": "stderr",
          "text": [
            "\rProgress:  66%|██████▌   | 1322/2000 [28:09<14:21,  1.27s/stock]"
          ]
        },
        {
          "output_type": "stream",
          "name": "stdout",
          "text": [
            "Error retrieving data for 유진기업 (A023410): '종가'\n"
          ]
        },
        {
          "output_type": "stream",
          "name": "stderr",
          "text": [
            "\rProgress:  66%|██████▌   | 1323/2000 [28:10<14:13,  1.26s/stock]"
          ]
        },
        {
          "output_type": "stream",
          "name": "stdout",
          "text": [
            "Error retrieving data for 유진로봇 (A056080): '종가'\n"
          ]
        },
        {
          "output_type": "stream",
          "name": "stderr",
          "text": [
            "\rProgress:  66%|██████▌   | 1324/2000 [28:11<14:05,  1.25s/stock]"
          ]
        },
        {
          "output_type": "stream",
          "name": "stdout",
          "text": [
            "Error retrieving data for 유진테크 (A084370): '종가'\n"
          ]
        },
        {
          "output_type": "stream",
          "name": "stderr",
          "text": [
            "\rProgress:  66%|██████▋   | 1325/2000 [28:13<14:00,  1.24s/stock]"
          ]
        },
        {
          "output_type": "stream",
          "name": "stdout",
          "text": [
            "Error retrieving data for 유진투자증권 (A001200): '종가'\n"
          ]
        },
        {
          "output_type": "stream",
          "name": "stderr",
          "text": [
            "\rProgress:  66%|██████▋   | 1326/2000 [28:14<13:54,  1.24s/stock]"
          ]
        },
        {
          "output_type": "stream",
          "name": "stdout",
          "text": [
            "Error retrieving data for 유티아이 (A179900): '종가'\n"
          ]
        },
        {
          "output_type": "stream",
          "name": "stderr",
          "text": [
            "\rProgress:  66%|██████▋   | 1327/2000 [28:15<13:59,  1.25s/stock]"
          ]
        },
        {
          "output_type": "stream",
          "name": "stdout",
          "text": [
            "Error retrieving data for 유틸렉스 (A263050): '종가'\n"
          ]
        },
        {
          "output_type": "stream",
          "name": "stderr",
          "text": [
            "\rProgress:  66%|██████▋   | 1328/2000 [28:16<13:58,  1.25s/stock]"
          ]
        },
        {
          "output_type": "stream",
          "name": "stdout",
          "text": [
            "Error retrieving data for 유한양행 (A000100): '종가'\n"
          ]
        },
        {
          "output_type": "stream",
          "name": "stderr",
          "text": [
            "\rProgress:  66%|██████▋   | 1329/2000 [28:18<13:52,  1.24s/stock]"
          ]
        },
        {
          "output_type": "stream",
          "name": "stdout",
          "text": [
            "Error retrieving data for 유화증권 (A003460): '종가'\n"
          ]
        },
        {
          "output_type": "stream",
          "name": "stderr",
          "text": [
            "\rProgress:  66%|██████▋   | 1330/2000 [28:19<13:52,  1.24s/stock]"
          ]
        },
        {
          "output_type": "stream",
          "name": "stdout",
          "text": [
            "Error retrieving data for 율촌화학 (A008730): '종가'\n"
          ]
        },
        {
          "output_type": "stream",
          "name": "stderr",
          "text": [
            "\rProgress:  67%|██████▋   | 1331/2000 [28:20<13:54,  1.25s/stock]"
          ]
        },
        {
          "output_type": "stream",
          "name": "stdout",
          "text": [
            "Error retrieving data for 율호 (A072770): '종가'\n"
          ]
        },
        {
          "output_type": "stream",
          "name": "stderr",
          "text": [
            "\rProgress:  67%|██████▋   | 1332/2000 [28:21<13:52,  1.25s/stock]"
          ]
        },
        {
          "output_type": "stream",
          "name": "stdout",
          "text": [
            "Error retrieving data for 이건산업 (A008250): '종가'\n"
          ]
        },
        {
          "output_type": "stream",
          "name": "stderr",
          "text": [
            "\rProgress:  67%|██████▋   | 1333/2000 [28:23<13:49,  1.24s/stock]"
          ]
        },
        {
          "output_type": "stream",
          "name": "stdout",
          "text": [
            "Error retrieving data for 이건홀딩스 (A039020): '종가'\n"
          ]
        },
        {
          "output_type": "stream",
          "name": "stderr",
          "text": [
            "\rProgress:  67%|██████▋   | 1334/2000 [28:24<13:47,  1.24s/stock]"
          ]
        },
        {
          "output_type": "stream",
          "name": "stdout",
          "text": [
            "Error retrieving data for 이구산업 (A025820): '종가'\n"
          ]
        },
        {
          "output_type": "stream",
          "name": "stderr",
          "text": [
            "\rProgress:  67%|██████▋   | 1335/2000 [28:25<14:52,  1.34s/stock]"
          ]
        },
        {
          "output_type": "stream",
          "name": "stdout",
          "text": [
            "Error retrieving data for 이글루 (A067920): '종가'\n"
          ]
        },
        {
          "output_type": "stream",
          "name": "stderr",
          "text": [
            "\rProgress:  67%|██████▋   | 1336/2000 [28:27<14:36,  1.32s/stock]"
          ]
        },
        {
          "output_type": "stream",
          "name": "stdout",
          "text": [
            "Error retrieving data for 이글벳 (A044960): '종가'\n"
          ]
        },
        {
          "output_type": "stream",
          "name": "stderr",
          "text": [
            "\rProgress:  67%|██████▋   | 1337/2000 [28:28<14:24,  1.30s/stock]"
          ]
        },
        {
          "output_type": "stream",
          "name": "stdout",
          "text": [
            "Error retrieving data for 이노메트리 (A302430): '종가'\n"
          ]
        },
        {
          "output_type": "stream",
          "name": "stderr",
          "text": [
            "\rProgress:  67%|██████▋   | 1338/2000 [28:29<14:24,  1.31s/stock]"
          ]
        },
        {
          "output_type": "stream",
          "name": "stdout",
          "text": [
            "Error retrieving data for 이노션 (A214320): '종가'\n"
          ]
        },
        {
          "output_type": "stream",
          "name": "stderr",
          "text": [
            "\rProgress:  67%|██████▋   | 1339/2000 [28:31<14:15,  1.29s/stock]"
          ]
        },
        {
          "output_type": "stream",
          "name": "stdout",
          "text": [
            "Error retrieving data for 이노시스 (A056090): '종가'\n"
          ]
        },
        {
          "output_type": "stream",
          "name": "stderr",
          "text": [
            "\rProgress:  67%|██████▋   | 1340/2000 [28:32<14:14,  1.29s/stock]"
          ]
        },
        {
          "output_type": "stream",
          "name": "stdout",
          "text": [
            "Error retrieving data for 이노와이어리스 (A073490): '종가'\n"
          ]
        },
        {
          "output_type": "stream",
          "name": "stderr",
          "text": [
            "\rProgress:  67%|██████▋   | 1341/2000 [28:33<14:08,  1.29s/stock]"
          ]
        },
        {
          "output_type": "stream",
          "name": "stdout",
          "text": [
            "Error retrieving data for 이노테라피 (A246960): '종가'\n"
          ]
        },
        {
          "output_type": "stream",
          "name": "stderr",
          "text": [
            "\rProgress:  67%|██████▋   | 1342/2000 [28:34<14:04,  1.28s/stock]"
          ]
        },
        {
          "output_type": "stream",
          "name": "stdout",
          "text": [
            "Error retrieving data for 이녹스 (A088390): '종가'\n"
          ]
        },
        {
          "output_type": "stream",
          "name": "stderr",
          "text": [
            "\rProgress:  67%|██████▋   | 1343/2000 [28:36<14:02,  1.28s/stock]"
          ]
        },
        {
          "output_type": "stream",
          "name": "stdout",
          "text": [
            "Error retrieving data for 이녹스첨단소재 (A272290): '종가'\n"
          ]
        },
        {
          "output_type": "stream",
          "name": "stderr",
          "text": [
            "\rProgress:  67%|██████▋   | 1344/2000 [28:37<13:58,  1.28s/stock]"
          ]
        },
        {
          "output_type": "stream",
          "name": "stdout",
          "text": [
            "Error retrieving data for 이니텍 (A053350): '종가'\n"
          ]
        },
        {
          "output_type": "stream",
          "name": "stderr",
          "text": [
            "\rProgress:  67%|██████▋   | 1345/2000 [28:38<13:56,  1.28s/stock]"
          ]
        },
        {
          "output_type": "stream",
          "name": "stdout",
          "text": [
            "Error retrieving data for 이라이콤 (A041520): '종가'\n"
          ]
        },
        {
          "output_type": "stream",
          "name": "stderr",
          "text": [
            "\rProgress:  67%|██████▋   | 1346/2000 [28:40<13:51,  1.27s/stock]"
          ]
        },
        {
          "output_type": "stream",
          "name": "stdout",
          "text": [
            "Error retrieving data for 이랜시스 (A264850): '종가'\n"
          ]
        },
        {
          "output_type": "stream",
          "name": "stderr",
          "text": [
            "\rProgress:  67%|██████▋   | 1347/2000 [28:41<13:48,  1.27s/stock]"
          ]
        },
        {
          "output_type": "stream",
          "name": "stdout",
          "text": [
            "Error retrieving data for 이랜텍 (A054210): '종가'\n"
          ]
        },
        {
          "output_type": "stream",
          "name": "stderr",
          "text": [
            "\rProgress:  67%|██████▋   | 1348/2000 [28:42<13:47,  1.27s/stock]"
          ]
        },
        {
          "output_type": "stream",
          "name": "stdout",
          "text": [
            "Error retrieving data for 이루다 (A164060): '종가'\n"
          ]
        },
        {
          "output_type": "stream",
          "name": "stderr",
          "text": [
            "\rProgress:  67%|██████▋   | 1349/2000 [28:43<13:48,  1.27s/stock]"
          ]
        },
        {
          "output_type": "stream",
          "name": "stdout",
          "text": [
            "Error retrieving data for 이루온 (A065440): '종가'\n"
          ]
        },
        {
          "output_type": "stream",
          "name": "stderr",
          "text": [
            "\rProgress:  68%|██████▊   | 1350/2000 [28:45<13:48,  1.27s/stock]"
          ]
        },
        {
          "output_type": "stream",
          "name": "stdout",
          "text": [
            "Error retrieving data for 이마트 (A139480): '종가'\n"
          ]
        },
        {
          "output_type": "stream",
          "name": "stderr",
          "text": [
            "\rProgress:  68%|██████▊   | 1351/2000 [28:46<14:45,  1.36s/stock]"
          ]
        },
        {
          "output_type": "stream",
          "name": "stdout",
          "text": [
            "Error retrieving data for 이미지스 (A115610): '종가'\n"
          ]
        },
        {
          "output_type": "stream",
          "name": "stderr",
          "text": [
            "\rProgress:  68%|██████▊   | 1352/2000 [28:47<14:24,  1.33s/stock]"
          ]
        },
        {
          "output_type": "stream",
          "name": "stdout",
          "text": [
            "Error retrieving data for 이베스트투자증권 (A078020): '종가'\n"
          ]
        },
        {
          "output_type": "stream",
          "name": "stderr",
          "text": [
            "\rProgress:  68%|██████▊   | 1353/2000 [28:49<14:04,  1.30s/stock]"
          ]
        },
        {
          "output_type": "stream",
          "name": "stdout",
          "text": [
            "Error retrieving data for 이브이첨단소재 (A131400): '종가'\n"
          ]
        },
        {
          "output_type": "stream",
          "name": "stderr",
          "text": [
            "\rProgress:  68%|██████▊   | 1354/2000 [28:50<13:50,  1.29s/stock]"
          ]
        },
        {
          "output_type": "stream",
          "name": "stdout",
          "text": [
            "Error retrieving data for 이삭엔지니어링 (A351330): '종가'\n"
          ]
        },
        {
          "output_type": "stream",
          "name": "stderr",
          "text": [
            "\rProgress:  68%|██████▊   | 1355/2000 [28:51<13:39,  1.27s/stock]"
          ]
        },
        {
          "output_type": "stream",
          "name": "stdout",
          "text": [
            "Error retrieving data for 이상네트웍스 (A080010): '종가'\n"
          ]
        },
        {
          "output_type": "stream",
          "name": "stderr",
          "text": [
            "\rProgress:  68%|██████▊   | 1356/2000 [28:53<14:20,  1.34s/stock]"
          ]
        },
        {
          "output_type": "stream",
          "name": "stdout",
          "text": [
            "Error retrieving data for 이수앱지스 (A086890): '종가'\n"
          ]
        },
        {
          "output_type": "stream",
          "name": "stderr",
          "text": [
            "\rProgress:  68%|██████▊   | 1357/2000 [28:54<13:58,  1.30s/stock]"
          ]
        },
        {
          "output_type": "stream",
          "name": "stdout",
          "text": [
            "Error retrieving data for 이수페타시스 (A007660): '종가'\n"
          ]
        },
        {
          "output_type": "stream",
          "name": "stderr",
          "text": [
            "\rProgress:  68%|██████▊   | 1358/2000 [28:55<13:44,  1.28s/stock]"
          ]
        },
        {
          "output_type": "stream",
          "name": "stdout",
          "text": [
            "Error retrieving data for 이수화학 (A005950): '종가'\n"
          ]
        },
        {
          "output_type": "stream",
          "name": "stderr",
          "text": [
            "\rProgress:  68%|██████▊   | 1359/2000 [28:56<13:36,  1.27s/stock]"
          ]
        },
        {
          "output_type": "stream",
          "name": "stdout",
          "text": [
            "Error retrieving data for 이스트소프트 (A047560): '종가'\n"
          ]
        },
        {
          "output_type": "stream",
          "name": "stderr",
          "text": [
            "\rProgress:  68%|██████▊   | 1360/2000 [28:58<13:53,  1.30s/stock]"
          ]
        },
        {
          "output_type": "stream",
          "name": "stdout",
          "text": [
            "Error retrieving data for 이아이디 (A093230): '종가'\n"
          ]
        },
        {
          "output_type": "stream",
          "name": "stderr",
          "text": [
            "\rProgress:  68%|██████▊   | 1361/2000 [28:59<13:38,  1.28s/stock]"
          ]
        },
        {
          "output_type": "stream",
          "name": "stdout",
          "text": [
            "Error retrieving data for 이엔에프테크놀로지 (A102710): '종가'\n"
          ]
        },
        {
          "output_type": "stream",
          "name": "stderr",
          "text": [
            "\rProgress:  68%|██████▊   | 1362/2000 [29:00<13:36,  1.28s/stock]"
          ]
        },
        {
          "output_type": "stream",
          "name": "stdout",
          "text": [
            "Error retrieving data for 이엔코퍼레이션 (A066980): '종가'\n"
          ]
        },
        {
          "output_type": "stream",
          "name": "stderr",
          "text": [
            "\rProgress:  68%|██████▊   | 1363/2000 [29:01<13:26,  1.27s/stock]"
          ]
        },
        {
          "output_type": "stream",
          "name": "stdout",
          "text": [
            "Error retrieving data for 이엔플러스 (A074610): '종가'\n"
          ]
        },
        {
          "output_type": "stream",
          "name": "stderr",
          "text": [
            "\rProgress:  68%|██████▊   | 1364/2000 [29:03<13:14,  1.25s/stock]"
          ]
        },
        {
          "output_type": "stream",
          "name": "stdout",
          "text": [
            "Error retrieving data for 이엠넷 (A123570): '종가'\n"
          ]
        },
        {
          "output_type": "stream",
          "name": "stderr",
          "text": [
            "\rProgress:  68%|██████▊   | 1365/2000 [29:04<13:16,  1.25s/stock]"
          ]
        },
        {
          "output_type": "stream",
          "name": "stdout",
          "text": [
            "Error retrieving data for 이엠앤아이 (A083470): '종가'\n"
          ]
        },
        {
          "output_type": "stream",
          "name": "stderr",
          "text": [
            "\rProgress:  68%|██████▊   | 1366/2000 [29:05<13:16,  1.26s/stock]"
          ]
        },
        {
          "output_type": "stream",
          "name": "stdout",
          "text": [
            "Error retrieving data for 이엠코리아 (A095190): '종가'\n"
          ]
        },
        {
          "output_type": "stream",
          "name": "stderr",
          "text": [
            "\rProgress:  68%|██████▊   | 1367/2000 [29:07<13:23,  1.27s/stock]"
          ]
        },
        {
          "output_type": "stream",
          "name": "stdout",
          "text": [
            "Error retrieving data for 이엠텍 (A091120): '종가'\n"
          ]
        },
        {
          "output_type": "stream",
          "name": "stderr",
          "text": [
            "\rProgress:  68%|██████▊   | 1368/2000 [29:08<13:17,  1.26s/stock]"
          ]
        },
        {
          "output_type": "stream",
          "name": "stdout",
          "text": [
            "Error retrieving data for 이연제약 (A102460): '종가'\n"
          ]
        },
        {
          "output_type": "stream",
          "name": "stderr",
          "text": [
            "\rProgress:  68%|██████▊   | 1369/2000 [29:09<13:14,  1.26s/stock]"
          ]
        },
        {
          "output_type": "stream",
          "name": "stdout",
          "text": [
            "Error retrieving data for 이오테크닉스 (A039030): '종가'\n"
          ]
        },
        {
          "output_type": "stream",
          "name": "stderr",
          "text": [
            "\rProgress:  68%|██████▊   | 1370/2000 [29:10<13:09,  1.25s/stock]"
          ]
        },
        {
          "output_type": "stream",
          "name": "stdout",
          "text": [
            "Error retrieving data for 이오플로우 (A294090): '종가'\n"
          ]
        },
        {
          "output_type": "stream",
          "name": "stderr",
          "text": [
            "\rProgress:  69%|██████▊   | 1371/2000 [29:12<13:06,  1.25s/stock]"
          ]
        },
        {
          "output_type": "stream",
          "name": "stdout",
          "text": [
            "Error retrieving data for 이원컴포텍 (A088290): '종가'\n"
          ]
        },
        {
          "output_type": "stream",
          "name": "stderr",
          "text": [
            "\rProgress:  69%|██████▊   | 1372/2000 [29:13<12:59,  1.24s/stock]"
          ]
        },
        {
          "output_type": "stream",
          "name": "stdout",
          "text": [
            "Error retrieving data for 이월드 (A084680): '종가'\n"
          ]
        },
        {
          "output_type": "stream",
          "name": "stderr",
          "text": [
            "\rProgress:  69%|██████▊   | 1373/2000 [29:14<12:58,  1.24s/stock]"
          ]
        },
        {
          "output_type": "stream",
          "name": "stdout",
          "text": [
            "Error retrieving data for 이즈미디어 (A181340): '종가'\n"
          ]
        },
        {
          "output_type": "stream",
          "name": "stderr",
          "text": [
            "\rProgress:  69%|██████▊   | 1374/2000 [29:15<13:03,  1.25s/stock]"
          ]
        },
        {
          "output_type": "stream",
          "name": "stdout",
          "text": [
            "Error retrieving data for 이지바이오 (A353810): '종가'\n"
          ]
        },
        {
          "output_type": "stream",
          "name": "stderr",
          "text": [
            "\rProgress:  69%|██████▉   | 1375/2000 [29:16<13:00,  1.25s/stock]"
          ]
        },
        {
          "output_type": "stream",
          "name": "stdout",
          "text": [
            "Error retrieving data for 이지케어텍 (A099750): '종가'\n"
          ]
        },
        {
          "output_type": "stream",
          "name": "stderr",
          "text": [
            "\rProgress:  69%|██████▉   | 1376/2000 [29:18<12:56,  1.24s/stock]"
          ]
        },
        {
          "output_type": "stream",
          "name": "stdout",
          "text": [
            "Error retrieving data for 이지홀딩스 (A035810): '종가'\n"
          ]
        },
        {
          "output_type": "stream",
          "name": "stderr",
          "text": [
            "\rProgress:  69%|██████▉   | 1377/2000 [29:19<12:51,  1.24s/stock]"
          ]
        },
        {
          "output_type": "stream",
          "name": "stdout",
          "text": [
            "Error retrieving data for 이큐셀 (A160600): '종가'\n"
          ]
        },
        {
          "output_type": "stream",
          "name": "stderr",
          "text": [
            "\rProgress:  69%|██████▉   | 1378/2000 [29:20<12:49,  1.24s/stock]"
          ]
        },
        {
          "output_type": "stream",
          "name": "stdout",
          "text": [
            "Error retrieving data for 이크레더블 (A092130): '종가'\n"
          ]
        },
        {
          "output_type": "stream",
          "name": "stderr",
          "text": [
            "\rProgress:  69%|██████▉   | 1379/2000 [29:21<12:48,  1.24s/stock]"
          ]
        },
        {
          "output_type": "stream",
          "name": "stdout",
          "text": [
            "Error retrieving data for 이트론 (A096040): '종가'\n"
          ]
        },
        {
          "output_type": "stream",
          "name": "stderr",
          "text": [
            "\rProgress:  69%|██████▉   | 1380/2000 [29:23<12:45,  1.23s/stock]"
          ]
        },
        {
          "output_type": "stream",
          "name": "stdout",
          "text": [
            "Error retrieving data for 이화공영 (A001840): '종가'\n"
          ]
        },
        {
          "output_type": "stream",
          "name": "stderr",
          "text": [
            "\rProgress:  69%|██████▉   | 1381/2000 [29:24<12:49,  1.24s/stock]"
          ]
        },
        {
          "output_type": "stream",
          "name": "stdout",
          "text": [
            "Error retrieving data for 이화산업 (A000760): '종가'\n"
          ]
        },
        {
          "output_type": "stream",
          "name": "stderr",
          "text": [
            "\rProgress:  69%|██████▉   | 1382/2000 [29:25<12:44,  1.24s/stock]"
          ]
        },
        {
          "output_type": "stream",
          "name": "stdout",
          "text": [
            "Error retrieving data for 이화전기 (A024810): '종가'\n"
          ]
        },
        {
          "output_type": "stream",
          "name": "stderr",
          "text": [
            "\rProgress:  69%|██████▉   | 1383/2000 [29:27<13:11,  1.28s/stock]"
          ]
        },
        {
          "output_type": "stream",
          "name": "stdout",
          "text": [
            "Error retrieving data for 인디에프 (A014990): '종가'\n"
          ]
        },
        {
          "output_type": "stream",
          "name": "stderr",
          "text": [
            "\rProgress:  69%|██████▉   | 1384/2000 [29:28<13:07,  1.28s/stock]"
          ]
        },
        {
          "output_type": "stream",
          "name": "stdout",
          "text": [
            "Error retrieving data for 인바디 (A041830): '종가'\n"
          ]
        },
        {
          "output_type": "stream",
          "name": "stderr",
          "text": [
            "\rProgress:  69%|██████▉   | 1385/2000 [29:29<13:05,  1.28s/stock]"
          ]
        },
        {
          "output_type": "stream",
          "name": "stdout",
          "text": [
            "Error retrieving data for 인바이오 (A352940): '종가'\n"
          ]
        },
        {
          "output_type": "stream",
          "name": "stderr",
          "text": [
            "\rProgress:  69%|██████▉   | 1386/2000 [29:30<13:03,  1.28s/stock]"
          ]
        },
        {
          "output_type": "stream",
          "name": "stdout",
          "text": [
            "Error retrieving data for 인바이오젠 (A101140): '종가'\n"
          ]
        },
        {
          "output_type": "stream",
          "name": "stderr",
          "text": [
            "\rProgress:  69%|██████▉   | 1387/2000 [29:32<13:01,  1.27s/stock]"
          ]
        },
        {
          "output_type": "stream",
          "name": "stdout",
          "text": [
            "Error retrieving data for 인산가 (A277410): '종가'\n"
          ]
        },
        {
          "output_type": "stream",
          "name": "stderr",
          "text": [
            "\rProgress:  69%|██████▉   | 1388/2000 [29:33<13:01,  1.28s/stock]"
          ]
        },
        {
          "output_type": "stream",
          "name": "stdout",
          "text": [
            "Error retrieving data for 인선이엔티 (A060150): '종가'\n"
          ]
        },
        {
          "output_type": "stream",
          "name": "stderr",
          "text": [
            "\rProgress:  69%|██████▉   | 1389/2000 [29:34<13:00,  1.28s/stock]"
          ]
        },
        {
          "output_type": "stream",
          "name": "stdout",
          "text": [
            "Error retrieving data for 인성정보 (A033230): '종가'\n"
          ]
        },
        {
          "output_type": "stream",
          "name": "stderr",
          "text": [
            "\rProgress:  70%|██████▉   | 1390/2000 [29:35<13:01,  1.28s/stock]"
          ]
        },
        {
          "output_type": "stream",
          "name": "stdout",
          "text": [
            "Error retrieving data for 인스코비 (A006490): '종가'\n"
          ]
        },
        {
          "output_type": "stream",
          "name": "stderr",
          "text": [
            "\rProgress:  70%|██████▉   | 1391/2000 [29:37<12:56,  1.27s/stock]"
          ]
        },
        {
          "output_type": "stream",
          "name": "stdout",
          "text": [
            "Error retrieving data for 인지디스플레 (A037330): '종가'\n"
          ]
        },
        {
          "output_type": "stream",
          "name": "stderr",
          "text": [
            "\rProgress:  70%|██████▉   | 1392/2000 [29:38<12:55,  1.28s/stock]"
          ]
        },
        {
          "output_type": "stream",
          "name": "stdout",
          "text": [
            "Error retrieving data for 인지소프트 (A100030): '종가'\n"
          ]
        },
        {
          "output_type": "stream",
          "name": "stderr",
          "text": [
            "\rProgress:  70%|██████▉   | 1393/2000 [29:39<12:54,  1.28s/stock]"
          ]
        },
        {
          "output_type": "stream",
          "name": "stdout",
          "text": [
            "Error retrieving data for 인지컨트롤스 (A023800): '종가'\n"
          ]
        },
        {
          "output_type": "stream",
          "name": "stderr",
          "text": [
            "\rProgress:  70%|██████▉   | 1394/2000 [29:41<12:50,  1.27s/stock]"
          ]
        },
        {
          "output_type": "stream",
          "name": "stdout",
          "text": [
            "Error retrieving data for 인천도시가스 (A034590): '종가'\n"
          ]
        },
        {
          "output_type": "stream",
          "name": "stderr",
          "text": [
            "\rProgress:  70%|██████▉   | 1395/2000 [29:42<12:55,  1.28s/stock]"
          ]
        },
        {
          "output_type": "stream",
          "name": "stdout",
          "text": [
            "Error retrieving data for 인카금융서비스 (A211050): '종가'\n"
          ]
        },
        {
          "output_type": "stream",
          "name": "stderr",
          "text": [
            "\rProgress:  70%|██████▉   | 1396/2000 [29:43<12:52,  1.28s/stock]"
          ]
        },
        {
          "output_type": "stream",
          "name": "stdout",
          "text": [
            "Error retrieving data for 인크로스 (A216050): '종가'\n"
          ]
        },
        {
          "output_type": "stream",
          "name": "stderr",
          "text": [
            "\rProgress:  70%|██████▉   | 1397/2000 [29:44<12:50,  1.28s/stock]"
          ]
        },
        {
          "output_type": "stream",
          "name": "stdout",
          "text": [
            "Error retrieving data for 인탑스 (A049070): '종가'\n"
          ]
        },
        {
          "output_type": "stream",
          "name": "stderr",
          "text": [
            "\rProgress:  70%|██████▉   | 1398/2000 [29:46<12:57,  1.29s/stock]"
          ]
        },
        {
          "output_type": "stream",
          "name": "stdout",
          "text": [
            "Error retrieving data for 인터로조 (A119610): '종가'\n"
          ]
        },
        {
          "output_type": "stream",
          "name": "stderr",
          "text": [
            "\rProgress:  70%|██████▉   | 1399/2000 [29:47<13:13,  1.32s/stock]"
          ]
        },
        {
          "output_type": "stream",
          "name": "stdout",
          "text": [
            "Error retrieving data for 인터지스 (A129260): '종가'\n"
          ]
        },
        {
          "output_type": "stream",
          "name": "stderr",
          "text": [
            "\rProgress:  70%|███████   | 1400/2000 [29:48<13:00,  1.30s/stock]"
          ]
        },
        {
          "output_type": "stream",
          "name": "stdout",
          "text": [
            "Error retrieving data for 인터플렉스 (A051370): '종가'\n"
          ]
        },
        {
          "output_type": "stream",
          "name": "stderr",
          "text": [
            "\rProgress:  70%|███████   | 1401/2000 [29:50<13:04,  1.31s/stock]"
          ]
        },
        {
          "output_type": "stream",
          "name": "stdout",
          "text": [
            "Error retrieving data for 인텍플러스 (A064290): '종가'\n"
          ]
        },
        {
          "output_type": "stream",
          "name": "stderr",
          "text": [
            "\rProgress:  70%|███████   | 1402/2000 [29:51<12:56,  1.30s/stock]"
          ]
        },
        {
          "output_type": "stream",
          "name": "stdout",
          "text": [
            "Error retrieving data for 인텔리안테크 (A189300): '종가'\n"
          ]
        },
        {
          "output_type": "stream",
          "name": "stderr",
          "text": [
            "\rProgress:  70%|███████   | 1403/2000 [29:52<12:50,  1.29s/stock]"
          ]
        },
        {
          "output_type": "stream",
          "name": "stdout",
          "text": [
            "Error retrieving data for 인트로메딕 (A150840): '종가'\n"
          ]
        },
        {
          "output_type": "stream",
          "name": "stderr",
          "text": [
            "\rProgress:  70%|███████   | 1404/2000 [29:54<12:47,  1.29s/stock]"
          ]
        },
        {
          "output_type": "stream",
          "name": "stdout",
          "text": [
            "Error retrieving data for 인트론바이오 (A048530): '종가'\n"
          ]
        },
        {
          "output_type": "stream",
          "name": "stderr",
          "text": [
            "\rProgress:  70%|███████   | 1405/2000 [29:55<12:41,  1.28s/stock]"
          ]
        },
        {
          "output_type": "stream",
          "name": "stdout",
          "text": [
            "Error retrieving data for 인팩 (A023810): '종가'\n"
          ]
        },
        {
          "output_type": "stream",
          "name": "stderr",
          "text": [
            "\rProgress:  70%|███████   | 1406/2000 [29:56<12:44,  1.29s/stock]"
          ]
        },
        {
          "output_type": "stream",
          "name": "stdout",
          "text": [
            "Error retrieving data for 인포마크 (A175140): '종가'\n"
          ]
        },
        {
          "output_type": "stream",
          "name": "stderr",
          "text": [
            "\rProgress:  70%|███████   | 1407/2000 [29:57<12:40,  1.28s/stock]"
          ]
        },
        {
          "output_type": "stream",
          "name": "stdout",
          "text": [
            "Error retrieving data for 인포바인 (A115310): '종가'\n"
          ]
        },
        {
          "output_type": "stream",
          "name": "stderr",
          "text": [
            "\rProgress:  70%|███████   | 1408/2000 [29:59<12:39,  1.28s/stock]"
          ]
        },
        {
          "output_type": "stream",
          "name": "stdout",
          "text": [
            "Error retrieving data for 인포뱅크 (A039290): '종가'\n"
          ]
        },
        {
          "output_type": "stream",
          "name": "stderr",
          "text": [
            "\rProgress:  70%|███████   | 1409/2000 [30:00<12:34,  1.28s/stock]"
          ]
        },
        {
          "output_type": "stream",
          "name": "stdout",
          "text": [
            "Error retrieving data for 인피니트헬스케어 (A071200): '종가'\n"
          ]
        },
        {
          "output_type": "stream",
          "name": "stderr",
          "text": [
            "\rProgress:  70%|███████   | 1410/2000 [30:01<12:31,  1.27s/stock]"
          ]
        },
        {
          "output_type": "stream",
          "name": "stdout",
          "text": [
            "Error retrieving data for 인화정공 (A101930): '종가'\n"
          ]
        },
        {
          "output_type": "stream",
          "name": "stderr",
          "text": [
            "\rProgress:  71%|███████   | 1411/2000 [30:02<12:35,  1.28s/stock]"
          ]
        },
        {
          "output_type": "stream",
          "name": "stdout",
          "text": [
            "Error retrieving data for 일동제약 (A249420): '종가'\n"
          ]
        },
        {
          "output_type": "stream",
          "name": "stderr",
          "text": [
            "\rProgress:  71%|███████   | 1412/2000 [30:04<12:34,  1.28s/stock]"
          ]
        },
        {
          "output_type": "stream",
          "name": "stdout",
          "text": [
            "Error retrieving data for 일동홀딩스 (A000230): '종가'\n"
          ]
        },
        {
          "output_type": "stream",
          "name": "stderr",
          "text": [
            "\rProgress:  71%|███████   | 1413/2000 [30:05<12:28,  1.28s/stock]"
          ]
        },
        {
          "output_type": "stream",
          "name": "stdout",
          "text": [
            "Error retrieving data for 일성건설 (A013360): '종가'\n"
          ]
        },
        {
          "output_type": "stream",
          "name": "stderr",
          "text": [
            "\rProgress:  71%|███████   | 1414/2000 [30:06<12:30,  1.28s/stock]"
          ]
        },
        {
          "output_type": "stream",
          "name": "stdout",
          "text": [
            "Error retrieving data for 일성신약 (A003120): '종가'\n"
          ]
        },
        {
          "output_type": "stream",
          "name": "stderr",
          "text": [
            "\rProgress:  71%|███████   | 1415/2000 [30:08<13:26,  1.38s/stock]"
          ]
        },
        {
          "output_type": "stream",
          "name": "stdout",
          "text": [
            "Error retrieving data for 일승 (A333430): '종가'\n"
          ]
        },
        {
          "output_type": "stream",
          "name": "stderr",
          "text": [
            "\rProgress:  71%|███████   | 1416/2000 [30:09<12:58,  1.33s/stock]"
          ]
        },
        {
          "output_type": "stream",
          "name": "stdout",
          "text": [
            "Error retrieving data for 일신바이오 (A068330): '종가'\n"
          ]
        },
        {
          "output_type": "stream",
          "name": "stderr",
          "text": [
            "\rProgress:  71%|███████   | 1417/2000 [30:10<12:40,  1.30s/stock]"
          ]
        },
        {
          "output_type": "stream",
          "name": "stdout",
          "text": [
            "Error retrieving data for 일신방직 (A003200): '종가'\n"
          ]
        },
        {
          "output_type": "stream",
          "name": "stderr",
          "text": [
            "\rProgress:  71%|███████   | 1418/2000 [30:12<12:24,  1.28s/stock]"
          ]
        },
        {
          "output_type": "stream",
          "name": "stdout",
          "text": [
            "Error retrieving data for 일신석재 (A007110): '종가'\n"
          ]
        },
        {
          "output_type": "stream",
          "name": "stderr",
          "text": [
            "\rProgress:  71%|███████   | 1419/2000 [30:13<12:20,  1.27s/stock]"
          ]
        },
        {
          "output_type": "stream",
          "name": "stdout",
          "text": [
            "Error retrieving data for 일양약품 (A007570): '종가'\n"
          ]
        },
        {
          "output_type": "stream",
          "name": "stderr",
          "text": [
            "\rProgress:  71%|███████   | 1420/2000 [30:14<12:10,  1.26s/stock]"
          ]
        },
        {
          "output_type": "stream",
          "name": "stdout",
          "text": [
            "Error retrieving data for 일월지엠엘 (A178780): '종가'\n"
          ]
        },
        {
          "output_type": "stream",
          "name": "stderr",
          "text": [
            "\rProgress:  71%|███████   | 1421/2000 [30:15<12:04,  1.25s/stock]"
          ]
        },
        {
          "output_type": "stream",
          "name": "stdout",
          "text": [
            "Error retrieving data for 일지테크 (A019540): '종가'\n"
          ]
        },
        {
          "output_type": "stream",
          "name": "stderr",
          "text": [
            "\rProgress:  71%|███████   | 1422/2000 [30:17<12:04,  1.25s/stock]"
          ]
        },
        {
          "output_type": "stream",
          "name": "stdout",
          "text": [
            "Error retrieving data for 일진다이아 (A081000): '종가'\n"
          ]
        },
        {
          "output_type": "stream",
          "name": "stderr",
          "text": [
            "\rProgress:  71%|███████   | 1423/2000 [30:18<12:07,  1.26s/stock]"
          ]
        },
        {
          "output_type": "stream",
          "name": "stdout",
          "text": [
            "Error retrieving data for 일진디스플 (A020760): '종가'\n"
          ]
        },
        {
          "output_type": "stream",
          "name": "stderr",
          "text": [
            "\rProgress:  71%|███████   | 1424/2000 [30:19<12:02,  1.25s/stock]"
          ]
        },
        {
          "output_type": "stream",
          "name": "stdout",
          "text": [
            "Error retrieving data for 일진전기 (A103590): '종가'\n"
          ]
        },
        {
          "output_type": "stream",
          "name": "stderr",
          "text": [
            "\rProgress:  71%|███████▏  | 1425/2000 [30:20<11:58,  1.25s/stock]"
          ]
        },
        {
          "output_type": "stream",
          "name": "stdout",
          "text": [
            "Error retrieving data for 일진파워 (A094820): '종가'\n"
          ]
        },
        {
          "output_type": "stream",
          "name": "stderr",
          "text": [
            "\rProgress:  71%|███████▏  | 1426/2000 [30:22<11:54,  1.24s/stock]"
          ]
        },
        {
          "output_type": "stream",
          "name": "stdout",
          "text": [
            "Error retrieving data for 일진홀딩스 (A015860): '종가'\n"
          ]
        },
        {
          "output_type": "stream",
          "name": "stderr",
          "text": [
            "\rProgress:  71%|███████▏  | 1427/2000 [30:23<11:52,  1.24s/stock]"
          ]
        },
        {
          "output_type": "stream",
          "name": "stdout",
          "text": [
            "Error retrieving data for 잇츠한불 (A226320): '종가'\n"
          ]
        },
        {
          "output_type": "stream",
          "name": "stderr",
          "text": [
            "\rProgress:  71%|███████▏  | 1428/2000 [30:24<11:50,  1.24s/stock]"
          ]
        },
        {
          "output_type": "stream",
          "name": "stdout",
          "text": [
            "Error retrieving data for 잉크테크 (A049550): '종가'\n"
          ]
        },
        {
          "output_type": "stream",
          "name": "stderr",
          "text": [
            "\rProgress:  71%|███████▏  | 1429/2000 [30:25<11:48,  1.24s/stock]"
          ]
        },
        {
          "output_type": "stream",
          "name": "stdout",
          "text": [
            "Error retrieving data for 자비스 (A254120): '종가'\n"
          ]
        },
        {
          "output_type": "stream",
          "name": "stderr",
          "text": [
            "\rProgress:  72%|███████▏  | 1430/2000 [30:27<11:45,  1.24s/stock]"
          ]
        },
        {
          "output_type": "stream",
          "name": "stdout",
          "text": [
            "Error retrieving data for 자연과환경 (A043910): '종가'\n"
          ]
        },
        {
          "output_type": "stream",
          "name": "stderr",
          "text": [
            "\rProgress:  72%|███████▏  | 1431/2000 [30:28<11:48,  1.25s/stock]"
          ]
        },
        {
          "output_type": "stream",
          "name": "stdout",
          "text": [
            "Error retrieving data for 자이글 (A234920): '종가'\n"
          ]
        },
        {
          "output_type": "stream",
          "name": "stderr",
          "text": [
            "\rProgress:  72%|███████▏  | 1432/2000 [30:29<12:30,  1.32s/stock]"
          ]
        },
        {
          "output_type": "stream",
          "name": "stdout",
          "text": [
            "Error retrieving data for 자이언트스텝 (A289220): '종가'\n"
          ]
        },
        {
          "output_type": "stream",
          "name": "stderr",
          "text": [
            "\rProgress:  72%|███████▏  | 1433/2000 [30:31<12:17,  1.30s/stock]"
          ]
        },
        {
          "output_type": "stream",
          "name": "stdout",
          "text": [
            "Error retrieving data for 자이에스앤디 (A317400): '종가'\n"
          ]
        },
        {
          "output_type": "stream",
          "name": "stderr",
          "text": [
            "\rProgress:  72%|███████▏  | 1434/2000 [30:32<12:08,  1.29s/stock]"
          ]
        },
        {
          "output_type": "stream",
          "name": "stdout",
          "text": [
            "Error retrieving data for 자화전자 (A033240): '종가'\n"
          ]
        },
        {
          "output_type": "stream",
          "name": "stderr",
          "text": [
            "\rProgress:  72%|███████▏  | 1435/2000 [30:33<11:58,  1.27s/stock]"
          ]
        },
        {
          "output_type": "stream",
          "name": "stdout",
          "text": [
            "Error retrieving data for 재영솔루텍 (A049630): '종가'\n"
          ]
        },
        {
          "output_type": "stream",
          "name": "stderr",
          "text": [
            "\rProgress:  72%|███████▏  | 1436/2000 [30:34<11:59,  1.28s/stock]"
          ]
        },
        {
          "output_type": "stream",
          "name": "stdout",
          "text": [
            "Error retrieving data for 전방 (A000950): '종가'\n"
          ]
        },
        {
          "output_type": "stream",
          "name": "stderr",
          "text": [
            "\rProgress:  72%|███████▏  | 1437/2000 [30:36<11:50,  1.26s/stock]"
          ]
        },
        {
          "output_type": "stream",
          "name": "stdout",
          "text": [
            "Error retrieving data for 정다운 (A208140): '종가'\n"
          ]
        },
        {
          "output_type": "stream",
          "name": "stderr",
          "text": [
            "\rProgress:  72%|███████▏  | 1438/2000 [30:37<11:47,  1.26s/stock]"
          ]
        },
        {
          "output_type": "stream",
          "name": "stdout",
          "text": [
            "Error retrieving data for 정상제이엘에스 (A040420): '종가'\n"
          ]
        },
        {
          "output_type": "stream",
          "name": "stderr",
          "text": [
            "\rProgress:  72%|███████▏  | 1439/2000 [30:38<11:50,  1.27s/stock]"
          ]
        },
        {
          "output_type": "stream",
          "name": "stdout",
          "text": [
            "Error retrieving data for 제너셈 (A217190): '종가'\n"
          ]
        },
        {
          "output_type": "stream",
          "name": "stderr",
          "text": [
            "\rProgress:  72%|███████▏  | 1440/2000 [30:39<11:46,  1.26s/stock]"
          ]
        },
        {
          "output_type": "stream",
          "name": "stdout",
          "text": [
            "Error retrieving data for 제넥신 (A095700): '종가'\n"
          ]
        },
        {
          "output_type": "stream",
          "name": "stderr",
          "text": [
            "\rProgress:  72%|███████▏  | 1441/2000 [30:41<11:40,  1.25s/stock]"
          ]
        },
        {
          "output_type": "stream",
          "name": "stdout",
          "text": [
            "Error retrieving data for 제노레이 (A122310): '종가'\n"
          ]
        },
        {
          "output_type": "stream",
          "name": "stderr",
          "text": [
            "\rProgress:  72%|███████▏  | 1442/2000 [30:42<11:42,  1.26s/stock]"
          ]
        },
        {
          "output_type": "stream",
          "name": "stdout",
          "text": [
            "Error retrieving data for 제노코 (A361390): '종가'\n"
          ]
        },
        {
          "output_type": "stream",
          "name": "stderr",
          "text": [
            "\rProgress:  72%|███████▏  | 1443/2000 [30:43<11:41,  1.26s/stock]"
          ]
        },
        {
          "output_type": "stream",
          "name": "stdout",
          "text": [
            "Error retrieving data for 제노포커스 (A187420): '종가'\n"
          ]
        },
        {
          "output_type": "stream",
          "name": "stderr",
          "text": [
            "\rProgress:  72%|███████▏  | 1444/2000 [30:44<11:35,  1.25s/stock]"
          ]
        },
        {
          "output_type": "stream",
          "name": "stdout",
          "text": [
            "Error retrieving data for 제놀루션 (A225220): '종가'\n"
          ]
        },
        {
          "output_type": "stream",
          "name": "stderr",
          "text": [
            "\rProgress:  72%|███████▏  | 1445/2000 [30:46<11:32,  1.25s/stock]"
          ]
        },
        {
          "output_type": "stream",
          "name": "stdout",
          "text": [
            "Error retrieving data for 제로투세븐 (A159580): '종가'\n"
          ]
        },
        {
          "output_type": "stream",
          "name": "stderr",
          "text": [
            "\rProgress:  72%|███████▏  | 1446/2000 [30:47<11:27,  1.24s/stock]"
          ]
        },
        {
          "output_type": "stream",
          "name": "stdout",
          "text": [
            "Error retrieving data for 제룡산업 (A147830): '종가'\n"
          ]
        },
        {
          "output_type": "stream",
          "name": "stderr",
          "text": [
            "\rProgress:  72%|███████▏  | 1447/2000 [30:48<11:23,  1.24s/stock]"
          ]
        },
        {
          "output_type": "stream",
          "name": "stdout",
          "text": [
            "Error retrieving data for 제룡전기 (A033100): '종가'\n"
          ]
        },
        {
          "output_type": "stream",
          "name": "stderr",
          "text": [
            "\rProgress:  72%|███████▏  | 1448/2000 [30:49<11:37,  1.26s/stock]"
          ]
        },
        {
          "output_type": "stream",
          "name": "stdout",
          "text": [
            "Error retrieving data for 제우스 (A079370): '종가'\n"
          ]
        },
        {
          "output_type": "stream",
          "name": "stderr",
          "text": [
            "\rProgress:  72%|███████▏  | 1449/2000 [30:51<11:50,  1.29s/stock]"
          ]
        },
        {
          "output_type": "stream",
          "name": "stdout",
          "text": [
            "Error retrieving data for 제이브이엠 (A054950): '종가'\n"
          ]
        },
        {
          "output_type": "stream",
          "name": "stderr",
          "text": [
            "\rProgress:  72%|███████▎  | 1450/2000 [30:52<11:45,  1.28s/stock]"
          ]
        },
        {
          "output_type": "stream",
          "name": "stdout",
          "text": [
            "Error retrieving data for 제이스코홀딩스 (A023440): '종가'\n"
          ]
        },
        {
          "output_type": "stream",
          "name": "stderr",
          "text": [
            "\rProgress:  73%|███████▎  | 1451/2000 [30:53<11:40,  1.28s/stock]"
          ]
        },
        {
          "output_type": "stream",
          "name": "stdout",
          "text": [
            "Error retrieving data for 제이스텍 (A090470): '종가'\n"
          ]
        },
        {
          "output_type": "stream",
          "name": "stderr",
          "text": [
            "\rProgress:  73%|███████▎  | 1452/2000 [30:54<11:39,  1.28s/stock]"
          ]
        },
        {
          "output_type": "stream",
          "name": "stdout",
          "text": [
            "Error retrieving data for 제이시스메디칼 (A287410): '종가'\n"
          ]
        },
        {
          "output_type": "stream",
          "name": "stderr",
          "text": [
            "\rProgress:  73%|███████▎  | 1453/2000 [30:56<11:35,  1.27s/stock]"
          ]
        },
        {
          "output_type": "stream",
          "name": "stdout",
          "text": [
            "Error retrieving data for 제이씨케미칼 (A137950): '종가'\n"
          ]
        },
        {
          "output_type": "stream",
          "name": "stderr",
          "text": [
            "\rProgress:  73%|███████▎  | 1454/2000 [30:57<11:33,  1.27s/stock]"
          ]
        },
        {
          "output_type": "stream",
          "name": "stdout",
          "text": [
            "Error retrieving data for 제이씨현시스템 (A033320): '종가'\n"
          ]
        },
        {
          "output_type": "stream",
          "name": "stderr",
          "text": [
            "\rProgress:  73%|███████▎  | 1455/2000 [30:58<11:29,  1.26s/stock]"
          ]
        },
        {
          "output_type": "stream",
          "name": "stdout",
          "text": [
            "Error retrieving data for 제이앤티씨 (A204270): '종가'\n"
          ]
        },
        {
          "output_type": "stream",
          "name": "stderr",
          "text": [
            "\rProgress:  73%|███████▎  | 1456/2000 [31:00<11:27,  1.26s/stock]"
          ]
        },
        {
          "output_type": "stream",
          "name": "stdout",
          "text": [
            "Error retrieving data for 제이에스코퍼레이션 (A194370): '종가'\n"
          ]
        },
        {
          "output_type": "stream",
          "name": "stderr",
          "text": [
            "\rProgress:  73%|███████▎  | 1457/2000 [31:01<11:26,  1.26s/stock]"
          ]
        },
        {
          "output_type": "stream",
          "name": "stdout",
          "text": [
            "Error retrieving data for 제이에스티나 (A026040): '종가'\n"
          ]
        },
        {
          "output_type": "stream",
          "name": "stderr",
          "text": [
            "\rProgress:  73%|███████▎  | 1458/2000 [31:02<11:23,  1.26s/stock]"
          ]
        },
        {
          "output_type": "stream",
          "name": "stdout",
          "text": [
            "Error retrieving data for 제이엔케이히터 (A126880): '종가'\n"
          ]
        },
        {
          "output_type": "stream",
          "name": "stderr",
          "text": [
            "\rProgress:  73%|███████▎  | 1459/2000 [31:03<11:23,  1.26s/stock]"
          ]
        },
        {
          "output_type": "stream",
          "name": "stdout",
          "text": [
            "Error retrieving data for 제이엘케이 (A322510): '종가'\n"
          ]
        },
        {
          "output_type": "stream",
          "name": "stderr",
          "text": [
            "\rProgress:  73%|███████▎  | 1460/2000 [31:05<11:20,  1.26s/stock]"
          ]
        },
        {
          "output_type": "stream",
          "name": "stdout",
          "text": [
            "Error retrieving data for 제이엠티 (A094970): '종가'\n"
          ]
        },
        {
          "output_type": "stream",
          "name": "stderr",
          "text": [
            "\rProgress:  73%|███████▎  | 1461/2000 [31:06<11:19,  1.26s/stock]"
          ]
        },
        {
          "output_type": "stream",
          "name": "stdout",
          "text": [
            "Error retrieving data for 제이티 (A089790): '종가'\n"
          ]
        },
        {
          "output_type": "stream",
          "name": "stderr",
          "text": [
            "\rProgress:  73%|███████▎  | 1462/2000 [31:07<11:17,  1.26s/stock]"
          ]
        },
        {
          "output_type": "stream",
          "name": "stdout",
          "text": [
            "Error retrieving data for 제일기획 (A030000): '종가'\n"
          ]
        },
        {
          "output_type": "stream",
          "name": "stderr",
          "text": [
            "\rProgress:  73%|███████▎  | 1463/2000 [31:08<11:19,  1.27s/stock]"
          ]
        },
        {
          "output_type": "stream",
          "name": "stdout",
          "text": [
            "Error retrieving data for 제일바이오 (A052670): '종가'\n"
          ]
        },
        {
          "output_type": "stream",
          "name": "stderr",
          "text": [
            "\rProgress:  73%|███████▎  | 1464/2000 [31:10<12:25,  1.39s/stock]"
          ]
        },
        {
          "output_type": "stream",
          "name": "stdout",
          "text": [
            "Error retrieving data for 제일약품 (A271980): '종가'\n"
          ]
        },
        {
          "output_type": "stream",
          "name": "stderr",
          "text": [
            "\rProgress:  73%|███████▎  | 1465/2000 [31:12<13:08,  1.47s/stock]"
          ]
        },
        {
          "output_type": "stream",
          "name": "stdout",
          "text": [
            "Error retrieving data for 제일연마 (A001560): '종가'\n"
          ]
        },
        {
          "output_type": "stream",
          "name": "stderr",
          "text": [
            "\rProgress:  73%|███████▎  | 1466/2000 [31:13<12:25,  1.40s/stock]"
          ]
        },
        {
          "output_type": "stream",
          "name": "stdout",
          "text": [
            "Error retrieving data for 제일전기공업 (A199820): '종가'\n"
          ]
        },
        {
          "output_type": "stream",
          "name": "stderr",
          "text": [
            "\rProgress:  73%|███████▎  | 1467/2000 [31:14<12:00,  1.35s/stock]"
          ]
        },
        {
          "output_type": "stream",
          "name": "stdout",
          "text": [
            "Error retrieving data for 제일테크노스 (A038010): '종가'\n"
          ]
        },
        {
          "output_type": "stream",
          "name": "stderr",
          "text": [
            "\rProgress:  73%|███████▎  | 1468/2000 [31:15<11:43,  1.32s/stock]"
          ]
        },
        {
          "output_type": "stream",
          "name": "stdout",
          "text": [
            "Error retrieving data for 제일파마홀딩스 (A002620): '종가'\n"
          ]
        },
        {
          "output_type": "stream",
          "name": "stderr",
          "text": [
            "\rProgress:  73%|███████▎  | 1469/2000 [31:17<11:25,  1.29s/stock]"
          ]
        },
        {
          "output_type": "stream",
          "name": "stdout",
          "text": [
            "Error retrieving data for 제주맥주 (A276730): '종가'\n"
          ]
        },
        {
          "output_type": "stream",
          "name": "stderr",
          "text": [
            "\rProgress:  74%|███████▎  | 1470/2000 [31:18<11:13,  1.27s/stock]"
          ]
        },
        {
          "output_type": "stream",
          "name": "stdout",
          "text": [
            "Error retrieving data for 제주반도체 (A080220): '종가'\n"
          ]
        },
        {
          "output_type": "stream",
          "name": "stderr",
          "text": [
            "\rProgress:  74%|███████▎  | 1471/2000 [31:19<11:05,  1.26s/stock]"
          ]
        },
        {
          "output_type": "stream",
          "name": "stdout",
          "text": [
            "Error retrieving data for 제주은행 (A006220): '종가'\n"
          ]
        },
        {
          "output_type": "stream",
          "name": "stderr",
          "text": [
            "\rProgress:  74%|███████▎  | 1472/2000 [31:20<10:58,  1.25s/stock]"
          ]
        },
        {
          "output_type": "stream",
          "name": "stdout",
          "text": [
            "Error retrieving data for 제주항공 (A089590): '종가'\n"
          ]
        },
        {
          "output_type": "stream",
          "name": "stderr",
          "text": [
            "\rProgress:  74%|███████▎  | 1473/2000 [31:22<11:05,  1.26s/stock]"
          ]
        },
        {
          "output_type": "stream",
          "name": "stdout",
          "text": [
            "Error retrieving data for 제테마 (A216080): '종가'\n"
          ]
        },
        {
          "output_type": "stream",
          "name": "stderr",
          "text": [
            "\rProgress:  74%|███████▎  | 1474/2000 [31:23<10:57,  1.25s/stock]"
          ]
        },
        {
          "output_type": "stream",
          "name": "stdout",
          "text": [
            "Error retrieving data for 젠큐릭스 (A229000): '종가'\n"
          ]
        },
        {
          "output_type": "stream",
          "name": "stderr",
          "text": [
            "\rProgress:  74%|███████▍  | 1475/2000 [31:24<10:53,  1.25s/stock]"
          ]
        },
        {
          "output_type": "stream",
          "name": "stdout",
          "text": [
            "Error retrieving data for 젬백스 (A082270): '종가'\n"
          ]
        },
        {
          "output_type": "stream",
          "name": "stderr",
          "text": [
            "\rProgress:  74%|███████▍  | 1476/2000 [31:25<10:49,  1.24s/stock]"
          ]
        },
        {
          "output_type": "stream",
          "name": "stdout",
          "text": [
            "Error retrieving data for 젬백스링크 (A064800): '종가'\n"
          ]
        },
        {
          "output_type": "stream",
          "name": "stderr",
          "text": [
            "\rProgress:  74%|███████▍  | 1477/2000 [31:27<10:47,  1.24s/stock]"
          ]
        },
        {
          "output_type": "stream",
          "name": "stdout",
          "text": [
            "Error retrieving data for 조광ILI (A044060): '종가'\n"
          ]
        },
        {
          "output_type": "stream",
          "name": "stderr",
          "text": [
            "\rProgress:  74%|███████▍  | 1478/2000 [31:28<10:44,  1.23s/stock]"
          ]
        },
        {
          "output_type": "stream",
          "name": "stdout",
          "text": [
            "Error retrieving data for 조광페인트 (A004910): '종가'\n"
          ]
        },
        {
          "output_type": "stream",
          "name": "stderr",
          "text": [
            "\rProgress:  74%|███████▍  | 1479/2000 [31:29<10:58,  1.26s/stock]"
          ]
        },
        {
          "output_type": "stream",
          "name": "stdout",
          "text": [
            "Error retrieving data for 조광피혁 (A004700): '종가'\n"
          ]
        },
        {
          "output_type": "stream",
          "name": "stderr",
          "text": [
            "\rProgress:  74%|███████▍  | 1480/2000 [31:30<10:57,  1.26s/stock]"
          ]
        },
        {
          "output_type": "stream",
          "name": "stdout",
          "text": [
            "Error retrieving data for 조비 (A001550): '종가'\n"
          ]
        },
        {
          "output_type": "stream",
          "name": "stderr",
          "text": [
            "\rProgress:  74%|███████▍  | 1481/2000 [31:32<10:55,  1.26s/stock]"
          ]
        },
        {
          "output_type": "stream",
          "name": "stdout",
          "text": [
            "Error retrieving data for 조선내화 (A000480): '종가'\n"
          ]
        },
        {
          "output_type": "stream",
          "name": "stderr",
          "text": [
            "\rProgress:  74%|███████▍  | 1482/2000 [31:33<10:54,  1.26s/stock]"
          ]
        },
        {
          "output_type": "stream",
          "name": "stdout",
          "text": [
            "Error retrieving data for 조선선재 (A120030): '종가'\n"
          ]
        },
        {
          "output_type": "stream",
          "name": "stderr",
          "text": [
            "\rProgress:  74%|███████▍  | 1483/2000 [31:34<11:17,  1.31s/stock]"
          ]
        },
        {
          "output_type": "stream",
          "name": "stdout",
          "text": [
            "Error retrieving data for 조아제약 (A034940): '종가'\n"
          ]
        },
        {
          "output_type": "stream",
          "name": "stderr",
          "text": [
            "\rProgress:  74%|███████▍  | 1484/2000 [31:36<11:15,  1.31s/stock]"
          ]
        },
        {
          "output_type": "stream",
          "name": "stdout",
          "text": [
            "Error retrieving data for 조이시티 (A067000): '종가'\n"
          ]
        },
        {
          "output_type": "stream",
          "name": "stderr",
          "text": [
            "\rProgress:  74%|███████▍  | 1485/2000 [31:37<11:23,  1.33s/stock]"
          ]
        },
        {
          "output_type": "stream",
          "name": "stdout",
          "text": [
            "Error retrieving data for 조일알미늄 (A018470): '종가'\n"
          ]
        },
        {
          "output_type": "stream",
          "name": "stderr",
          "text": [
            "\rProgress:  74%|███████▍  | 1486/2000 [31:38<11:13,  1.31s/stock]"
          ]
        },
        {
          "output_type": "stream",
          "name": "stdout",
          "text": [
            "Error retrieving data for 조흥 (A002600): '종가'\n"
          ]
        },
        {
          "output_type": "stream",
          "name": "stderr",
          "text": [
            "\rProgress:  74%|███████▍  | 1487/2000 [31:40<11:11,  1.31s/stock]"
          ]
        },
        {
          "output_type": "stream",
          "name": "stdout",
          "text": [
            "Error retrieving data for 종근당 (A185750): '종가'\n"
          ]
        },
        {
          "output_type": "stream",
          "name": "stderr",
          "text": [
            "\rProgress:  74%|███████▍  | 1488/2000 [31:41<11:09,  1.31s/stock]"
          ]
        },
        {
          "output_type": "stream",
          "name": "stdout",
          "text": [
            "Error retrieving data for 종근당바이오 (A063160): '종가'\n"
          ]
        },
        {
          "output_type": "stream",
          "name": "stderr",
          "text": [
            "\rProgress:  74%|███████▍  | 1489/2000 [31:42<11:11,  1.31s/stock]"
          ]
        },
        {
          "output_type": "stream",
          "name": "stdout",
          "text": [
            "Error retrieving data for 종근당홀딩스 (A001630): '종가'\n"
          ]
        },
        {
          "output_type": "stream",
          "name": "stderr",
          "text": [
            "\rProgress:  74%|███████▍  | 1490/2000 [31:43<11:04,  1.30s/stock]"
          ]
        },
        {
          "output_type": "stream",
          "name": "stdout",
          "text": [
            "Error retrieving data for 좋은사람들 (A033340): '종가'\n"
          ]
        },
        {
          "output_type": "stream",
          "name": "stderr",
          "text": [
            "\rProgress:  75%|███████▍  | 1491/2000 [31:45<10:59,  1.30s/stock]"
          ]
        },
        {
          "output_type": "stream",
          "name": "stdout",
          "text": [
            "Error retrieving data for 주성엔지니어링 (A036930): '종가'\n"
          ]
        },
        {
          "output_type": "stream",
          "name": "stderr",
          "text": [
            "\rProgress:  75%|███████▍  | 1492/2000 [31:46<10:51,  1.28s/stock]"
          ]
        },
        {
          "output_type": "stream",
          "name": "stdout",
          "text": [
            "Error retrieving data for 주연테크 (A044380): '종가'\n"
          ]
        },
        {
          "output_type": "stream",
          "name": "stderr",
          "text": [
            "\rProgress:  75%|███████▍  | 1493/2000 [31:47<10:48,  1.28s/stock]"
          ]
        },
        {
          "output_type": "stream",
          "name": "stdout",
          "text": [
            "Error retrieving data for 줌인터넷 (A239340): '종가'\n"
          ]
        },
        {
          "output_type": "stream",
          "name": "stderr",
          "text": [
            "\rProgress:  75%|███████▍  | 1494/2000 [31:49<10:54,  1.29s/stock]"
          ]
        },
        {
          "output_type": "stream",
          "name": "stdout",
          "text": [
            "Error retrieving data for 중앙디앤엠 (A051980): '종가'\n"
          ]
        },
        {
          "output_type": "stream",
          "name": "stderr",
          "text": [
            "\rProgress:  75%|███████▍  | 1495/2000 [31:50<10:59,  1.31s/stock]"
          ]
        },
        {
          "output_type": "stream",
          "name": "stdout",
          "text": [
            "Error retrieving data for 중앙백신 (A072020): '종가'\n"
          ]
        },
        {
          "output_type": "stream",
          "name": "stderr",
          "text": [
            "\rProgress:  75%|███████▍  | 1496/2000 [31:51<10:47,  1.29s/stock]"
          ]
        },
        {
          "output_type": "stream",
          "name": "stdout",
          "text": [
            "Error retrieving data for 중앙에너비스 (A000440): '종가'\n"
          ]
        },
        {
          "output_type": "stream",
          "name": "stderr",
          "text": [
            "\rProgress:  75%|███████▍  | 1497/2000 [31:52<10:39,  1.27s/stock]"
          ]
        },
        {
          "output_type": "stream",
          "name": "stdout",
          "text": [
            "Error retrieving data for 지노믹트리 (A228760): '종가'\n"
          ]
        },
        {
          "output_type": "stream",
          "name": "stderr",
          "text": [
            "\rProgress:  75%|███████▍  | 1498/2000 [31:54<10:31,  1.26s/stock]"
          ]
        },
        {
          "output_type": "stream",
          "name": "stdout",
          "text": [
            "Error retrieving data for 지놈앤컴퍼니 (A314130): '종가'\n"
          ]
        },
        {
          "output_type": "stream",
          "name": "stderr",
          "text": [
            "\rProgress:  75%|███████▍  | 1499/2000 [31:55<10:35,  1.27s/stock]"
          ]
        },
        {
          "output_type": "stream",
          "name": "stdout",
          "text": [
            "Error retrieving data for 지누스 (A013890): '종가'\n"
          ]
        },
        {
          "output_type": "stream",
          "name": "stderr",
          "text": [
            "\rProgress:  75%|███████▌  | 1500/2000 [31:56<10:28,  1.26s/stock]"
          ]
        },
        {
          "output_type": "stream",
          "name": "stdout",
          "text": [
            "Error retrieving data for 지니뮤직 (A043610): '종가'\n"
          ]
        },
        {
          "output_type": "stream",
          "name": "stderr",
          "text": [
            "\rProgress:  75%|███████▌  | 1501/2000 [31:57<10:36,  1.28s/stock]"
          ]
        },
        {
          "output_type": "stream",
          "name": "stdout",
          "text": [
            "Error retrieving data for 지니언스 (A263860): '종가'\n"
          ]
        },
        {
          "output_type": "stream",
          "name": "stderr",
          "text": [
            "\rProgress:  75%|███████▌  | 1502/2000 [31:59<10:30,  1.27s/stock]"
          ]
        },
        {
          "output_type": "stream",
          "name": "stdout",
          "text": [
            "Error retrieving data for 지니틱스 (A303030): '종가'\n"
          ]
        },
        {
          "output_type": "stream",
          "name": "stderr",
          "text": [
            "\rProgress:  75%|███████▌  | 1503/2000 [32:00<10:26,  1.26s/stock]"
          ]
        },
        {
          "output_type": "stream",
          "name": "stdout",
          "text": [
            "Error retrieving data for 지씨셀 (A144510): '종가'\n"
          ]
        },
        {
          "output_type": "stream",
          "name": "stderr",
          "text": [
            "\rProgress:  75%|███████▌  | 1504/2000 [32:01<10:59,  1.33s/stock]"
          ]
        },
        {
          "output_type": "stream",
          "name": "stdout",
          "text": [
            "Error retrieving data for 지어소프트 (A051160): '종가'\n"
          ]
        },
        {
          "output_type": "stream",
          "name": "stderr",
          "text": [
            "\rProgress:  75%|███████▌  | 1505/2000 [32:03<10:44,  1.30s/stock]"
          ]
        },
        {
          "output_type": "stream",
          "name": "stdout",
          "text": [
            "Error retrieving data for 지에스이 (A053050): '종가'\n"
          ]
        },
        {
          "output_type": "stream",
          "name": "stderr",
          "text": [
            "\rProgress:  75%|███████▌  | 1506/2000 [32:04<10:32,  1.28s/stock]"
          ]
        },
        {
          "output_type": "stream",
          "name": "stdout",
          "text": [
            "Error retrieving data for 지엔씨에너지 (A119850): '종가'\n"
          ]
        },
        {
          "output_type": "stream",
          "name": "stderr",
          "text": [
            "\rProgress:  75%|███████▌  | 1507/2000 [32:05<10:22,  1.26s/stock]"
          ]
        },
        {
          "output_type": "stream",
          "name": "stdout",
          "text": [
            "Error retrieving data for 지엘팜텍 (A204840): '종가'\n"
          ]
        },
        {
          "output_type": "stream",
          "name": "stderr",
          "text": [
            "\rProgress:  75%|███████▌  | 1508/2000 [32:06<10:17,  1.26s/stock]"
          ]
        },
        {
          "output_type": "stream",
          "name": "stdout",
          "text": [
            "Error retrieving data for 지엠비코리아 (A013870): '종가'\n"
          ]
        },
        {
          "output_type": "stream",
          "name": "stderr",
          "text": [
            "\rProgress:  75%|███████▌  | 1509/2000 [32:08<10:15,  1.25s/stock]"
          ]
        },
        {
          "output_type": "stream",
          "name": "stdout",
          "text": [
            "Error retrieving data for 지역난방공사 (A071320): '종가'\n"
          ]
        },
        {
          "output_type": "stream",
          "name": "stderr",
          "text": [
            "\rProgress:  76%|███████▌  | 1510/2000 [32:09<10:11,  1.25s/stock]"
          ]
        },
        {
          "output_type": "stream",
          "name": "stdout",
          "text": [
            "Error retrieving data for 지오릿에너지 (A270520): '종가'\n"
          ]
        },
        {
          "output_type": "stream",
          "name": "stderr",
          "text": [
            "\rProgress:  76%|███████▌  | 1511/2000 [32:10<10:26,  1.28s/stock]"
          ]
        },
        {
          "output_type": "stream",
          "name": "stdout",
          "text": [
            "Error retrieving data for 지투알 (A035000): '종가'\n"
          ]
        },
        {
          "output_type": "stream",
          "name": "stderr",
          "text": [
            "\rProgress:  76%|███████▌  | 1512/2000 [32:11<10:21,  1.27s/stock]"
          ]
        },
        {
          "output_type": "stream",
          "name": "stdout",
          "text": [
            "Error retrieving data for 진로발효 (A018120): '종가'\n"
          ]
        },
        {
          "output_type": "stream",
          "name": "stderr",
          "text": [
            "\rProgress:  76%|███████▌  | 1513/2000 [32:13<10:13,  1.26s/stock]"
          ]
        },
        {
          "output_type": "stream",
          "name": "stdout",
          "text": [
            "Error retrieving data for 진매트릭스 (A109820): '종가'\n"
          ]
        },
        {
          "output_type": "stream",
          "name": "stderr",
          "text": [
            "\rProgress:  76%|███████▌  | 1514/2000 [32:14<10:07,  1.25s/stock]"
          ]
        },
        {
          "output_type": "stream",
          "name": "stdout",
          "text": [
            "Error retrieving data for 진성티이씨 (A036890): '종가'\n"
          ]
        },
        {
          "output_type": "stream",
          "name": "stderr",
          "text": [
            "\rProgress:  76%|███████▌  | 1515/2000 [32:15<10:01,  1.24s/stock]"
          ]
        },
        {
          "output_type": "stream",
          "name": "stdout",
          "text": [
            "Error retrieving data for 진시스템 (A363250): '종가'\n"
          ]
        },
        {
          "output_type": "stream",
          "name": "stderr",
          "text": [
            "\rProgress:  76%|███████▌  | 1516/2000 [32:16<09:59,  1.24s/stock]"
          ]
        },
        {
          "output_type": "stream",
          "name": "stdout",
          "text": [
            "Error retrieving data for 진양산업 (A003780): '종가'\n"
          ]
        },
        {
          "output_type": "stream",
          "name": "stderr",
          "text": [
            "\rProgress:  76%|███████▌  | 1517/2000 [32:18<09:56,  1.23s/stock]"
          ]
        },
        {
          "output_type": "stream",
          "name": "stdout",
          "text": [
            "Error retrieving data for 진양제약 (A007370): '종가'\n"
          ]
        },
        {
          "output_type": "stream",
          "name": "stderr",
          "text": [
            "\rProgress:  76%|███████▌  | 1518/2000 [32:19<09:55,  1.23s/stock]"
          ]
        },
        {
          "output_type": "stream",
          "name": "stdout",
          "text": [
            "Error retrieving data for 진양폴리 (A010640): '종가'\n"
          ]
        },
        {
          "output_type": "stream",
          "name": "stderr",
          "text": [
            "\rProgress:  76%|███████▌  | 1519/2000 [32:20<09:56,  1.24s/stock]"
          ]
        },
        {
          "output_type": "stream",
          "name": "stdout",
          "text": [
            "Error retrieving data for 진양홀딩스 (A100250): '종가'\n"
          ]
        },
        {
          "output_type": "stream",
          "name": "stderr",
          "text": [
            "\rProgress:  76%|███████▌  | 1520/2000 [32:21<09:58,  1.25s/stock]"
          ]
        },
        {
          "output_type": "stream",
          "name": "stdout",
          "text": [
            "Error retrieving data for 진양화학 (A051630): '종가'\n"
          ]
        },
        {
          "output_type": "stream",
          "name": "stderr",
          "text": [
            "\rProgress:  76%|███████▌  | 1521/2000 [32:23<09:59,  1.25s/stock]"
          ]
        },
        {
          "output_type": "stream",
          "name": "stdout",
          "text": [
            "Error retrieving data for 진에어 (A272450): '종가'\n"
          ]
        },
        {
          "output_type": "stream",
          "name": "stderr",
          "text": [
            "\rProgress:  76%|███████▌  | 1522/2000 [32:24<09:57,  1.25s/stock]"
          ]
        },
        {
          "output_type": "stream",
          "name": "stdout",
          "text": [
            "Error retrieving data for 진원생명과학 (A011000): '종가'\n"
          ]
        },
        {
          "output_type": "stream",
          "name": "stderr",
          "text": [
            "\rProgress:  76%|███████▌  | 1523/2000 [32:25<09:54,  1.25s/stock]"
          ]
        },
        {
          "output_type": "stream",
          "name": "stdout",
          "text": [
            "Error retrieving data for 진흥기업 (A002780): '종가'\n"
          ]
        },
        {
          "output_type": "stream",
          "name": "stderr",
          "text": [
            "\rProgress:  76%|███████▌  | 1524/2000 [32:26<09:58,  1.26s/stock]"
          ]
        },
        {
          "output_type": "stream",
          "name": "stdout",
          "text": [
            "Error retrieving data for 차바이오텍 (A085660): '종가'\n"
          ]
        },
        {
          "output_type": "stream",
          "name": "stderr",
          "text": [
            "\rProgress:  76%|███████▋  | 1525/2000 [32:28<09:55,  1.25s/stock]"
          ]
        },
        {
          "output_type": "stream",
          "name": "stdout",
          "text": [
            "Error retrieving data for 참좋은여행 (A094850): '종가'\n"
          ]
        },
        {
          "output_type": "stream",
          "name": "stderr",
          "text": [
            "\rProgress:  76%|███████▋  | 1526/2000 [32:29<09:53,  1.25s/stock]"
          ]
        },
        {
          "output_type": "stream",
          "name": "stdout",
          "text": [
            "Error retrieving data for 창해에탄올 (A004650): '종가'\n"
          ]
        },
        {
          "output_type": "stream",
          "name": "stderr",
          "text": [
            "\rProgress:  76%|███████▋  | 1527/2000 [32:30<09:53,  1.26s/stock]"
          ]
        },
        {
          "output_type": "stream",
          "name": "stdout",
          "text": [
            "Error retrieving data for 천보 (A278280): '종가'\n"
          ]
        },
        {
          "output_type": "stream",
          "name": "stderr",
          "text": [
            "\rProgress:  76%|███████▋  | 1528/2000 [32:31<09:57,  1.27s/stock]"
          ]
        },
        {
          "output_type": "stream",
          "name": "stdout",
          "text": [
            "Error retrieving data for 천일고속 (A000650): '종가'\n"
          ]
        },
        {
          "output_type": "stream",
          "name": "stderr",
          "text": [
            "\rProgress:  76%|███████▋  | 1529/2000 [32:33<10:07,  1.29s/stock]"
          ]
        },
        {
          "output_type": "stream",
          "name": "stdout",
          "text": [
            "Error retrieving data for 청호ICT (A012600): '종가'\n"
          ]
        },
        {
          "output_type": "stream",
          "name": "stderr",
          "text": [
            "\rProgress:  76%|███████▋  | 1530/2000 [32:34<10:04,  1.29s/stock]"
          ]
        },
        {
          "output_type": "stream",
          "name": "stdout",
          "text": [
            "Error retrieving data for 체리부로 (A066360): '종가'\n"
          ]
        },
        {
          "output_type": "stream",
          "name": "stderr",
          "text": [
            "\rProgress:  77%|███████▋  | 1531/2000 [32:35<10:02,  1.29s/stock]"
          ]
        },
        {
          "output_type": "stream",
          "name": "stdout",
          "text": [
            "Error retrieving data for 초록뱀미디어 (A047820): '종가'\n"
          ]
        },
        {
          "output_type": "stream",
          "name": "stderr",
          "text": [
            "\rProgress:  77%|███████▋  | 1532/2000 [32:37<09:58,  1.28s/stock]"
          ]
        },
        {
          "output_type": "stream",
          "name": "stdout",
          "text": [
            "Error retrieving data for 초록뱀이앤엠 (A131100): '종가'\n"
          ]
        },
        {
          "output_type": "stream",
          "name": "stderr",
          "text": [
            "\rProgress:  77%|███████▋  | 1533/2000 [32:38<10:10,  1.31s/stock]"
          ]
        },
        {
          "output_type": "stream",
          "name": "stdout",
          "text": [
            "Error retrieving data for 초록뱀컴퍼니 (A052300): '종가'\n"
          ]
        },
        {
          "output_type": "stream",
          "name": "stderr",
          "text": [
            "\rProgress:  77%|███████▋  | 1534/2000 [32:39<10:15,  1.32s/stock]"
          ]
        },
        {
          "output_type": "stream",
          "name": "stdout",
          "text": [
            "Error retrieving data for 칩스앤미디어 (A094360): '종가'\n"
          ]
        },
        {
          "output_type": "stream",
          "name": "stderr",
          "text": [
            "\rProgress:  77%|███████▋  | 1535/2000 [32:41<10:09,  1.31s/stock]"
          ]
        },
        {
          "output_type": "stream",
          "name": "stdout",
          "text": [
            "Error retrieving data for 카나리아바이오 (A016790): '종가'\n"
          ]
        },
        {
          "output_type": "stream",
          "name": "stderr",
          "text": [
            "\rProgress:  77%|███████▋  | 1536/2000 [32:42<09:59,  1.29s/stock]"
          ]
        },
        {
          "output_type": "stream",
          "name": "stdout",
          "text": [
            "Error retrieving data for 카이노스메드 (A284620): '종가'\n"
          ]
        },
        {
          "output_type": "stream",
          "name": "stderr",
          "text": [
            "\rProgress:  77%|███████▋  | 1537/2000 [32:43<09:56,  1.29s/stock]"
          ]
        },
        {
          "output_type": "stream",
          "name": "stdout",
          "text": [
            "Error retrieving data for 카카오 (A035720): '종가'\n"
          ]
        },
        {
          "output_type": "stream",
          "name": "stderr",
          "text": [
            "\rProgress:  77%|███████▋  | 1538/2000 [32:44<09:51,  1.28s/stock]"
          ]
        },
        {
          "output_type": "stream",
          "name": "stdout",
          "text": [
            "Error retrieving data for 카카오게임즈 (A293490): '종가'\n"
          ]
        },
        {
          "output_type": "stream",
          "name": "stderr",
          "text": [
            "\rProgress:  77%|███████▋  | 1539/2000 [32:46<09:50,  1.28s/stock]"
          ]
        },
        {
          "output_type": "stream",
          "name": "stdout",
          "text": [
            "Error retrieving data for 카페24 (A042000): '종가'\n"
          ]
        },
        {
          "output_type": "stream",
          "name": "stderr",
          "text": [
            "\rProgress:  77%|███████▋  | 1540/2000 [32:47<09:51,  1.29s/stock]"
          ]
        },
        {
          "output_type": "stream",
          "name": "stdout",
          "text": [
            "Error retrieving data for 캐리소프트 (A317530): '종가'\n"
          ]
        },
        {
          "output_type": "stream",
          "name": "stderr",
          "text": [
            "\rProgress:  77%|███████▋  | 1541/2000 [32:48<09:54,  1.30s/stock]"
          ]
        },
        {
          "output_type": "stream",
          "name": "stdout",
          "text": [
            "Error retrieving data for 캠시스 (A050110): '종가'\n"
          ]
        },
        {
          "output_type": "stream",
          "name": "stderr",
          "text": [
            "\rProgress:  77%|███████▋  | 1542/2000 [32:50<09:48,  1.28s/stock]"
          ]
        },
        {
          "output_type": "stream",
          "name": "stdout",
          "text": [
            "Error retrieving data for 커넥트웨이브 (A119860): '종가'\n"
          ]
        },
        {
          "output_type": "stream",
          "name": "stderr",
          "text": [
            "\rProgress:  77%|███████▋  | 1543/2000 [32:51<09:55,  1.30s/stock]"
          ]
        },
        {
          "output_type": "stream",
          "name": "stdout",
          "text": [
            "Error retrieving data for 커머스마이너 (A223310): '종가'\n"
          ]
        },
        {
          "output_type": "stream",
          "name": "stderr",
          "text": [
            "\rProgress:  77%|███████▋  | 1544/2000 [32:52<09:56,  1.31s/stock]"
          ]
        },
        {
          "output_type": "stream",
          "name": "stdout",
          "text": [
            "Error retrieving data for 컨버즈 (A109070): '종가'\n"
          ]
        },
        {
          "output_type": "stream",
          "name": "stderr",
          "text": [
            "\rProgress:  77%|███████▋  | 1545/2000 [32:53<09:44,  1.28s/stock]"
          ]
        },
        {
          "output_type": "stream",
          "name": "stdout",
          "text": [
            "Error retrieving data for 컴투스 (A078340): '종가'\n"
          ]
        },
        {
          "output_type": "stream",
          "name": "stderr",
          "text": [
            "\rProgress:  77%|███████▋  | 1546/2000 [32:55<09:36,  1.27s/stock]"
          ]
        },
        {
          "output_type": "stream",
          "name": "stdout",
          "text": [
            "Error retrieving data for 컴투스홀딩스 (A063080): '종가'\n"
          ]
        },
        {
          "output_type": "stream",
          "name": "stderr",
          "text": [
            "\rProgress:  77%|███████▋  | 1547/2000 [32:56<09:28,  1.25s/stock]"
          ]
        },
        {
          "output_type": "stream",
          "name": "stdout",
          "text": [
            "Error retrieving data for 컴퍼니케이 (A307930): '종가'\n"
          ]
        },
        {
          "output_type": "stream",
          "name": "stderr",
          "text": [
            "\rProgress:  77%|███████▋  | 1548/2000 [32:57<09:24,  1.25s/stock]"
          ]
        },
        {
          "output_type": "stream",
          "name": "stdout",
          "text": [
            "Error retrieving data for 케어랩스 (A263700): '종가'\n"
          ]
        },
        {
          "output_type": "stream",
          "name": "stderr",
          "text": [
            "\rProgress:  77%|███████▋  | 1549/2000 [32:58<09:21,  1.25s/stock]"
          ]
        },
        {
          "output_type": "stream",
          "name": "stdout",
          "text": [
            "Error retrieving data for 케어젠 (A214370): '종가'\n"
          ]
        }
      ]
    }
  ]
}